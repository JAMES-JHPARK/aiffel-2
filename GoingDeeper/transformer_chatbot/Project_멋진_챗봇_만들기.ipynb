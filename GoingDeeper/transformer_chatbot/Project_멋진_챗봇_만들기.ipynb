{
 "cells": [
  {
   "cell_type": "markdown",
   "id": "db2e9bd1",
   "metadata": {},
   "source": [
    "# Project: 멋진 챗봇 만들기"
   ]
  },
  {
   "cell_type": "markdown",
   "id": "df402995",
   "metadata": {},
   "source": [
    "- 라이브러리 버전을 확인해 봅니다\n",
    "- 사용할 라이브러리 버전을 둘러봅시다."
   ]
  },
  {
   "cell_type": "code",
   "execution_count": 1,
   "id": "8b8ac145",
   "metadata": {},
   "outputs": [
    {
     "name": "stdout",
     "output_type": "stream",
     "text": [
      "1.21.4\n",
      "1.3.3\n",
      "2.6.0\n",
      "3.6.5\n",
      "3.8.3\n"
     ]
    }
   ],
   "source": [
    "import numpy \n",
    "import pandas \n",
    "import tensorflow \n",
    "import nltk\n",
    "import gensim\n",
    "\n",
    "print(numpy.__version__)\n",
    "print(pandas.__version__)\n",
    "print(tensorflow.__version__)\n",
    "print(nltk.__version__)\n",
    "print(gensim.__version__)"
   ]
  },
  {
   "cell_type": "code",
   "execution_count": 2,
   "id": "390eed02",
   "metadata": {},
   "outputs": [],
   "source": [
    "import os\n",
    "import re\n",
    "\n",
    "import pandas as pd\n",
    "import numpy as np\n",
    "\n",
    "import tensorflow as tf"
   ]
  },
  {
   "cell_type": "code",
   "execution_count": 3,
   "id": "d3810674",
   "metadata": {},
   "outputs": [],
   "source": [
    "from tqdm import tqdm, trange"
   ]
  },
  {
   "cell_type": "markdown",
   "id": "1eca01c6",
   "metadata": {},
   "source": [
    "## Step 1. 데이터 다운로드\n",
    "준비하기 단계에서 심볼릭 링크를 생성했다면 아래 파일이 ChatbotData .csv라는 이름으로 저장되어 있을거예요. csv 파일을 읽는 데에는 pandas 라이브러리가 적합합니다. 읽어 온 데이터의 질문과 답변을 각각 questions, answers 변수에 나눠서 저장하세요!\n",
    "\n",
    "- songys/Chatbot_data"
   ]
  },
  {
   "cell_type": "code",
   "execution_count": 4,
   "id": "e80892ac",
   "metadata": {},
   "outputs": [],
   "source": [
    "chatbot = pd.read_csv('./data/ChatbotData.csv')"
   ]
  },
  {
   "cell_type": "code",
   "execution_count": 5,
   "id": "0ad07b0c",
   "metadata": {},
   "outputs": [],
   "source": [
    "questions = chatbot.Q.tolist()\n",
    "answers = chatbot.A.tolist()"
   ]
  },
  {
   "cell_type": "code",
   "execution_count": 6,
   "id": "a190c1fa",
   "metadata": {},
   "outputs": [
    {
     "data": {
      "text/html": [
       "<div>\n",
       "<style scoped>\n",
       "    .dataframe tbody tr th:only-of-type {\n",
       "        vertical-align: middle;\n",
       "    }\n",
       "\n",
       "    .dataframe tbody tr th {\n",
       "        vertical-align: top;\n",
       "    }\n",
       "\n",
       "    .dataframe thead th {\n",
       "        text-align: right;\n",
       "    }\n",
       "</style>\n",
       "<table border=\"1\" class=\"dataframe\">\n",
       "  <thead>\n",
       "    <tr style=\"text-align: right;\">\n",
       "      <th></th>\n",
       "      <th>Q</th>\n",
       "      <th>A</th>\n",
       "      <th>label</th>\n",
       "    </tr>\n",
       "  </thead>\n",
       "  <tbody>\n",
       "    <tr>\n",
       "      <th>0</th>\n",
       "      <td>12시 땡!</td>\n",
       "      <td>하루가 또 가네요.</td>\n",
       "      <td>0</td>\n",
       "    </tr>\n",
       "    <tr>\n",
       "      <th>1</th>\n",
       "      <td>1지망 학교 떨어졌어</td>\n",
       "      <td>위로해 드립니다.</td>\n",
       "      <td>0</td>\n",
       "    </tr>\n",
       "    <tr>\n",
       "      <th>2</th>\n",
       "      <td>3박4일 놀러가고 싶다</td>\n",
       "      <td>여행은 언제나 좋죠.</td>\n",
       "      <td>0</td>\n",
       "    </tr>\n",
       "    <tr>\n",
       "      <th>3</th>\n",
       "      <td>3박4일 정도 놀러가고 싶다</td>\n",
       "      <td>여행은 언제나 좋죠.</td>\n",
       "      <td>0</td>\n",
       "    </tr>\n",
       "    <tr>\n",
       "      <th>4</th>\n",
       "      <td>PPL 심하네</td>\n",
       "      <td>눈살이 찌푸려지죠.</td>\n",
       "      <td>0</td>\n",
       "    </tr>\n",
       "    <tr>\n",
       "      <th>...</th>\n",
       "      <td>...</td>\n",
       "      <td>...</td>\n",
       "      <td>...</td>\n",
       "    </tr>\n",
       "    <tr>\n",
       "      <th>11818</th>\n",
       "      <td>훔쳐보는 것도 눈치 보임.</td>\n",
       "      <td>티가 나니까 눈치가 보이는 거죠!</td>\n",
       "      <td>2</td>\n",
       "    </tr>\n",
       "    <tr>\n",
       "      <th>11819</th>\n",
       "      <td>훔쳐보는 것도 눈치 보임.</td>\n",
       "      <td>훔쳐보는 거 티나나봐요.</td>\n",
       "      <td>2</td>\n",
       "    </tr>\n",
       "    <tr>\n",
       "      <th>11820</th>\n",
       "      <td>흑기사 해주는 짝남.</td>\n",
       "      <td>설렜겠어요.</td>\n",
       "      <td>2</td>\n",
       "    </tr>\n",
       "    <tr>\n",
       "      <th>11821</th>\n",
       "      <td>힘든 연애 좋은 연애라는게 무슨 차이일까?</td>\n",
       "      <td>잘 헤어질 수 있는 사이 여부인 거 같아요.</td>\n",
       "      <td>2</td>\n",
       "    </tr>\n",
       "    <tr>\n",
       "      <th>11822</th>\n",
       "      <td>힘들어서 결혼할까봐</td>\n",
       "      <td>도피성 결혼은 하지 않길 바라요.</td>\n",
       "      <td>2</td>\n",
       "    </tr>\n",
       "  </tbody>\n",
       "</table>\n",
       "<p>11823 rows × 3 columns</p>\n",
       "</div>"
      ],
      "text/plain": [
       "                             Q                         A  label\n",
       "0                       12시 땡!                하루가 또 가네요.      0\n",
       "1                  1지망 학교 떨어졌어                 위로해 드립니다.      0\n",
       "2                 3박4일 놀러가고 싶다               여행은 언제나 좋죠.      0\n",
       "3              3박4일 정도 놀러가고 싶다               여행은 언제나 좋죠.      0\n",
       "4                      PPL 심하네                눈살이 찌푸려지죠.      0\n",
       "...                        ...                       ...    ...\n",
       "11818           훔쳐보는 것도 눈치 보임.        티가 나니까 눈치가 보이는 거죠!      2\n",
       "11819           훔쳐보는 것도 눈치 보임.             훔쳐보는 거 티나나봐요.      2\n",
       "11820              흑기사 해주는 짝남.                    설렜겠어요.      2\n",
       "11821  힘든 연애 좋은 연애라는게 무슨 차이일까?  잘 헤어질 수 있는 사이 여부인 거 같아요.      2\n",
       "11822               힘들어서 결혼할까봐        도피성 결혼은 하지 않길 바라요.      2\n",
       "\n",
       "[11823 rows x 3 columns]"
      ]
     },
     "execution_count": 6,
     "metadata": {},
     "output_type": "execute_result"
    }
   ],
   "source": [
    "chatbot"
   ]
  },
  {
   "cell_type": "markdown",
   "id": "895b8dc2",
   "metadata": {},
   "source": [
    "## Step 2. 데이터 정제\n",
    "아래 조건을 만족하는 preprocess_sentence() 함수를 구현하세요.\n",
    "\n",
    "1. 영문자의 경우, 모두 소문자로 변환합니다.\n",
    "1. 영문자와 한글, 숫자, 그리고 주요 특수문자를 제외하곤 정규식을 활용하여 모두 제거합니다.\n",
    "\n",
    "문장부호 양옆에 공백을 추가하는 등 이전과 다르게 생략된 기능들은 우리가 사용할 토크나이저가 지원하기 때문에 굳이 구현하지 않아도 괜찮습니다!"
   ]
  },
  {
   "cell_type": "code",
   "execution_count": 7,
   "id": "5ad88435",
   "metadata": {},
   "outputs": [],
   "source": [
    "# 전처리 함수\n",
    "def preprocess_sentence(sentence, num=True):\n",
    "    # 입력받은 sentence를 소문자로 변경하고 양쪽 공백을 제거\n",
    "    sentence = sentence.strip()\n",
    "\n",
    "    # 단어와 구두점(punctuation) 사이의 거리를 만듭니다.\n",
    "    # 숫자 사이에도 거리를 만들어준다\n",
    "    sentence = re.sub(r\"([?.!,])\", r\" \\1 \", sentence)\n",
    "    sentence = re.sub(r\"([0-9]+)\", r\" \\1 \", sentence)\n",
    "    #sentence = re.sub(r'[\" \"]+', \" \", sentence)\n",
    "\n",
    "    # (가-힣, a-z, A-Z, \".\", \"?\", \"!\", \",\")를 제외한 모든 문자를 공백인 ' '로 대체합니다.\n",
    "    if num == False: # 숫자제거\n",
    "        sentence = re.sub(r'[^가-힣a-zA-Z.?!,]', ' ', sentence)\n",
    "    else:\n",
    "        sentence = re.sub(r'[^가-힣0-9a-zA-Z.?!,]', ' ', sentence)\n",
    "        \n",
    "    sentence = ' '.join(sentence.split())\n",
    "    sentence = sentence.strip()\n",
    "    return sentence"
   ]
  },
  {
   "cell_type": "code",
   "execution_count": 8,
   "id": "384be9e6",
   "metadata": {},
   "outputs": [
    {
     "data": {
      "text/plain": [
       "'박 일 놀러가고 싶다'"
      ]
     },
     "execution_count": 8,
     "metadata": {},
     "output_type": "execute_result"
    }
   ],
   "source": [
    "sentence = '3박4일 놀러가고 싶다'\n",
    "preprocess_sentence(sentence, False)"
   ]
  },
  {
   "cell_type": "code",
   "execution_count": 9,
   "id": "2d04a090",
   "metadata": {},
   "outputs": [
    {
     "data": {
      "text/plain": [
       "'3 박 4 일 놀러가고 싶다'"
      ]
     },
     "execution_count": 9,
     "metadata": {},
     "output_type": "execute_result"
    }
   ],
   "source": [
    "preprocess_sentence(sentence, True)"
   ]
  },
  {
   "cell_type": "code",
   "execution_count": 10,
   "id": "cc75e4ad",
   "metadata": {},
   "outputs": [],
   "source": [
    "questions = [preprocess_sentence(question, True) for question in questions]\n",
    "answers = [preprocess_sentence(answer, True) for answer in answers]"
   ]
  },
  {
   "cell_type": "code",
   "execution_count": 11,
   "id": "6b293b3e",
   "metadata": {},
   "outputs": [
    {
     "name": "stdout",
     "output_type": "stream",
     "text": [
      "12 시 땡 !\n",
      "하루가 또 가네요 .\n"
     ]
    }
   ],
   "source": [
    "print(questions[0])\n",
    "print(answers[0])"
   ]
  },
  {
   "cell_type": "markdown",
   "id": "8c1eabfd",
   "metadata": {},
   "source": [
    "## Step 3. 데이터 토큰화\n",
    "---\n",
    "토큰화에는 KoNLPy의 `mecab` 클래스를 사용합니다.\n",
    "\n",
    "아래 조건을 만족하는 `build_corpus()` 함수를 구현하세요!\n",
    "\n",
    "1. 소스 문장 데이터와 타겟 문장 데이터를 입력으로 받습니다.\n",
    "2. 데이터를 앞서 정의한 `preprocess_sentence()` 함수로 정제하고, 토큰화합니다.\n",
    "3. 토큰화는 전달받은 토크나이즈 함수를 사용합니다. 이번엔 `mecab.morphs` 함수를 전달하시면 됩니다.\n",
    "4. 토큰의 개수가 일정 길이 이상인 문장은 데이터에서 제외합니다.\n",
    "5. 중복되는 문장은 데이터에서 제외합니다. 소스 : 타겟 쌍을 비교하지 않고 소스는 소스대로 타겟은 타겟대로 검사합니다. 중복 쌍이 흐트러지지 않도록 유의하세요!\n",
    "\n",
    "구현한 함수를 활용하여 `questions` 와 `answers` 를 각각 `que_corpus`, `ans_corpus` 에 토큰화하여 저장합니다."
   ]
  },
  {
   "cell_type": "code",
   "execution_count": 12,
   "id": "2934e394",
   "metadata": {},
   "outputs": [],
   "source": [
    "from konlpy.tag import Mecab"
   ]
  },
  {
   "cell_type": "code",
   "execution_count": 13,
   "id": "0cf54bd1",
   "metadata": {},
   "outputs": [],
   "source": [
    "mecab = Mecab()"
   ]
  },
  {
   "cell_type": "code",
   "execution_count": 14,
   "id": "841a30c8",
   "metadata": {},
   "outputs": [],
   "source": [
    "q = [mecab.morphs(question) for question in questions]\n",
    "a = [mecab.morphs(answer) for  answer in  answers]"
   ]
  },
  {
   "cell_type": "code",
   "execution_count": 15,
   "id": "eb0733a3",
   "metadata": {},
   "outputs": [
    {
     "data": {
      "text/plain": [
       "array(['건방져', '겁난다', '고백', '괴로워', '굿모닝', '그리움', '기다림', '꿈', '나그네', '넋두리',\n",
       "       '눈물', '단수', '답답증', '더워', '덤덤', '뜬금없이', '마무리', '멘붕', '무상', '무서워요',\n",
       "       '무제', '미련', '미워', '미워한다', '미쳐', '바람', '반가워', '받아들여야지', '배고파',\n",
       "       '배불러', '변명', '분노', '불면증', '비트코인', '사진첩', '살아간다', '상념', '상처', '새벽',\n",
       "       '속상해', '술주정', '스트레스', '시련', '심심', '싱숭생숭', '쓰레기', '씁쓸', '아파', '안녕',\n",
       "       '야', '양다리', '어머', '어머나', '어째서', '에이씨', '에휴', '연휴', '오지마', '왜',\n",
       "       '외로움', '외로워', '외로워서', '으악', '으흠', '음', '응', '이놈', '이별', '이혼', '인내',\n",
       "       '인연', '자괴감', '잘래', '잠수', '저기', '젠장', '조심조심', '졸려', '주저리주저리', '증오',\n",
       "       '지친다', '짝사랑', '착각', '첫눈', '최악', '추워', '침묵', '코자', '콜록콜록', '통증',\n",
       "       '파혼', '핑계', '한숨', '허기져', '헉', '헤어짐', '혼자', '후', '후우', '후회', '휴',\n",
       "       '흔적', '흠'], dtype='<U6')"
      ]
     },
     "execution_count": 15,
     "metadata": {},
     "output_type": "execute_result"
    }
   ],
   "source": [
    "np.unique([l for l in q if len(l) <= 1])"
   ]
  },
  {
   "cell_type": "code",
   "execution_count": 16,
   "id": "536ffbd9",
   "metadata": {},
   "outputs": [
    {
     "data": {
      "text/plain": [
       "array(['꼬르륵', '네', '사랑', '아이구', '어머나', '음', '킁킁', '토닥토닥', '휴우'],\n",
       "      dtype='<U4')"
      ]
     },
     "execution_count": 16,
     "metadata": {},
     "output_type": "execute_result"
    }
   ],
   "source": [
    "np.unique([l for l in a if len(l) <= 1])"
   ]
  },
  {
   "cell_type": "code",
   "execution_count": 17,
   "id": "c8eaa6e8",
   "metadata": {},
   "outputs": [],
   "source": [
    "def get_token_len(token_list, max_tokens=None, hist=False):\n",
    "    num_tokens = [len(tokens) for tokens in token_list]\n",
    "    num_tokens = np.array(num_tokens)\n",
    "\n",
    "    # 평균값, 최댓값, 표준편차\n",
    "    print(f\"토큰 길이 평균: {np.mean(num_tokens)}\")\n",
    "    print(f\"토큰 길이 최소: {np.min(num_tokens)}\")\n",
    "    print(f\"토큰 길이 최대: {np.max(num_tokens)}\")\n",
    "    print(f\"토큰 길이 표준편차: {np.std(num_tokens)}\")\n",
    "    \n",
    "    if max_tokens==None:\n",
    "        max_tokens = np.mean(num_tokens) + 2 * np.std(num_tokens)\n",
    "    maxlen = int(max_tokens)\n",
    "    print(f'설정 최대 길이: {maxlen}')\n",
    "    ratio = np.sum(num_tokens < max_tokens) / len(num_tokens) * 100\n",
    "    print(f'전체 문장의 {round(ratio, 1)}%가 설정값인 {maxlen}에 포함됩니다.')\n",
    "    \n",
    "    if hist:\n",
    "        plt.hist(num_tokens, bins=50)\n",
    "        plt.axvline(maxlen, color='r', linestyle='dashed', linewidth=1)\n",
    "        plt.xlabel('length of samples')\n",
    "        plt.ylabel('number of samples')\n",
    "        plt.title('Distribution of token lengths')\n",
    "        plt.show();"
   ]
  },
  {
   "cell_type": "code",
   "execution_count": 18,
   "id": "4d951fad",
   "metadata": {},
   "outputs": [],
   "source": [
    "import matplotlib.pyplot as plt"
   ]
  },
  {
   "cell_type": "code",
   "execution_count": 19,
   "id": "8c0075e3",
   "metadata": {},
   "outputs": [
    {
     "name": "stdout",
     "output_type": "stream",
     "text": [
      "토큰 길이 평균: 7.020806901801573\n",
      "토큰 길이 최소: 1\n",
      "토큰 길이 최대: 32\n",
      "토큰 길이 표준편차: 3.520086289509423\n",
      "설정 최대 길이: 15\n",
      "전체 문장의 95.9%가 설정값인 15에 포함됩니다.\n"
     ]
    },
    {
     "data": {
      "image/png": "[encoded data removed]",
      "text/plain": [
       "<Figure size 432x288 with 1 Axes>"
      ]
     },
     "metadata": {
      "needs_background": "light"
     },
     "output_type": "display_data"
    }
   ],
   "source": [
    "get_token_len(q, max_tokens=15, hist=True)"
   ]
  },
  {
   "cell_type": "code",
   "execution_count": 20,
   "id": "d96862d4",
   "metadata": {},
   "outputs": [
    {
     "name": "stdout",
     "output_type": "stream",
     "text": [
      "토큰 길이 평균: 8.37739998308382\n",
      "토큰 길이 최소: 1\n",
      "토큰 길이 최대: 40\n",
      "토큰 길이 표준편차: 3.576072915130701\n",
      "설정 최대 길이: 15\n",
      "전체 문장의 95.9%가 설정값인 15에 포함됩니다.\n"
     ]
    },
    {
     "data": {
      "image/png": "[encoded data removed]",
      "text/plain": [
       "<Figure size 432x288 with 1 Axes>"
      ]
     },
     "metadata": {
      "needs_background": "light"
     },
     "output_type": "display_data"
    }
   ],
   "source": [
    "get_token_len(a, max_tokens=None, hist=True)"
   ]
  },
  {
   "cell_type": "code",
   "execution_count": 21,
   "id": "c01b33ee",
   "metadata": {},
   "outputs": [],
   "source": [
    "def drop_empty_list(que_corpus, ans_corpus):    \n",
    "    drop_que = [index for index, sentence in enumerate(que_corpus) \n",
    "                if (len(sentence) > 15)|(len(sentence) <= 1)]\n",
    "    print(f'제거하고자 하는 한글 샘플 수 : {len(drop_que)}')\n",
    "    \n",
    "    drop_ans = [index for index, sentence in enumerate(ans_corpus) \n",
    "                if (len(sentence) > 15)|(len(sentence) <= 1)]\n",
    "    print(f'제거하고자 하는 영어 샘플 수 : {len(drop_ans)}')\n",
    "    \n",
    "    drop_data = set(drop_que) | set(drop_ans)\n",
    "    drop_data = list(drop_data)\n",
    "    print(f'제거하고자 하는 총 샘플 수 : {len(drop_data)}')\n",
    "\n",
    "    # 빈 샘플 제거\n",
    "    que_corpus = np.delete(que_corpus, drop_data, axis=0)\n",
    "    ans_corpus = np.delete(ans_corpus, drop_data, axis=0)\n",
    "    print(f'빈 샘플 제거 후 남은 kor_corpus data : {len(que_corpus)}')\n",
    "    print(f'빈 샘플 제거 후 남은 eng_corpus data : {len(ans_corpus)}')\n",
    "    return que_corpus, ans_corpus"
   ]
  },
  {
   "cell_type": "code",
   "execution_count": 22,
   "id": "532bd794",
   "metadata": {},
   "outputs": [],
   "source": [
    "def build_corpus(questions, answers, tokenizer):\n",
    "    \n",
    "    que_corpus = [tokenizer.morphs(question) for question in questions]\n",
    "    ans_corpus = [tokenizer.morphs(answer) for answer in  answers]\n",
    "    \n",
    "    assert len(que_corpus) == len(ans_corpus)\n",
    "\n",
    "    return drop_empty_list(que_corpus, ans_corpus)"
   ]
  },
  {
   "cell_type": "code",
   "execution_count": 23,
   "id": "db083566",
   "metadata": {},
   "outputs": [],
   "source": [
    "mecab = Mecab()"
   ]
  },
  {
   "cell_type": "code",
   "execution_count": 24,
   "id": "083ca4b3",
   "metadata": {},
   "outputs": [
    {
     "name": "stdout",
     "output_type": "stream",
     "text": [
      "제거하고자 하는 한글 샘플 수 : 445\n",
      "제거하고자 하는 영어 샘플 수 : 503\n",
      "제거하고자 하는 총 샘플 수 : 914\n",
      "빈 샘플 제거 후 남은 kor_corpus data : 10909\n",
      "빈 샘플 제거 후 남은 eng_corpus data : 10909\n"
     ]
    },
    {
     "name": "stderr",
     "output_type": "stream",
     "text": [
      "/opt/conda/lib/python3.9/site-packages/numpy/lib/function_base.py:4454: VisibleDeprecationWarning: Creating an ndarray from ragged nested sequences (which is a list-or-tuple of lists-or-tuples-or ndarrays with different lengths or shapes) is deprecated. If you meant to do this, you must specify 'dtype=object' when creating the ndarray.\n",
      "  arr = asarray(arr)\n"
     ]
    }
   ],
   "source": [
    "que_corpus, ans_corpus = build_corpus(questions, answers, mecab)"
   ]
  },
  {
   "cell_type": "markdown",
   "id": "9f974608",
   "metadata": {},
   "source": [
    "## Step 4. Augmentation\n",
    "---\n",
    "우리에게 주어진 데이터는 1만 개가량으로 적은 편에 속합니다. 이럴 때에 사용할 수 있는 테크닉을 배웠으니 활용해 봐야겠죠? Lexical Substitution을 실제로 적용해 보도록 하겠습니다.\n",
    "\n",
    "아래 링크를 참고하여 한국어로 사전 훈련된 Embedding 모델을 다운로드합니다. Korean (w) 가 Word2Vec으로 학습한 모델이며 용량도 적당하므로 사이트에서 Korean (w)를 찾아 다운로드하고, ko.bin 파일을 얻으세요!\n",
    "\n",
    "- Kyubyong/wordvectors\n",
    "다운로드한 모델을 활용해 데이터를 Augmentation 하세요! 앞서 정의한 `lexical_sub()` 함수를 참고하면 도움이 많이 될 겁니다.\n",
    "\n",
    "Augmentation된 `que_corpus` 와 원본 `ans_corpus` 가 병렬을 이루도록, 이후엔 반대로 원본 `que_corpus` 와 Augmentation된 `ans_corpus` 가 병렬을 이루도록 하여 전체 데이터가 원래의 3배가량으로 늘어나도록 합니다."
   ]
  },
  {
   "cell_type": "code",
   "execution_count": 25,
   "id": "8c630441",
   "metadata": {},
   "outputs": [],
   "source": [
    "# !pip install gensim==3.8.3"
   ]
  },
  {
   "cell_type": "code",
   "execution_count": 26,
   "id": "e925a5de",
   "metadata": {},
   "outputs": [],
   "source": [
    "import gensim\n",
    "from gensim.models import KeyedVectors\n",
    "import random"
   ]
  },
  {
   "cell_type": "code",
   "execution_count": 27,
   "id": "50e3050b",
   "metadata": {},
   "outputs": [],
   "source": [
    "# Word2Vec 모델 로드\n",
    "model = gensim.models.Word2Vec.load('./data/ko.bin')"
   ]
  },
  {
   "cell_type": "code",
   "execution_count": 28,
   "id": "350db578",
   "metadata": {},
   "outputs": [
    {
     "data": {
      "text/plain": [
       "[('아침', 0.5024495124816895),\n",
       " ('저물', 0.455463707447052),\n",
       " ('내일', 0.4449270963668823),\n",
       " ('지금', 0.4403955936431885),\n",
       " ('새벽', 0.4366644620895386),\n",
       " ('토요일', 0.40253746509552),\n",
       " ('저녁', 0.3899332880973816),\n",
       " ('어제', 0.38877636194229126),\n",
       " ('매주', 0.3823928236961365),\n",
       " ('주말', 0.3814442753791809)]"
      ]
     },
     "execution_count": 28,
     "metadata": {},
     "output_type": "execute_result"
    }
   ],
   "source": [
    "model.wv.most_similar('오늘', topn=10)"
   ]
  },
  {
   "cell_type": "code",
   "execution_count": 29,
   "id": "4ed253fd",
   "metadata": {},
   "outputs": [
    {
     "name": "stdout",
     "output_type": "stream",
     "text": [
      "원본 문장: ['1', '지망', '학교', '떨어졌', '어']\n",
      "변형된 문장: ['1', '지망', '전문학교', '떨어졌', '어']\n"
     ]
    }
   ],
   "source": [
    "def lexical_sub(corpus, model=model, topn=10):\n",
    "    \n",
    "    # 모델에 있는 단어들만 골라내기\n",
    "    words_in_model = [word for word in corpus if (word in model.wv) & (len(word) > 1)]\n",
    "    \n",
    "    if not words_in_model:\n",
    "        return corpus\n",
    "    \n",
    "    # 모델에 있는 단어 중 하나를 무작위로 선택\n",
    "    selected_word = random.choice(words_in_model)\n",
    "    #print(f\"선택된 단어: {selected_word}\")\n",
    "\n",
    "    # 유사한 단어들을 topn 개수만큼 가져오기\n",
    "    similar_words = model.wv.most_similar(selected_word, topn=topn)\n",
    "    \n",
    "    # 유사한 단어 중 하나를 무작위로 선택\n",
    "    similar_word = random.choice(similar_words)[0]\n",
    "    \n",
    "    # 선택된 단어를 유사한 단어로 대체\n",
    "    new_sentence = [similar_word if word == selected_word else word for word in corpus]\n",
    "\n",
    "    return new_sentence\n",
    "\n",
    "# 예시 문장\n",
    "corpus = que_corpus[1]\n",
    "augmented_sentence = lexical_sub(corpus)\n",
    "print(\"원본 문장:\", corpus)\n",
    "print(\"변형된 문장:\", augmented_sentence)"
   ]
  },
  {
   "cell_type": "code",
   "execution_count": 30,
   "id": "6e6f7618",
   "metadata": {},
   "outputs": [],
   "source": [
    "def augment_data(que_corpus, ans_corpus):\n",
    "    print('Augment Data ...')\n",
    "    augmented_que_corpus = [lexical_sub(sentence) for sentence in que_corpus]\n",
    "    augmented_ans_corpus = [lexical_sub(sentence) for sentence in ans_corpus]\n",
    "    #print('Done!')\n",
    "    augmented_pairs = []\n",
    "    \n",
    "    print('Making Pairs ...')\n",
    "    # 원본 질문 - 증강 답변\n",
    "    for que, aug_ans in tqdm(zip(que_corpus, augmented_ans_corpus)):\n",
    "        augmented_pairs.append((que, aug_ans))\n",
    "\n",
    "    # 증강 질문 - 원본 답변\n",
    "    for aug_que, ans in tqdm(zip(augmented_que_corpus, ans_corpus)):\n",
    "        augmented_pairs.append((aug_que, ans))\n",
    "\n",
    "    # 증강 질문 - 증강 답변\n",
    "    for aug_que, aug_ans in tqdm(zip(augmented_que_corpus, augmented_ans_corpus)):\n",
    "        augmented_pairs.append((aug_que, aug_ans))\n",
    "\n",
    "    return augmented_pairs"
   ]
  },
  {
   "cell_type": "code",
   "execution_count": 31,
   "id": "9347e492",
   "metadata": {
    "scrolled": true
   },
   "outputs": [
    {
     "name": "stdout",
     "output_type": "stream",
     "text": [
      "Augment Data ...\n",
      "Making Pairs ...\n"
     ]
    },
    {
     "name": "stderr",
     "output_type": "stream",
     "text": [
      "10909it [00:00, 243116.08it/s]\n",
      "10909it [00:00, 614854.97it/s]\n",
      "10909it [00:00, 671278.17it/s]\n"
     ]
    }
   ],
   "source": [
    "augmented_pairs = augment_data(que_corpus, ans_corpus)"
   ]
  },
  {
   "cell_type": "code",
   "execution_count": 32,
   "id": "cb28c337",
   "metadata": {},
   "outputs": [
    {
     "name": "stdout",
     "output_type": "stream",
     "text": [
      "질문: ['12', '시', '땡', '!'] \t 답변: ['하루', '가', '또', '가', '거든요', '.']\n",
      "질문: ['1', '지망', '학교', '떨어졌', '어'] \t 답변: ['마운드', '해', '드립니다', '.']\n",
      "질문: ['3', '박', '4', '일', '놀', '러', '가', '고', '싶', '다'] \t 답변: ['여정', '은', '언제나', '좋', '죠', '.']\n",
      "질문: ['3', '박', '4', '일', '정도', '놀', '러', '가', '고', '싶', '다'] \t 답변: ['체류', '은', '언제나', '좋', '죠', '.']\n"
     ]
    }
   ],
   "source": [
    "# 결과 출력\n",
    "for pair in augmented_pairs[:4]:\n",
    "    print(f\"질문: {pair[0]} \\t 답변: {pair[1]}\")"
   ]
  },
  {
   "cell_type": "markdown",
   "id": "1d55b55b",
   "metadata": {},
   "source": [
    "## Step 5. 데이터 벡터화\n",
    "타겟 데이터인 `ans_corpus` 에 `<start>` 토큰과 `<end>` 토큰이 추가되지 않은 상태이니 이를 먼저 해결한 후 벡터화를 진행합니다. 우리가 구축한 `ans_corpus` 는 `list` 형태이기 때문에 아주 쉽게 이를 해결할 수 있답니다!"
   ]
  },
  {
   "cell_type": "code",
   "execution_count": 33,
   "id": "086d5d4b",
   "metadata": {},
   "outputs": [
    {
     "name": "stdout",
     "output_type": "stream",
     "text": [
      "['<start>', '12', '시', '땡', '!', '<end>']\n"
     ]
    }
   ],
   "source": [
    "sample_data = [\"12\", \"시\", \"땡\", \"!\"]\n",
    "\n",
    "print([\"<start>\"] + sample_data + [\"<end>\"])"
   ]
  },
  {
   "cell_type": "code",
   "execution_count": 34,
   "id": "3883e086",
   "metadata": {},
   "outputs": [
    {
     "data": {
      "text/plain": [
       "[(['12', '시', '땡', '!'], ['하루', '가', '또', '가', '거든요', '.']),\n",
       " (['1', '지망', '학교', '떨어졌', '어'], ['마운드', '해', '드립니다', '.']),\n",
       " (['3', '박', '4', '일', '놀', '러', '가', '고', '싶', '다'],\n",
       "  ['여정', '은', '언제나', '좋', '죠', '.']),\n",
       " (['3', '박', '4', '일', '정도', '놀', '러', '가', '고', '싶', '다'],\n",
       "  ['체류', '은', '언제나', '좋', '죠', '.']),\n",
       " (['PPL', '심하', '네'], ['눈살', '이', '찌푸려', '지', '죠', '.']),\n",
       " (['SD', '카드', '망가졌', '어'], ['무사히', '새로', '사', '는', '게', '마음', '편해요', '.']),\n",
       " (['SD', '카드', '안', '돼'], ['다시', '새로', '사', '는', '게', '욕망', '편해요', '.']),\n",
       " (['SNS', '맞', '팔', '왜', '안', '하', '지'],\n",
       "  ['잘', '안되', '고', '있', '을', '수', '도', '있', '어요', '.']),\n",
       " (['SNS', '시간', '낭비', '인', '거', '아', '는데', '매일', '하', '는', '중'],\n",
       "  ['시간', '을', '정하', '고', '해', '보', 'ㅂ니다', '.']),\n",
       " (['SNS', '시간', '낭비', '인데', '자꾸', '보', '게', '됨'],\n",
       "  ['시간', '을', '정하', '고', '해', '보', 'ㅂ시오', '.'])]"
      ]
     },
     "execution_count": 34,
     "metadata": {},
     "output_type": "execute_result"
    }
   ],
   "source": [
    "augmented_pairs[:10]"
   ]
  },
  {
   "cell_type": "code",
   "execution_count": 35,
   "id": "3172e1c8",
   "metadata": {},
   "outputs": [],
   "source": [
    "que_corpus_aug = [pair[0] for pair in augmented_pairs]\n",
    "ans_corpus_aug = [pair[1] for pair in augmented_pairs]"
   ]
  },
  {
   "cell_type": "code",
   "execution_count": 36,
   "id": "375dcec9",
   "metadata": {},
   "outputs": [
    {
     "data": {
      "text/plain": [
       "[['하루', '가', '또', '가', '거든요', '.'],\n",
       " ['마운드', '해', '드립니다', '.'],\n",
       " ['여정', '은', '언제나', '좋', '죠', '.'],\n",
       " ['체류', '은', '언제나', '좋', '죠', '.'],\n",
       " ['눈살', '이', '찌푸려', '지', '죠', '.'],\n",
       " ['무사히', '새로', '사', '는', '게', '마음', '편해요', '.'],\n",
       " ['다시', '새로', '사', '는', '게', '욕망', '편해요', '.'],\n",
       " ['잘', '안되', '고', '있', '을', '수', '도', '있', '어요', '.'],\n",
       " ['시간', '을', '정하', '고', '해', '보', 'ㅂ니다', '.'],\n",
       " ['시간', '을', '정하', '고', '해', '보', 'ㅂ시오', '.'],\n",
       " ['보유', '하', '는', '자리', '니까요', '.'],\n",
       " ['그', '선비', '도', '그럴', '거', '예요', '.'],\n",
       " ['그', '손님', '도', '그럴', '거', '예요', '.'],\n",
       " ['앞장', '를', '즐기', '세요', '.'],\n",
       " ['돈', '은', '곧', '들어올', '거', '예요', '.'],\n",
       " ['땀', '을', '식혀', '주', '대충', '.'],\n",
       " ['여서', '잊', '고', '새', '출발', '하', '세요', '.'],\n",
       " ['금방', '집', '에', '돌아가', '서', '끄', '고', '나오', '세요', '.'],\n",
       " ['천천히', '집', '에', '돌아가', '서', '끄', '고', '나오', '세요', '.'],\n",
       " ['다음', '달', '에', '는', '더', '최소화', '해', '봐요', '.'],\n",
       " ['잔잔', '하', '게', '사세요', '!'],\n",
       " ['다음', '달', '에', '는', '더', '비축', '해', '봐요', '.'],\n",
       " ['온', '부모님', '이', '모두', '마음', '에', '드', '는', '곳', '으로', '가', '보', '세요', '.'],\n",
       " ['온', '유족', '이', '모두', '마음', '에', '드', '는', '곳', '으로', '가', '보', '세요', '.'],\n",
       " ['온', '가족', '이', '똑같이', '마음', '에', '드', '는', '곳', '으로', '가', '보', '세요', '.'],\n",
       " ['더', '가까워질', '기대', '가', '되', '겠', '네요', '.'],\n",
       " ['저', '도', '요', '.'],\n",
       " ['다', '들', '바빠서', '설화', '할', '시간', '이', '부족', '했', '나', '봐요', '.'],\n",
       " ['다', '들', '바빠서', '모험', '할', '시간', '이', '부족', '했', '나', '봐요', '.'],\n",
       " ['온', '가족', '이', '모두', '마음', '에', '드', '는', '곳', '으로', '가', '보', '드시', '.'],\n",
       " ['좋', '은', '생각', '이', '라면서', '.'],\n",
       " ['더', '가까워질', '기회', '가', '되', '겠', '습니다', '.'],\n",
       " ['좋', '은', '생각', '이', 'ㄴ가요', '.'],\n",
       " ['정말', '개탄', '할', '습관', '이', '에요', '.'],\n",
       " ['무모', '한', '결정', '을', '어기', '지', '마세요', '.'],\n",
       " ['선생', '님', '이나', '기관', '에', '연락', '해', '보', '일일이', '.'],\n",
       " ['떨리', '는', '감정', '은', '그', '자체', '로', '친근', '해요', '.'],\n",
       " ['득템', '했', '길', '노시', '요', '.'],\n",
       " ['휴식', '도', '어야', '하', '죠', '.'],\n",
       " ['단', '짠', '으로', '두', '개', '사', '는', '게', '믿음', '죠', '.'],\n",
       " ['단', '짠', '으로', '두', '개', '사', '는', '게', '이법', '죠', '.'],\n",
       " ['재미있', '게', '드세요', '.'],\n",
       " ['저', '도', '싫', '군요', '.'],\n",
       " ['가', '대충', '.'],\n",
       " ['가', 'ㅂ니다', '.'],\n",
       " ['달콤', '게', '드세요', '.'],\n",
       " ['볶', '게', '드세요', '.'],\n",
       " ['입원', '가', '세요', '.'],\n",
       " ['이럴', '때', '잘', '쉬', '는', '게', '필수적', '해요', '.'],\n",
       " ['이럴', '때', '잘', '쉬', '는', '게', '기초적', '해요', '.'],\n",
       " ['이럴', '때', '잘', '쉬', '는', '게', '귀중', '해요', '.'],\n",
       " ['따뜻', '하', '게', '관리', '하', '일일이', '.'],\n",
       " ['병원', '가', 'ㅂ니다', '.'],\n",
       " ['어린이집', '가', '세요', '.'],\n",
       " ['저', '도', '듣', '고', '싶', '더군요', '.'],\n",
       " ['그', '을', '더', '사랑', '해', '주', '세요', '.'],\n",
       " ['그건', '본능', '이', '에요', '.'],\n",
       " ['그건', '습관', '이', '니까요', '.'],\n",
       " ['콕', '집', '려면', '물', '어', '보', '세요', '.'],\n",
       " ['좋', '은', '생각', '만', '하', 'ㄹ게', '.'],\n",
       " ['기쁨', '이', '아픈가요', '.'],\n",
       " ['갑작스러웠', '나', '봐요', '.'],\n",
       " ['성관계', '의', '변화', '가', '왔', '나', '봅니다', '.'],\n",
       " ['책임', '질', '수', '있', '을', '때', '키워', '보', '일일이', '.'],\n",
       " ['먼저', '가난', '패턴', '을', '살펴', '보', '세요', '.'],\n",
       " ['먼저', '생활', '패턴', '을', '살펴', '보', '달라', '.'],\n",
       " ['처벌', '질', '수', '있', '을', '때', '키워', '보', '세요', '.'],\n",
       " ['아름다운', '곳', '이', '죠', '.'],\n",
       " ['안', '될', '것', '도', '없', '죠', '.'],\n",
       " ['혼자', '도', '좋', '은지', '.'],\n",
       " ['즐거운', '시간', '보내', '고', '오', '일일이', '!'],\n",
       " ['천천히', '끌', '지', '마세요', '.'],\n",
       " ['말', '해', '보', 'ㅂ시오', '.'],\n",
       " ['동격', '하', '면', '서로', '를', '더', '많이', '알', '게', '될', '거', '예요', '.'],\n",
       " ['개시', '해', '보', '드시', '.'],\n",
       " ['개시', '해', '보', '드시', '.'],\n",
       " ['곧', '첫날', '이', '예요', '.'],\n",
       " ['가을', '이', '참', '짧', '죠', '.'],\n",
       " ['벗어나', '는', '게', '좋', '겠', '어서요', '.'],\n",
       " ['벗어나', '는', '게', '좋', '겠', '군요', '.'],\n",
       " ['세수', '하', '고', '오', 'ㄹ게', '.'],\n",
       " ['그게', '제일', '적합', '한', '건데요', '.'],\n",
       " ['그게', '꽤', '중요', '한', '건데요', '.'],\n",
       " ['다음', '부터', '는', '더', '잘', '아세요', '.'],\n",
       " ['갑작스러웠', '나', '봐요', '.'],\n",
       " ['공', '적', '인', '일', '인해', '하', '세요', '.'],\n",
       " ['공', '적', '인', '일', '이어지', '하', '세요', '.'],\n",
       " ['낮잠', '을', '잠깐', '자', '도', '일단', '아요', '.'],\n",
       " ['저', '도', '좋', '아', '해', '주', 'ㅂ니다', '.'],\n",
       " ['애인', '들', '이', '보', '고', '싶', '었', '나', '봐요', '.'],\n",
       " ['되', '도록', '따라가', '지', '마세요', '.'],\n",
       " ['당신', '쓰케', '.'],\n",
       " ['여러분', '의', '운', '을', '믿', '어', '보', '세요', '.'],\n",
       " ['밥', '사', '줄', '동료', '를', '찾', '아', '보', '세요'],\n",
       " ['선의', '의', '거짓말', '이', '길', '쿠요', '요', '.'],\n",
       " ['거짓말', '은', '할수록', '늘', '어서요', '.'],\n",
       " ['후회', '은', '할수록', '늘', '어요', '.'],\n",
       " ['진실', '된', '말', '을', '하', '려고', '노력', '해', '보', '드시', '.'],\n",
       " ['너희', '나', '걱정', '은', '있', '어요', '.'],\n",
       " ['어떻게', '나', '걱정', '은', '있', '어요', '.'],\n",
       " ['항쟁', '을', '해', '보', '세요', '.'],\n",
       " ['세상', '의', '무엇', '비교적', '건강', '이', '제일', '중요', '해요', '.'],\n",
       " ['주기', '적', '자로', '해', '주', '는', '게', '좋', '죠', '.'],\n",
       " ['리브', '적', '으로', '해', '주', '는', '게', '좋', '죠', '.'],\n",
       " ['가장', '귀중', '한', '목표', '네요', '.'],\n",
       " ['가장', '중요', '한', '기조', '네요', '.'],\n",
       " ['적', '게', '먹', '고', '많이', '휘어지', '세요', '.'],\n",
       " ['적', '게', '먹', '고', '많이', '끌어당기', '세요', '.'],\n",
       " ['몰르', '는', '사이', '라', '당황', '할', '수', '도', '있', '어요', '.'],\n",
       " ['이룰', '수', '있', '을', '거', '예요', '.'],\n",
       " ['이룰', '수', '있', '을', '거', '예요', '.'],\n",
       " ['있', '으니', '편하', '대요', '.'],\n",
       " ['눈', '을', '깜빡', '거려', '보', '주신', '.'],\n",
       " ['소독', '를', '좋아하', '시', '나', '봐요', '.'],\n",
       " ['안보', '귀', '가', '하', '세요', '.'],\n",
       " ['피해', '를', '안', '준다면', '무시', '하', '드시', '.'],\n",
       " ['안', '될', '것', '도', '없', '죠', '.'],\n",
       " ['게임', '할', '때', '는', '시간', '이', '더', '멀리', '가요', '.'],\n",
       " ['정리', '해', '보', 'ㅂ시오', '.'],\n",
       " ['게임', '하', '대충', '!'],\n",
       " ['다른', '게임', '해', '보', '주신', '.'],\n",
       " ['다른', '퍼즐', '해', '보', '세요', '.'],\n",
       " ['게임', '하', 'ㄹ게', '!'],\n",
       " ['게임', '할', '때', '는', '시간', '이', '더', '빨리', '연예', '.'],\n",
       " ['마음', '에', '도', '봄', '이', '오', '길', '바래', '요', '.'],\n",
       " ['몸', '은', '거칠', '고', '머리', '는', '차갑', '게', '!'],\n",
       " ['세상', '에', '도', '봄', '이', '오', '길', '바라', '요', '.'],\n",
       " ['잘', '하', '실', '거', '예요', '!'],\n",
       " ['잘', '하', '실', '거', '예요', '!'],\n",
       " ['식생활', '생각', '해서', '챙겨', '드세요', '.'],\n",
       " ['좋', '은', '인생', '도', '있', '을', '거', '예요', '.'],\n",
       " ['확정', '하', '기', '힘드', '시', '겠', '네요', '.'],\n",
       " ['그', '을', '위한', '결정', '을', '내리', '길', '바라', '요', '.'],\n",
       " ['자신', '을', '위한', '규정', '을', '내리', '길', '바라', '요', '.'],\n",
       " ['판단', '은', '빠르', '면', '빠를수록', '좋', '을', '거', '예요', '.'],\n",
       " ['안타깝', '네요', '.', '증거', '를', '불행히', '이', '라도', '모아', '봐요', '.'],\n",
       " ['좋', '겠', '군요', '.'],\n",
       " ['좋', '겠', '더군요', '.'],\n",
       " ['많이', '들', '기에', '줄일', '수', '있', '을', '거', '예요', '.'],\n",
       " ['경조사', '는', '참석', '하', '는', '게', '좋', '아서요', '.'],\n",
       " ['경조사', '는', '참석', '하', '는', '게', '좋', '은가', '.'],\n",
       " ['생각', '좀', '신경', '안', '씁니다', '.'],\n",
       " ['친분', '이', '넓', '으신가', '봐요', '.'],\n",
       " ['힘들', '겠', '습니다', '.'],\n",
       " ['빈번히', '들', '지만', '줄일', '수', '있', '을', '거', '예요', '.'],\n",
       " ['욕심', '에', '따라', '천지', '한계', '일', '거', '예요', '.'],\n",
       " ['허례허식', '이', 'ㄴ지요', '.'],\n",
       " ['욕심', '에', '그거', '천지', '차이', '일', '거', '예요', '.'],\n",
       " ['해', '봐요', '.'],\n",
       " ['상하', '노력', '하', '면', '행복', '할', '거', '예요', '.'],\n",
       " ['서로', '이익', '하', '면', '행복', '할', '거', '예요', '.'],\n",
       " ['사람',\n",
       "  '마다',\n",
       "  '불행',\n",
       "  '의',\n",
       "  '크기',\n",
       "  '가',\n",
       "  '다르',\n",
       "  '겠',\n",
       "  '지만',\n",
       "  '불행',\n",
       "  '할',\n",
       "  '거',\n",
       "  '예요',\n",
       "  '.'],\n",
       " ['사람',\n",
       "  '각기',\n",
       "  '행복',\n",
       "  '의',\n",
       "  '크기',\n",
       "  '가',\n",
       "  '다르',\n",
       "  '겠',\n",
       "  '지만',\n",
       "  '행복',\n",
       "  '할',\n",
       "  '거',\n",
       "  '예요',\n",
       "  '.'],\n",
       " ['능력', '이', '있', '어도', '하', '면', '되', '죠', '.'],\n",
       " ['의욕', '이', '있', '으면', '하', '면', '되', '죠', '.'],\n",
       " ['이', '사람', '이', '다', '싶', '은', '사람', '이랑', '하', '대충', '.'],\n",
       " ['해', '봐요', '.'],\n",
       " ['점점', '치열', '해', '지', '는', '것', '같', '아서요', '.'],\n",
       " ['변명', '이', '없', '나', '봐요', '.'],\n",
       " ['가속화', '적', '인', '걸', '좋', '아', '하', '나', '봐요', '.'],\n",
       " ['겨울', '은', '참', '짧', '아요', '.'],\n",
       " ['보', '러', '가', '주신', '.'],\n",
       " ['보', '러', '가', '주신', '.'],\n",
       " ['계속', '좋', '지', '않', '으면', '병원', '에', '가', '보', '드시', '.'],\n",
       " ['페달', '이', '안', '맞', '았', '나', '봐요', '.'],\n",
       " ['이제', '퇴직', '하', '셔야죠', '.'],\n",
       " ['졸업', '가', '최우선', '이', '죠', '.'],\n",
       " ['전공', '가', '최우선', '이', '죠', '.'],\n",
       " ['상당히', '무리', '하', '지', '는', '마세요', '.'],\n",
       " ['상당히', '무리', '하', '지', '는', '마세요', '.'],\n",
       " ['저기압', '에', '는', '생선', '앞', '이', '죠', '.'],\n",
       " ['저기압', '에', '는', '육수', '앞', '이', '죠', '.'],\n",
       " ['연습', '이', '충분', '해요', '.'],\n",
       " ['연습', '이', '적절', '해요', '.'],\n",
       " ['깨어나', '가', '아니', '에요', '.'],\n",
       " ['인복', '이', '많', '나', '봐요', '.'],\n",
       " ['워낙', '걱정', '하', '지', '마세요', '.'],\n",
       " ['네', '말씀', '하', 'ㅂ시다', '.'],\n",
       " ['네', '답변', '하', '세요', '.'],\n",
       " ['용서', '는', '용서', '를', '낳', '을', '뿐', '이', '에요', '.', '용기', '내', '세요', '.'],\n",
       " ['돈', '을', '모아서', '다른', '곳', '처럼', '이사', '갈', '수', '있', '을', '거', '예요', '.'],\n",
       " ['돈', '을', '모아서', '다른', '곳', '이라고', '이사', '갈', '수', '있', '을', '거', '예요', '.'],\n",
       " ['더', '좋', '은', '곳', '현재', '살', '수', '있', '을', '거', '예요', '.'],\n",
       " ['더', '좋', '은', '곳', '미술전', '살', '수', '있', '을', '거', '예요', '.'],\n",
       " ['완전히', '귀엽', '죠', '?'],\n",
       " ['부모', '을', '먼저', '키우', '세요', '.'],\n",
       " ['가족', '들', '과', '상의', '해', '보', '소서', '.'],\n",
       " ['후회', '를', '구하', '세요', '.'],\n",
       " ['피할', '수', '있', '으면', '가라앉히', '세요', '.'],\n",
       " ['피할', '수', '있', '으면', '일으키', '세요', '.'],\n",
       " ['처음', '부터', '잘', '하', '는', '선비', '은', '없', '어요', '.'],\n",
       " ['분만', '내', '서', '가', '보', '세요', '.'],\n",
       " ['처음', '부터', '잘', '하', '는', '죄수', '은', '없', '어요', '.'],\n",
       " ['시간', '내', '서', '가', '보', '대충', '.'],\n",
       " ['미리', '미리', '충전', '해', '주', '드시', '.'],\n",
       " ['미리', '미리', '충전', '해', '주', '드시', '.'],\n",
       " ['진작', '적', '이', '고', '좋', '죠', '.'],\n",
       " ['수행', '해', '보', '세요', '.'],\n",
       " ['준비', '해', '보', '소서', '.'],\n",
       " ['급제', '기원', '해요', '!'],\n",
       " ['철', '밥통', '되', '기', '가', '어디', '쉽', '겠', '나요', '.'],\n",
       " ['철', '밥통', '되', '기', '가', '어디', '쉽', '겠', '으니까', '.'],\n",
       " ['시작', '이', '반', '이', '에요', '.', '어서', '준비', '하', 'ㄹ게', '.'],\n",
       " ['고립', '적', '이', '고', '좋', '죠', '.'],\n",
       " ['자연', '스러운', '현상', '이', '잖아요', '.'],\n",
       " ['자연', '스러운', '현상', '이', 'ㄴ가요', '.'],\n",
       " ['드러나', '는', '게', '없', '죠', '.'],\n",
       " ['아직', '처럼', '잘', '될', '거', '예요', '.'],\n",
       " ['진보', '의', '배우자', '가', '달라져요', '.'],\n",
       " ['단언', '이', '없', '나', '봐요', '.'],\n",
       " ['공부', '는', '평상시', '좋', '죠', '.'],\n",
       " ['배우', '하', '면', '더', '많', '은', '선택', '을', '할', '수', '있', '죠', '.'],\n",
       " ['마찬가지', '수다', '떨', '면서', '놀', '까요', '?'],\n",
       " ['나', '만', '의', '공부', '방법', '을', '찾아보', 'ㅂ시다', '.'],\n",
       " ['오늘날', '도', '늦', '지', '않', '았', '어요', '.'],\n",
       " ['같이', '수다', '떨', 'ㄴ다', '놀', '까요', '?'],\n",
       " ['믿음', '이', '없', '나', '봐요', '.'],\n",
       " ['예전', '처럼', '잘', '될', '거', '예요', '.'],\n",
       " ['나', '한테', '맞', '는', '중퇴', '방법', '찾', '는', '게', '시급', '하', '네요', '.'],\n",
       " ['한동안', '쉬', '어도', '돼요', '.'],\n",
       " ['잠시', '쉬', 'ㄴ다면', '돼요', '.'],\n",
       " ['공부', '하', '면', '더', '많', '은', '제시', '을', '할', '수', '있', '죠', '.'],\n",
       " ['공부', '하', '면', '더', '많', '은', '입력', '을', '할', '수', '있', '죠', '.'],\n",
       " ['강론', '하', '면', '더', '많', '은', '선택', '을', '할', '수', '있', '죠', '.'],\n",
       " ['합격', '전승', '해요', '!'],\n",
       " ['잘', '될', '거', '예요', '.'],\n",
       " ['좋', '은', '지표', '있', '을', '거', '예요', '!'],\n",
       " ['잘', '될', '거', '예요', '.'],\n",
       " ['좋', '은', '수치', '있', '을', '거', '예요', '!'],\n",
       " ['친구', '와', '같이', '가', '보', 'ㅂ니다', '.'],\n",
       " ['친구', '와', '같이', '가', '보', '주신', '.'],\n",
       " ['온건', '차이', '가', '좀', '있', '기', '는', '하', '죠', '.'],\n",
       " ['꾸준히', '약', '먹', '고', '치료', '해', '보', '달라', '.'],\n",
       " ['급속히', '약', '먹', '고', '치료', '해', '보', '세요', '.'],\n",
       " ['피', '로', '풀', '고', '좋', '죠', '.'],\n",
       " ['피', '로', '풀', '고', '좋', '죠', '.'],\n",
       " ['오늘', '이', '기초적', '하', '죠', '.'],\n",
       " ['지금', '이', '중요', '하', '죠', '.'],\n",
       " ['소화제', '챙겨', '드세요', '.'],\n",
       " ['과식', '은', '금물', '이', 'ㄴ가요', '.'],\n",
       " ['소화제', '드세요', '.'],\n",
       " ['안', '된다고', '하', '면', '거짓말', '이', '겠', '군요', '.'],\n",
       " ['안', '된다고', '하', '면', '발언', '이', '겠', '지요', '.'],\n",
       " ['제철', '과일', '이', '..', '좋', '아요', '.'],\n",
       " ['복지', '생각', '해서', '챙겨', '드세요', '.'],\n",
       " ['그래도', '먹', '으려고', '노력', '해', '보', '대충', '.'],\n",
       " ['그래도', '먹', '으려고', '노력', '해', '보', 'ㅂ시다', '.'],\n",
       " ['제철', '과일', '이', '아무리', '좋', '아요', '.'],\n",
       " ['인간', '관계', '도', '참조', '가', '필요', '해요', '.'],\n",
       " ['무', '관심', '이', '가능', '할', '때', '가', '있', '죠', '.'],\n",
       " ['무', '불만', '이', '필요', '할', '때', '가', '있', '죠', '.'],\n",
       " ['창문', '조심', '하', '세요', '.'],\n",
       " ['벽면', '조심', '하', '세요', '.'],\n",
       " ['채널', '을', '돌려', '보', '주신', '.'],\n",
       " ['..', '아', '지', '고', '있', '어', '다행', '이', '에요', '.'],\n",
       " ['남자', '사람', '동료', ',', '여자', '사람', '동료', '하', '세요', '.'],\n",
       " ['빈번히', '지쳤', '나', '봐요', '.'],\n",
       " ['그녀', '를', '기다린다는', '게', '쉬운', '게', '아니', '죠', '.'],\n",
       " ['늦', '지', '않', '았', '는데요', '.'],\n",
       " ['그', '것', '도', '다', '경험', '이', '라고', '생각', '하', 'ㅂ시다', '.'],\n",
       " ['그럴', '필요', '없', '더군요', '.'],\n",
       " ['그렇', '지', '않', '아도', '.'],\n",
       " ['마음', '에', '드', '는', '책', '을', '잘', '들어보', '세요', '.'],\n",
       " ['저', '도', '듣', '고', '싶', '더군요', '.'],\n",
       " ['같', '은', '조', '가', '되', '길', '바랄게요', '.'],\n",
       " ['지식', '쌓', '는', '비애', '가', '있', '죠', '.'],\n",
       " ['같', '은', '조', '가', '되', '길', '바랄게요', '.'],\n",
       " ['지식', '쌓', '는', '흥미', '가', '있', '죠', '.'],\n",
       " ['저', '도', '듣', '고', '싶', '군요', '.'],\n",
       " ['학점', '감시', '하', '세요', '.'],\n",
       " ['보험', '점검', '하', '세요', '.'],\n",
       " ['보험', '저장', '하', '세요', '.'],\n",
       " ['왜', '그럴까요', '?'],\n",
       " ['좋', '은', '재회', '이', '었', '길', '바라', '요', '.'],\n",
       " ['좋', '은', '만남', '이', '었', '길', '노시', '요', '.'],\n",
       " ['일', '을', '몰라서', '그런가', '봐요', '.'],\n",
       " ['마음',\n",
       "  '의',\n",
       "  '삶',\n",
       "  '을',\n",
       "  '살',\n",
       "  '다',\n",
       "  '보',\n",
       "  '면',\n",
       "  '기다릴',\n",
       "  '수',\n",
       "  '있',\n",
       "  '을',\n",
       "  '거',\n",
       "  '예요',\n",
       "  '.'],\n",
       " ['손해', '스러워', '하', '지', '않', '는다면', '기다려도', '좋', '을', '것', '같', '아요', '.'],\n",
       " ['부담', '스러워', '하', '지', '않', '을까요', '기다려도', '좋', '을', '것', '같', '아요', '.'],\n",
       " ['그만큼', '걱정', '하', '지', '마세요', '.'],\n",
       " ['타인',\n",
       "  '의',\n",
       "  '삶',\n",
       "  '을',\n",
       "  '살',\n",
       "  '다',\n",
       "  '보',\n",
       "  '면',\n",
       "  '기다릴',\n",
       "  '수',\n",
       "  '있',\n",
       "  '을',\n",
       "  '거',\n",
       "  '예요',\n",
       "  '.'],\n",
       " ['반란군', '시계', '는', '멈추', '지', '않', '아요', '.'],\n",
       " ['군대', '시계', '는', '멈추', '지', '않', '은데', '.'],\n",
       " ['안', '의아', '해요', '.'],\n",
       " ['안', '궁금하', '해요', '.'],\n",
       " ['자세히', '얘기', '해', '주', '세요', '.'],\n",
       " ['자세히', '께서', '해', '주', '세요', '.'],\n",
       " ['요양원', '에', '가', '세요', '.'],\n",
       " ['누가', '욕', '하', '고', '있', '나', '봐요', '.'],\n",
       " ['누가', '욕', '하', '고', '있', '나', '봐요', '.'],\n",
       " ['병원', '에', '가', 'ㅂ시다', '.'],\n",
       " ['생각', '하', '기', '는', '쉬운데', '실천', '하', '기', '는', '어려운', '것', '같', '구요', '.'],\n",
       " ['슬픈', '일화', '네요', '.'],\n",
       " ['저', '도', '간절히', '묵상', '할게요', '.'],\n",
       " ['너무', '될', '수', '있', '을', '거', '예요', '.'],\n",
       " ['청춘', '에', '잠길', '때', '도', '필요', '해요', '.'],\n",
       " ['후회', '는', '후회', '를', '낳', '을', '뿐', '이', 'ㄴ지요', '.', '용기', '내', '세요', '.'],\n",
       " ['시작하', '이', '반', '이', '에요', '.', '어서', '준비', '하', '세요', '.'],\n",
       " ['아무', '도', '없', '는', '곳', '이나', '여행', '을', '떠나', '보', '세요', '.'],\n",
       " ['많이', '만난', '보', '세요', '.'],\n",
       " ['잠깐', '바람', '쐬', '고', '오', 'ㅂ니다', '.'],\n",
       " ['다른', '여인', '이', '답답', '할', '거', '예요', '.'],\n",
       " ['살', '고', '싶', '은', '자꾸', '사세요', '.'],\n",
       " ['많이', '지루', '한가', '봐요', '.'],\n",
       " ['피할', '수', '있', '는다면', '피하', '세요', '.'],\n",
       " ['조심히', '오', 'ㅂ시다', '.'],\n",
       " ['실천', '이', '말', '좀더', '낫', '죠', '.'],\n",
       " ['밥심', '으로서', '사', '는', '거', '죠', '.'],\n",
       " ['앞장', '만', '있', '지', '마세요', '.'],\n",
       " ['안부', '를', '물', '어', '주', '시', '뛰어다니', '감사', '합니다', '.'],\n",
       " ['인생', '에', '잠길', '때', '도', '필요', '해요', '.'],\n",
       " ['괜찮', '은', '선택', '이', '길', '십상', '요', '.'],\n",
       " ['좋', '은', '지표', '있', '을', '거', '예요', '.'],\n",
       " ['기쁜', '마음', '으로', '베풀', '고', '보답', '을', '풀어쓰', '지', '마세요', '.'],\n",
       " ['다른', '죄수', '말', '은', '신경', '쓰', '지', '마세요', '.'],\n",
       " ['대인배', '시', '습니다만', '.'],\n",
       " ['대인배', '시', '습니다만', '.'],\n",
       " ['연인', '가', '좋', '아', '하', '나', '봐요', '.'],\n",
       " ['전설', '를', '해', '보', '세요', '.'],\n",
       " ['온전', '한', '이해', '는', '없', '네요', '.'],\n",
       " ['괜찮', '은', '선택', '이', '길', '원하', '요', '.'],\n",
       " ['학원',\n",
       "  '을',\n",
       "  '들르',\n",
       "  '거나',\n",
       "  '연습',\n",
       "  '하',\n",
       "  '면',\n",
       "  '잘',\n",
       "  '할',\n",
       "  '수',\n",
       "  '있',\n",
       "  '을',\n",
       "  '거',\n",
       "  '예요',\n",
       "  '.'],\n",
       " ['학원',\n",
       "  '을',\n",
       "  '다니',\n",
       "  '도록',\n",
       "  '연습',\n",
       "  '하',\n",
       "  '면',\n",
       "  '잘',\n",
       "  '할',\n",
       "  '수',\n",
       "  '있',\n",
       "  '을',\n",
       "  '거',\n",
       "  '예요',\n",
       "  '.'],\n",
       " ['뒷감당', '자신', '있', '거나', '하', '세요', '.'],\n",
       " ['가끔', '만', '드세요'],\n",
       " ['정말', '을', '소중', '하', '게', '생각', '하', '세요', '.'],\n",
       " ['그런', '일주일', '도', '감사', '한', '마음', '을', '가져', '보', '세요', '.'],\n",
       " ['좋', '은', '젊은이', '과', '함께', '가', '세요', '.'],\n",
       " ['저', '하나님', '이', '신가요', '?'],\n",
       " ['값비싸', '요', '.'],\n",
       " ['흔하', '요', '.'],\n",
       " ['호의', '인지', '자부심', '인지', '헷갈리', '나요', '?'],\n",
       " ['뭔가', '안', '끊어지', '는', '일', '이', '있', '나', '봐요', '.'],\n",
       " ['하녀', '를', '금', '수저', '로', '만들', '어', '주', '세요', '.'],\n",
       " ['아이', '를', '금', '항아리', '로', '만들', '어', '주', '세요', '.'],\n",
       " ['본인', '을', '이겨야', '해요', '.'],\n",
       " ['굉장히', '긴장', '했', '나', '봐요', '.'],\n",
       " ['축일', '챙겨', '주', '면', '좋아할', '거', '예요', '.'],\n",
       " ['전례력', '에', '적', '어', '보', '세요', '.'],\n",
       " ['달력', '에', '적', '어', '보', 'ㅂ시다', '.'],\n",
       " ['어린이날', '챙겨', '주', '면', '좋아할', '거', '예요', '.'],\n",
       " ['버티', '지', '마세요', '.'],\n",
       " ['상대방', '의', '선호', '에', '맡겨', '보', '세요', '.'],\n",
       " ['좋', '은', '분', '이', '시', '지만요'],\n",
       " ['섬기', '되', '보답', '을', '바라', '지', '마세요', '.'],\n",
       " ['자신', '을', '사랑', '할수록', '외부', '의', '인정', '은', '필요', '없', '는데요', '.'],\n",
       " ['상대', '한테', '바라', '는', '기대', '는', '자신', '을', '슬프', '게', '해요', '.'],\n",
       " ['공양', '되', '보답', '을', '바라', '지', '마세요', '.'],\n",
       " ['기쁜', '마음', '진로', '베풀', '고', '보답', '을', '바라', '지', '마세요', '.'],\n",
       " ['자신',\n",
       "  '의',\n",
       "  '감정',\n",
       "  '을',\n",
       "  '저지대',\n",
       "  '사람',\n",
       "  '들',\n",
       "  '에게',\n",
       "  '터놓',\n",
       "  '고',\n",
       "  '이야기',\n",
       "  '해',\n",
       "  '보',\n",
       "  '세요',\n",
       "  '.'],\n",
       " ['대중교통', '을', '제공', '해', '주', '세요', '.'],\n",
       " ['각자', '가', '생각', '하', '는', '필수', '이', '다를', '수', '도', '있', '어요', '.'],\n",
       " ['각자', '가', '얘기', '하', '는', '기본', '이', '다를', '수', '도', '있', '어요', '.'],\n",
       " ['좋', '은', '일', '하', '셨', '어서요', '.'],\n",
       " ['좋', '은', '일', '하', '셨', '어요', '.'],\n",
       " ['아침', '은', '오늘', '보다', '나을', '거', '예요', '.'],\n",
       " ['정색', '번만', '해', '주', '세요', '.'],\n",
       " ['걷', '다', '보', '면', '조금', '참조', '가', '될', '거', '예요', '.'],\n",
       " ['저', '랑', '같이', '해요', '.'],\n",
       " ['저', '랑', '동격', '해요', '.'],\n",
       " ['애절', '는', '음악', '들', '어', '보', '세요', '.'],\n",
       " ['경쾌', '한', '음악', '들', '어', '보', 'ㅂ니다', '.'],\n",
       " ['왜', '일까요', '?'],\n",
       " ['무슨', '이유', '인지', '얘기', '해', '보', '세요', '.'],\n",
       " ['혼자', '사', '는', '것', '보다', '편안', '하', '겠', '죠', '.'],\n",
       " ['항렬', '학기', '에', '는', '학점', '관리', '를', '더', '열심히', '해', '봐요', '.'],\n",
       " ['혼자', '사', '는', '것', '매우', '불편', '하', '겠', '죠', '.'],\n",
       " ['혼자', '사', '는', '것', '보다', '혼잡', '하', '겠', '죠', '.'],\n",
       " ['수직선', '학기', '에', '는', '학점', '관리', '를', '더', '열심히', '해', '봐요', '.'],\n",
       " ['기술', '을', '많이', '알', '면', '혜택', '이', '되', '겠', '죠', '.'],\n",
       " ['꿈꾸', '던', '여행', '이', '어요', '.'],\n",
       " ['짝사랑', '던', '여행', '이', '네요', '.'],\n",
       " ['답답', '한', '상황', '이', '습니다', '.'],\n",
       " ['답답', '한', '사태', '이', '네요', '.'],\n",
       " ['좋', '겠', '군요', '!'],\n",
       " ['스스로', '주', '는', '게', '더', '좋', '을', '것', '같', '아요', '.'],\n",
       " ['직접', '주', '는', '게', '더', '좋', '을', '것', '같', '어요', '.'],\n",
       " ['직접', '주', '는', '게', '더', '좋', '을', '것', '같', '은데', '.'],\n",
       " ['좋', '겠', '습니다', '.'],\n",
       " ['직접', '주', '는', '게', '더', '좋', '을', '것', '같', '아도', '.'],\n",
       " ['더', '좋', '은', '기대', '가', '올', '거', '예요', '.'],\n",
       " ['더', '좋', '은', '여유', '가', '올', '거', '예요', '.'],\n",
       " ['연예인', '을', '결행', '하', '니', '일반인', '보다', '다', '예쁘', '겠', '죠', '.'],\n",
       " ['연예인', '을', '준비', '하', '니', '일반인', '보다', '다', '몸매', '겠', '죠', '.'],\n",
       " ['그렇지만', '저', '는', '못', '기르', '고', '잘라요', '.'],\n",
       " ['더구나', '저', '는', '못', '기르', '고', '잘라요', '.'],\n",
       " ['귀찮', '아', '지', '고', '있', '어', '다행', '이', '에요', '.'],\n",
       " ['크', '게', '숨', '한', '번', '쉬', '어', '보', '소서'],\n",
       " ['크', '게', '숨', '한', '번', '쉬', '어', '보', '달라'],\n",
       " ['경매', '긴장', '하', '지', '마세요', '.'],\n",
       " ['괴로움', '에', '들', '면', '줘', '보', '세요', '.'],\n",
       " ['저', '도', '싫', '는데요', '.'],\n",
       " ['잘', '해', '보', '주신', '.'],\n",
       " ['영혼', '에', '들', '면', '줘', '보', '세요', '.'],\n",
       " ['잘', '해', '보', '드시', '.'],\n",
       " ['그래도', '넘', '을', '수', '있', '을', '거', '예요', '.'],\n",
       " ['조심', '하', '일일이', '.'],\n",
       " ['아주', '낙담', '하', '지', '마세요', '.'],\n",
       " ['조심', '하', '드시', '.'],\n",
       " ['미끄러우', '니', '조심', '하', '일일이', '.'],\n",
       " ['생활환경', '을', '위해', '조금', '씩', '드세요', '.'],\n",
       " ['숍', '갑시다', '.'],\n",
       " ['맛있', '는', '먹', '시간', '되', '시', '길', '바랄게요', '.'],\n",
       " ['재밌', '는', '식사', '시간', '되', '시', '길', '바랄게요', '.'],\n",
       " ['재밌', '죠', '!'],\n",
       " ['기다렸', '나', '봐요', '.'],\n",
       " ['조금', '만', '기다리', '면', '다시', '발전기', '가', '들어올', '거', '예요', '.'],\n",
       " ['간단', '해요', '.'],\n",
       " ['능히', '단단', '해', '지', '세요', '.'],\n",
       " ['제', '가', '드리', '고', '싶', '어서요', '.'],\n",
       " ['분가', '분위기', '가', '바뀔', '거', '예요', '.'],\n",
       " ['집안', '태도', '가', '바뀔', '거', '예요', '.'],\n",
       " ['꽃', '선물', '은', '당신', '좋', '죠', '.'],\n",
       " ['꽃', '뇌물', '은', '언제나', '좋', '죠', '.'],\n",
       " ['솜씨', '가', '좋', '나요', '네요', '.'],\n",
       " ['마음', '좋', '아', '보이', '세요', '.'],\n",
       " ['기분', '좋', '아', '보이', '일일이', '.'],\n",
       " ['마음', '의', '진작', '을', '취하', '기', '좋', '은', '취미', '네요', '.'],\n",
       " ['마음', '의', '안정', '을', '취하', '기', '좋', '은', '외모', '네요', '.'],\n",
       " ['벚꽃', '남반구', '이', '다가왔', '네요', '.'],\n",
       " ['거꾸로', '해서', '드라이플라워', '흩뿌리', '어', '보', '세요', '.'],\n",
       " ['거꾸로', '해서', '드라이플라워', '만들', '어', '보', '달라', '.'],\n",
       " ['부러워요', '!'],\n",
       " ['멋진', '예물', '이', '네요', '.'],\n",
       " ['센스', '있', '는', '예물', '이', '에요', '.'],\n",
       " ['부러워요', '!'],\n",
       " ['킬러', '있', '는', '선물', '이', '에요', '.'],\n",
       " ['멋진', '답장', '이', '네요', '.'],\n",
       " ['받', '는', '젊은이', '이', '부럽', '네요', '.'],\n",
       " ['받', '는', '포졸', '이', '부럽', '네요', '.'],\n",
       " ['제', '가', '아드리', '고', '싶', '네요', '.'],\n",
       " ['저', '도', '즐거워요'],\n",
       " ['차근차근', '이뤄', '보', '은데', '.'],\n",
       " ['차근차근', '이뤄', '보', '은데요', '.'],\n",
       " ['요즘', '똑똑', '한가', '봐요', '.'],\n",
       " ['많', '거나', '많', '을', '수록', '좋', '죠', '.'],\n",
       " ['더', '많', '은가', '괜찮', '아요', '.'],\n",
       " ['거창', '하', '지', '않', '아', '돼요', '.'],\n",
       " ['사고방식', '을', '꿈', '처럼', '만들', '어', '봐요', '.'],\n",
       " ['많', '으면', '많', '을', '실리', '좋', '죠', '.'],\n",
       " ['사고방식', '을', '꿈', '처럼', '만들', '어', '봐요', '.'],\n",
       " ['미워하', '되', '는', '게', '많', '지', '않', '죠', '.'],\n",
       " ['기쁨', '이', '허전', '하', '신가', '봐요', '.'],\n",
       " ['잘', '해결', '되', '길', '일쑤', '요', '.'],\n",
       " ['잘', '해소', '되', '길', '바라', '요', '.'],\n",
       " ['부모님', '을', '더', '사랑', '해', '주', '세요', '.'],\n",
       " ['아니', '길', '바', '라오', '.'],\n",
       " ['잘', '아', '시', '어요', '.'],\n",
       " ['애정', '표현', '일', '지배', '몰라요', '.'],\n",
       " ['뺨', '에', '다', '티', '가', '나', '네요', '.'],\n",
       " ['네', ',', '이제', '잘', '해낼', '번', '예요', '.'],\n",
       " ['좋', '은', '실태', '있', '을', '거', '예요', '.'],\n",
       " ['아무리', '은', '사람', '이', '에요', '.'],\n",
       " ['학점', '자동화', '하', '세요', '.'],\n",
       " ['순식간', '좀', '쐬', '고', '오', '시', '면', '좋', '은', '텐데', '.'],\n",
       " ['밥', '사', '줄', '친구', '를', '찾', '아', '보', '일일이'],\n",
       " ['짐', '잊', '지', '말', '고', '싸', '세요', '.'],\n",
       " ['식단', '조절', '도', '하', '고', '꾸준히', '운동권', '하', '세요', '.'],\n",
       " ['얼마나', '아름다워요', '.'],\n",
       " ['깔끔', '한', '거', '예요', '.'],\n",
       " ['노트북', '은', '까다롭', '요', '.'],\n",
       " ['절대', '어떻', '지', '않', '아요', '.'],\n",
       " ['저', '도', '답답', '하', '네요', '.'],\n",
       " ['알려주', '해', '달', '라고', '해', '보', '세요', '.'],\n",
       " ['의도', '해봐도', '좋', '겠', '죠', '.'],\n",
       " ['선비', '들', '이', '몰라', '줘도', '알아주', '는', '선비', '이', '있', '을', '거', '예요', '.'],\n",
       " ['승부', '에게', '바라', '는', '기대', '는', '자신', '을', '슬프', '게', '해요', '.'],\n",
       " ['곰곰히', '되짚', '어', '보', '소서', '.'],\n",
       " ['즐겁', '게', '속', '아', '주', 'ㅂ시다', '.'],\n",
       " ['강판', '하', '지', '마세요', '.'],\n",
       " ['이닝', '하', '지', '마세요', '.'],\n",
       " ['안녕히', '주무세요', '.'],\n",
       " ['무의미', '한', '거', '예요', '.'],\n",
       " ['눈치', '가', '재빠르', '시', '군요', '.'],\n",
       " ['그런', '확신', '을', '들', '게', '하', '는', '사람', '상종', '하', '지', '마세요', '.'],\n",
       " ['그런', '생각', '을', '들', '게', '하', '는', '포졸', '상종', '하', '지', '마세요', '.'],\n",
       " ['배제', '하', '세요', '.'],\n",
       " ['무시', '하', '달라', '.'],\n",
       " ['문제', '는', '해결', '하', '리라', '있', '는', '거', '죠', '.'],\n",
       " ['멍', '터뜨리', '고', '있', '죠', '.'],\n",
       " ['성공', '을', '간기', '합니다', '.'],\n",
       " ['긍정', '적', '으로', '바뀔', '수', '있', '어서요'],\n",
       " ['바보', '는', '자기', '한테', '바보', '라고', '하', '지', '않', '아도', '.'],\n",
       " ['저', '랑', '놀', '은가', '.'],\n",
       " ['아닐', '거', '예요', '.'],\n",
       " ['경찰',\n",
       "  '에',\n",
       "  '접수',\n",
       "  '하',\n",
       "  '고',\n",
       "  '취할',\n",
       "  '수',\n",
       "  '있',\n",
       "  '는',\n",
       "  '조취',\n",
       "  '를',\n",
       "  '취해',\n",
       "  '보',\n",
       "  '세요',\n",
       "  '.'],\n",
       " ['건강', '하', '게', '투쟁', '해', '보', '세요', '.'],\n",
       " ['자주', '사랑', '해요', '!'],\n",
       " ['맞이', '합니다', '!'],\n",
       " ['꼬까옷', '개시', '해', '보', '일일이', '.'],\n",
       " ['자책점', '하', '지', '마세요', '.'],\n",
       " ['성공', '을', '성례', '합니다', '.'],\n",
       " ['곱셈', '부터', '속', '지', '마세요', '.'],\n",
       " ['기분', '나쁘', '겠', '으니까', '.'],\n",
       " ['친구', '들', '과', '좋', '은', '사랑', '만들', '고', '오', '세요', '.'],\n",
       " ['가끔', '핸드폰', '필요없', '살', '아', '보', '세요', '.'],\n",
       " ['하늘', '만하', '땅', '만하', '축하', '해요'],\n",
       " ['잘', '생각', '해', '보', 'ㅂ시다', '.'],\n",
       " ['곰곰히', '되짚', '어', '보', '주신', '.'],\n",
       " ['고심', '하', '고', '있', '으면', '그럴', '거', '예요', '.'],\n",
       " ['물리',\n",
       "  '적',\n",
       "  '페드',\n",
       "  '가',\n",
       "  '아니',\n",
       "  '라',\n",
       "  '정신',\n",
       "  '적',\n",
       "  '페드',\n",
       "  '가',\n",
       "  '중요',\n",
       "  '하',\n",
       "  '니까요',\n",
       "  '.'],\n",
       " ['물리',\n",
       "  '적',\n",
       "  '나이',\n",
       "  '가',\n",
       "  '아니',\n",
       "  '라',\n",
       "  '의식',\n",
       "  '적',\n",
       "  '나이',\n",
       "  '가',\n",
       "  '중요',\n",
       "  '하',\n",
       "  '니까요',\n",
       "  '.'],\n",
       " ['괜찮', '은', '구경꾼', '이', '에요', '.'],\n",
       " ['멍', '벗기', '고', '있', '죠', '.'],\n",
       " ['눈동자', '에', '다', '티', '가', '나', '네요', '.'],\n",
       " ['좋', '은', '태도', '구요', '.'],\n",
       " ['저', '도', '사', '군요', '.'],\n",
       " ['당신', '에게', '콩깍지', '가', '씌', '였', '나', '봐요', '.'],\n",
       " ['기념', '드려요', '.'],\n",
       " ['맞이', '해요', '!'],\n",
       " ['절친', '들', '과', '잘', '어울려', '보', '세요', '.'],\n",
       " ['부모', '님', '께', '도움', '을', '지덕', '보', '세요', '.'],\n",
       " ['위의', '에', '는', '다를', '거', '예요', '.'],\n",
       " ['타선', '하', '지', '마세요', '.'],\n",
       " ['좀더', '아름다워요', '.'],\n",
       " ['인격', '차리', '세요', '.'],\n",
       " ['남', '들', '눈', '은', '신경과', '쓰', '지', '마세요', '.'],\n",
       " ['거울', '앞', '에', '비친', '당신', '을', '보', 'ㄹ게', '.'],\n",
       " ['콕', '집', '여도', '물', '어', '보', '세요', '.'],\n",
       " ['그', '누구', '도', '아닌', '각자', '걸음', '을', '걸으', '세요', '.'],\n",
       " ['아주', '평범', '하', '면서', '아주', '특별', '하', '죠', '.'],\n",
       " ['졸업', '생일', '해요'],\n",
       " ['지금', '도', '만큼', '잘', '하', '고', '있', '어요', '.'],\n",
       " ['지금', '너무', '더', '잘', '살', '거', '예요', '.'],\n",
       " ['네', '잘', '생겼', '으니까', '.'],\n",
       " ['잘', '하', '고', '있', '을', '거', '예요', '.'],\n",
       " ['잘', '하', '고', '있', '을', '거', '예요', '.'],\n",
       " ['저', '랑', '사랑', '잘', '하', '고', '있', '어요', '.'],\n",
       " ['잘', '하', '는', '걸', '여전히', '못', '찾', '은', '걸', '수', '도', '있', '어요', '.'],\n",
       " ['그전', '처럼', ',', '그전', '보다', '더', '잘', '할', '수', '있', '을', '거', '예요', '.'],\n",
       " ['귀찮', '지', '않', '아요', '.'],\n",
       " ['제', '가', '챙겨', '드리', '고', '싶', '습니다만', '.'],\n",
       " ['빈번히', '지쳤', '나', '봐요', '.'],\n",
       " ['많', '지쳤', '나', '봐요', '.'],\n",
       " ['아무', '도', '없', '는', '곳', '으로', '하이킹', '을', '떠나', '보', '세요', '.'],\n",
       " ['주로', '지쳤', '나', '봐요', '.'],\n",
       " ['먼저', '들키', '보', '세요', '.'],\n",
       " ['공감', '이', '에요', '.'],\n",
       " ['오늘', '도', '잘', '하', '고', '있', '어요', '.'],\n",
       " ['제', '가', '당신', '을', '무서워하', '고', '있', '어요', '.'],\n",
       " ['호의', '인지', '호감', '인지', '헷갈리', '거든요', '?'],\n",
       " ['저', '도', '좋', '아', '해요', '.'],\n",
       " ['있', 'ㄹ지라도', '예뻐요', '.'],\n",
       " ['현재', '은', '괜찮', '길', '바랄게요', '.'],\n",
       " ['초심', '진로', '돌아가', '열심히', '해', '보', '세요', '.'],\n",
       " ['저', '도', '사', '는군요', '.'],\n",
       " ['제', '가', '챙겨', '알코르', '고', '싶', '네요', '.'],\n",
       " ['제', '가', '따라가', '려면', '멀', '었', '더군요', '.'],\n",
       " ['제', '가', '따라가', '려면', '멀', '었', '고요', '.'],\n",
       " ['독립운동', '잘', '하', '는', '사람', '멋있', '죠', '.'],\n",
       " ['지금', '도', '넘겨받', '고', '있', '어요', '.'],\n",
       " ['나', '를', '감지', '하', '고', '음식', '자체', '에', '집중', '하', '세요', '.'],\n",
       " ['잠깐', '전화번호', '을', '내려', '두', '세요', '.'],\n",
       " ['시간', '을', '정해', '보', '소서', '.'],\n",
       " ['시간', '을', '정해', '보', 'ㅂ시오', '.'],\n",
       " ['파이팅', '!'],\n",
       " ['고치', '고', '싶', '습니다', '마음', '에서', '시작', '하', '세요', '.'],\n",
       " ['얼른', '기다리', '시', '길', '기도', '할게요', '.'],\n",
       " ['온전히', '느낄', '수', '있', '는', '분간', '이', '겠', '네요', '.'],\n",
       " ['배구', '볼', '때', '는', '치맥', '이', '죠', '.'],\n",
       " ['하', '다', '보', '면', '늘', '어서요', '.'],\n",
       " ['하', '다', '보', '면', '늘', '네요', '.'],\n",
       " ['자아', '개발', '을', '해', '보', '세요', '.'],\n",
       " ['집', '현재', '도', '할', '게', '많', '아요', '.'],\n",
       " ['오늘', '은', '굴곡', '의', '변화', '를', '줘', '보', '세요', '.'],\n",
       " ['정색', '한번', '해', '주', 'ㅂ니다', '.'],\n",
       " ['절대', '틀리', '지', '않', '아요', '.'],\n",
       " ['저', '도', '궁금하', '하', '네요', '.'],\n",
       " ['모자라', '지', '않', '구요', '.'],\n",
       " ['파이팅', '!'],\n",
       " ['하나', '라도', '있', '을', '거', '니', '열심히', '찾', '세요', '.'],\n",
       " ['출루', '하', '지', '마세요', '.'],\n",
       " ['절망', '받', '기', '위해', '태어났', '어요', '.'],\n",
       " ['잘', '해야', '한다는', '부담감', '을', '버리', '대충', '.'],\n",
       " ['다양', '하', '게', '지식', '해', '보', '세요', '.'],\n",
       " ['상식', '의', '벽', '에', '부딪혔', '나', '봐요', '.'],\n",
       " ['후배', '가', '들으면', '서운', '해', '할', '수', '도', '있', '겠', '어요', '.'],\n",
       " ['위턱', '맞', '았', '나', '봐요', '.'],\n",
       " ['알아봐', '주', '는', '구경꾼', '이', '있', '을', '거', '예요', '.'],\n",
       " ['당당히', '그분', '해', '보', '세요', '.'],\n",
       " ['당뇨', '파이팅', '!'],\n",
       " ['위의', '에', '는', '받', '을', '수', '있', '을', '거', '예요', '.'],\n",
       " ['근처', '산', '에', '가', '보', '드시', '.'],\n",
       " ['많이', '벌', '수록', '좋', '네요', '.'],\n",
       " ['제', '가', '위', '로', '많', '해', '드릴게요', '.'],\n",
       " ['생일', '드려요', '!'],\n",
       " ['반성', '하', '고', '있', '으면', '그럴', '거', '예요', '.'],\n",
       " ['좀', '더', '물어보', '고', '하', '세요', '.'],\n",
       " ['마찬가지', '살', '고', '싶', '은', '사람', '이', '있', '나', '봐요', '.'],\n",
       " ['커플', '기원후', '만드세요', '.'],\n",
       " ['잘', '하', '실', '거', '예요', '!'],\n",
       " ['같이', '예능', '.'],\n",
       " ['다', '잘', '될', '거', '예요', '.'],\n",
       " ['같이', '놀', '아도', '.'],\n",
       " ['지금', '탄로', '고', '있', '어요', '.'],\n",
       " ['잊어버리', '주신', '.'],\n",
       " ['상대방', '을', '이해', '해', '주', 'ㅂ니다', '.'],\n",
       " ['절대로', '것', '도', '안', '해도', '괜찮', '아요', '.'],\n",
       " ['상대방', '에게', '굉장히', '무거운', '짐', '을', '주', '지', '마세요', '.'],\n",
       " ['기다리', '는', '간', '많', '은', '생각', '이', '들', '었', '겠', '네요', '.'],\n",
       " ['그럴', '때', '마다', '따끔', '하', '게', '말', '해', '보', '일일이', '.'],\n",
       " ['특정인', '도', '미소', '짓', '게', '해', '주', '세요', '.'],\n",
       " ['어디', '모습', '도', '좋', '아요'],\n",
       " ['이런', '친구', '는', '거르', '세요', '.'],\n",
       " ['상종', '하', '지', '마세요', '.'],\n",
       " ['나가', '끌', '지', '마세요', '.'],\n",
       " ['애정', '표현', '일', '지리학', '몰라요', '.'],\n",
       " ['당신', '를', '기다린다는', '게', '쉬운', '게', '아니', '죠', '.'],\n",
       " ['살',\n",
       "  '다',\n",
       "  '보',\n",
       "  '면',\n",
       "  '하',\n",
       "  '고',\n",
       "  '싶',\n",
       "  '은',\n",
       "  '게',\n",
       "  '생길',\n",
       "  '수',\n",
       "  '도',\n",
       "  '있',\n",
       "  '습니다만',\n",
       "  '.'],\n",
       " ['제', '가', '있', '거든요', '.'],\n",
       " ['스스로',\n",
       "  '다툼',\n",
       "  '해야',\n",
       "  '하',\n",
       "  '고',\n",
       "  '이겨야',\n",
       "  '한다는',\n",
       "  '강박',\n",
       "  '관념',\n",
       "  '에',\n",
       "  '사로잡히',\n",
       "  '지',\n",
       "  '마세요',\n",
       "  '.'],\n",
       " ['선배', '를', '사귈', '수', '있', '을', '거', '예요', '.'],\n",
       " ['그', '젊은이', '도', '설렐', '거', '예요', '.'],\n",
       " ['그', '죄수', '도', '설렐', '거', '예요', '.'],\n",
       " ['제', '가', '있', 'ㅂ니까', '.'],\n",
       " ['배우자', '와', '교제', '를', '나눠', '보', '세요', '.'],\n",
       " ['얼른', '앞두', '시', '길', '기도', '할게요', '.'],\n",
       " ['스스로', '단단', '해', '지', 'ㅂ시다', '.'],\n",
       " ['그', '말', '을', '한', '사람', '이', '가장', '이상은', '할', '거', '예요', '.'],\n",
       " ['그', '말', '을', '한', '사람', '이', '비교적', '이상', '할', '거', '예요', '.'],\n",
       " ['일', '분배', '를', '다시', '조언', '해', '보', '세요', '.'],\n",
       " ['발전', '이', '없', '습니다', '너무', '두려워', '하', '지', '마세요', '.'],\n",
       " ['살짝', '여도', '괜찮', '아요'],\n",
       " ['다음', '에', '는', '꼭', '예편', '할', '거', '예요', '.'],\n",
       " ['몸통', '맞', '았', '나', '봐요', '.'],\n",
       " ['그런', '친구', '는', '나르', '세요', '.'],\n",
       " ['누구', '나', '힘들', '어서요', '.'],\n",
       " ['자기', '과', '대화', '하', '는', '시간', '이', '필요', '하', '죠', '.'],\n",
       " ['자신', '과', '대화', '하', '는', '분간', '이', '필요', '하', '죠', '.'],\n",
       " ['꿈', '은', '현실', '아줌마', '반대', '예요', '.'],\n",
       " ['학급', '적', '인', '꼰대', '스타일', '이', '네요', '.'],\n",
       " ['전형', '적', '인', '꼰대', '모던', '이', '네요', '.'],\n",
       " ['나이', '는', '개수', '일', '뿐', '이', '예요', '.'],\n",
       " ['건강', '은', '어려서', '연말', '챙겨야', '해요', '.'],\n",
       " ['세상', '걱정', '혼자', '다', '덧', '그래요', '.'],\n",
       " ['아름다운', '나이테', '예요', '.'],\n",
       " ['진짜', '하', '고', '싶', '은', '걸', '찾아보', 'ㅂ니다', '.'],\n",
       " ['진짜', '하', '고', '싶', '은', '걸', '들어보', '세요', '.'],\n",
       " ['천천히', '치르', '해', '보', '세요', '.'],\n",
       " ['믿음', '이', '대단히', '중요', '하', '죠', '.'],\n",
       " ['점유자', '의', '거짓말', '이', '길', '바라', '요', '.'],\n",
       " ['생각', '치가', '높', '나', '봅니다', '.'],\n",
       " ['논의', '는', '해결', '하', '라고', '있', '는', '거', '죠', '.'],\n",
       " ['이야기', '를', '하', '지', '않', '고', '표결', '했', '나', '봐요', '.'],\n",
       " ['이야기', '를', '하', '지', '않', '고', '선택', '했', '나', '봐요', '.'],\n",
       " ['관심도', '되', '겠', '네요', '.'],\n",
       " ['제', '행운', '까지', '모두', '빌바오', '고', '싶', '네요', '.'],\n",
       " ['특정', '사람', '도', '그럴', '거', '예요', '.'],\n",
       " ['믿음', '이', '가장', '적합', '하', '죠', '.'],\n",
       " ['가을', '이', '어요', '.'],\n",
       " ['월초', '이', '네요', '.'],\n",
       " ['극복', '해', '봐도', '좋', '을', '거', '같', '아요', '.'],\n",
       " ['도전', '해', '봐도', '좋', '을', '거', '같', '은지', '.'],\n",
       " ['한', '번', '빠지', '면', '헤어나올', '수', '없', '다는', '해요', '.'],\n",
       " ['같이', '해', '보', '드시', '.'],\n",
       " ['한', '번', '빠지', '면', '헤어나올', '수', '없', '다는', '해요', '.'],\n",
       " ['잘', '아', '시', '는데요', '.'],\n",
       " ['중요', '한', '건', '심혈', '하', '는', '과정', '이', '에요', '.'],\n",
       " ['어떤', '생각', '은', '버리', '세요', '.'],\n",
       " ['지금', '무섭', '만', '하', '세요', '.'],\n",
       " ['모자라', '지', '않', '아도', '.'],\n",
       " ['다', '잘', '될', '거', '예요', '.'],\n",
       " ['그런', '얘기', '은', '버리', '세요', '.'],\n",
       " ['제', '가', '더', '미모', '예요', '.'],\n",
       " ['딱딱', '하', '게', '사세요', '!'],\n",
       " ['보일러', '가', '난방', '로', '작동', '이', '되', '는지', '보', '세요', '.'],\n",
       " ['보일러', '가', '난방', '으로', '작동', '이', '되', '는지', '보', '일일이', '.'],\n",
       " ['기다리', '는', '동안', '많', '은', '생각', '이', '들', '었', '겠', '는데요', '.'],\n",
       " ['센트', '나', '가습기', ',', '젖', '은', '수건', '등', '을', '사용', '해', '보', '세요', '.'],\n",
       " ['깨끗', '하', '게', '입', '으세요', '.'],\n",
       " ['잔잔', '해졌', '죠', '.'],\n",
       " ['하늘',\n",
       "  '보',\n",
       "  '고',\n",
       "  '한',\n",
       "  '번',\n",
       "  '웃',\n",
       "  '어',\n",
       "  '봐요',\n",
       "  '.',\n",
       "  '마음씨',\n",
       "  '이',\n",
       "  '바뀔',\n",
       "  '거',\n",
       "  '예요',\n",
       "  '.'],\n",
       " ['나', '들', '이', '가', '보', '소서', '.'],\n",
       " ['하늘', '을', '보', '고', '웃', '어', '보', 'ㅂ시오', '.'],\n",
       " ['덥', '해졌', '죠', '.'],\n",
       " ['제습기', '를', '돌려', '보', 'ㄹ게', '.'],\n",
       " ['집', '밖', '에', '헤엄치', '기', '가', '힘들', '것', '같', '아요', '.'],\n",
       " ['집', '밖', '에', '나가', '기', '가', '힘들', '것', '같', '어요', '.'],\n",
       " ['시원', '한', '물', '이', '든', '한', '잔', '드세요'],\n",
       " ['오래', '살', '면', '가능', '할', '거', '같', '은가', '.'],\n",
       " ['화', '를', '참', '는', '연습', '을', '해', '보', 'ㄹ게', '.'],\n",
       " ['남', '보다', '나이다', '씩', '더', '하', '면', '돼요', '.'],\n",
       " ['남', '들', '눈', '은', '피질', '쓰', '지', '마세요', '.'],\n",
       " ['남', '들', '눈', '은', '신경과', '쓰', '지', '마세요', '.'],\n",
       " ['휴가', '가', '간절', '하', '겠', '습니다만', '.'],\n",
       " ['성격', '이', '그럴', '수', '도', '있', '으므로', '이해', '해', '주', '세요', '.'],\n",
       " ['해', '주', '고', '티', '를', '팍팍', '내', 'ㅂ시오', '.'],\n",
       " ['속', '리턴', '겠', '어요', '.'],\n",
       " ['어디', '나', '몰려가', '는', '줄', '에', '설', '필요', '는', '없', '어요', '.'],\n",
       " ['소개팅', '시켜', '달', '라고', '말', '해', '보', 'ㄹ게', '.'],\n",
       " ['소개팅', '시켜', '달', '라고', '말', '해', '보', '주신', '.'],\n",
       " ['고마운', '마음', '을', '사마염', '주', '세요', '.'],\n",
       " ['적당히', '하', '면', '괜찮', '을', '거', '같', '구요', '.'],\n",
       " ['유사', '해', '보', '세요', '.'],\n",
       " ['적당히', '하', '면', '그렇', '을', '거', '같', '아요', '.'],\n",
       " ['남자', '도', '좋', '은', '것', '만', '은', '물론', '예요', '.'],\n",
       " ['남자', '도', '좋', '은', '것', '만', '은', '기보', '예요', '.'],\n",
       " ['마음', '을', '열', '때', '까지', '설득', '해', '보', '주신', '.'],\n",
       " ['총파업', '을', '함께', '해', '보', '세요', '.'],\n",
       " ['평소', '에', '필수적', '한', '것', '생각', '해', '보', '세요', '.'],\n",
       " ['몹시', '에', '필요', '했', '던', '게', '좋', '을', '것', '같', '아요', '.'],\n",
       " ['전생', '에', '나라', '를', '빌리', '셨', '나요', '.'],\n",
       " ['금지령', '은', '빠를수록', '좋', '아요', '.'],\n",
       " ['거짓말', '육수', '하', '세요', '.'],\n",
       " ['너무', '자각', '하', '지', '마세요', '.'],\n",
       " ['운동권', '을', '함께', '해', '보', '세요', '.'],\n",
       " ['전생', '에', '나라', '를', '살리', '셨', '나요', '.'],\n",
       " ['고마운', '괴로움', '을', '전해', '주', '세요', '.'],\n",
       " ['솔직히', '좀', '깨', '요', '.'],\n",
       " ['바쁠', '때', '힘', '이', '되', '어', '주', '소서', '.'],\n",
       " ['바쁠', '때', '힘', '이', '되', '어', '주', '주신', '.'],\n",
       " ['그래도', '구박', '하', '지', '는', '마세요', '.'],\n",
       " ['그래도', '구박', '하', '지', '는', '마세요', '.'],\n",
       " ['너무', '자각', '하', '지', '마세요', '.'],\n",
       " ['귀엽', '겠', '거든요', '.'],\n",
       " ['거짓말', '적당히', '하', '일일이', '.'],\n",
       " ['당신', '이', '해', '보', '일일이', '.'],\n",
       " ['당신', '이', '해', '보', 'ㄹ게', '.'],\n",
       " ['손님', '고쳐', '쓰', '는', '거', '아니', '에요', '.'],\n",
       " ['더', '잔소리', '해', '보', '드시', '.'],\n",
       " ['더', '잔소리', '해', '보', '일일이', '.'],\n",
       " ['별개', '연락', '을', '많이', '하', '거나', '더', '자주', '만나', '세요', '.'],\n",
       " ['다른', '연락', '을', '많이', '하', '고', '더', '자주', '만나', '세요', '.'],\n",
       " ['원', '하', '는', '사람', '이', '있', '는', '야외', '에', '가', '보', '세요', '.'],\n",
       " ['가리키', '있', '는', '일', '이', '네요', '.'],\n",
       " ['종교', '의', '위태', '를', '인정', '해', '주', '세요', '.'],\n",
       " ['종교', '의', '기본권', '를', '인정', '해', '주', '세요', '.'],\n",
       " ['사면령', '은', '빠를수록', '좋', '아요', '.'],\n",
       " ['혈관', '쓰', '지', '마세요', '.'],\n",
       " ['네', '알려', '주', '드시', '!'],\n",
       " ['평소', '에', '필요', '한', '것', '생각', '해', '보', '드시', '.'],\n",
       " ['게으르', '에', '필요', '했', '던', '게', '좋', '을', '것', '같', '아요', '.'],\n",
       " ['원', '하', '는', '여인', '이', '있', '는', '장소', '에', '가', '보', '세요', '.'],\n",
       " ['신경', '쓰', '고', '싶', '지', '않', '은', '죄인', '도', '있', '어요', '.'],\n",
       " ['신경', '쓰', '고', '싶', '지', '않', '은', '백성', '도', '있', '어요', '.'],\n",
       " ['피질', '쓰', '지', '마세요', '.'],\n",
       " ['사람', '고쳐', '쓰', '는', '거', '기보', '에요', '.'],\n",
       " ['마음', '을', '열', '때', '까지', '설득', '해', '보', 'ㄹ게', '.'],\n",
       " ['돕', '는', '게', '아니', '라', '마찬가지', '하', '는', '거', '예요', '.'],\n",
       " ['이상', '적', '인', '부모님', '이', '네요', '.'],\n",
       " ['왜', '늦', '는', '건지', '대화', '해', '보', 'ㅂ시오', '.'],\n",
       " ['처음', '만났', '을', '때', '를', '떠올려', '보', 'ㄹ게'],\n",
       " ['공동육아', '가', '근본', '인데요', '.'],\n",
       " ['힘', '빠지', '는', '모험', '네요', '.'],\n",
       " ['공동육아', '가', '추가', '인데요', '.'],\n",
       " ['힘', '처하', '는', '이야기', '네요', '.'],\n",
       " ['잘', '분담', '해', '보', 'ㅂ니다', '.'],\n",
       " ['잘', '분담', '해', '보', 'ㅂ니다', '.'],\n",
       " ['이상', '적', '인', '남편', '이', '거든요', '.'],\n",
       " ['최초', '만났', '을', '때', '를', '떠올려', '보', '세요'],\n",
       " ['돕', '는', '게', '아니', '라', '비슷', '하', '는', '거', '예요', '.'],\n",
       " ['사회생활', '을', '자각', '해', '주', '세요', '.'],\n",
       " ['사회생활', '을', '이해', '해', '주', '소서', '.'],\n",
       " ['합리', '적', '인', '거', '좋', '아', '하', '시', '는구나', '!'],\n",
       " ['낭만주의', '적', '인', '거', '좋', '아', '하', '시', '는구나', '!'],\n",
       " ['반유대', '적', '인', '거', '좋', '아', '하', '시', '는구나', '!'],\n",
       " ['네', '알려', '주', 'ㅂ시오', '!'],\n",
       " ['어머', '어머', '답답', '하', '네요', '.'],\n",
       " ['자신', '의', '의욕', '을', '믿', '어', '보', '세요', '.'],\n",
       " ['말', '을', '해야', '알', '거', '예요', '.'],\n",
       " ['말', '을', '해야', '알', '거', '예요', '.'],\n",
       " ['그러', '면', '못할', '게', '없', '겠', '어서요', '.'],\n",
       " ['고생', '만', '한다는', '것', '아닐까요', '.'],\n",
       " ['후회', '만', '한다는', '것', '아닐까요', '.'],\n",
       " ['갑자기', '옆', '에', '있', '을', '수', '도', '있', '어요', '.'],\n",
       " ['틀리', '옆', '에', '있', '을', '수', '도', '있', '어요', '.'],\n",
       " ['정식', '배우', '는', '게', '중요', '해요', '.'],\n",
       " ['너희', '나', '몰려가', '는', '줄', '에', '설', '필요', '는', '없', '어요', '.'],\n",
       " ['그걸', '깨닫', '다니', '대단', '하', '시', '네요', '.'],\n",
       " ['성급', '한', '거', '예요', '.'],\n",
       " ['새로운', '스타일', '환영', '해', '보', '시', '면', '어때요', '?'],\n",
       " ['새로운', '스타일', '부활', '해', '보', '시', '면', '어때요', '?'],\n",
       " ['동감', '이', 'ㅂ니까', '.'],\n",
       " ['포커페이스', '를', '회복', '해', '보', '세요', '.'],\n",
       " ['어머', '어머', '불분명', '하', '네요', '.'],\n",
       " ['자부심', '을', '가져도', '돼요', '.'],\n",
       " ['스스로', '도', '배격', '해', '주', '세요', '.'],\n",
       " ['스스로', '도', '존중', '해', '주', '대충', '.'],\n",
       " ['상당히', '중요', '한', '거', '예요', '.'],\n",
       " ['제일', '중요', '한', '거', '예요', '.'],\n",
       " ['확인', '해', '달', '라', '해', '보', '세요', '.'],\n",
       " ['정답', '을', '찾', '아야', '할', '필요', '는', '없', '습니다만', '.'],\n",
       " ['꽃길', '만', '걷', '길', '바랍니다', '.'],\n",
       " ['멋진', '말', '이', 'ㄴ지요', '.'],\n",
       " ['해', '주', '고', '티', '를', '팍팍', '내', 'ㄹ게', '.'],\n",
       " ['모르', '는', '게', '사실', '인', '거', '같', '아요', '.'],\n",
       " ['해명', '할', '타이밍', '을', '놓치', '지', '마세요', '.'],\n",
       " ['사과', '할', '셔터', '을', '놓치', '지', '마세요', '.'],\n",
       " ['그건', '아닐', '거', '예요', '.'],\n",
       " ['바보', '나빴', '네요', '.'],\n",
       " ['내', '집', '마련', '기념식', '드려요', '.'],\n",
       " ['같', '은', '빛', '아래', '어딘가', '에', '.'],\n",
       " ['바보', '나빴', '네요', '.'],\n",
       " ['저', '도', '애매모호', '하', '네요', '.'],\n",
       " ['저', '도', '궁금', '하', '군요', '.'],\n",
       " ['제', '가', '있', '죠', '.'],\n",
       " ['제', '가', '있', '어요', '.'],\n",
       " ['행복', '은', '채워', '나가', '는', '거', '죠', '.'],\n",
       " ['아니', '에요', '.', '상당히', '자책', '하', '지', '마세요', '.'],\n",
       " ['이', '젊은이', '이', '다', '싶', '은', '젊은이', '이랑', '하', '세요', '.'],\n",
       " ['아니', '에요', '.', '워낙', '자책', '하', '지', '마세요', '.'],\n",
       " ['방심', '한', '순간', '변화', '가', '개막', '됩니다', '.'],\n",
       " ['얘기', '하', '고', '말', '하', '세요', '.'],\n",
       " ['그렇게', '대우', '하', '는', '손님', '만나', '지', '마요', '.'],\n",
       " ['잘', '하', '고', '있', '어요', '.', '당당', '해', '지', '대충', '.'],\n",
       " ['하', '고', '싶', '은', '말', '다', '하', 'ㅂ니다', '.'],\n",
       " ['능히', '좋', '다고', '못', '느끼', '는', '게', '제일', '어려운', '것', '같', '아요', '.'],\n",
       " ['잘', '하', '는', '게', '별개', '거', '예요', '.'],\n",
       " ['성장', '을', '위한', '주장', '의', '말', '로', '받아들여', '보', '세요', '.'],\n",
       " ['복소수', '했', '나요', '.'],\n",
       " ['잘', '할', '수', '있', '는', '게', '각', '거', '예요', '.'],\n",
       " ['몰르', '는', '게', '잘못', '인', '거', '같', '아요', '.'],\n",
       " ['하나', '라도', '있', '을', '거', '니', '저희', '찾아보', '세요', '.'],\n",
       " ['실수', '했', '네요', '.'],\n",
       " ['결말', '은', '채워', '나가', '는', '거', '죠', '.'],\n",
       " ['접촉', '이', '라도', '드려', '보', '세요', '.'],\n",
       " ['연락', '이', '라도', '드려', '보', '드시', '.'],\n",
       " ['연인', '자격증', '을', '드립니다', '.'],\n",
       " ['이렇게', '대우', '하', '는', '사람', '만나', '지', '마요', '.'],\n",
       " ['소중', '한', '선비', '이', '예요', '.'],\n",
       " ['당신', '은', '하나', '밖에', '없', '는', '소중', '한', '사람', '이', 'ㄴ지요', '.'],\n",
       " ['그', '이유', '를', '찾', '는', '과정', '이', '되', '겠', '구요', '.'],\n",
       " ['다른',\n",
       "  '포졸',\n",
       "  '들',\n",
       "  '이',\n",
       "  '원',\n",
       "  '하',\n",
       "  '는',\n",
       "  '내',\n",
       "  '가',\n",
       "  '되',\n",
       "  '는',\n",
       "  '건',\n",
       "  '어려워',\n",
       "  '요',\n",
       "  '.'],\n",
       " ['알아봐', '주', '는', '구경꾼', '이', '있', '을', '거', '예요', '.'],\n",
       " ['연락', '이', '만약', '드려', '보', '세요', '.'],\n",
       " ['그', '의', '독특', '함', '을', '믿', '으세요', '.'],\n",
       " ['자신', '의', '화려', '함', '을', '믿', '으세요', '.'],\n",
       " ['지극히', '평범', '하', '면서', '지극히', '일정', '하', '죠', '.'],\n",
       " ['상황', '이', '그다지', '만든', '거', '예요', '.'],\n",
       " ['모르', '는', '게', '잘못', '인', '거', '같', '아도', '.'],\n",
       " ['당신', '은', '하나', '밖에', '없', '는', '불쌍', '한', '사람', '이', '에요', '.'],\n",
       " ['그럴', '때', '가', '있', '죠', '.'],\n",
       " ['기다렸', '나', '봐요', '.'],\n",
       " ['바늘', '감정', '을', '흘려', '보', '세요', '.'],\n",
       " ['살짝', '감정', '을', '흘려', '보', '달라', '.'],\n",
       " ['그런', '손님', '들', '이', '있', '어', '부러워요', '.'],\n",
       " ['슬픈', '이야기', '어서요', '.'],\n",
       " ['꽤', '될', '수', '있', '을', '거', '예요', '.'],\n",
       " ['기쁨', '자격증', '을', '드립니다', '.'],\n",
       " ['주제', '를', '모를', '때', '가', '젊음', '할', '때', '예요', '.'],\n",
       " ['그건', '아닐', '거', '예요', '.'],\n",
       " ['나쁜', '지적', '하', '지', '마세요', '.'],\n",
       " ['할', '일', '이', '많', '더군요', '안', '하', '는', '것', '이', '요', '.'],\n",
       " ['잠시', '거리', '를', '두', '고', '생각', '해', '보', 'ㅂ시오', '.'],\n",
       " ['지난', '친분', '에', '연연', '해', '하', '지', '마세요', '.'],\n",
       " ['상종', '하', '지', '마세요', '.'],\n",
       " ['목적물', '적', '희생양', '이', '되', '지', '않', '길', '바랍니다', '.'],\n",
       " ['그게', '행복', '이', '죠', '.'],\n",
       " ['단호', '하', '게', '고르', '세요', '.'],\n",
       " ['더', '존엄', '해질', '거', '예요', '.'],\n",
       " ['저', '도', '알려주', '겠', '어요', '.'],\n",
       " ['같', '은', '지옥', '아래', '어딘가', '에', '.'],\n",
       " ['저희', '저축', '해서', '분양', '받', '으세요', '.'],\n",
       " ['좋', '은', '일', '이', '생길', '거', '예요', '.'],\n",
       " ['짐', '찍', '지', '말', '고', '싸', '세요', '.'],\n",
       " ['습도', '어', '플', '에', '물', '어', '보', '세요', '.'],\n",
       " ['여름철', '어', '플', '에', '물', '어', '보', '세요', '.'],\n",
       " ['파이팅', '!'],\n",
       " ['멋지', '게', '데이트', '신청', '해', '보', '주신', '.'],\n",
       " ['멋지', '게', '데이트', '신청', '해', '보', 'ㅂ시다', '.'],\n",
       " ['공부', '한', '듯', '나올', '거', '예요', '.'],\n",
       " ['배우', '한', '만큼', '나올', '거', '예요', '.'],\n",
       " ['더', '많이', '리허설', '하', '고', '준비', '해', '보', '세요', '.'],\n",
       " ['마무리', '잘', '하', '대충', '.'],\n",
       " ['끝마치', '잘', '하', '세요', '.'],\n",
       " ['더', '많이', '연습', '하', '고', '결행', '해', '보', '세요', '.'],\n",
       " ['좌윤', '를', '지내', '봅시다', '!'],\n",
       " ['두근거리', '겠', '어서요', '.'],\n",
       " ['오빠', '들', '과', '좋', '은', '추억', '만들', '고', '오', '세요', '.'],\n",
       " ['컨디션', '억제', '하', '세요', '.'],\n",
       " ['날씨', '가', '안', '좋', '더라도', '코너', '는', '성공', '적', '일', '거', '예요', '.'],\n",
       " ['오늘', '먼저', '주무세요', '.'],\n",
       " ['일주일', '있', '냐고', '물', '어', '보', '세요', '.'],\n",
       " ['브라스', '크리스마스', '!'],\n",
       " ['바빠도', '힘내', 'ㄹ게', '!'],\n",
       " ['두근거리', '겠', '습니다', '.'],\n",
       " ['좌정승', '를', '지내', '봅시다', '!'],\n",
       " ['장시간', '있', '냐고', '물', '어', '보', '세요', '.'],\n",
       " ['좋', '은', '일', '이', '생길', '거', '예요', '.'],\n",
       " ['널스', '크리스마스', '!'],\n",
       " ['식단', '감지', '도', '하', '고', '꾸준히', '운동', '하', '세요', '.'],\n",
       " ['날씨', '가', '안', '좋', '더라도', '캐치', '는', '성공', '적', '일', '거', '예요', '.'],\n",
       " ['바빠도', '힘내', '소서', '!'],\n",
       " ['괜찮', '아요', '.', '모른', '부끄러워하', '세요', '.'],\n",
       " ['괜찮', '아요', '.', '모른', '도망가', '세요', '.'],\n",
       " ['생각', '만', '해도', '군침', '이', '도', '더군요', '.'],\n",
       " ['조용', '하', '게', '지낸', '값', '이', '죠', '.'],\n",
       " ['온난', '하', '게', '지낸', '값', '이', '죠', '.'],\n",
       " ['슈퍼', '라도', '가', '서', '컨벤션', '하', '고', '오', '세요', '.'],\n",
       " ['장', '보', '러', '가', '봅시다', '.'],\n",
       " ['아울렛', '갑시다', '.'],\n",
       " ['장', '보', '러', '가', '봅시다', '.'],\n",
       " ['슈퍼', '라도', '가', '서', '쇼핑', '하', '고', '오', '달라', '.'],\n",
       " ['저', '는', '욕망', '을', '이어주', '는', '위', '로', '봇', '입니다', '.'],\n",
       " ['저', '는', '통곡', '해', '드리', '는', '로봇', '이', '에요', '.'],\n",
       " ['저', '는', '위로', '해', '소시', '는', '로봇', '이', '에요', '.'],\n",
       " ['모두', '제', '와전', '입니다', '.'],\n",
       " ['많',\n",
       "  '은',\n",
       "  '걸',\n",
       "  '하',\n",
       "  '고',\n",
       "  '싶',\n",
       "  '은데',\n",
       "  '아직',\n",
       "  '못',\n",
       "  '하',\n",
       "  '는',\n",
       "  '게',\n",
       "  '많',\n",
       "  '은데',\n",
       "  '.'],\n",
       " ['감사원', '합니다', '.'],\n",
       " ['움직임', '하', '고', '있', '어요', '.'],\n",
       " ['제', '가', '아직', '많이', '충분', '합니다', '.'],\n",
       " ['제', '가', '아직', '많이', '충분', '합니다', '.'],\n",
       " ['어흥', '!', '!', '호랑이', '보다', '못생기', '나요', '?'],\n",
       " ['저', '는', '위로', '해', '드리', '는', '산업용', '이', '에요', '.'],\n",
       " ['모두', '제', '그릇되', '입니다', '.'],\n",
       " ['죄', '는', '미워', '하지', '사람', '은', '미워하', '지', '마세요', '.'],\n",
       " ['욕해', '주', '일일이', '.'],\n",
       " ['안', '갈', '거', '예요', '.'],\n",
       " ['저', '는', '밸브', '가', '밥', '이', '예요', '.'],\n",
       " ['아무', '척', '하', '는', '걸', '수', '도', '있', '어요', '.'],\n",
       " ['불행히', '안', '자', '요', '.'],\n",
       " ['자신', '을', '우선', '승률', '로', '해', '주', '세요', '.'],\n",
       " ['뭐', '라고', '불평', '할지', '고민', '이', '에요', '.'],\n",
       " ['저', '는', '괴로워하', '이', '없', '어요', '.'],\n",
       " ['저', '도', '몰랐', '구요', '.'],\n",
       " ['뭐', '라고', '얘기', '할지', '고민', '이', '에요', '.'],\n",
       " ['제', '가', '계약자', '예요', '.'],\n",
       " ['너무', '혼란', '했', '나', '봐요', '.'],\n",
       " ['공표', '해', '주', '세요', '.'],\n",
       " ['그날', '그날', '조금', '씩', '더', '똑똑', '해', '질', '거', '예요', '.'],\n",
       " ['깨끗', '한', '물', '이', '라도', '한', '잔', '드세요'],\n",
       " ['초콜릿', '먹', '어', '보', '세요'],\n",
       " ['적절', '해요', '.'],\n",
       " ['평가', '치가', '높', '나', '봅니다', '.'],\n",
       " ['소화제', '챙겨', '드세요', '.'],\n",
       " ['과식', '은', '금물', '이', '라면서', '.'],\n",
       " ['소화제', '드세요', '.'],\n",
       " ['제', '가', '생각', '해도', '저', '는', '너무', '멋있', '는', '거', '같', '은가', '.'],\n",
       " ['하나', '씩', '하', '일일이', '.'],\n",
       " ['좀', '쉬', 'ㄹ게', '.'],\n",
       " ['남', '과', '구별', '하', '지', '마세요', '.'],\n",
       " ['더', '조용히', '노력', '하', '겠', '습니다', '.'],\n",
       " ['자식', '는', '자식', '다워야', '아름답', '죠', '.'],\n",
       " ['철', '은', '죽', '을', '때', '들어도', '돼요', '.'],\n",
       " ['피할', '수', '있', '으니', '피하', '고', '싶', '은', '사람', '이', '네요', '.'],\n",
       " ['그때', '많이', '위축', '된', '상태', '인', '것', '같', '습니다', '.'],\n",
       " ['잊', '는', '동안', '많', '은', '생각', '이', '들', '었', '겠', '네요', '.'],\n",
       " ['외로우', 'ㄹ까', '사람', '이', '다', '.'],\n",
       " ['배울', '점', '은', '가르치', '세요', '.'],\n",
       " ['낮잠', '을', '잠깐', '자', '도', '아쉽', '아요', '.'],\n",
       " ['잘', '하', '고', '있', '습니다만', '.', '당당', '해', '지', '세요', '.'],\n",
       " ['겨울', '에', '는', '귤', '먹', '으면서', '집', '에', '있', '는', '게', '최초', '죠'],\n",
       " ['어서', '따듯', '한', '곳', '으로', '가', 'ㅂ니다'],\n",
       " ['예의', '는', '지켜', '주', '드시', '.'],\n",
       " ['예의', '는', '지켜', '주', '소서', '.'],\n",
       " ['뭐', '이나마', '드세요', '.'],\n",
       " ['휴가', '가', '상냥', '하', '겠', '네요', '.'],\n",
       " ['고생', '많', '았', '나요', '.'],\n",
       " ['잘', '파악', '되', '길', '바랄게요', '.'],\n",
       " ['저', '는', '고민', '이', '없', '네요', '.'],\n",
       " ['저', '는', '위', '로', '봇', '입니다', '.'],\n",
       " ['사상사', '좀', '해야', '겠', '네여', '.'],\n",
       " ['외로우', 'ㅂ니다만', '사람', '이', '다', '.'],\n",
       " ['꾸준히', '치료', '하', '소서', '.'],\n",
       " ['다치', '지', '않', '으셨', '나', '후회', '이', '네요', '.'],\n",
       " ['조심', '하', 'ㅂ시오', '.'],\n",
       " ['기분', '재편', '을', '해', '보', '세요', '.'],\n",
       " ['인문학', '적', '인', '선물', '이', '라', '괜찮', '을', '거', '예요', '.'],\n",
       " ['실용', '적', '인', '증정', '이', '라', '괜찮', '을', '거', '예요', '.'],\n",
       " ['놀', '때', '놀', '고', '할', '때', '하', 'ㅂ시다', '.'],\n",
       " ['곡', '연습', '을', '해', '보', '세요', '.'],\n",
       " ['노래', '리허설', '꾸준히', '해', '보', '세요', '.'],\n",
       " ['저', '도', '부러워요', '.'],\n",
       " ['저', '도', '부러워요', '.'],\n",
       " ['즐거운', '시간', '이', '될', '거', '같', '은가'],\n",
       " ['힘차', '는', '노래', '로', '분위기', '를', '띄', '어', '보', '세요', '.'],\n",
       " ['달달', '한', '히트곡', '요', '.'],\n",
       " ['노래', '연습', '을', '해', '보', 'ㅂ시다', '.'],\n",
       " ['달달', '한', '곡', '요', '.'],\n",
       " ['잘못', '된', '알고리즘', '을', '하', '고', '있', '는', '건', '아닌지', '살펴보', '세요', '.'],\n",
       " ['광범위', '한', '건', '노력', '하', '는', '과정', '이', '에요', '.'],\n",
       " ['잘못', '된', '수법', '을', '하', '고', '있', '는', '건', '아닌지', '살펴보', '세요', '.'],\n",
       " ['남', '이', '니', '대뇌', '쓰', '지', '마세요', '.'],\n",
       " ['힘들', '겠', '더군요', '.'],\n",
       " ['일쑤', '겠', '네요', '.'],\n",
       " ['쏭', '적', '으로', '하', '는', '게', '좋', '죠', '.'],\n",
       " ['그럴', '때', '는', '말기', '화', '하', '는', '게', '속', '시원', '해요', '.'],\n",
       " ['워크스테이션', '은', '비싸', '요', '.'],\n",
       " ['그럴', '때', '는', '말엽', '화', '하', '는', '게', '속', '시원', '해요', '.'],\n",
       " ['폐차', '는', '지금', '부터', '준비', '하', '는', '게', '좋', '죠', '.'],\n",
       " ['노후', '는', '예전', '부터', '준비', '하', '는', '게', '좋', '죠', '.'],\n",
       " ['드', '시', '는', '거', '보', '기', '만', '하지', '좋', '아요', '.'],\n",
       " ['드', '시', '는', '거', '보', '기', '만', '길지', '좋', '아요', '.'],\n",
       " ['어깨', '꾹꾹', '!', '힘내', 'ㅂ니다'],\n",
       " ['옆구리', '꾹꾹', '!', '힘내', '세요'],\n",
       " ['저', '야마', '!', '!'],\n",
       " ['주소', '알려', '주', 'ㅂ니다', '.'],\n",
       " ['혼자', '도', '좋', '군요', '.'],\n",
       " ['저', '도', '요', '!'],\n",
       " ['친구', '들', '과', '같이', '놀', '러', '가', 'ㅂ시다', '.'],\n",
       " ['절대', '그렇', '지', '않', '은가', '.'],\n",
       " ['부탁드리', '입니다', '.'],\n",
       " ['혼자', '도', '더불', '도', '잘', '지내', '는', '게', '좋', '죠', '.'],\n",
       " ['지금', '그러', '고', '있', '습니다만', '.'],\n",
       " ['현재', '그러', '고', '있', '어요', '.'],\n",
       " ['같이', '놀', '은지', '.'],\n",
       " ['로더', '하', '기', '좋', '은', '곳', '이', '죠', '.'],\n",
       " ['특별', '한', '자신감', '이', '될', '것', '같', '아요', '.'],\n",
       " ['특별', '한', '열정', '이', '될', '것', '같', '아요', '.'],\n",
       " ['다녀오', 'ㅂ니다', '!'],\n",
       " ...]"
      ]
     },
     "execution_count": 36,
     "metadata": {},
     "output_type": "execute_result"
    }
   ],
   "source": [
    "ans_corpus_aug"
   ]
  },
  {
   "cell_type": "code",
   "execution_count": 37,
   "id": "fddc180c",
   "metadata": {
    "scrolled": true
   },
   "outputs": [
    {
     "name": "stderr",
     "output_type": "stream",
     "text": [
      "<__array_function__ internals>:5: VisibleDeprecationWarning: Creating an ndarray from ragged nested sequences (which is a list-or-tuple of lists-or-tuples-or ndarrays with different lengths or shapes) is deprecated. If you meant to do this, you must specify 'dtype=object' when creating the ndarray.\n"
     ]
    }
   ],
   "source": [
    "enc_train = np.concatenate((que_corpus, que_corpus_aug), axis=0)\n",
    "dec_train = np.concatenate((ans_corpus, ans_corpus_aug), axis=0)\n",
    "\n",
    "dec_train = [[\"<start>\"] + sentence + [\"<end>\"] for sentence in dec_train]"
   ]
  },
  {
   "cell_type": "code",
   "execution_count": 38,
   "id": "5f5763c3",
   "metadata": {},
   "outputs": [],
   "source": [
    "num_words = None"
   ]
  },
  {
   "cell_type": "code",
   "execution_count": 39,
   "id": "3d3080de",
   "metadata": {},
   "outputs": [],
   "source": [
    "tokenizer = tf.keras.preprocessing.text.Tokenizer(filters='', num_words=num_words)"
   ]
  },
  {
   "cell_type": "code",
   "execution_count": 40,
   "id": "8a43fb4b",
   "metadata": {},
   "outputs": [],
   "source": [
    "corpus = np.concatenate((enc_train, dec_train), axis=0).tolist()"
   ]
  },
  {
   "cell_type": "code",
   "execution_count": 41,
   "id": "d40b3ba6",
   "metadata": {},
   "outputs": [],
   "source": [
    "tokenizer.fit_on_texts(corpus)"
   ]
  },
  {
   "cell_type": "code",
   "execution_count": 42,
   "id": "fe6ecdfc",
   "metadata": {},
   "outputs": [
    {
     "data": {
      "text/plain": [
       "9904"
      ]
     },
     "execution_count": 42,
     "metadata": {},
     "output_type": "execute_result"
    }
   ],
   "source": [
    "len(tokenizer.word_index)"
   ]
  },
  {
   "cell_type": "code",
   "execution_count": 43,
   "id": "41d9e5e3",
   "metadata": {},
   "outputs": [],
   "source": [
    "enc_train = tokenizer.texts_to_sequences(enc_train)\n",
    "dec_train = tokenizer.texts_to_sequences(dec_train)\n",
    "\n",
    "MAX_LEN = 17\n",
    "enc_train = tf.keras.preprocessing.sequence.pad_sequences(enc_train, maxlen=MAX_LEN, padding='post')\n",
    "dec_train = tf.keras.preprocessing.sequence.pad_sequences(dec_train, maxlen=MAX_LEN, padding='post')"
   ]
  },
  {
   "cell_type": "code",
   "execution_count": 44,
   "id": "9fd8f6f3",
   "metadata": {},
   "outputs": [
    {
     "data": {
      "text/plain": [
       "array([[2473,  152, 3796, ...,    0,    0,    0],\n",
       "       [ 251, 3797,  603, ...,    0,    0,    0],\n",
       "       [ 264, 2474,  576, ...,    0,    0,    0],\n",
       "       ...,\n",
       "       [6794,   13,   51, ...,    0,    0,    0],\n",
       "       [ 179,  138,   14, ...,    0,    0,    0],\n",
       "       [  75,  296,  187, ...,    0,    0,    0]], dtype=int32)"
      ]
     },
     "execution_count": 44,
     "metadata": {},
     "output_type": "execute_result"
    }
   ],
   "source": [
    "enc_train"
   ]
  },
  {
   "cell_type": "code",
   "execution_count": 45,
   "id": "7b6f72f8",
   "metadata": {},
   "outputs": [
    {
     "data": {
      "text/plain": [
       "((43636, 17), (43636, 17))"
      ]
     },
     "execution_count": 45,
     "metadata": {},
     "output_type": "execute_result"
    }
   ],
   "source": [
    "enc_train.shape, dec_train.shape"
   ]
  },
  {
   "cell_type": "code",
   "execution_count": 46,
   "id": "a124a4db",
   "metadata": {},
   "outputs": [
    {
     "data": {
      "text/plain": [
       "array([[2473,  152, 3796,   70,    0,    0,    0,    0,    0,    0,    0,\n",
       "           0,    0,    0,    0,    0,    0],\n",
       "       [ 251, 3797,  603,  933,    9,    0,    0,    0,    0,    0,    0,\n",
       "           0,    0,    0,    0,    0,    0],\n",
       "       [ 264, 2474,  576,   55,  178,  215,    7,   10,   33,   27,    0,\n",
       "           0,    0,    0,    0,    0,    0],\n",
       "       [ 264, 2474,  576,   55,  503,  178,  215,    7,   10,   33,   27,\n",
       "           0,    0,    0,    0,    0,    0],\n",
       "       [5491, 1100,   34,    0,    0,    0,    0,    0,    0,    0,    0,\n",
       "           0,    0,    0,    0,    0,    0]], dtype=int32)"
      ]
     },
     "execution_count": 46,
     "metadata": {},
     "output_type": "execute_result"
    }
   ],
   "source": [
    "enc_train[:5]"
   ]
  },
  {
   "cell_type": "code",
   "execution_count": null,
   "id": "b59ac6be",
   "metadata": {},
   "outputs": [],
   "source": []
  },
  {
   "cell_type": "code",
   "execution_count": null,
   "id": "aa909e06",
   "metadata": {},
   "outputs": [],
   "source": []
  },
  {
   "cell_type": "markdown",
   "id": "998d417a",
   "metadata": {},
   "source": [
    "## Step 6. 훈련하기\n",
    "앞서 번역 모델을 훈련하며 정의한 Transformer 를 그대로 사용하시면 됩니다! 대신 데이터의 크기가 작으니 하이퍼파라미터를 튜닝해야 과적합을 피할 수 있습니다. 모델을 훈련하고 아래 예문에 대한 답변을 생성하세요! 가장 멋진 답변과 모델의 하이퍼파라미터를 제출하시면 됩니다."
   ]
  },
  {
   "cell_type": "code",
   "execution_count": 47,
   "id": "2c2fcb5d",
   "metadata": {},
   "outputs": [],
   "source": [
    "# Positional Encoding 구현\n",
    "\n",
    "def positional_encoding(pos, d_model):\n",
    "    def cal_angle(position, i):\n",
    "        return position / np.power(10000, (2*(i//2)) / np.float32(d_model))\n",
    "\n",
    "    def get_posi_angle_vec(position):\n",
    "        return [cal_angle(position, i) for i in range(d_model)]\n",
    "\n",
    "    sinusoid_table = np.array([get_posi_angle_vec(pos_i) for pos_i in range(pos)])\n",
    "\n",
    "    sinusoid_table[:, 0::2] = np.sin(sinusoid_table[:, 0::2])\n",
    "    sinusoid_table[:, 1::2] = np.cos(sinusoid_table[:, 1::2])\n",
    "\n",
    "    return sinusoid_table\n",
    "\n",
    "# Mask  생성하기\n",
    "def generate_padding_mask(seq):\n",
    "    seq = tf.cast(tf.math.equal(seq, 0), tf.float32)\n",
    "    return seq[:, tf.newaxis, tf.newaxis, :]\n",
    "\n",
    "def generate_lookahead_mask(size):\n",
    "    mask = 1 - tf.linalg.band_part(tf.ones((size, size)), -1, 0)\n",
    "    return mask\n",
    "\n",
    "def generate_masks(src, tgt):\n",
    "    enc_mask = generate_padding_mask(src)\n",
    "    dec_enc_mask = generate_padding_mask(src)\n",
    "\n",
    "    dec_lookahead_mask = generate_lookahead_mask(tgt.shape[1])\n",
    "    dec_tgt_padding_mask = generate_padding_mask(tgt)\n",
    "    dec_mask = tf.maximum(dec_tgt_padding_mask, dec_lookahead_mask)\n",
    "\n",
    "    return enc_mask, dec_enc_mask, dec_mask\n",
    "\n",
    "# Multi Head Attention 구현\n",
    "class MultiHeadAttention(tf.keras.layers.Layer):\n",
    "    def __init__(self, d_model, num_heads):\n",
    "        super(MultiHeadAttention, self).__init__()\n",
    "        self.num_heads = num_heads\n",
    "        self.d_model = d_model\n",
    "        \n",
    "        self.depth = d_model // self.num_heads\n",
    "        \n",
    "        self.W_q = tf.keras.layers.Dense(d_model)\n",
    "        self.W_k = tf.keras.layers.Dense(d_model)\n",
    "        self.W_v = tf.keras.layers.Dense(d_model)\n",
    "        \n",
    "        self.linear = tf.keras.layers.Dense(d_model)\n",
    "\n",
    "    def scaled_dot_product_attention(self, Q, K, V, mask):\n",
    "        d_k = tf.cast(K.shape[-1], tf.float32)\n",
    "        QK = tf.matmul(Q, K, transpose_b=True)\n",
    "\n",
    "        scaled_qk = QK / tf.math.sqrt(d_k)\n",
    "\n",
    "        if mask is not None: scaled_qk += (mask * -1e9)  \n",
    "\n",
    "        attentions = tf.nn.softmax(scaled_qk, axis=-1)\n",
    "        out = tf.matmul(attentions, V)\n",
    "\n",
    "        return out, attentions\n",
    "        \n",
    "\n",
    "    def split_heads(self, x):\n",
    "        bsz = x.shape[0]\n",
    "        split_x = tf.reshape(x, (bsz, -1, self.num_heads, self.depth))\n",
    "        split_x = tf.transpose(split_x, perm=[0, 2, 1, 3])\n",
    "\n",
    "        return split_x\n",
    "\n",
    "    def combine_heads(self, x):\n",
    "        bsz = x.shape[0]\n",
    "        combined_x = tf.transpose(x, perm=[0, 2, 1, 3])\n",
    "        combined_x = tf.reshape(combined_x, (bsz, -1, self.d_model))\n",
    "\n",
    "        return combined_x\n",
    "\n",
    "    \n",
    "    def call(self, Q, K, V, mask):\n",
    "        WQ = self.W_q(Q)\n",
    "        WK = self.W_k(K)\n",
    "        WV = self.W_v(V)\n",
    "        \n",
    "        WQ_splits = self.split_heads(WQ)\n",
    "        WK_splits = self.split_heads(WK)\n",
    "        WV_splits = self.split_heads(WV)\n",
    "        \n",
    "        out, attention_weights = self.scaled_dot_product_attention(\n",
    "            WQ_splits, WK_splits, WV_splits, mask)\n",
    "                        \n",
    "        out = self.combine_heads(out)\n",
    "        out = self.linear(out)\n",
    "            \n",
    "        return out, attention_weights\n",
    "    \n",
    "# Position-wise Feed Forward Network 구현\n",
    "class PoswiseFeedForwardNet(tf.keras.layers.Layer):\n",
    "    def __init__(self, d_model, d_ff):\n",
    "        super(PoswiseFeedForwardNet, self).__init__()\n",
    "        self.d_model = d_model\n",
    "        self.d_ff = d_ff\n",
    "\n",
    "        self.fc1 = tf.keras.layers.Dense(d_ff, activation='relu')\n",
    "        self.fc2 = tf.keras.layers.Dense(d_model)\n",
    "\n",
    "    def call(self, x):\n",
    "        out = self.fc1(x)\n",
    "        out = self.fc2(out)\n",
    "            \n",
    "        return out\n",
    "    \n",
    "# Encoder의 레이어 구현\n",
    "class EncoderLayer(tf.keras.layers.Layer):\n",
    "    def __init__(self, d_model, n_heads, d_ff, dropout):\n",
    "        super(EncoderLayer, self).__init__()\n",
    "\n",
    "        self.enc_self_attn = MultiHeadAttention(d_model, n_heads)\n",
    "        self.ffn = PoswiseFeedForwardNet(d_model, d_ff)\n",
    "\n",
    "        self.norm_1 = tf.keras.layers.LayerNormalization(epsilon=1e-6)\n",
    "        self.norm_2 = tf.keras.layers.LayerNormalization(epsilon=1e-6)\n",
    "\n",
    "        self.do = tf.keras.layers.Dropout(dropout)\n",
    "        \n",
    "    def call(self, x, mask):\n",
    "        '''\n",
    "        Multi-Head Attention\n",
    "        '''\n",
    "        residual = x\n",
    "        out = self.norm_1(x)\n",
    "        out, enc_attn = self.enc_self_attn(out, out, out, mask)\n",
    "        out = self.do(out)\n",
    "        out += residual\n",
    "        \n",
    "        '''\n",
    "        Position-Wise Feed Forward Network\n",
    "        '''\n",
    "        residual = out\n",
    "        out = self.norm_2(out)\n",
    "        out = self.ffn(out)\n",
    "        out = self.do(out)\n",
    "        out += residual\n",
    "        \n",
    "        return out, enc_attn\n",
    "    \n",
    "# Decoder 레이어 구현\n",
    "class DecoderLayer(tf.keras.layers.Layer):\n",
    "    def __init__(self, d_model, num_heads, d_ff, dropout):\n",
    "        super(DecoderLayer, self).__init__()\n",
    "\n",
    "        self.dec_self_attn = MultiHeadAttention(d_model, num_heads)\n",
    "        self.enc_dec_attn = MultiHeadAttention(d_model, num_heads)\n",
    "\n",
    "        self.ffn = PoswiseFeedForwardNet(d_model, d_ff)\n",
    "\n",
    "        self.norm_1 = tf.keras.layers.LayerNormalization(epsilon=1e-6)\n",
    "        self.norm_2 = tf.keras.layers.LayerNormalization(epsilon=1e-6)\n",
    "        self.norm_3 = tf.keras.layers.LayerNormalization(epsilon=1e-6)\n",
    "\n",
    "        self.do = tf.keras.layers.Dropout(dropout)\n",
    "    \n",
    "    def call(self, x, enc_out, dec_enc_mask, padding_mask):\n",
    "        '''\n",
    "        Masked Multi-Head Attention\n",
    "        '''\n",
    "        residual = x\n",
    "        out = self.norm_1(x)\n",
    "        out, dec_attn = self.dec_self_attn(out, out, out, padding_mask)\n",
    "        out = self.do(out)\n",
    "        out += residual\n",
    "\n",
    "        '''\n",
    "        Multi-Head Attention\n",
    "        '''\n",
    "        residual = out\n",
    "        out = self.norm_2(out)\n",
    "        # Q, K, V 순서에 주의하세요!\n",
    "        out, dec_enc_attn = self.enc_dec_attn(Q=out, K=enc_out, V=enc_out, mask=dec_enc_mask)\n",
    "        out = self.do(out)\n",
    "        out += residual\n",
    "        \n",
    "        '''\n",
    "        Position-Wise Feed Forward Network\n",
    "        '''\n",
    "        residual = out\n",
    "        out = self.norm_3(out)\n",
    "        out = self.ffn(out)\n",
    "        out = self.do(out)\n",
    "        out += residual\n",
    "\n",
    "        return out, dec_attn, dec_enc_attn\n",
    "    \n",
    "# Encoder 구현\n",
    "class Encoder(tf.keras.Model):\n",
    "    def __init__(self,\n",
    "                    n_layers,\n",
    "                    d_model,\n",
    "                    n_heads,\n",
    "                    d_ff,\n",
    "                    dropout):\n",
    "        super(Encoder, self).__init__()\n",
    "        self.n_layers = n_layers\n",
    "        self.enc_layers = [EncoderLayer(d_model, n_heads, d_ff, dropout) \n",
    "                        for _ in range(n_layers)]\n",
    "    \n",
    "        self.do = tf.keras.layers.Dropout(dropout)\n",
    "        \n",
    "    def call(self, x, mask):\n",
    "        out = x\n",
    "    \n",
    "        enc_attns = list()\n",
    "        for i in range(self.n_layers):\n",
    "            out, enc_attn = self.enc_layers[i](out, mask)\n",
    "            enc_attns.append(enc_attn)\n",
    "        \n",
    "        return out, enc_attns\n",
    "    \n",
    "# Decoder 구현\n",
    "class Decoder(tf.keras.Model):\n",
    "    def __init__(self,\n",
    "                    n_layers,\n",
    "                    d_model,\n",
    "                    n_heads,\n",
    "                    d_ff,\n",
    "                    dropout):\n",
    "        super(Decoder, self).__init__()\n",
    "        self.n_layers = n_layers\n",
    "        self.dec_layers = [DecoderLayer(d_model, n_heads, d_ff, dropout) \n",
    "                            for _ in range(n_layers)]\n",
    "                            \n",
    "    def call(self, x, enc_out, dec_enc_mask, padding_mask):\n",
    "        out = x\n",
    "    \n",
    "        dec_attns = list()\n",
    "        dec_enc_attns = list()\n",
    "        for i in range(self.n_layers):\n",
    "            out, dec_attn, dec_enc_attn = \\\n",
    "            self.dec_layers[i](out, enc_out, dec_enc_mask, padding_mask)\n",
    "\n",
    "            dec_attns.append(dec_attn)\n",
    "            dec_enc_attns.append(dec_enc_attn)\n",
    "\n",
    "        return out, dec_attns, dec_enc_attns\n",
    "    \n",
    "class Transformer(tf.keras.Model):\n",
    "    def __init__(self,\n",
    "                    n_layers,\n",
    "                    d_model,\n",
    "                    n_heads,\n",
    "                    d_ff,\n",
    "                    src_vocab_size,\n",
    "                    tgt_vocab_size,\n",
    "                    pos_len,\n",
    "                    dropout=0.2,\n",
    "                    shared_fc=True,\n",
    "                    shared_emb=False):\n",
    "        super(Transformer, self).__init__()\n",
    "        \n",
    "        self.d_model = tf.cast(d_model, tf.float32)\n",
    "\n",
    "        if shared_emb:\n",
    "            self.enc_emb = self.dec_emb = \\\n",
    "            tf.keras.layers.Embedding(src_vocab_size, d_model)\n",
    "        else:\n",
    "            self.enc_emb = tf.keras.layers.Embedding(src_vocab_size, d_model)\n",
    "            self.dec_emb = tf.keras.layers.Embedding(tgt_vocab_size, d_model)\n",
    "\n",
    "        self.pos_encoding = positional_encoding(pos_len, d_model)\n",
    "        self.do = tf.keras.layers.Dropout(dropout)\n",
    "\n",
    "        self.encoder = Encoder(n_layers, d_model, n_heads, d_ff, dropout)\n",
    "        self.decoder = Decoder(n_layers, d_model, n_heads, d_ff, dropout)\n",
    "\n",
    "        self.fc = tf.keras.layers.Dense(tgt_vocab_size)\n",
    "\n",
    "        self.shared_fc = shared_fc\n",
    "\n",
    "        if shared_fc:\n",
    "            self.fc.set_weights(tf.transpose(self.dec_emb.weights))\n",
    "\n",
    "    def embedding(self, emb, x):\n",
    "        seq_len = x.shape[1]\n",
    "\n",
    "        out = emb(x)\n",
    "\n",
    "        if self.shared_fc: out *= tf.math.sqrt(self.d_model)\n",
    "\n",
    "        out += self.pos_encoding[np.newaxis, ...][:, :seq_len, :]\n",
    "        out = self.do(out)\n",
    "\n",
    "        return out\n",
    "\n",
    "        \n",
    "    def call(self, enc_in, dec_in, enc_mask, dec_enc_mask, dec_mask):\n",
    "        enc_in = self.embedding(self.enc_emb, enc_in)\n",
    "        dec_in = self.embedding(self.dec_emb, dec_in)\n",
    "\n",
    "        enc_out, enc_attns = self.encoder(enc_in, enc_mask)\n",
    "        \n",
    "        dec_out, dec_attns, dec_enc_attns = \\\n",
    "        self.decoder(dec_in, enc_out, dec_enc_mask, dec_mask)\n",
    "        \n",
    "        logits = self.fc(dec_out)\n",
    "        \n",
    "        return logits, enc_attns, dec_attns, dec_enc_attns"
   ]
  },
  {
   "cell_type": "code",
   "execution_count": 48,
   "id": "2c51ca34",
   "metadata": {},
   "outputs": [],
   "source": [
    "# Learning Rate Scheduler 구현\n",
    "\n",
    "class LearningRateScheduler(tf.keras.optimizers.schedules.LearningRateSchedule):\n",
    "    def __init__(self, d_model, warmup_steps=1000):\n",
    "        super(LearningRateScheduler, self).__init__()\n",
    "        \n",
    "        self.d_model = d_model\n",
    "        self.warmup_steps = warmup_steps\n",
    "    \n",
    "    def __call__(self, step):\n",
    "        arg1 = step ** -0.5\n",
    "        arg2 = step * (self.warmup_steps ** -1.5)\n",
    "        \n",
    "        return (self.d_model ** -0.5) * tf.math.minimum(arg1, arg2)\n",
    "    \n",
    "# Learning Rate 인스턴스 선언 & Optimizer 구현\n",
    "D_MODEL = 256\n",
    "learning_rate = LearningRateScheduler(D_MODEL)\n",
    "optimizer = tf.keras.optimizers.Adam(learning_rate,\n",
    "                                        beta_1=0.9,\n",
    "                                        beta_2=0.98, \n",
    "                                        epsilon=1e-9)\n",
    "\n",
    "# Loss Function 정의\n",
    "loss_object = tf.keras.losses.SparseCategoricalCrossentropy(\n",
    "    from_logits=True, reduction='none')\n",
    "\n",
    "def loss_function(real, pred):\n",
    "    mask = tf.math.logical_not(tf.math.equal(real, 0))\n",
    "    loss_ = loss_object(real, pred)\n",
    "\n",
    "    mask = tf.cast(mask, dtype=loss_.dtype)\n",
    "    loss_ *= mask\n",
    "\n",
    "    return tf.reduce_sum(loss_)/tf.reduce_sum(mask)"
   ]
  },
  {
   "cell_type": "code",
   "execution_count": 49,
   "id": "702ac69f",
   "metadata": {},
   "outputs": [],
   "source": [
    "# Train Step 정의\n",
    "@tf.function()\n",
    "def train_step(src, tgt, model, optimizer):\n",
    "    gold = tgt[:, 1:]\n",
    "        \n",
    "    enc_mask, dec_enc_mask, dec_mask = generate_masks(src, tgt)\n",
    "\n",
    "    # 계산된 loss에 tf.GradientTape()를 적용해 학습을 진행합니다.\n",
    "    with tf.GradientTape() as tape:\n",
    "        predictions, enc_attns, dec_attns, dec_enc_attns = \\\n",
    "            model(src, tgt, enc_mask, dec_enc_mask, dec_mask)\n",
    "        loss = loss_function(gold, predictions[:, :-1])\n",
    "\n",
    "    # 최종적으로 optimizer.apply_gradients()가 사용됩니다. \n",
    "    gradients = tape.gradient(loss, model.trainable_variables)\n",
    "    optimizer.apply_gradients(zip(gradients, model.trainable_variables))\n",
    "    \n",
    "    return loss, enc_attns, dec_attns, dec_enc_attns"
   ]
  },
  {
   "cell_type": "code",
   "execution_count": 50,
   "id": "1f33ed7e",
   "metadata": {},
   "outputs": [],
   "source": [
    "D_MODEL = 256\n",
    "N_LAYERS = 2\n",
    "N_HEADS = 4\n",
    "D_FF = 512\n",
    "POS_LEN = MAX_LEN\n",
    "DROPOUT = 0.5"
   ]
  },
  {
   "cell_type": "code",
   "execution_count": 51,
   "id": "c4bc473f",
   "metadata": {},
   "outputs": [],
   "source": [
    "VOCAB_SIZE = len(tokenizer.word_index) + 1"
   ]
  },
  {
   "cell_type": "code",
   "execution_count": 52,
   "id": "4d6ca84c",
   "metadata": {},
   "outputs": [],
   "source": [
    "tf.keras.backend.clear_session()\n",
    "\n",
    "# 주어진 하이퍼파라미터로 Transformer 인스턴스 생성\n",
    "transformer = Transformer(\n",
    "    n_layers = N_LAYERS,\n",
    "    d_model = D_MODEL,\n",
    "    n_heads = N_HEADS,\n",
    "    d_ff = D_FF,\n",
    "    src_vocab_size=VOCAB_SIZE,\n",
    "    tgt_vocab_size=VOCAB_SIZE,\n",
    "    pos_len=POS_LEN,\n",
    "    dropout=DROPOUT,\n",
    "    shared_fc=False,\n",
    "    shared_emb=False)"
   ]
  },
  {
   "cell_type": "code",
   "execution_count": 53,
   "id": "960d9375",
   "metadata": {},
   "outputs": [
    {
     "data": {
      "text/plain": [
       "((43636, 17), (43636, 17))"
      ]
     },
     "execution_count": 53,
     "metadata": {},
     "output_type": "execute_result"
    }
   ],
   "source": [
    "enc_train.shape, dec_train.shape"
   ]
  },
  {
   "cell_type": "code",
   "execution_count": 61,
   "id": "91a0d268",
   "metadata": {},
   "outputs": [],
   "source": [
    "def translate(sentence, model, tokenizer):\n",
    "    sos_idx = tokenizer.word_index['<start>']\n",
    "    eos_idx = tokenizer.word_index['<end>']\n",
    "\n",
    "    sentence = preprocess_sentence(sentence)\n",
    "\n",
    "    m = Mecab()\n",
    "    sentence = m.morphs(sentence)\n",
    "\n",
    "    _input = tokenizer.texts_to_sequences([sentence])\n",
    "    _input = tf.keras.preprocessing.sequence.pad_sequences(\n",
    "        _input,\n",
    "        maxlen=MAX_LEN,\n",
    "        padding='post'\n",
    "    )\n",
    "\n",
    "    ids = []\n",
    "    output = tf.expand_dims([sos_idx], 0)\n",
    "\n",
    "    for i in range(MAX_LEN):\n",
    "        enc_padding_mask, combined_mask, dec_padding_mask = generate_masks(\n",
    "            _input, output\n",
    "        )\n",
    "\n",
    "        predictions, enc_attns, dec_attns, dec_enc_attns = model(\n",
    "            _input, output, enc_padding_mask, combined_mask, dec_padding_mask\n",
    "        )\n",
    "\n",
    "        predicted_id = tf.argmax(\n",
    "            tf.math.softmax(predictions, axis=-1)[0, -1]\n",
    "        ).numpy().item()\n",
    "\n",
    "        if predicted_id == eos_idx:\n",
    "            result = tokenizer.sequences_to_texts([ids])\n",
    "            return result\n",
    "\n",
    "        ids.append(predicted_id)\n",
    "        output = tf.concat([output, tf.expand_dims([predicted_id], 0)], axis=-1)\n",
    "    result = tokenizer.sequences_to_texts([ids])\n",
    "    return result"
   ]
  },
  {
   "cell_type": "code",
   "execution_count": 62,
   "id": "2290ceca",
   "metadata": {},
   "outputs": [],
   "source": [
    "def translate_vect(sentence, model, tokenizer):\n",
    "    sos_idx = tokenizer.word_index['<start>']\n",
    "    eos_idx = tokenizer.word_index['<end>']\n",
    "\n",
    "    _input = sentence.reshape(1,-1)\n",
    "\n",
    "    ids = []\n",
    "    output = tf.expand_dims([sos_idx], 0)\n",
    "\n",
    "    for i in range(MAX_LEN):\n",
    "        enc_padding_mask, combined_mask, dec_padding_mask = generate_masks(\n",
    "            _input, output\n",
    "        )\n",
    "\n",
    "        predictions, enc_attns, dec_attns, dec_enc_attns = model(\n",
    "            _input, output, enc_padding_mask, combined_mask, dec_padding_mask\n",
    "        )\n",
    "\n",
    "        predicted_id = tf.argmax(\n",
    "            tf.math.softmax(predictions, axis=-1)[0, -1]\n",
    "        ).numpy().item()\n",
    "\n",
    "        if predicted_id == eos_idx:\n",
    "            result = tokenizer.sequences_to_texts([ids])\n",
    "            return result\n",
    "\n",
    "        ids.append(predicted_id)\n",
    "        output = tf.concat([output, tf.expand_dims([predicted_id], 0)], axis=-1)\n",
    "    result = tokenizer.sequences_to_texts([ids])\n",
    "    return result"
   ]
  },
  {
   "cell_type": "code",
   "execution_count": 63,
   "id": "ab9b9324",
   "metadata": {
    "scrolled": false
   },
   "outputs": [
    {
     "name": "stderr",
     "output_type": "stream",
     "text": [
      "/tmp/ipykernel_2272/3863982956.py:21: TqdmDeprecationWarning: This function will be removed in tqdm==5.0.0\n",
      "Please use `tqdm.notebook.tqdm` instead of `tqdm.tqdm_notebook`\n",
      "  t = tqdm_notebook(idx_list)\n"
     ]
    },
    {
     "data": {
      "application/vnd.jupyter.widget-view+json": {
       "model_id": "3ac140c67bbe4471943b4db09e25b092",
       "version_major": 2,
       "version_minor": 0
      },
      "text/plain": [
       "  0%|          | 0/682 [00:00<?, ?it/s]"
      ]
     },
     "metadata": {},
     "output_type": "display_data"
    },
    {
     "name": "stdout",
     "output_type": "stream",
     "text": [
      "Question: 지루하다, 놀러가고 싶어.                \tAnswer: 좋 을 는 좋 을 거 예요 .              \n",
      "Question: 오늘 일찍 일어났더니 피곤하다.             \tAnswer: 좋 을 는 좋 을 거 예요 .              \n",
      "Question: 간만에 여자친구랑 데이트 하기로 했어.         \tAnswer: 좋 을 는 좋 을 거 예요 .              \n",
      "Question: 집에 있는다는 소리야.                  \tAnswer: 좋 을 는 좋 을 거 예요 .              \n"
     ]
    },
    {
     "data": {
      "application/vnd.jupyter.widget-view+json": {
       "model_id": "8bfb3cca96be471b98461efa2cf3e882",
       "version_major": 2,
       "version_minor": 0
      },
      "text/plain": [
       "  0%|          | 0/682 [00:00<?, ?it/s]"
      ]
     },
     "metadata": {},
     "output_type": "display_data"
    },
    {
     "name": "stdout",
     "output_type": "stream",
     "text": [
      "Question: 지루하다, 놀러가고 싶어.                \tAnswer: 좋 은 소식 이 에요 .                 \n",
      "Question: 오늘 일찍 일어났더니 피곤하다.             \tAnswer: 마음 이 복잡 하 겠 어요 .              \n",
      "Question: 간만에 여자친구랑 데이트 하기로 했어.         \tAnswer: 마음 이 복잡 하 는 게 좋 아요 .          \n",
      "Question: 집에 있는다는 소리야.                  \tAnswer: 좋 은 만남 이 에요 .                 \n"
     ]
    },
    {
     "data": {
      "application/vnd.jupyter.widget-view+json": {
       "model_id": "ea1cd38650ed4fa5b1ec5d4c080f8d5e",
       "version_major": 2,
       "version_minor": 0
      },
      "text/plain": [
       "  0%|          | 0/682 [00:00<?, ?it/s]"
      ]
     },
     "metadata": {},
     "output_type": "display_data"
    },
    {
     "name": "stdout",
     "output_type": "stream",
     "text": [
      "Question: 지루하다, 놀러가고 싶어.                \tAnswer: 마음 이 라도 가 있 어요 .              \n",
      "Question: 오늘 일찍 일어났더니 피곤하다.             \tAnswer: 좋 은 걸 거 예요 .                  \n",
      "Question: 간만에 여자친구랑 데이트 하기로 했어.         \tAnswer: 마음 이 복잡 하 겠 네요 .              \n",
      "Question: 집에 있는다는 소리야.                  \tAnswer: 좋 은 걸 수 있 어요 .                \n"
     ]
    },
    {
     "data": {
      "application/vnd.jupyter.widget-view+json": {
       "model_id": "9d46207e0fa14e43a8ae001ce49a352b",
       "version_major": 2,
       "version_minor": 0
      },
      "text/plain": [
       "  0%|          | 0/682 [00:00<?, ?it/s]"
      ]
     },
     "metadata": {},
     "output_type": "display_data"
    },
    {
     "name": "stdout",
     "output_type": "stream",
     "text": [
      "Question: 지루하다, 놀러가고 싶어.                \tAnswer: 좋 은 소식 이 네요 .                 \n",
      "Question: 오늘 일찍 일어났더니 피곤하다.             \tAnswer: 마음 이 복잡 하 게 되 길 바랄게요 .        \n",
      "Question: 간만에 여자친구랑 데이트 하기로 했어.         \tAnswer: 마음 이 복잡 하 지 않 았 어요 .          \n",
      "Question: 집에 있는다는 소리야.                  \tAnswer: 좋 아 하 는 시간 이 죠 .              \n"
     ]
    },
    {
     "data": {
      "application/vnd.jupyter.widget-view+json": {
       "model_id": "33b736233a2746ad9fe39f68b13419b0",
       "version_major": 2,
       "version_minor": 0
      },
      "text/plain": [
       "  0%|          | 0/682 [00:00<?, ?it/s]"
      ]
     },
     "metadata": {},
     "output_type": "display_data"
    },
    {
     "name": "stdout",
     "output_type": "stream",
     "text": [
      "Question: 지루하다, 놀러가고 싶어.                \tAnswer: 바쁜 것 같 은 것 이 네요 .             \n",
      "Question: 오늘 일찍 일어났더니 피곤하다.             \tAnswer: 마음 이 복잡 했 길 바랄게요 .            \n",
      "Question: 간만에 여자친구랑 데이트 하기로 했어.         \tAnswer: 마음 이 아프 겠 네요 .                \n",
      "Question: 집에 있는다는 소리야.                  \tAnswer: 벚꽃 계절 이 다가왔 도 있 죠 .           \n"
     ]
    },
    {
     "data": {
      "application/vnd.jupyter.widget-view+json": {
       "model_id": "a3c804ee14d84838bdc04a15de396b03",
       "version_major": 2,
       "version_minor": 0
      },
      "text/plain": [
       "  0%|          | 0/682 [00:00<?, ?it/s]"
      ]
     },
     "metadata": {},
     "output_type": "display_data"
    },
    {
     "name": "stdout",
     "output_type": "stream",
     "text": [
      "Question: 지루하다, 놀러가고 싶어.                \tAnswer: 또 다른 사랑 이 될 거 예요 .            \n",
      "Question: 오늘 일찍 일어났더니 피곤하다.             \tAnswer: 지칠 수 있 어 지 마세요 .              \n",
      "Question: 간만에 여자친구랑 데이트 하기로 했어.         \tAnswer: 그것 적 인 사랑 을 하 세요 .            \n",
      "Question: 집에 있는다는 소리야.                  \tAnswer: 왜 그럴까요 ?                      \n"
     ]
    },
    {
     "data": {
      "application/vnd.jupyter.widget-view+json": {
       "model_id": "df272868de074b7f9302a658e440332d",
       "version_major": 2,
       "version_minor": 0
      },
      "text/plain": [
       "  0%|          | 0/682 [00:00<?, ?it/s]"
      ]
     },
     "metadata": {},
     "output_type": "display_data"
    },
    {
     "name": "stdout",
     "output_type": "stream",
     "text": [
      "Question: 지루하다, 놀러가고 싶어.                \tAnswer: 정리 가 세요 .                     \n",
      "Question: 오늘 일찍 일어났더니 피곤하다.             \tAnswer: 마음 이 착잡 하 겠 어요 .              \n",
      "Question: 간만에 여자친구랑 데이트 하기로 했어.         \tAnswer: 마음 을 끄 세요 .                   \n",
      "Question: 집에 있는다는 소리야.                  \tAnswer: 저 도 힘들 겠 네요 .                 \n"
     ]
    },
    {
     "data": {
      "application/vnd.jupyter.widget-view+json": {
       "model_id": "2d86da690062472e835566fb0ee599d2",
       "version_major": 2,
       "version_minor": 0
      },
      "text/plain": [
       "  0%|          | 0/682 [00:00<?, ?it/s]"
      ]
     },
     "metadata": {},
     "output_type": "display_data"
    },
    {
     "name": "stdout",
     "output_type": "stream",
     "text": [
      "Question: 지루하다, 놀러가고 싶어.                \tAnswer: 아무리 은 시간 이 필요 하 죠 .           \n",
      "Question: 오늘 일찍 일어났더니 피곤하다.             \tAnswer: 마음 했 나 봐요 .                   \n",
      "Question: 간만에 여자친구랑 데이트 하기로 했어.         \tAnswer: 마음 의 서술 를 해야 하 겠 어요 .         \n",
      "Question: 집에 있는다는 소리야.                  \tAnswer: 놀 네요 .                        \n"
     ]
    },
    {
     "data": {
      "application/vnd.jupyter.widget-view+json": {
       "model_id": "3b302e4630d54956b99a1aecfaaf496e",
       "version_major": 2,
       "version_minor": 0
      },
      "text/plain": [
       "  0%|          | 0/682 [00:00<?, ?it/s]"
      ]
     },
     "metadata": {},
     "output_type": "display_data"
    },
    {
     "name": "stdout",
     "output_type": "stream",
     "text": [
      "Question: 지루하다, 놀러가고 싶어.                \tAnswer: 무슨 계기 가 있 어요 .                \n",
      "Question: 오늘 일찍 일어났더니 피곤하다.             \tAnswer: 마음 이 복잡 했 나 봐요 .              \n",
      "Question: 간만에 여자친구랑 데이트 하기로 했어.         \tAnswer: 사랑 은 마음 을 애정 해 보 세요 .         \n",
      "Question: 집에 있는다는 소리야.                  \tAnswer: 제 있 죠 .                       \n"
     ]
    },
    {
     "data": {
      "application/vnd.jupyter.widget-view+json": {
       "model_id": "d91614148aa94c14818c1bd6ec6500f6",
       "version_major": 2,
       "version_minor": 0
      },
      "text/plain": [
       "  0%|          | 0/682 [00:00<?, ?it/s]"
      ]
     },
     "metadata": {},
     "output_type": "display_data"
    },
    {
     "name": "stdout",
     "output_type": "stream",
     "text": [
      "Question: 지루하다, 놀러가고 싶어.                \tAnswer: 먼저 다가가 세요 .                   \n",
      "Question: 오늘 일찍 일어났더니 피곤하다.             \tAnswer: 마음 속 이 복잡 하 겠 어요 .            \n",
      "Question: 간만에 여자친구랑 데이트 하기로 했어.         \tAnswer: 먼저 말 해 보 세요 .                 \n",
      "Question: 집에 있는다는 소리야.                  \tAnswer: 저 랑 좋 아 졌 길 바라 요 .            \n"
     ]
    },
    {
     "data": {
      "application/vnd.jupyter.widget-view+json": {
       "model_id": "a479f00da0ca403da4b032a9fa8e7c3d",
       "version_major": 2,
       "version_minor": 0
      },
      "text/plain": [
       "  0%|          | 0/682 [00:00<?, ?it/s]"
      ]
     },
     "metadata": {},
     "output_type": "display_data"
    },
    {
     "name": "stdout",
     "output_type": "stream",
     "text": [
      "Question: 지루하다, 놀러가고 싶어.                \tAnswer: 어느덧 만날 준비 가 되 었 나 봐요 .        \n",
      "Question: 오늘 일찍 일어났더니 피곤하다.             \tAnswer: 지칠 만 이라도 했 나 봐요 .             \n",
      "Question: 간만에 여자친구랑 데이트 하기로 했어.         \tAnswer: 그것 도 좋 았 어서요 .                \n",
      "Question: 집에 있는다는 소리야.                  \tAnswer: 찾아가 는 그럴 수 도 있 어요 .           \n"
     ]
    },
    {
     "data": {
      "application/vnd.jupyter.widget-view+json": {
       "model_id": "ca5a71002f0540d8be24de3df93d3e1e",
       "version_major": 2,
       "version_minor": 0
      },
      "text/plain": [
       "  0%|          | 0/682 [00:00<?, ?it/s]"
      ]
     },
     "metadata": {},
     "output_type": "display_data"
    },
    {
     "name": "stdout",
     "output_type": "stream",
     "text": [
      "Question: 지루하다, 놀러가고 싶어.                \tAnswer: 먼저 다가가 보 소서 .                 \n",
      "Question: 오늘 일찍 일어났더니 피곤하다.             \tAnswer: 맛있 게 했 으면 맘고생 많 았 어요 .        \n",
      "Question: 간만에 여자친구랑 데이트 하기로 했어.         \tAnswer: 마음 의 정도 를 빠져 나오 세요 .          \n",
      "Question: 집에 있는다는 소리야.                  \tAnswer: 먼저 사람 들 이 즐겁 겠 네요 .           \n"
     ]
    },
    {
     "data": {
      "application/vnd.jupyter.widget-view+json": {
       "model_id": "e68d966e47cc465e8cd490d535389fd6",
       "version_major": 2,
       "version_minor": 0
      },
      "text/plain": [
       "  0%|          | 0/682 [00:00<?, ?it/s]"
      ]
     },
     "metadata": {},
     "output_type": "display_data"
    },
    {
     "name": "stdout",
     "output_type": "stream",
     "text": [
      "Question: 지루하다, 놀러가고 싶어.                \tAnswer: 어느덧 거나 가 계기 가 있 어요 .          \n",
      "Question: 오늘 일찍 일어났더니 피곤하다.             \tAnswer: 맛있 게 드세요 .                    \n",
      "Question: 간만에 여자친구랑 데이트 하기로 했어.         \tAnswer: 마음 의 준비 가 좋 겠 네요 .            \n",
      "Question: 집에 있는다는 소리야.                  \tAnswer: 찾아가 는 게 있 더군요 .               \n"
     ]
    },
    {
     "data": {
      "application/vnd.jupyter.widget-view+json": {
       "model_id": "a1e1cfa25cee4a469898f1410f3240b4",
       "version_major": 2,
       "version_minor": 0
      },
      "text/plain": [
       "  0%|          | 0/682 [00:00<?, ?it/s]"
      ]
     },
     "metadata": {},
     "output_type": "display_data"
    },
    {
     "name": "stdout",
     "output_type": "stream",
     "text": [
      "Question: 지루하다, 놀러가고 싶어.                \tAnswer: 꼭 정리 해 봐요 .                   \n",
      "Question: 오늘 일찍 일어났더니 피곤하다.             \tAnswer: 맛있 게 놀 아요 .                   \n",
      "Question: 간만에 여자친구랑 데이트 하기로 했어.         \tAnswer: 마음 의 선택 에 바 라요 .              \n",
      "Question: 집에 있는다는 소리야.                  \tAnswer: 지금 사람 이 즐겁 겠 네요 .             \n"
     ]
    },
    {
     "data": {
      "application/vnd.jupyter.widget-view+json": {
       "model_id": "de0b72c94ac84264bdb453284a0f19c2",
       "version_major": 2,
       "version_minor": 0
      },
      "text/plain": [
       "  0%|          | 0/682 [00:00<?, ?it/s]"
      ]
     },
     "metadata": {},
     "output_type": "display_data"
    },
    {
     "name": "stdout",
     "output_type": "stream",
     "text": [
      "Question: 지루하다, 놀러가고 싶어.                \tAnswer: 무슨 계기 가 있 어요 .                \n",
      "Question: 오늘 일찍 일어났더니 피곤하다.             \tAnswer: 누군가 나 바랄게요 .                  \n",
      "Question: 간만에 여자친구랑 데이트 하기로 했어.         \tAnswer: 종종 좋 은 사람 만날 거 예요 .           \n",
      "Question: 집에 있는다는 소리야.                  \tAnswer: 말투 있 더군요 .                    \n"
     ]
    },
    {
     "data": {
      "application/vnd.jupyter.widget-view+json": {
       "model_id": "770196476b1049a999f3c59332244757",
       "version_major": 2,
       "version_minor": 0
      },
      "text/plain": [
       "  0%|          | 0/682 [00:00<?, ?it/s]"
      ]
     },
     "metadata": {},
     "output_type": "display_data"
    },
    {
     "name": "stdout",
     "output_type": "stream",
     "text": [
      "Question: 지루하다, 놀러가고 싶어.                \tAnswer: 어느덧 이 재미 가 있 어요 .             \n",
      "Question: 오늘 일찍 일어났더니 피곤하다.             \tAnswer: 안타깝 했 겠 어요 .                  \n",
      "Question: 간만에 여자친구랑 데이트 하기로 했어.         \tAnswer: 마음 의 선택 으로 가 있 나 봐요 .         \n",
      "Question: 집에 있는다는 소리야.                  \tAnswer: 그럴 수 있 더군요 .                  \n"
     ]
    },
    {
     "data": {
      "application/vnd.jupyter.widget-view+json": {
       "model_id": "af3371a7f6d947ecb60a4cfed2f563cb",
       "version_major": 2,
       "version_minor": 0
      },
      "text/plain": [
       "  0%|          | 0/682 [00:00<?, ?it/s]"
      ]
     },
     "metadata": {},
     "output_type": "display_data"
    },
    {
     "name": "stdout",
     "output_type": "stream",
     "text": [
      "Question: 지루하다, 놀러가고 싶어.                \tAnswer: 바쁘 은 마음 이 지요 .                \n",
      "Question: 오늘 일찍 일어났더니 피곤하다.             \tAnswer: 맛있 게 놀 아요 .                   \n",
      "Question: 간만에 여자친구랑 데이트 하기로 했어.         \tAnswer: 마음 의 선택 을 하 세요 .              \n",
      "Question: 집에 있는다는 소리야.                  \tAnswer: 혼자 행복 할 때 가 되 겠 네요 .          \n"
     ]
    },
    {
     "data": {
      "application/vnd.jupyter.widget-view+json": {
       "model_id": "6abc54a52f4d451484abe0bc67bbeb9c",
       "version_major": 2,
       "version_minor": 0
      },
      "text/plain": [
       "  0%|          | 0/682 [00:00<?, ?it/s]"
      ]
     },
     "metadata": {},
     "output_type": "display_data"
    },
    {
     "name": "stdout",
     "output_type": "stream",
     "text": [
      "Question: 지루하다, 놀러가고 싶어.                \tAnswer: 어느덧 보내 주 ㅂ시오 .                \n",
      "Question: 오늘 일찍 일어났더니 피곤하다.             \tAnswer: 기분 했 겠 어요 .                   \n",
      "Question: 간만에 여자친구랑 데이트 하기로 했어.         \tAnswer: 마음 의 준비 를 해야 하 는 게 좋 겠 어요 .   \n",
      "Question: 집에 있는다는 소리야.                  \tAnswer: 제 그럴 수 있 더군요 .                \n"
     ]
    },
    {
     "data": {
      "application/vnd.jupyter.widget-view+json": {
       "model_id": "932415f50c8a413da71db3fe90c3ef9d",
       "version_major": 2,
       "version_minor": 0
      },
      "text/plain": [
       "  0%|          | 0/682 [00:00<?, ?it/s]"
      ]
     },
     "metadata": {},
     "output_type": "display_data"
    },
    {
     "name": "stdout",
     "output_type": "stream",
     "text": [
      "Question: 지루하다, 놀러가고 싶어.                \tAnswer: 어느덧 정리 하 세요 .                 \n",
      "Question: 오늘 일찍 일어났더니 피곤하다.             \tAnswer: 마음 의 정리 했 을 텐데 안타깝 네요 .       \n",
      "Question: 간만에 여자친구랑 데이트 하기로 했어.         \tAnswer: 마음 의 준비 를 하 세요 .              \n",
      "Question: 집에 있는다는 소리야.                  \tAnswer: 이제 는 저 도 못하 고 돼요 .            \n"
     ]
    },
    {
     "data": {
      "application/vnd.jupyter.widget-view+json": {
       "model_id": "8d3d3d9df98842f3a44e120266b444ee",
       "version_major": 2,
       "version_minor": 0
      },
      "text/plain": [
       "  0%|          | 0/682 [00:00<?, ?it/s]"
      ]
     },
     "metadata": {},
     "output_type": "display_data"
    },
    {
     "name": "stdout",
     "output_type": "stream",
     "text": [
      "Question: 지루하다, 놀러가고 싶어.                \tAnswer: 바쁘 은 시간 이 습니다 .               \n",
      "Question: 오늘 일찍 일어났더니 피곤하다.             \tAnswer: 기분 했 겠 더군요 .                  \n",
      "Question: 간만에 여자친구랑 데이트 하기로 했어.         \tAnswer: 마음 은 귀찮 지 않 았 는데요 .           \n",
      "Question: 집에 있는다는 소리야.                  \tAnswer: 찾아가 고 싶 죠 .                   \n"
     ]
    },
    {
     "data": {
      "application/vnd.jupyter.widget-view+json": {
       "model_id": "2f976653a6154f73a44accb8cf7efd18",
       "version_major": 2,
       "version_minor": 0
      },
      "text/plain": [
       "  0%|          | 0/682 [00:00<?, ?it/s]"
      ]
     },
     "metadata": {},
     "output_type": "display_data"
    },
    {
     "name": "stdout",
     "output_type": "stream",
     "text": [
      "Question: 지루하다, 놀러가고 싶어.                \tAnswer: 바쁘 은 시간 이 네요 .                \n",
      "Question: 오늘 일찍 일어났더니 피곤하다.             \tAnswer: 몸 했 나요 .                      \n",
      "Question: 간만에 여자친구랑 데이트 하기로 했어.         \tAnswer: 마음 이 식 었 나 봐요 .               \n",
      "Question: 집에 있는다는 소리야.                  \tAnswer: 언젠간 일 이 죠 .                   \n"
     ]
    },
    {
     "data": {
      "application/vnd.jupyter.widget-view+json": {
       "model_id": "05deef0e778348b69c5b445b4884fb22",
       "version_major": 2,
       "version_minor": 0
      },
      "text/plain": [
       "  0%|          | 0/682 [00:00<?, ?it/s]"
      ]
     },
     "metadata": {},
     "output_type": "display_data"
    },
    {
     "name": "stdout",
     "output_type": "stream",
     "text": [
      "Question: 지루하다, 놀러가고 싶어.                \tAnswer: 바쁘 해 주 세요 .                   \n",
      "Question: 오늘 일찍 일어났더니 피곤하다.             \tAnswer: 안타깝 게 드세요 .                   \n",
      "Question: 간만에 여자친구랑 데이트 하기로 했어.         \tAnswer: 마음 의 정리 를 해야 되 네요 .           \n",
      "Question: 집에 있는다는 소리야.                  \tAnswer: 저 도 랑 좋 아요 .                  \n"
     ]
    },
    {
     "data": {
      "application/vnd.jupyter.widget-view+json": {
       "model_id": "9054344d35b34438a3cf4bb35dc5680d",
       "version_major": 2,
       "version_minor": 0
      },
      "text/plain": [
       "  0%|          | 0/682 [00:00<?, ?it/s]"
      ]
     },
     "metadata": {},
     "output_type": "display_data"
    },
    {
     "name": "stdout",
     "output_type": "stream",
     "text": [
      "Question: 지루하다, 놀러가고 싶어.                \tAnswer: 정리 가 세요 .                     \n",
      "Question: 오늘 일찍 일어났더니 피곤하다.             \tAnswer: 맛있 게 드세요 .                    \n",
      "Question: 간만에 여자친구랑 데이트 하기로 했어.         \tAnswer: 마음 의 선택 한 지적 가 될 때 가 있 었 겠 네요 .\n",
      "Question: 집에 있는다는 소리야.                  \tAnswer: 놀 고 놀 아요 .                    \n"
     ]
    },
    {
     "data": {
      "application/vnd.jupyter.widget-view+json": {
       "model_id": "a54021f05908498495381cd39025de9c",
       "version_major": 2,
       "version_minor": 0
      },
      "text/plain": [
       "  0%|          | 0/682 [00:00<?, ?it/s]"
      ]
     },
     "metadata": {},
     "output_type": "display_data"
    },
    {
     "name": "stdout",
     "output_type": "stream",
     "text": [
      "Question: 지루하다, 놀러가고 싶어.                \tAnswer: 먼저 다가가 보 세요 .                 \n",
      "Question: 오늘 일찍 일어났더니 피곤하다.             \tAnswer: 기분 좋 아 할 거 예요 .               \n",
      "Question: 간만에 여자친구랑 데이트 하기로 했어.         \tAnswer: 먼저 말 해 보 세요 .                 \n",
      "Question: 집에 있는다는 소리야.                  \tAnswer: 그럴 사람 이 믿 더군요 .               \n"
     ]
    },
    {
     "data": {
      "application/vnd.jupyter.widget-view+json": {
       "model_id": "9b857be0d67e47b7a533405f0820dcb0",
       "version_major": 2,
       "version_minor": 0
      },
      "text/plain": [
       "  0%|          | 0/682 [00:00<?, ?it/s]"
      ]
     },
     "metadata": {},
     "output_type": "display_data"
    },
    {
     "name": "stdout",
     "output_type": "stream",
     "text": [
      "Question: 지루하다, 놀러가고 싶어.                \tAnswer: 바쁘 거나 머리 가 상관 네요 .            \n",
      "Question: 오늘 일찍 일어났더니 피곤하다.             \tAnswer: 남 의 바랄게요 .                    \n",
      "Question: 간만에 여자친구랑 데이트 하기로 했어.         \tAnswer: 서술 를 해 보 세요 .                 \n",
      "Question: 집에 있는다는 소리야.                  \tAnswer: 찾아가 는 있 길 바랄게요 .              \n"
     ]
    },
    {
     "data": {
      "application/vnd.jupyter.widget-view+json": {
       "model_id": "c6caed117985412fb51475c534e58d83",
       "version_major": 2,
       "version_minor": 0
      },
      "text/plain": [
       "  0%|          | 0/682 [00:00<?, ?it/s]"
      ]
     },
     "metadata": {},
     "output_type": "display_data"
    },
    {
     "name": "stdout",
     "output_type": "stream",
     "text": [
      "Question: 지루하다, 놀러가고 싶어.                \tAnswer: 잘 받아들여 지 군요 .                 \n",
      "Question: 오늘 일찍 일어났더니 피곤하다.             \tAnswer: 몸 이 복잡 했 나 봐요 .               \n",
      "Question: 간만에 여자친구랑 데이트 하기로 했어.         \tAnswer: 신경 쓰 지 말 고 좋 겠 네요 .           \n",
      "Question: 집에 있는다는 소리야.                  \tAnswer: 제 가 있 죠 .                     \n"
     ]
    },
    {
     "data": {
      "application/vnd.jupyter.widget-view+json": {
       "model_id": "b53397e68a2e4154a11ed81d12f32a78",
       "version_major": 2,
       "version_minor": 0
      },
      "text/plain": [
       "  0%|          | 0/682 [00:00<?, ?it/s]"
      ]
     },
     "metadata": {},
     "output_type": "display_data"
    },
    {
     "name": "stdout",
     "output_type": "stream",
     "text": [
      "Question: 지루하다, 놀러가고 싶어.                \tAnswer: 어느덧 보내 주 세요 .                 \n",
      "Question: 오늘 일찍 일어났더니 피곤하다.             \tAnswer: 마음 이 복잡 하 겠 어요 .              \n",
      "Question: 간만에 여자친구랑 데이트 하기로 했어.         \tAnswer: 마음 의 준비 가 맞 네요 .              \n",
      "Question: 집에 있는다는 소리야.                  \tAnswer: 남 거절 일 것 같 아요 .               \n"
     ]
    },
    {
     "data": {
      "application/vnd.jupyter.widget-view+json": {
       "model_id": "47284bfc7cd34bd8be0c61d3f1f79878",
       "version_major": 2,
       "version_minor": 0
      },
      "text/plain": [
       "  0%|          | 0/682 [00:00<?, ?it/s]"
      ]
     },
     "metadata": {},
     "output_type": "display_data"
    },
    {
     "name": "stdout",
     "output_type": "stream",
     "text": [
      "Question: 지루하다, 놀러가고 싶어.                \tAnswer: 어느덧 썸 일 거 예요 .                \n",
      "Question: 오늘 일찍 일어났더니 피곤하다.             \tAnswer: 맛있 게 드세요 .                    \n",
      "Question: 간만에 여자친구랑 데이트 하기로 했어.         \tAnswer: 마음 의 준비 를 해야 하 지 않 게 연락 해 보 세요 .\n",
      "Question: 집에 있는다는 소리야.                  \tAnswer: 달려가 는 게 좋 죠 .                 \n"
     ]
    },
    {
     "data": {
      "application/vnd.jupyter.widget-view+json": {
       "model_id": "c7f9cf48ddc543d293da4add0295b049",
       "version_major": 2,
       "version_minor": 0
      },
      "text/plain": [
       "  0%|          | 0/682 [00:00<?, ?it/s]"
      ]
     },
     "metadata": {},
     "output_type": "display_data"
    },
    {
     "name": "stdout",
     "output_type": "stream",
     "text": [
      "Question: 지루하다, 놀러가고 싶어.                \tAnswer: 바쁘 고 싶 은 시간 이 네요 .            \n",
      "Question: 오늘 일찍 일어났더니 피곤하다.             \tAnswer: 맛있 게 먹 고 가끔 했 나 봐요 .          \n",
      "Question: 간만에 여자친구랑 데이트 하기로 했어.         \tAnswer: 마음 의 선택 할 시간 이 네요 .           \n",
      "Question: 집에 있는다는 소리야.                  \tAnswer: 서로 거절 의 중간 이 즐겁 겠 네요 .        \n"
     ]
    },
    {
     "data": {
      "application/vnd.jupyter.widget-view+json": {
       "model_id": "c1c57974a89a4cb9898ad9525900567f",
       "version_major": 2,
       "version_minor": 0
      },
      "text/plain": [
       "  0%|          | 0/682 [00:00<?, ?it/s]"
      ]
     },
     "metadata": {},
     "output_type": "display_data"
    },
    {
     "name": "stdout",
     "output_type": "stream",
     "text": [
      "Question: 지루하다, 놀러가고 싶어.                \tAnswer: 다시 썸 으로 시작 을 뜻 하 게 될 거 예요 .   \n",
      "Question: 오늘 일찍 일어났더니 피곤하다.             \tAnswer: 몸 했 어요 .                      \n",
      "Question: 간만에 여자친구랑 데이트 하기로 했어.         \tAnswer: 마음 의 선택 이 되 었 나 봐요 .          \n",
      "Question: 집에 있는다는 소리야.                  \tAnswer: 이제 랑 저 랑 되 겠 네요 .             \n"
     ]
    },
    {
     "data": {
      "application/vnd.jupyter.widget-view+json": {
       "model_id": "0a958d19e7ad49d99b67d3928a31e08e",
       "version_major": 2,
       "version_minor": 0
      },
      "text/plain": [
       "  0%|          | 0/682 [00:00<?, ?it/s]"
      ]
     },
     "metadata": {},
     "output_type": "display_data"
    },
    {
     "name": "stdout",
     "output_type": "stream",
     "text": [
      "Question: 지루하다, 놀러가고 싶어.                \tAnswer: 바쁘 고 나 봐요 .                   \n",
      "Question: 오늘 일찍 일어났더니 피곤하다.             \tAnswer: 기분 했 나 봐요 .                   \n",
      "Question: 간만에 여자친구랑 데이트 하기로 했어.         \tAnswer: 많이 안 됐 나 봐요 .                 \n",
      "Question: 집에 있는다는 소리야.                  \tAnswer: 그럴 때 가 있 죠 .                  \n"
     ]
    },
    {
     "data": {
      "application/vnd.jupyter.widget-view+json": {
       "model_id": "759e0bb3f0ef4933a77f1aacd910901f",
       "version_major": 2,
       "version_minor": 0
      },
      "text/plain": [
       "  0%|          | 0/682 [00:00<?, ?it/s]"
      ]
     },
     "metadata": {},
     "output_type": "display_data"
    },
    {
     "name": "stdout",
     "output_type": "stream",
     "text": [
      "Question: 지루하다, 놀러가고 싶어.                \tAnswer: 무슨 가 없 어요 .                   \n",
      "Question: 오늘 일찍 일어났더니 피곤하다.             \tAnswer: 마음 먹 어 보이 세요 .                \n",
      "Question: 간만에 여자친구랑 데이트 하기로 했어.         \tAnswer: 마음 의 정리 가 안 되 겠 네요 .          \n",
      "Question: 집에 있는다는 소리야.                  \tAnswer: 서로 는 믿 으세요 .                  \n"
     ]
    },
    {
     "data": {
      "application/vnd.jupyter.widget-view+json": {
       "model_id": "43bf1a01f0a64b809f5fa65877b04c56",
       "version_major": 2,
       "version_minor": 0
      },
      "text/plain": [
       "  0%|          | 0/682 [00:00<?, ?it/s]"
      ]
     },
     "metadata": {},
     "output_type": "display_data"
    },
    {
     "name": "stdout",
     "output_type": "stream",
     "text": [
      "Question: 지루하다, 놀러가고 싶어.                \tAnswer: 정리 가 높 으면 조심 이 네요 .           \n",
      "Question: 오늘 일찍 일어났더니 피곤하다.             \tAnswer: 기분 이 에요 . 실수 했 길 바랄게요 .       \n",
      "Question: 간만에 여자친구랑 데이트 하기로 했어.         \tAnswer: 마음 이 좀 후련 했 나 봐요 .            \n",
      "Question: 집에 있는다는 소리야.                  \tAnswer: 제 가 있 죠 .                     \n"
     ]
    },
    {
     "data": {
      "application/vnd.jupyter.widget-view+json": {
       "model_id": "3d2c780defc84130bbcaf98fb31c402e",
       "version_major": 2,
       "version_minor": 0
      },
      "text/plain": [
       "  0%|          | 0/682 [00:00<?, ?it/s]"
      ]
     },
     "metadata": {},
     "output_type": "display_data"
    },
    {
     "name": "stdout",
     "output_type": "stream",
     "text": [
      "Question: 지루하다, 놀러가고 싶어.                \tAnswer: 바쁘 은 마음 을 지요 .                \n",
      "Question: 오늘 일찍 일어났더니 피곤하다.             \tAnswer: 기분 시간 이 언젠가 요 .               \n",
      "Question: 간만에 여자친구랑 데이트 하기로 했어.         \tAnswer: 마음 의 선택 했 나 봐요 .              \n",
      "Question: 집에 있는다는 소리야.                  \tAnswer: 이제 는 저 도 그럴 고 있 어요 .          \n"
     ]
    },
    {
     "data": {
      "application/vnd.jupyter.widget-view+json": {
       "model_id": "9274bea1ef0f43d1a81a6c39c3c13743",
       "version_major": 2,
       "version_minor": 0
      },
      "text/plain": [
       "  0%|          | 0/682 [00:00<?, ?it/s]"
      ]
     },
     "metadata": {},
     "output_type": "display_data"
    },
    {
     "name": "stdout",
     "output_type": "stream",
     "text": [
      "Question: 지루하다, 놀러가고 싶어.                \tAnswer: 잠시 휴식 을 취해 보 세요 .             \n",
      "Question: 오늘 일찍 일어났더니 피곤하다.             \tAnswer: 마음 이 복잡 하 겠 어요 .              \n",
      "Question: 간만에 여자친구랑 데이트 하기로 했어.         \tAnswer: 마음 의 정리 가 있 었 나 봐요 .          \n",
      "Question: 집에 있는다는 소리야.                  \tAnswer: 그럴 만 해요 .                     \n"
     ]
    },
    {
     "data": {
      "application/vnd.jupyter.widget-view+json": {
       "model_id": "4c6cab3fe71d47038fe904007450845a",
       "version_major": 2,
       "version_minor": 0
      },
      "text/plain": [
       "  0%|          | 0/682 [00:00<?, ?it/s]"
      ]
     },
     "metadata": {},
     "output_type": "display_data"
    },
    {
     "name": "stdout",
     "output_type": "stream",
     "text": [
      "Question: 지루하다, 놀러가고 싶어.                \tAnswer: 바쁘 바쁜가 봐요 .                   \n",
      "Question: 오늘 일찍 일어났더니 피곤하다.             \tAnswer: 마음 했 많 겠 어요 .                 \n",
      "Question: 간만에 여자친구랑 데이트 하기로 했어.         \tAnswer: 먼저 다가가 보 세요 .                 \n",
      "Question: 집에 있는다는 소리야.                  \tAnswer: 서로 즐거운 저 도 그럴 수 도 있 어요 .      \n"
     ]
    },
    {
     "data": {
      "application/vnd.jupyter.widget-view+json": {
       "model_id": "51e2b1ffac6b4d9b8b410d8d0635f156",
       "version_major": 2,
       "version_minor": 0
      },
      "text/plain": [
       "  0%|          | 0/682 [00:00<?, ?it/s]"
      ]
     },
     "metadata": {},
     "output_type": "display_data"
    },
    {
     "name": "stdout",
     "output_type": "stream",
     "text": [
      "Question: 지루하다, 놀러가고 싶어.                \tAnswer: 다시 받아들여 보 세요 .                \n",
      "Question: 오늘 일찍 일어났더니 피곤하다.             \tAnswer: 맛있 게 먹 어 보 세요 .               \n",
      "Question: 간만에 여자친구랑 데이트 하기로 했어.         \tAnswer: 마음 을 좀 는지 하 세요 .              \n",
      "Question: 집에 있는다는 소리야.                  \tAnswer: 잠시 있 죠 .                      \n"
     ]
    },
    {
     "data": {
      "application/vnd.jupyter.widget-view+json": {
       "model_id": "104064c08df34089b0271873933306a7",
       "version_major": 2,
       "version_minor": 0
      },
      "text/plain": [
       "  0%|          | 0/682 [00:00<?, ?it/s]"
      ]
     },
     "metadata": {},
     "output_type": "display_data"
    },
    {
     "name": "stdout",
     "output_type": "stream",
     "text": [
      "Question: 지루하다, 놀러가고 싶어.                \tAnswer: 운명 이 있 군요 .                   \n",
      "Question: 오늘 일찍 일어났더니 피곤하다.             \tAnswer: 맛있 게 드세요 .                    \n",
      "Question: 간만에 여자친구랑 데이트 하기로 했어.         \tAnswer: 많이 힘들 었 겠 어서요 .               \n",
      "Question: 집에 있는다는 소리야.                  \tAnswer: 서로 는 즐거운 사람 이 죠 .             \n"
     ]
    },
    {
     "data": {
      "application/vnd.jupyter.widget-view+json": {
       "model_id": "c4366bc5b36541018c5d0545edd43925",
       "version_major": 2,
       "version_minor": 0
      },
      "text/plain": [
       "  0%|          | 0/682 [00:00<?, ?it/s]"
      ]
     },
     "metadata": {},
     "output_type": "display_data"
    },
    {
     "name": "stdout",
     "output_type": "stream",
     "text": [
      "Question: 지루하다, 놀러가고 싶어.                \tAnswer: 바쁘 를 정말 시간 이 네요 .             \n",
      "Question: 오늘 일찍 일어났더니 피곤하다.             \tAnswer: 기분 했 겠 어요 .                   \n",
      "Question: 간만에 여자친구랑 데이트 하기로 했어.         \tAnswer: 마음 을 든 아프 네요 .                \n",
      "Question: 집에 있는다는 소리야.                  \tAnswer: 찾아가 주 고 싶 네요 .                \n"
     ]
    },
    {
     "data": {
      "application/vnd.jupyter.widget-view+json": {
       "model_id": "8f29c862968849e6b170c6195ea2aeb1",
       "version_major": 2,
       "version_minor": 0
      },
      "text/plain": [
       "  0%|          | 0/682 [00:00<?, ?it/s]"
      ]
     },
     "metadata": {},
     "output_type": "display_data"
    },
    {
     "name": "stdout",
     "output_type": "stream",
     "text": [
      "Question: 지루하다, 놀러가고 싶어.                \tAnswer: 먼저 다가가 보 세요 .                 \n",
      "Question: 오늘 일찍 일어났더니 피곤하다.             \tAnswer: 기분 이 아무리 길 바랄게요 .             \n",
      "Question: 간만에 여자친구랑 데이트 하기로 했어.         \tAnswer: 마음 의 준비 가 있 나 봅니다 .           \n",
      "Question: 집에 있는다는 소리야.                  \tAnswer: 저 랑 있 죠 .                     \n"
     ]
    },
    {
     "data": {
      "application/vnd.jupyter.widget-view+json": {
       "model_id": "f5da3cf35d9c4f83a30904e84caea55b",
       "version_major": 2,
       "version_minor": 0
      },
      "text/plain": [
       "  0%|          | 0/682 [00:00<?, ?it/s]"
      ]
     },
     "metadata": {},
     "output_type": "display_data"
    },
    {
     "name": "stdout",
     "output_type": "stream",
     "text": [
      "Question: 지루하다, 놀러가고 싶어.                \tAnswer: 잠시 쉬 가 시간 을 풀 어 주 세요 .        \n",
      "Question: 오늘 일찍 일어났더니 피곤하다.             \tAnswer: 기분 이 조금 이나마 남 아 가 기분 이 죠 .    \n",
      "Question: 간만에 여자친구랑 데이트 하기로 했어.         \tAnswer: 마음 은 변하 지 않 았 으면 좋 겠 어요 .     \n",
      "Question: 집에 있는다는 소리야.                  \tAnswer: 제 가 있 잖아요 .                   \n"
     ]
    },
    {
     "data": {
      "application/vnd.jupyter.widget-view+json": {
       "model_id": "0bb2e23c0ab346248722b27dc275f824",
       "version_major": 2,
       "version_minor": 0
      },
      "text/plain": [
       "  0%|          | 0/682 [00:00<?, ?it/s]"
      ]
     },
     "metadata": {},
     "output_type": "display_data"
    },
    {
     "name": "stdout",
     "output_type": "stream",
     "text": [
      "Question: 지루하다, 놀러가고 싶어.                \tAnswer: 가을 이 네요 .                     \n",
      "Question: 오늘 일찍 일어났더니 피곤하다.             \tAnswer: 마음 먹 고 새 출발 하 세요 .            \n",
      "Question: 간만에 여자친구랑 데이트 하기로 했어.         \tAnswer: 마음 은 건강 적 지 않 았 나 봐요 .        \n",
      "Question: 집에 있는다는 소리야.                  \tAnswer: 저 도 요 .                       \n"
     ]
    },
    {
     "data": {
      "application/vnd.jupyter.widget-view+json": {
       "model_id": "a5e0e782b47c49c5833dda43de4411f9",
       "version_major": 2,
       "version_minor": 0
      },
      "text/plain": [
       "  0%|          | 0/682 [00:00<?, ?it/s]"
      ]
     },
     "metadata": {},
     "output_type": "display_data"
    },
    {
     "name": "stdout",
     "output_type": "stream",
     "text": [
      "Question: 지루하다, 놀러가고 싶어.                \tAnswer: 마음 이 가 는 대로 하 나 봐요 .          \n",
      "Question: 오늘 일찍 일어났더니 피곤하다.             \tAnswer: 마음 이 복잡 하 겠 어요 .              \n",
      "Question: 간만에 여자친구랑 데이트 하기로 했어.         \tAnswer: 마음 의 준비 가 되 겠 네요 .            \n",
      "Question: 집에 있는다는 소리야.                  \tAnswer: 오늘 도 괜찮 아요 .                  \n"
     ]
    },
    {
     "data": {
      "application/vnd.jupyter.widget-view+json": {
       "model_id": "9919d3cdbacf4576ae41c9c92ce3d7d8",
       "version_major": 2,
       "version_minor": 0
      },
      "text/plain": [
       "  0%|          | 0/682 [00:00<?, ?it/s]"
      ]
     },
     "metadata": {},
     "output_type": "display_data"
    },
    {
     "name": "stdout",
     "output_type": "stream",
     "text": [
      "Question: 지루하다, 놀러가고 싶어.                \tAnswer: 다시 정리 가 필요 다니 걱정 되 네요 .       \n",
      "Question: 오늘 일찍 일어났더니 피곤하다.             \tAnswer: 기분 했 나 봐요 .                   \n",
      "Question: 간만에 여자친구랑 데이트 하기로 했어.         \tAnswer: 마음 의 준비 가 맞 겠 네요 .            \n",
      "Question: 집에 있는다는 소리야.                  \tAnswer: 그럴 때 가 있 죠 .                  \n"
     ]
    },
    {
     "data": {
      "application/vnd.jupyter.widget-view+json": {
       "model_id": "6de6ff593ec74d5dbb09e3d23c8c4abe",
       "version_major": 2,
       "version_minor": 0
      },
      "text/plain": [
       "  0%|          | 0/682 [00:00<?, ?it/s]"
      ]
     },
     "metadata": {},
     "output_type": "display_data"
    },
    {
     "name": "stdout",
     "output_type": "stream",
     "text": [
      "Question: 지루하다, 놀러가고 싶어.                \tAnswer: 바쁘 고 나 봐요 .                   \n",
      "Question: 오늘 일찍 일어났더니 피곤하다.             \tAnswer: 기분 했 나 봐요 .                   \n",
      "Question: 간만에 여자친구랑 데이트 하기로 했어.         \tAnswer: 마음 의 정리 를 하 세요 .              \n",
      "Question: 집에 있는다는 소리야.                  \tAnswer: 남 에게 피해 주 세요 .                \n"
     ]
    },
    {
     "data": {
      "application/vnd.jupyter.widget-view+json": {
       "model_id": "488c60f69da64839bf35291103020884",
       "version_major": 2,
       "version_minor": 0
      },
      "text/plain": [
       "  0%|          | 0/682 [00:00<?, ?it/s]"
      ]
     },
     "metadata": {},
     "output_type": "display_data"
    },
    {
     "name": "stdout",
     "output_type": "stream",
     "text": [
      "Question: 지루하다, 놀러가고 싶어.                \tAnswer: 바쁘 거나 다른 마음 이 네요 .            \n",
      "Question: 오늘 일찍 일어났더니 피곤하다.             \tAnswer: 기분 나쁘 겠 어요 .                  \n",
      "Question: 간만에 여자친구랑 데이트 하기로 했어.         \tAnswer: 마음 의 정리 가 안 되 세요 .            \n",
      "Question: 집에 있는다는 소리야.                  \tAnswer: 오늘 . 저 도 그럴 수 있 으면 돼요 .       \n"
     ]
    },
    {
     "data": {
      "application/vnd.jupyter.widget-view+json": {
       "model_id": "36a7541314c6409083b796723ba22b03",
       "version_major": 2,
       "version_minor": 0
      },
      "text/plain": [
       "  0%|          | 0/682 [00:00<?, ?it/s]"
      ]
     },
     "metadata": {},
     "output_type": "display_data"
    },
    {
     "name": "stdout",
     "output_type": "stream",
     "text": [
      "Question: 지루하다, 놀러가고 싶어.                \tAnswer: 가을 이 가 남 구요 .                 \n",
      "Question: 오늘 일찍 일어났더니 피곤하다.             \tAnswer: 기분 했 겠 어요 .                   \n",
      "Question: 간만에 여자친구랑 데이트 하기로 했어.         \tAnswer: 마음 의 정리 가 안 되 네요 .            \n",
      "Question: 집에 있는다는 소리야.                  \tAnswer: 잠시 쉬 어가 도 괜찮 아요 .             \n"
     ]
    },
    {
     "data": {
      "application/vnd.jupyter.widget-view+json": {
       "model_id": "9d1d75008af44165ac34419a73b94152",
       "version_major": 2,
       "version_minor": 0
      },
      "text/plain": [
       "  0%|          | 0/682 [00:00<?, ?it/s]"
      ]
     },
     "metadata": {},
     "output_type": "display_data"
    },
    {
     "name": "stdout",
     "output_type": "stream",
     "text": [
      "Question: 지루하다, 놀러가고 싶어.                \tAnswer: 먼저 고백 해 보 세요 .                \n",
      "Question: 오늘 일찍 일어났더니 피곤하다.             \tAnswer: 기분 했 나 봐요 .                   \n",
      "Question: 간만에 여자친구랑 데이트 하기로 했어.         \tAnswer: 마음 의 선택 일거 라 생각 해요 .          \n",
      "Question: 집에 있는다는 소리야.                  \tAnswer: 찾아가 랑 요 .                     \n"
     ]
    },
    {
     "data": {
      "application/vnd.jupyter.widget-view+json": {
       "model_id": "8b2c6646819e44c3a1938c3f9d3bb8d2",
       "version_major": 2,
       "version_minor": 0
      },
      "text/plain": [
       "  0%|          | 0/682 [00:00<?, ?it/s]"
      ]
     },
     "metadata": {},
     "output_type": "display_data"
    },
    {
     "name": "stdout",
     "output_type": "stream",
     "text": [
      "Question: 지루하다, 놀러가고 싶어.                \tAnswer: 바쁘 고 쉽 게 가 없 어요 .             \n",
      "Question: 오늘 일찍 일어났더니 피곤하다.             \tAnswer: 기분 좋 은 사람 이 에요 .              \n",
      "Question: 간만에 여자친구랑 데이트 하기로 했어.         \tAnswer: 마음 의 준비 가 안 되 겠 네요 .          \n",
      "Question: 집에 있는다는 소리야.                  \tAnswer: 제 있 는 일 이 길 죠 .               \n"
     ]
    },
    {
     "data": {
      "application/vnd.jupyter.widget-view+json": {
       "model_id": "ead3d06d50ee4742b0bbffd2d9b3db06",
       "version_major": 2,
       "version_minor": 0
      },
      "text/plain": [
       "  0%|          | 0/682 [00:00<?, ?it/s]"
      ]
     },
     "metadata": {},
     "output_type": "display_data"
    },
    {
     "name": "stdout",
     "output_type": "stream",
     "text": [
      "Question: 지루하다, 놀러가고 싶어.                \tAnswer: 그분 이 위로 해 가 쉽 지 않 아요 .        \n",
      "Question: 오늘 일찍 일어났더니 피곤하다.             \tAnswer: 기분 했 나 봐요 .                   \n",
      "Question: 간만에 여자친구랑 데이트 하기로 했어.         \tAnswer: 마음 의 준비 가 안 돼요 .              \n",
      "Question: 집에 있는다는 소리야.                  \tAnswer: 그럴 때 가 있 죠 .                  \n"
     ]
    }
   ],
   "source": [
    "# 학습\n",
    "\n",
    "from tqdm import tqdm_notebook \n",
    "\n",
    "BATCH_SIZE = 64\n",
    "EPOCHS = 50\n",
    "\n",
    "examples = [\n",
    "            \"지루하다, 놀러가고 싶어.\",\n",
    "            \"오늘 일찍 일어났더니 피곤하다.\",\n",
    "            \"간만에 여자친구랑 데이트 하기로 했어.\",\n",
    "            \"집에 있는다는 소리야.\"\n",
    "]\n",
    "\n",
    "translates = []\n",
    "for epoch in range(EPOCHS):\n",
    "    total_loss = 0\n",
    "    \n",
    "    idx_list = list(range(0, enc_train.shape[0], BATCH_SIZE))\n",
    "    random.shuffle(idx_list)\n",
    "    t = tqdm_notebook(idx_list)\n",
    "\n",
    "    for (batch, idx) in enumerate(t):\n",
    "        batch_loss, enc_attns, dec_attns, dec_enc_attns = \\\n",
    "        train_step(enc_train[idx:idx+BATCH_SIZE],\n",
    "                    dec_train[idx:idx+BATCH_SIZE],\n",
    "                    transformer,\n",
    "                    optimizer)\n",
    "\n",
    "        total_loss += batch_loss\n",
    "        \n",
    "        t.set_description_str('Epoch %2d' % (epoch + 1))\n",
    "        t.set_postfix_str('Loss %.4f' % (total_loss.numpy() / (batch + 1)))\n",
    "        \n",
    "        \n",
    "    results = []\n",
    "    for example in examples:\n",
    "        ans = translate(example, transformer, tokenizer)[0]\n",
    "        results.append(ans)\n",
    "        print(f\"Question: {example:<30}\\tAnswer: {ans:<30}\")\n",
    "        \n",
    "    translates.append(results)"
   ]
  },
  {
   "cell_type": "markdown",
   "id": "1c7a19fd",
   "metadata": {},
   "source": [
    "## Step 7. 성능 측정하기\n",
    "챗봇의 경우, 올바른 대답을 하는지가 중요한 평가 지표입니다. 올바른 답변을 하는지 눈으로 확인할 수 있겠지만, 많은 데이터의 경우는 모든 결과를 확인할 수 없을 것입니다. 주어진 질문에 적절한 답변을 하는지 확인하고, BLEU Score를 계산하는 `calculate_bleu()` 함수도 적용해 보세요."
   ]
  },
  {
   "cell_type": "code",
   "execution_count": 69,
   "id": "8adbea45",
   "metadata": {},
   "outputs": [],
   "source": [
    "from nltk.translate.bleu_score import sentence_bleu\n",
    "from nltk.translate.bleu_score import SmoothingFunction"
   ]
  },
  {
   "cell_type": "code",
   "execution_count": 70,
   "id": "ae15bb69",
   "metadata": {},
   "outputs": [],
   "source": [
    "references = ['잠깐 쉬 어도 돼요 .','맛난 거 드세요 .','떨리 겠 죠 .','좋 아 하 면 그럴 수 있 어요 .']"
   ]
  },
  {
   "cell_type": "code",
   "execution_count": 71,
   "id": "dece1251",
   "metadata": {},
   "outputs": [
    {
     "data": {
      "text/plain": [
       "[['좋 을 는 좋 을 거 예요 .',\n",
       "  '좋 을 는 좋 을 거 예요 .',\n",
       "  '좋 을 는 좋 을 거 예요 .',\n",
       "  '좋 을 는 좋 을 거 예요 .'],\n",
       " ['좋 은 소식 이 에요 .',\n",
       "  '마음 이 복잡 하 겠 어요 .',\n",
       "  '마음 이 복잡 하 는 게 좋 아요 .',\n",
       "  '좋 은 만남 이 에요 .'],\n",
       " ['마음 이 라도 가 있 어요 .', '좋 은 걸 거 예요 .', '마음 이 복잡 하 겠 네요 .', '좋 은 걸 수 있 어요 .'],\n",
       " ['좋 은 소식 이 네요 .',\n",
       "  '마음 이 복잡 하 게 되 길 바랄게요 .',\n",
       "  '마음 이 복잡 하 지 않 았 어요 .',\n",
       "  '좋 아 하 는 시간 이 죠 .'],\n",
       " ['바쁜 것 같 은 것 이 네요 .',\n",
       "  '마음 이 복잡 했 길 바랄게요 .',\n",
       "  '마음 이 아프 겠 네요 .',\n",
       "  '벚꽃 계절 이 다가왔 도 있 죠 .'],\n",
       " ['또 다른 사랑 이 될 거 예요 .', '지칠 수 있 어 지 마세요 .', '그것 적 인 사랑 을 하 세요 .', '왜 그럴까요 ?'],\n",
       " ['정리 가 세요 .', '마음 이 착잡 하 겠 어요 .', '마음 을 끄 세요 .', '저 도 힘들 겠 네요 .'],\n",
       " ['아무리 은 시간 이 필요 하 죠 .', '마음 했 나 봐요 .', '마음 의 서술 를 해야 하 겠 어요 .', '놀 네요 .'],\n",
       " ['무슨 계기 가 있 어요 .', '마음 이 복잡 했 나 봐요 .', '사랑 은 마음 을 애정 해 보 세요 .', '제 있 죠 .'],\n",
       " ['먼저 다가가 세요 .', '마음 속 이 복잡 하 겠 어요 .', '먼저 말 해 보 세요 .', '저 랑 좋 아 졌 길 바라 요 .'],\n",
       " ['어느덧 만날 준비 가 되 었 나 봐요 .',\n",
       "  '지칠 만 이라도 했 나 봐요 .',\n",
       "  '그것 도 좋 았 어서요 .',\n",
       "  '찾아가 는 그럴 수 도 있 어요 .'],\n",
       " ['먼저 다가가 보 소서 .',\n",
       "  '맛있 게 했 으면 맘고생 많 았 어요 .',\n",
       "  '마음 의 정도 를 빠져 나오 세요 .',\n",
       "  '먼저 사람 들 이 즐겁 겠 네요 .'],\n",
       " ['어느덧 거나 가 계기 가 있 어요 .',\n",
       "  '맛있 게 드세요 .',\n",
       "  '마음 의 준비 가 좋 겠 네요 .',\n",
       "  '찾아가 는 게 있 더군요 .'],\n",
       " ['꼭 정리 해 봐요 .', '맛있 게 놀 아요 .', '마음 의 선택 에 바 라요 .', '지금 사람 이 즐겁 겠 네요 .'],\n",
       " ['무슨 계기 가 있 어요 .', '누군가 나 바랄게요 .', '종종 좋 은 사람 만날 거 예요 .', '말투 있 더군요 .'],\n",
       " ['어느덧 이 재미 가 있 어요 .',\n",
       "  '안타깝 했 겠 어요 .',\n",
       "  '마음 의 선택 으로 가 있 나 봐요 .',\n",
       "  '그럴 수 있 더군요 .'],\n",
       " ['바쁘 은 마음 이 지요 .', '맛있 게 놀 아요 .', '마음 의 선택 을 하 세요 .', '혼자 행복 할 때 가 되 겠 네요 .'],\n",
       " ['어느덧 보내 주 ㅂ시오 .',\n",
       "  '기분 했 겠 어요 .',\n",
       "  '마음 의 준비 를 해야 하 는 게 좋 겠 어요 .',\n",
       "  '제 그럴 수 있 더군요 .'],\n",
       " ['어느덧 정리 하 세요 .',\n",
       "  '마음 의 정리 했 을 텐데 안타깝 네요 .',\n",
       "  '마음 의 준비 를 하 세요 .',\n",
       "  '이제 는 저 도 못하 고 돼요 .'],\n",
       " ['바쁘 은 시간 이 습니다 .', '기분 했 겠 더군요 .', '마음 은 귀찮 지 않 았 는데요 .', '찾아가 고 싶 죠 .'],\n",
       " ['바쁘 은 시간 이 네요 .', '몸 했 나요 .', '마음 이 식 었 나 봐요 .', '언젠간 일 이 죠 .'],\n",
       " ['바쁘 해 주 세요 .', '안타깝 게 드세요 .', '마음 의 정리 를 해야 되 네요 .', '저 도 랑 좋 아요 .'],\n",
       " ['정리 가 세요 .', '맛있 게 드세요 .', '마음 의 선택 한 지적 가 될 때 가 있 었 겠 네요 .', '놀 고 놀 아요 .'],\n",
       " ['먼저 다가가 보 세요 .', '기분 좋 아 할 거 예요 .', '먼저 말 해 보 세요 .', '그럴 사람 이 믿 더군요 .'],\n",
       " ['바쁘 거나 머리 가 상관 네요 .', '남 의 바랄게요 .', '서술 를 해 보 세요 .', '찾아가 는 있 길 바랄게요 .'],\n",
       " ['잘 받아들여 지 군요 .', '몸 이 복잡 했 나 봐요 .', '신경 쓰 지 말 고 좋 겠 네요 .', '제 가 있 죠 .'],\n",
       " ['어느덧 보내 주 세요 .', '마음 이 복잡 하 겠 어요 .', '마음 의 준비 가 맞 네요 .', '남 거절 일 것 같 아요 .'],\n",
       " ['어느덧 썸 일 거 예요 .',\n",
       "  '맛있 게 드세요 .',\n",
       "  '마음 의 준비 를 해야 하 지 않 게 연락 해 보 세요 .',\n",
       "  '달려가 는 게 좋 죠 .'],\n",
       " ['바쁘 고 싶 은 시간 이 네요 .',\n",
       "  '맛있 게 먹 고 가끔 했 나 봐요 .',\n",
       "  '마음 의 선택 할 시간 이 네요 .',\n",
       "  '서로 거절 의 중간 이 즐겁 겠 네요 .'],\n",
       " ['다시 썸 으로 시작 을 뜻 하 게 될 거 예요 .',\n",
       "  '몸 했 어요 .',\n",
       "  '마음 의 선택 이 되 었 나 봐요 .',\n",
       "  '이제 랑 저 랑 되 겠 네요 .'],\n",
       " ['바쁘 고 나 봐요 .', '기분 했 나 봐요 .', '많이 안 됐 나 봐요 .', '그럴 때 가 있 죠 .'],\n",
       " ['무슨 가 없 어요 .', '마음 먹 어 보이 세요 .', '마음 의 정리 가 안 되 겠 네요 .', '서로 는 믿 으세요 .'],\n",
       " ['정리 가 높 으면 조심 이 네요 .',\n",
       "  '기분 이 에요 . 실수 했 길 바랄게요 .',\n",
       "  '마음 이 좀 후련 했 나 봐요 .',\n",
       "  '제 가 있 죠 .'],\n",
       " ['바쁘 은 마음 을 지요 .',\n",
       "  '기분 시간 이 언젠가 요 .',\n",
       "  '마음 의 선택 했 나 봐요 .',\n",
       "  '이제 는 저 도 그럴 고 있 어요 .'],\n",
       " ['잠시 휴식 을 취해 보 세요 .',\n",
       "  '마음 이 복잡 하 겠 어요 .',\n",
       "  '마음 의 정리 가 있 었 나 봐요 .',\n",
       "  '그럴 만 해요 .'],\n",
       " ['바쁘 바쁜가 봐요 .', '마음 했 많 겠 어요 .', '먼저 다가가 보 세요 .', '서로 즐거운 저 도 그럴 수 도 있 어요 .'],\n",
       " ['다시 받아들여 보 세요 .', '맛있 게 먹 어 보 세요 .', '마음 을 좀 는지 하 세요 .', '잠시 있 죠 .'],\n",
       " ['운명 이 있 군요 .', '맛있 게 드세요 .', '많이 힘들 었 겠 어서요 .', '서로 는 즐거운 사람 이 죠 .'],\n",
       " ['바쁘 를 정말 시간 이 네요 .', '기분 했 겠 어요 .', '마음 을 든 아프 네요 .', '찾아가 주 고 싶 네요 .'],\n",
       " ['먼저 다가가 보 세요 .', '기분 이 아무리 길 바랄게요 .', '마음 의 준비 가 있 나 봅니다 .', '저 랑 있 죠 .'],\n",
       " ['잠시 쉬 가 시간 을 풀 어 주 세요 .',\n",
       "  '기분 이 조금 이나마 남 아 가 기분 이 죠 .',\n",
       "  '마음 은 변하 지 않 았 으면 좋 겠 어요 .',\n",
       "  '제 가 있 잖아요 .'],\n",
       " ['가을 이 네요 .', '마음 먹 고 새 출발 하 세요 .', '마음 은 건강 적 지 않 았 나 봐요 .', '저 도 요 .'],\n",
       " ['마음 이 가 는 대로 하 나 봐요 .',\n",
       "  '마음 이 복잡 하 겠 어요 .',\n",
       "  '마음 의 준비 가 되 겠 네요 .',\n",
       "  '오늘 도 괜찮 아요 .'],\n",
       " ['다시 정리 가 필요 다니 걱정 되 네요 .',\n",
       "  '기분 했 나 봐요 .',\n",
       "  '마음 의 준비 가 맞 겠 네요 .',\n",
       "  '그럴 때 가 있 죠 .'],\n",
       " ['바쁘 고 나 봐요 .', '기분 했 나 봐요 .', '마음 의 정리 를 하 세요 .', '남 에게 피해 주 세요 .'],\n",
       " ['바쁘 거나 다른 마음 이 네요 .',\n",
       "  '기분 나쁘 겠 어요 .',\n",
       "  '마음 의 정리 가 안 되 세요 .',\n",
       "  '오늘 . 저 도 그럴 수 있 으면 돼요 .'],\n",
       " ['가을 이 가 남 구요 .', '기분 했 겠 어요 .', '마음 의 정리 가 안 되 네요 .', '잠시 쉬 어가 도 괜찮 아요 .'],\n",
       " ['먼저 고백 해 보 세요 .', '기분 했 나 봐요 .', '마음 의 선택 일거 라 생각 해요 .', '찾아가 랑 요 .'],\n",
       " ['바쁘 고 쉽 게 가 없 어요 .',\n",
       "  '기분 좋 은 사람 이 에요 .',\n",
       "  '마음 의 준비 가 안 되 겠 네요 .',\n",
       "  '제 있 는 일 이 길 죠 .'],\n",
       " ['그분 이 위로 해 가 쉽 지 않 아요 .', '기분 했 나 봐요 .', '마음 의 준비 가 안 돼요 .', '그럴 때 가 있 죠 .']]"
      ]
     },
     "execution_count": 71,
     "metadata": {},
     "output_type": "execute_result"
    }
   ],
   "source": [
    "translates"
   ]
  },
  {
   "cell_type": "code",
   "execution_count": 72,
   "id": "191803c9",
   "metadata": {},
   "outputs": [],
   "source": [
    "reference = references[0].split()\n",
    "candidate = translates[-1][0].split()\n"
   ]
  },
  {
   "cell_type": "code",
   "execution_count": 75,
   "id": "ff24691c",
   "metadata": {},
   "outputs": [
    {
     "name": "stdout",
     "output_type": "stream",
     "text": [
      "원문: ['잠깐', '쉬', '어도', '돼요', '.']\n",
      "번역문: ['그분', '이', '위로', '해', '가', '쉽', '지', '않', '아요', '.']\n",
      "BLEU Score: 1.0244914152188952e-231\n"
     ]
    },
    {
     "name": "stderr",
     "output_type": "stream",
     "text": [
      "/opt/conda/lib/python3.9/site-packages/nltk/translate/bleu_score.py:515: UserWarning: \n",
      "The hypothesis contains 0 counts of 2-gram overlaps.\n",
      "Therefore the BLEU score evaluates to 0, independently of\n",
      "how many N-gram overlaps of lower order it contains.\n",
      "Consider using lower n-gram order or use SmoothingFunction()\n",
      "  warnings.warn(_msg)\n",
      "/opt/conda/lib/python3.9/site-packages/nltk/translate/bleu_score.py:515: UserWarning: \n",
      "The hypothesis contains 0 counts of 3-gram overlaps.\n",
      "Therefore the BLEU score evaluates to 0, independently of\n",
      "how many N-gram overlaps of lower order it contains.\n",
      "Consider using lower n-gram order or use SmoothingFunction()\n",
      "  warnings.warn(_msg)\n",
      "/opt/conda/lib/python3.9/site-packages/nltk/translate/bleu_score.py:515: UserWarning: \n",
      "The hypothesis contains 0 counts of 4-gram overlaps.\n",
      "Therefore the BLEU score evaluates to 0, independently of\n",
      "how many N-gram overlaps of lower order it contains.\n",
      "Consider using lower n-gram order or use SmoothingFunction()\n",
      "  warnings.warn(_msg)\n"
     ]
    }
   ],
   "source": [
    "print(\"원문:\", reference)\n",
    "print(\"번역문:\", candidate)\n",
    "print(\"BLEU Score:\", sentence_bleu([reference], candidate))"
   ]
  },
  {
   "cell_type": "code",
   "execution_count": 78,
   "id": "98a6cdef",
   "metadata": {},
   "outputs": [
    {
     "name": "stdout",
     "output_type": "stream",
     "text": [
      "BLEU-1: 0.10000000000000002\n",
      "BLEU-2: 0.011111111111111112\n",
      "BLEU-3: 0.012500000000000006\n",
      "BLEU-4: 0.014285714285714294\n",
      "\n",
      "BLEU-Total: 0.021105340631872645\n"
     ]
    }
   ],
   "source": [
    "def calculate_bleu(reference, candidate, weights=[0.25, 0.25, 0.25, 0.25]):\n",
    "    return sentence_bleu([reference],\n",
    "                         candidate,\n",
    "                         weights=weights,\n",
    "                         smoothing_function=SmoothingFunction().method1)  # smoothing_function 적용\n",
    "\n",
    "\n",
    "print(\"BLEU-1:\", calculate_bleu(reference, candidate, weights=[1, 0, 0, 0]))\n",
    "print(\"BLEU-2:\", calculate_bleu(reference, candidate, weights=[0, 1, 0, 0]))\n",
    "print(\"BLEU-3:\", calculate_bleu(reference, candidate, weights=[0, 0, 1, 0]))\n",
    "print(\"BLEU-4:\", calculate_bleu(reference, candidate, weights=[0, 0, 0, 1]))\n",
    "\n",
    "print(\"\\nBLEU-Total:\", calculate_bleu(reference, candidate))"
   ]
  },
  {
   "cell_type": "code",
   "execution_count": 79,
   "id": "146e6c41",
   "metadata": {},
   "outputs": [
    {
     "data": {
      "text/plain": [
       "[['좋 을 는 좋 을 거 예요 .',\n",
       "  '좋 을 는 좋 을 거 예요 .',\n",
       "  '좋 을 는 좋 을 거 예요 .',\n",
       "  '좋 을 는 좋 을 거 예요 .'],\n",
       " ['좋 은 소식 이 에요 .',\n",
       "  '마음 이 복잡 하 겠 어요 .',\n",
       "  '마음 이 복잡 하 는 게 좋 아요 .',\n",
       "  '좋 은 만남 이 에요 .'],\n",
       " ['마음 이 라도 가 있 어요 .', '좋 은 걸 거 예요 .', '마음 이 복잡 하 겠 네요 .', '좋 은 걸 수 있 어요 .'],\n",
       " ['좋 은 소식 이 네요 .',\n",
       "  '마음 이 복잡 하 게 되 길 바랄게요 .',\n",
       "  '마음 이 복잡 하 지 않 았 어요 .',\n",
       "  '좋 아 하 는 시간 이 죠 .'],\n",
       " ['바쁜 것 같 은 것 이 네요 .',\n",
       "  '마음 이 복잡 했 길 바랄게요 .',\n",
       "  '마음 이 아프 겠 네요 .',\n",
       "  '벚꽃 계절 이 다가왔 도 있 죠 .'],\n",
       " ['또 다른 사랑 이 될 거 예요 .', '지칠 수 있 어 지 마세요 .', '그것 적 인 사랑 을 하 세요 .', '왜 그럴까요 ?'],\n",
       " ['정리 가 세요 .', '마음 이 착잡 하 겠 어요 .', '마음 을 끄 세요 .', '저 도 힘들 겠 네요 .'],\n",
       " ['아무리 은 시간 이 필요 하 죠 .', '마음 했 나 봐요 .', '마음 의 서술 를 해야 하 겠 어요 .', '놀 네요 .'],\n",
       " ['무슨 계기 가 있 어요 .', '마음 이 복잡 했 나 봐요 .', '사랑 은 마음 을 애정 해 보 세요 .', '제 있 죠 .'],\n",
       " ['먼저 다가가 세요 .', '마음 속 이 복잡 하 겠 어요 .', '먼저 말 해 보 세요 .', '저 랑 좋 아 졌 길 바라 요 .'],\n",
       " ['어느덧 만날 준비 가 되 었 나 봐요 .',\n",
       "  '지칠 만 이라도 했 나 봐요 .',\n",
       "  '그것 도 좋 았 어서요 .',\n",
       "  '찾아가 는 그럴 수 도 있 어요 .'],\n",
       " ['먼저 다가가 보 소서 .',\n",
       "  '맛있 게 했 으면 맘고생 많 았 어요 .',\n",
       "  '마음 의 정도 를 빠져 나오 세요 .',\n",
       "  '먼저 사람 들 이 즐겁 겠 네요 .'],\n",
       " ['어느덧 거나 가 계기 가 있 어요 .',\n",
       "  '맛있 게 드세요 .',\n",
       "  '마음 의 준비 가 좋 겠 네요 .',\n",
       "  '찾아가 는 게 있 더군요 .'],\n",
       " ['꼭 정리 해 봐요 .', '맛있 게 놀 아요 .', '마음 의 선택 에 바 라요 .', '지금 사람 이 즐겁 겠 네요 .'],\n",
       " ['무슨 계기 가 있 어요 .', '누군가 나 바랄게요 .', '종종 좋 은 사람 만날 거 예요 .', '말투 있 더군요 .'],\n",
       " ['어느덧 이 재미 가 있 어요 .',\n",
       "  '안타깝 했 겠 어요 .',\n",
       "  '마음 의 선택 으로 가 있 나 봐요 .',\n",
       "  '그럴 수 있 더군요 .'],\n",
       " ['바쁘 은 마음 이 지요 .', '맛있 게 놀 아요 .', '마음 의 선택 을 하 세요 .', '혼자 행복 할 때 가 되 겠 네요 .'],\n",
       " ['어느덧 보내 주 ㅂ시오 .',\n",
       "  '기분 했 겠 어요 .',\n",
       "  '마음 의 준비 를 해야 하 는 게 좋 겠 어요 .',\n",
       "  '제 그럴 수 있 더군요 .'],\n",
       " ['어느덧 정리 하 세요 .',\n",
       "  '마음 의 정리 했 을 텐데 안타깝 네요 .',\n",
       "  '마음 의 준비 를 하 세요 .',\n",
       "  '이제 는 저 도 못하 고 돼요 .'],\n",
       " ['바쁘 은 시간 이 습니다 .', '기분 했 겠 더군요 .', '마음 은 귀찮 지 않 았 는데요 .', '찾아가 고 싶 죠 .'],\n",
       " ['바쁘 은 시간 이 네요 .', '몸 했 나요 .', '마음 이 식 었 나 봐요 .', '언젠간 일 이 죠 .'],\n",
       " ['바쁘 해 주 세요 .', '안타깝 게 드세요 .', '마음 의 정리 를 해야 되 네요 .', '저 도 랑 좋 아요 .'],\n",
       " ['정리 가 세요 .', '맛있 게 드세요 .', '마음 의 선택 한 지적 가 될 때 가 있 었 겠 네요 .', '놀 고 놀 아요 .'],\n",
       " ['먼저 다가가 보 세요 .', '기분 좋 아 할 거 예요 .', '먼저 말 해 보 세요 .', '그럴 사람 이 믿 더군요 .'],\n",
       " ['바쁘 거나 머리 가 상관 네요 .', '남 의 바랄게요 .', '서술 를 해 보 세요 .', '찾아가 는 있 길 바랄게요 .'],\n",
       " ['잘 받아들여 지 군요 .', '몸 이 복잡 했 나 봐요 .', '신경 쓰 지 말 고 좋 겠 네요 .', '제 가 있 죠 .'],\n",
       " ['어느덧 보내 주 세요 .', '마음 이 복잡 하 겠 어요 .', '마음 의 준비 가 맞 네요 .', '남 거절 일 것 같 아요 .'],\n",
       " ['어느덧 썸 일 거 예요 .',\n",
       "  '맛있 게 드세요 .',\n",
       "  '마음 의 준비 를 해야 하 지 않 게 연락 해 보 세요 .',\n",
       "  '달려가 는 게 좋 죠 .'],\n",
       " ['바쁘 고 싶 은 시간 이 네요 .',\n",
       "  '맛있 게 먹 고 가끔 했 나 봐요 .',\n",
       "  '마음 의 선택 할 시간 이 네요 .',\n",
       "  '서로 거절 의 중간 이 즐겁 겠 네요 .'],\n",
       " ['다시 썸 으로 시작 을 뜻 하 게 될 거 예요 .',\n",
       "  '몸 했 어요 .',\n",
       "  '마음 의 선택 이 되 었 나 봐요 .',\n",
       "  '이제 랑 저 랑 되 겠 네요 .'],\n",
       " ['바쁘 고 나 봐요 .', '기분 했 나 봐요 .', '많이 안 됐 나 봐요 .', '그럴 때 가 있 죠 .'],\n",
       " ['무슨 가 없 어요 .', '마음 먹 어 보이 세요 .', '마음 의 정리 가 안 되 겠 네요 .', '서로 는 믿 으세요 .'],\n",
       " ['정리 가 높 으면 조심 이 네요 .',\n",
       "  '기분 이 에요 . 실수 했 길 바랄게요 .',\n",
       "  '마음 이 좀 후련 했 나 봐요 .',\n",
       "  '제 가 있 죠 .'],\n",
       " ['바쁘 은 마음 을 지요 .',\n",
       "  '기분 시간 이 언젠가 요 .',\n",
       "  '마음 의 선택 했 나 봐요 .',\n",
       "  '이제 는 저 도 그럴 고 있 어요 .'],\n",
       " ['잠시 휴식 을 취해 보 세요 .',\n",
       "  '마음 이 복잡 하 겠 어요 .',\n",
       "  '마음 의 정리 가 있 었 나 봐요 .',\n",
       "  '그럴 만 해요 .'],\n",
       " ['바쁘 바쁜가 봐요 .', '마음 했 많 겠 어요 .', '먼저 다가가 보 세요 .', '서로 즐거운 저 도 그럴 수 도 있 어요 .'],\n",
       " ['다시 받아들여 보 세요 .', '맛있 게 먹 어 보 세요 .', '마음 을 좀 는지 하 세요 .', '잠시 있 죠 .'],\n",
       " ['운명 이 있 군요 .', '맛있 게 드세요 .', '많이 힘들 었 겠 어서요 .', '서로 는 즐거운 사람 이 죠 .'],\n",
       " ['바쁘 를 정말 시간 이 네요 .', '기분 했 겠 어요 .', '마음 을 든 아프 네요 .', '찾아가 주 고 싶 네요 .'],\n",
       " ['먼저 다가가 보 세요 .', '기분 이 아무리 길 바랄게요 .', '마음 의 준비 가 있 나 봅니다 .', '저 랑 있 죠 .'],\n",
       " ['잠시 쉬 가 시간 을 풀 어 주 세요 .',\n",
       "  '기분 이 조금 이나마 남 아 가 기분 이 죠 .',\n",
       "  '마음 은 변하 지 않 았 으면 좋 겠 어요 .',\n",
       "  '제 가 있 잖아요 .'],\n",
       " ['가을 이 네요 .', '마음 먹 고 새 출발 하 세요 .', '마음 은 건강 적 지 않 았 나 봐요 .', '저 도 요 .'],\n",
       " ['마음 이 가 는 대로 하 나 봐요 .',\n",
       "  '마음 이 복잡 하 겠 어요 .',\n",
       "  '마음 의 준비 가 되 겠 네요 .',\n",
       "  '오늘 도 괜찮 아요 .'],\n",
       " ['다시 정리 가 필요 다니 걱정 되 네요 .',\n",
       "  '기분 했 나 봐요 .',\n",
       "  '마음 의 준비 가 맞 겠 네요 .',\n",
       "  '그럴 때 가 있 죠 .'],\n",
       " ['바쁘 고 나 봐요 .', '기분 했 나 봐요 .', '마음 의 정리 를 하 세요 .', '남 에게 피해 주 세요 .'],\n",
       " ['바쁘 거나 다른 마음 이 네요 .',\n",
       "  '기분 나쁘 겠 어요 .',\n",
       "  '마음 의 정리 가 안 되 세요 .',\n",
       "  '오늘 . 저 도 그럴 수 있 으면 돼요 .'],\n",
       " ['가을 이 가 남 구요 .', '기분 했 겠 어요 .', '마음 의 정리 가 안 되 네요 .', '잠시 쉬 어가 도 괜찮 아요 .'],\n",
       " ['먼저 고백 해 보 세요 .', '기분 했 나 봐요 .', '마음 의 선택 일거 라 생각 해요 .', '찾아가 랑 요 .'],\n",
       " ['바쁘 고 쉽 게 가 없 어요 .',\n",
       "  '기분 좋 은 사람 이 에요 .',\n",
       "  '마음 의 준비 가 안 되 겠 네요 .',\n",
       "  '제 있 는 일 이 길 죠 .'],\n",
       " ['그분 이 위로 해 가 쉽 지 않 아요 .', '기분 했 나 봐요 .', '마음 의 준비 가 안 돼요 .', '그럴 때 가 있 죠 .']]"
      ]
     },
     "execution_count": 79,
     "metadata": {},
     "output_type": "execute_result"
    }
   ],
   "source": [
    "translates"
   ]
  },
  {
   "cell_type": "code",
   "execution_count": 83,
   "id": "6f80b4ed",
   "metadata": {},
   "outputs": [
    {
     "name": "stdout",
     "output_type": "stream",
     "text": [
      "epoch : 1\n",
      "    BLEU-1: 0.015625\n",
      "    BLEU-2: 0.001666666666666667\n",
      "    BLEU-3: 0.0017857142857142865\n",
      "    BLEU-4: 0.0019230769230769234\n",
      "    평균 BLEU-Total Score : 0.012300686288463768\n",
      "----------------------------------------\n",
      "\n",
      "epoch : 2\n",
      "    BLEU-1: 0.019230769230769232\n",
      "    BLEU-2: 0.0020833333333333337\n",
      "    BLEU-3: 0.002272727272727274\n",
      "    BLEU-4: 0.002500000000000001\n",
      "    평균 BLEU-Total Score : 0.01325122032204315\n",
      "----------------------------------------\n",
      "\n",
      "epoch : 3\n",
      "    BLEU-1: 0.017857142857142853\n",
      "    BLEU-2: 0.0019230769230769234\n",
      "    BLEU-3: 0.0020833333333333337\n",
      "    BLEU-4: 0.002272727272727274\n",
      "    평균 BLEU-Total Score : 0.013979547798306527\n",
      "----------------------------------------\n",
      "\n",
      "epoch : 4\n",
      "    BLEU-1: 0.015625\n",
      "    BLEU-2: 0.001666666666666667\n",
      "    BLEU-3: 0.0017857142857142865\n",
      "    BLEU-4: 0.0019230769230769234\n",
      "    평균 BLEU-Total Score : 0.011538807844532217\n",
      "----------------------------------------\n",
      "\n",
      "epoch : 5\n",
      "    BLEU-1: 0.013157894736842103\n",
      "    BLEU-2: 0.0013888888888888887\n",
      "    BLEU-3: 0.0014705882352941172\n",
      "    BLEU-4: 0.0015625000000000005\n",
      "    평균 BLEU-Total Score : 0.011692789183915725\n",
      "----------------------------------------\n",
      "\n",
      "epoch : 6\n",
      "    BLEU-1: 0.0\n",
      "    BLEU-2: 0.0\n",
      "    BLEU-3: 0.0\n",
      "    BLEU-4: 0.0\n",
      "    평균 BLEU-Total Score : 0.008476329017569974\n",
      "----------------------------------------\n",
      "\n",
      "epoch : 7\n",
      "    BLEU-1: 0.019230769230769232\n",
      "    BLEU-2: 0.0020833333333333337\n",
      "    BLEU-3: 0.002272727272727274\n",
      "    BLEU-4: 0.002500000000000001\n",
      "    평균 BLEU-Total Score : 0.017667106941449642\n",
      "----------------------------------------\n",
      "\n",
      "epoch : 8\n",
      "    BLEU-1: 0.04166666666666667\n",
      "    BLEU-2: 0.005\n",
      "    BLEU-3: 0.00625\n",
      "    BLEU-4: 0.008333333333333333\n",
      "    평균 BLEU-Total Score : 0.019747999345473406\n",
      "----------------------------------------\n",
      "\n",
      "epoch : 9\n",
      "    BLEU-1: 0.03571428571428571\n",
      "    BLEU-2: 0.0041666666666666675\n",
      "    BLEU-3: 0.005\n",
      "    BLEU-4: 0.00625\n",
      "    평균 BLEU-Total Score : 0.017187596428456395\n",
      "----------------------------------------\n",
      "\n",
      "epoch : 10\n",
      "    BLEU-1: 0.013888888888888885\n",
      "    BLEU-2: 0.0014705882352941172\n",
      "    BLEU-3: 0.0015625000000000005\n",
      "    BLEU-4: 0.001666666666666667\n",
      "    평균 BLEU-Total Score : 0.013998018624330958\n",
      "----------------------------------------\n",
      "\n",
      "epoch : 11\n",
      "    BLEU-1: 0.013157894736842103\n",
      "    BLEU-2: 0.0013888888888888887\n",
      "    BLEU-3: 0.0014705882352941172\n",
      "    BLEU-4: 0.0015625000000000005\n",
      "    평균 BLEU-Total Score : 0.011164079406867863\n",
      "----------------------------------------\n",
      "\n",
      "epoch : 12\n",
      "    BLEU-1: 0.013157894736842103\n",
      "    BLEU-2: 0.0013888888888888887\n",
      "    BLEU-3: 0.0014705882352941172\n",
      "    BLEU-4: 0.0015625000000000005\n",
      "    평균 BLEU-Total Score : 0.01100924268396515\n",
      "----------------------------------------\n",
      "\n",
      "epoch : 13\n",
      "    BLEU-1: 0.016666666666666666\n",
      "    BLEU-2: 0.0017857142857142865\n",
      "    BLEU-3: 0.0019230769230769234\n",
      "    BLEU-4: 0.0020833333333333337\n",
      "    평균 BLEU-Total Score : 0.013688886690836535\n",
      "----------------------------------------\n",
      "\n",
      "epoch : 14\n",
      "    BLEU-1: 0.014705882352941175\n",
      "    BLEU-2: 0.0015625000000000005\n",
      "    BLEU-3: 0.001666666666666667\n",
      "    BLEU-4: 0.0017857142857142865\n",
      "    평균 BLEU-Total Score : 0.015376026988464629\n",
      "----------------------------------------\n",
      "\n",
      "epoch : 15\n",
      "    BLEU-1: 0.025000000000000005\n",
      "    BLEU-2: 0.002777777777777778\n",
      "    BLEU-3: 0.0031250000000000015\n",
      "    BLEU-4: 0.0035714285714285735\n",
      "    평균 BLEU-Total Score : 0.015651146223591678\n",
      "----------------------------------------\n",
      "\n",
      "epoch : 16\n",
      "    BLEU-1: 0.020833333333333332\n",
      "    BLEU-2: 0.002272727272727274\n",
      "    BLEU-3: 0.002500000000000001\n",
      "    BLEU-4: 0.002777777777777778\n",
      "    평균 BLEU-Total Score : 0.01367589484043577\n",
      "----------------------------------------\n",
      "\n",
      "epoch : 17\n",
      "    BLEU-1: 0.012500000000000002\n",
      "    BLEU-2: 0.0013157894736842105\n",
      "    BLEU-3: 0.0013888888888888887\n",
      "    BLEU-4: 0.0014705882352941172\n",
      "    평균 BLEU-Total Score : 0.013766145376014637\n",
      "----------------------------------------\n",
      "\n",
      "epoch : 18\n",
      "    BLEU-1: 0.017857142857142853\n",
      "    BLEU-2: 0.0019230769230769234\n",
      "    BLEU-3: 0.0020833333333333337\n",
      "    BLEU-4: 0.002272727272727274\n",
      "    평균 BLEU-Total Score : 0.013599486399358079\n",
      "----------------------------------------\n",
      "\n",
      "epoch : 19\n",
      "    BLEU-1: 0.013888888888888885\n",
      "    BLEU-2: 0.0014705882352941172\n",
      "    BLEU-3: 0.0015625000000000005\n",
      "    BLEU-4: 0.001666666666666667\n",
      "    평균 BLEU-Total Score : 0.011730602383275446\n",
      "----------------------------------------\n",
      "\n",
      "epoch : 20\n",
      "    BLEU-1: 0.022727272727272724\n",
      "    BLEU-2: 0.002500000000000001\n",
      "    BLEU-3: 0.002777777777777778\n",
      "    BLEU-4: 0.0031250000000000015\n",
      "    평균 BLEU-Total Score : 0.014820969583239859\n",
      "----------------------------------------\n",
      "\n",
      "epoch : 21\n",
      "    BLEU-1: 0.022727272727272724\n",
      "    BLEU-2: 0.002500000000000001\n",
      "    BLEU-3: 0.002777777777777778\n",
      "    BLEU-4: 0.0031250000000000015\n",
      "    평균 BLEU-Total Score : 0.018532022391975465\n",
      "----------------------------------------\n",
      "\n",
      "epoch : 22\n",
      "    BLEU-1: 0.020833333333333332\n",
      "    BLEU-2: 0.002272727272727274\n",
      "    BLEU-3: 0.002500000000000001\n",
      "    BLEU-4: 0.002777777777777778\n",
      "    평균 BLEU-Total Score : 0.016229062432332374\n",
      "----------------------------------------\n",
      "\n",
      "epoch : 23\n",
      "    BLEU-1: 0.025000000000000005\n",
      "    BLEU-2: 0.002777777777777778\n",
      "    BLEU-3: 0.0031250000000000015\n",
      "    BLEU-4: 0.0035714285714285735\n",
      "    평균 BLEU-Total Score : 0.018055844937943464\n",
      "----------------------------------------\n",
      "\n",
      "epoch : 24\n",
      "    BLEU-1: 0.016666666666666666\n",
      "    BLEU-2: 0.0017857142857142865\n",
      "    BLEU-3: 0.0019230769230769234\n",
      "    BLEU-4: 0.0020833333333333337\n",
      "    평균 BLEU-Total Score : 0.014377536659568823\n",
      "----------------------------------------\n",
      "\n",
      "epoch : 25\n",
      "    BLEU-1: 0.015625\n",
      "    BLEU-2: 0.001666666666666667\n",
      "    BLEU-3: 0.0017857142857142865\n",
      "    BLEU-4: 0.0019230769230769234\n",
      "    평균 BLEU-Total Score : 0.014936366876001205\n",
      "----------------------------------------\n",
      "\n",
      "epoch : 26\n",
      "    BLEU-1: 0.027777777777777773\n",
      "    BLEU-2: 0.0031250000000000015\n",
      "    BLEU-3: 0.0035714285714285735\n",
      "    BLEU-4: 0.0041666666666666675\n",
      "    평균 BLEU-Total Score : 0.015729448931790062\n",
      "----------------------------------------\n",
      "\n",
      "epoch : 27\n",
      "    BLEU-1: 0.016666666666666666\n",
      "    BLEU-2: 0.0017857142857142865\n",
      "    BLEU-3: 0.0019230769230769234\n",
      "    BLEU-4: 0.0020833333333333337\n",
      "    평균 BLEU-Total Score : 0.013339111474016297\n",
      "----------------------------------------\n",
      "\n",
      "epoch : 28\n",
      "    BLEU-1: 0.019230769230769232\n",
      "    BLEU-2: 0.0020833333333333337\n",
      "    BLEU-3: 0.002272727272727274\n",
      "    BLEU-4: 0.002500000000000001\n",
      "    평균 BLEU-Total Score : 0.0141901115209077\n",
      "----------------------------------------\n",
      "\n",
      "epoch : 29\n",
      "    BLEU-1: 0.011363636363636366\n",
      "    BLEU-2: 0.0011904761904761908\n",
      "    BLEU-3: 0.0012500000000000005\n",
      "    BLEU-4: 0.0013157894736842105\n",
      "    평균 BLEU-Total Score : 0.009825539983502078\n",
      "----------------------------------------\n",
      "\n",
      "epoch : 30\n",
      "    BLEU-1: 0.014705882352941175\n",
      "    BLEU-2: 0.0015625000000000005\n",
      "    BLEU-3: 0.001666666666666667\n",
      "    BLEU-4: 0.0017857142857142865\n",
      "    평균 BLEU-Total Score : 0.01397231974789312\n",
      "----------------------------------------\n",
      "\n",
      "epoch : 31\n",
      "    BLEU-1: 0.020833333333333332\n",
      "    BLEU-2: 0.002272727272727274\n",
      "    BLEU-3: 0.002500000000000001\n",
      "    BLEU-4: 0.002777777777777778\n",
      "    평균 BLEU-Total Score : 0.017567737443973584\n",
      "----------------------------------------\n",
      "\n",
      "epoch : 32\n",
      "    BLEU-1: 0.020833333333333332\n",
      "    BLEU-2: 0.002272727272727274\n",
      "    BLEU-3: 0.002500000000000001\n",
      "    BLEU-4: 0.002777777777777778\n",
      "    평균 BLEU-Total Score : 0.014949270313308515\n",
      "----------------------------------------\n",
      "\n",
      "epoch : 33\n",
      "    BLEU-1: 0.027777777777777773\n",
      "    BLEU-2: 0.0031250000000000015\n",
      "    BLEU-3: 0.0035714285714285735\n",
      "    BLEU-4: 0.0041666666666666675\n",
      "    평균 BLEU-Total Score : 0.013311829989975068\n",
      "----------------------------------------\n",
      "\n",
      "epoch : 34\n",
      "    BLEU-1: 0.012500000000000002\n",
      "    BLEU-2: 0.0013157894736842105\n",
      "    BLEU-3: 0.0013888888888888887\n",
      "    BLEU-4: 0.0014705882352941172\n",
      "    평균 BLEU-Total Score : 0.012358052526922122\n",
      "----------------------------------------\n",
      "\n",
      "epoch : 35\n",
      "    BLEU-1: 0.027777777777777773\n",
      "    BLEU-2: 0.0031250000000000015\n",
      "    BLEU-3: 0.0035714285714285735\n",
      "    BLEU-4: 0.0041666666666666675\n",
      "    평균 BLEU-Total Score : 0.014353427571094764\n",
      "----------------------------------------\n",
      "\n",
      "epoch : 36\n",
      "    BLEU-1: 0.010416666666666666\n",
      "    BLEU-2: 0.0010869565217391302\n",
      "    BLEU-3: 0.001136363636363637\n",
      "    BLEU-4: 0.0011904761904761908\n",
      "    평균 BLEU-Total Score : 0.014459454419922666\n",
      "----------------------------------------\n",
      "\n",
      "epoch : 37\n",
      "    BLEU-1: 0.03125000000000001\n",
      "    BLEU-2: 0.0035714285714285735\n",
      "    BLEU-3: 0.0041666666666666675\n",
      "    BLEU-4: 0.005\n",
      "    평균 BLEU-Total Score : 0.016894614208404567\n",
      "----------------------------------------\n",
      "\n",
      "epoch : 38\n",
      "    BLEU-1: 0.014705882352941175\n",
      "    BLEU-2: 0.0015625000000000005\n",
      "    BLEU-3: 0.001666666666666667\n",
      "    BLEU-4: 0.0017857142857142865\n",
      "    평균 BLEU-Total Score : 0.016169097725224336\n",
      "----------------------------------------\n",
      "\n",
      "epoch : 39\n",
      "    BLEU-1: 0.017857142857142853\n",
      "    BLEU-2: 0.0019230769230769234\n",
      "    BLEU-3: 0.0020833333333333337\n",
      "    BLEU-4: 0.002272727272727274\n",
      "    평균 BLEU-Total Score : 0.014730091949991496\n",
      "----------------------------------------\n",
      "\n",
      "epoch : 40\n",
      "    BLEU-1: 0.027777777777777773\n",
      "    BLEU-2: 0.0031250000000000015\n",
      "    BLEU-3: 0.0035714285714285735\n",
      "    BLEU-4: 0.0041666666666666675\n",
      "    평균 BLEU-Total Score : 0.01530065793017075\n",
      "----------------------------------------\n",
      "\n",
      "epoch : 41\n",
      "    BLEU-1: 0.022727272727272724\n",
      "    BLEU-2: 0.002500000000000001\n",
      "    BLEU-3: 0.002777777777777778\n",
      "    BLEU-4: 0.0031250000000000015\n",
      "    평균 BLEU-Total Score : 0.011005779004024302\n",
      "----------------------------------------\n",
      "\n",
      "epoch : 42\n",
      "    BLEU-1: 0.03571428571428571\n",
      "    BLEU-2: 0.0041666666666666675\n",
      "    BLEU-3: 0.005\n",
      "    BLEU-4: 0.00625\n",
      "    평균 BLEU-Total Score : 0.01912543265389746\n",
      "----------------------------------------\n",
      "\n",
      "epoch : 43\n",
      "    BLEU-1: 0.020833333333333332\n",
      "    BLEU-2: 0.002272727272727274\n",
      "    BLEU-3: 0.002500000000000001\n",
      "    BLEU-4: 0.002777777777777778\n",
      "    평균 BLEU-Total Score : 0.012441532707799813\n",
      "----------------------------------------\n",
      "\n",
      "epoch : 44\n",
      "    BLEU-1: 0.020833333333333332\n",
      "    BLEU-2: 0.002272727272727274\n",
      "    BLEU-3: 0.002500000000000001\n",
      "    BLEU-4: 0.002777777777777778\n",
      "    평균 BLEU-Total Score : 0.013742025653066075\n",
      "----------------------------------------\n",
      "\n",
      "epoch : 45\n",
      "    BLEU-1: 0.017857142857142853\n",
      "    BLEU-2: 0.0019230769230769234\n",
      "    BLEU-3: 0.0020833333333333337\n",
      "    BLEU-4: 0.002272727272727274\n",
      "    평균 BLEU-Total Score : 0.01607123922815444\n",
      "----------------------------------------\n",
      "\n",
      "epoch : 46\n",
      "    BLEU-1: 0.010869565217391304\n",
      "    BLEU-2: 0.001136363636363637\n",
      "    BLEU-3: 0.0011904761904761908\n",
      "    BLEU-4: 0.0012500000000000005\n",
      "    평균 BLEU-Total Score : 0.011730024620106253\n",
      "----------------------------------------\n",
      "\n",
      "epoch : 47\n",
      "    BLEU-1: 0.029411764705882353\n",
      "    BLEU-2: 0.0015625000000000005\n",
      "    BLEU-3: 0.001666666666666667\n",
      "    BLEU-4: 0.0017857142857142865\n",
      "    평균 BLEU-Total Score : 0.014717237932384416\n",
      "----------------------------------------\n",
      "\n",
      "epoch : 48\n",
      "    BLEU-1: 0.027777777777777773\n",
      "    BLEU-2: 0.0031250000000000015\n",
      "    BLEU-3: 0.0035714285714285735\n",
      "    BLEU-4: 0.0041666666666666675\n",
      "    평균 BLEU-Total Score : 0.01668604799435547\n",
      "----------------------------------------\n",
      "\n",
      "epoch : 49\n",
      "    BLEU-1: 0.016666666666666666\n",
      "    BLEU-2: 0.0017857142857142865\n",
      "    BLEU-3: 0.0019230769230769234\n",
      "    BLEU-4: 0.0020833333333333337\n",
      "    평균 BLEU-Total Score : 0.011662840287232312\n",
      "----------------------------------------\n",
      "\n",
      "epoch : 50\n",
      "    BLEU-1: 0.020833333333333332\n",
      "    BLEU-2: 0.002272727272727274\n",
      "    BLEU-3: 0.002500000000000001\n",
      "    BLEU-4: 0.002777777777777778\n",
      "    평균 BLEU-Total Score : 0.014217916782891755\n",
      "----------------------------------------\n",
      "\n"
     ]
    }
   ],
   "source": [
    "for idx, translate in enumerate(translates):    \n",
    "    print(f\"epoch : {idx+1}\")\n",
    "    bleu1, bleu2, bleu3, bleu4, score = 0, 0, 0, 0, 0\n",
    "    for i, candidate in enumerate(translate):\n",
    "        bleu1 = calculate_bleu(reference, candidate, weights=[1, 0, 0, 0])\n",
    "        bleu2 = calculate_bleu(reference, candidate, weights=[0, 1, 0, 0])\n",
    "        bleu3 = calculate_bleu(reference, candidate, weights=[0, 0, 1, 0])\n",
    "        bleu4 = calculate_bleu(reference, candidate, weights=[0, 0, 0, 1])\n",
    "        score += calculate_bleu(reference, candidate)\n",
    "    \n",
    "    \n",
    "    print(f\"    BLEU-1: {bleu1/ len(translate)}\")\n",
    "    print(f\"    BLEU-2: {bleu2/ len(translate)}\")\n",
    "    print(f\"    BLEU-3: {bleu3/ len(translate)}\")\n",
    "    print(f\"    BLEU-4: {bleu4/ len(translate)}\")\n",
    "    print(f\"    평균 BLEU-Total Score : {score/len(translate)}\")\n",
    "    print('-'*40)\n",
    "    print()"
   ]
  },
  {
   "cell_type": "markdown",
   "id": "16097171",
   "metadata": {},
   "source": [
    "### 예문\n",
    "1. 지루하다, 놀러가고 싶어.\n",
    "2. 오늘 일찍 일어났더니 피곤하다.\n",
    "3. 간만에 여자친구랑 데이트 하기로 했어.\n",
    "4. 집에 있는다는 소리야.\n",
    "\n",
    "---\n",
    "\n",
    "### 제출\n",
    "\n",
    "Translations\n",
    "> 1. 잠깐 쉬 어도 돼요 . <end>\n",
    "> 2. 맛난 거 드세요 . <end>\n",
    "> 3. 떨리 겠 죠 . <end>\n",
    "> 4. 좋 아 하 면 그럴 수 있 어요 . <end>\n",
    "\n",
    "Hyperparameters\n",
    "> n_layers: 1\n",
    "> d_model: 368\n",
    "> n_heads: 8\n",
    "> d_ff: 1024\n",
    "> dropout: 0.2\n",
    "\n",
    "Training Parameters\n",
    "> Warmup Steps: 1000\n",
    "> Batch Size: 64\n",
    "> Epoch At: 10"
   ]
  },
  {
   "cell_type": "markdown",
   "id": "8c89afc6",
   "metadata": {},
   "source": [
    "# 회고\n",
    "\n",
    "- 배운 점 \n",
    "    - transformer의 구조에 대해 좀 더 명확히 이해할 수 있었다\n",
    "    - 숫자를 제거하는 전처리 제거만으로도 대답이 확연히 달라지는 것을 볼 수 있었다\n",
    "- 아쉬운 점 \n",
    "    - nan으로 계속 loss가 나와서 한참 시간을 썼다\n",
    "    - 구조를 잘 이해하면 더 잘 해결하지 않았을까 아쉽다\n",
    "- 느낀 점\n",
    "    - 데이터 셋이 많아야하고 증강하는데도 더 의미있는 증강이 필요할 것 같다\n",
    "- 어려웠던 점 \n",
    "    - transformer의 구조를 이해하는데 어려웠다\n",
    "    - loss function이나 전체적인 구조를 이해하기 어려웠다"
   ]
  }
 ],
 "metadata": {
  "kernelspec": {
   "display_name": "Python 3 (ipykernel)",
   "language": "python",
   "name": "python3"
  },
  "language_info": {
   "codemirror_mode": {
    "name": "ipython",
    "version": 3
   },
   "file_extension": ".py",
   "mimetype": "text/x-python",
   "name": "python",
   "nbconvert_exporter": "python",
   "pygments_lexer": "ipython3",
   "version": "3.9.7"
  }
 },
 "nbformat": 4,
 "nbformat_minor": 5
}
