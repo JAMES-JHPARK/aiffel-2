{
 "cells": [
  {
   "cell_type": "markdown",
   "id": "2e74ab31",
   "metadata": {},
   "source": [
    "# Project: 멋진 챗봇 만들기"
   ]
  },
  {
   "cell_type": "markdown",
   "id": "42b3b85a",
   "metadata": {},
   "source": [
    "- 라이브러리 버전을 확인해 봅니다\n",
    "- 사용할 라이브러리 버전을 둘러봅시다."
   ]
  },
  {
   "cell_type": "code",
   "execution_count": 1,
   "id": "ea91f74b",
   "metadata": {},
   "outputs": [
    {
     "name": "stdout",
     "output_type": "stream",
     "text": [
      "1.21.4\n",
      "1.3.3\n",
      "2.6.0\n",
      "3.6.5\n",
      "3.8.3\n"
     ]
    }
   ],
   "source": [
    "import numpy \n",
    "import pandas \n",
    "import tensorflow \n",
    "import nltk\n",
    "import gensim\n",
    "\n",
    "print(numpy.__version__)\n",
    "print(pandas.__version__)\n",
    "print(tensorflow.__version__)\n",
    "print(nltk.__version__)\n",
    "print(gensim.__version__)"
   ]
  },
  {
   "cell_type": "code",
   "execution_count": 2,
   "id": "e09f4cf9",
   "metadata": {},
   "outputs": [],
   "source": [
    "import os\n",
    "import re\n",
    "\n",
    "import pandas as pd\n",
    "import numpy as np\n",
    "\n",
    "import tensorflow as tf"
   ]
  },
  {
   "cell_type": "code",
   "execution_count": 3,
   "id": "c6183228",
   "metadata": {},
   "outputs": [],
   "source": [
    "from tqdm import tqdm, trange"
   ]
  },
  {
   "cell_type": "markdown",
   "id": "94f07225",
   "metadata": {},
   "source": [
    "## Step 1. 데이터 다운로드\n",
    "준비하기 단계에서 심볼릭 링크를 생성했다면 아래 파일이 ChatbotData .csv라는 이름으로 저장되어 있을거예요. csv 파일을 읽는 데에는 pandas 라이브러리가 적합합니다. 읽어 온 데이터의 질문과 답변을 각각 questions, answers 변수에 나눠서 저장하세요!\n",
    "\n",
    "- songys/Chatbot_data"
   ]
  },
  {
   "cell_type": "code",
   "execution_count": 4,
   "id": "1fb4c00f",
   "metadata": {},
   "outputs": [],
   "source": [
    "chatbot = pd.read_csv('./data/ChatbotData.csv')"
   ]
  },
  {
   "cell_type": "code",
   "execution_count": 5,
   "id": "21384214",
   "metadata": {},
   "outputs": [],
   "source": [
    "questions = chatbot.Q.tolist()\n",
    "answers = chatbot.A.tolist()"
   ]
  },
  {
   "cell_type": "code",
   "execution_count": 6,
   "id": "f4da6f81",
   "metadata": {},
   "outputs": [
    {
     "data": {
      "text/html": [
       "<div>\n",
       "<style scoped>\n",
       "    .dataframe tbody tr th:only-of-type {\n",
       "        vertical-align: middle;\n",
       "    }\n",
       "\n",
       "    .dataframe tbody tr th {\n",
       "        vertical-align: top;\n",
       "    }\n",
       "\n",
       "    .dataframe thead th {\n",
       "        text-align: right;\n",
       "    }\n",
       "</style>\n",
       "<table border=\"1\" class=\"dataframe\">\n",
       "  <thead>\n",
       "    <tr style=\"text-align: right;\">\n",
       "      <th></th>\n",
       "      <th>Q</th>\n",
       "      <th>A</th>\n",
       "      <th>label</th>\n",
       "    </tr>\n",
       "  </thead>\n",
       "  <tbody>\n",
       "    <tr>\n",
       "      <th>0</th>\n",
       "      <td>12시 땡!</td>\n",
       "      <td>하루가 또 가네요.</td>\n",
       "      <td>0</td>\n",
       "    </tr>\n",
       "    <tr>\n",
       "      <th>1</th>\n",
       "      <td>1지망 학교 떨어졌어</td>\n",
       "      <td>위로해 드립니다.</td>\n",
       "      <td>0</td>\n",
       "    </tr>\n",
       "    <tr>\n",
       "      <th>2</th>\n",
       "      <td>3박4일 놀러가고 싶다</td>\n",
       "      <td>여행은 언제나 좋죠.</td>\n",
       "      <td>0</td>\n",
       "    </tr>\n",
       "    <tr>\n",
       "      <th>3</th>\n",
       "      <td>3박4일 정도 놀러가고 싶다</td>\n",
       "      <td>여행은 언제나 좋죠.</td>\n",
       "      <td>0</td>\n",
       "    </tr>\n",
       "    <tr>\n",
       "      <th>4</th>\n",
       "      <td>PPL 심하네</td>\n",
       "      <td>눈살이 찌푸려지죠.</td>\n",
       "      <td>0</td>\n",
       "    </tr>\n",
       "    <tr>\n",
       "      <th>...</th>\n",
       "      <td>...</td>\n",
       "      <td>...</td>\n",
       "      <td>...</td>\n",
       "    </tr>\n",
       "    <tr>\n",
       "      <th>11818</th>\n",
       "      <td>훔쳐보는 것도 눈치 보임.</td>\n",
       "      <td>티가 나니까 눈치가 보이는 거죠!</td>\n",
       "      <td>2</td>\n",
       "    </tr>\n",
       "    <tr>\n",
       "      <th>11819</th>\n",
       "      <td>훔쳐보는 것도 눈치 보임.</td>\n",
       "      <td>훔쳐보는 거 티나나봐요.</td>\n",
       "      <td>2</td>\n",
       "    </tr>\n",
       "    <tr>\n",
       "      <th>11820</th>\n",
       "      <td>흑기사 해주는 짝남.</td>\n",
       "      <td>설렜겠어요.</td>\n",
       "      <td>2</td>\n",
       "    </tr>\n",
       "    <tr>\n",
       "      <th>11821</th>\n",
       "      <td>힘든 연애 좋은 연애라는게 무슨 차이일까?</td>\n",
       "      <td>잘 헤어질 수 있는 사이 여부인 거 같아요.</td>\n",
       "      <td>2</td>\n",
       "    </tr>\n",
       "    <tr>\n",
       "      <th>11822</th>\n",
       "      <td>힘들어서 결혼할까봐</td>\n",
       "      <td>도피성 결혼은 하지 않길 바라요.</td>\n",
       "      <td>2</td>\n",
       "    </tr>\n",
       "  </tbody>\n",
       "</table>\n",
       "<p>11823 rows × 3 columns</p>\n",
       "</div>"
      ],
      "text/plain": [
       "                             Q                         A  label\n",
       "0                       12시 땡!                하루가 또 가네요.      0\n",
       "1                  1지망 학교 떨어졌어                 위로해 드립니다.      0\n",
       "2                 3박4일 놀러가고 싶다               여행은 언제나 좋죠.      0\n",
       "3              3박4일 정도 놀러가고 싶다               여행은 언제나 좋죠.      0\n",
       "4                      PPL 심하네                눈살이 찌푸려지죠.      0\n",
       "...                        ...                       ...    ...\n",
       "11818           훔쳐보는 것도 눈치 보임.        티가 나니까 눈치가 보이는 거죠!      2\n",
       "11819           훔쳐보는 것도 눈치 보임.             훔쳐보는 거 티나나봐요.      2\n",
       "11820              흑기사 해주는 짝남.                    설렜겠어요.      2\n",
       "11821  힘든 연애 좋은 연애라는게 무슨 차이일까?  잘 헤어질 수 있는 사이 여부인 거 같아요.      2\n",
       "11822               힘들어서 결혼할까봐        도피성 결혼은 하지 않길 바라요.      2\n",
       "\n",
       "[11823 rows x 3 columns]"
      ]
     },
     "execution_count": 6,
     "metadata": {},
     "output_type": "execute_result"
    }
   ],
   "source": [
    "chatbot"
   ]
  },
  {
   "cell_type": "markdown",
   "id": "5fc670d9",
   "metadata": {},
   "source": [
    "## Step 2. 데이터 정제\n",
    "아래 조건을 만족하는 preprocess_sentence() 함수를 구현하세요.\n",
    "\n",
    "1. 영문자의 경우, 모두 소문자로 변환합니다.\n",
    "1. 영문자와 한글, 숫자, 그리고 주요 특수문자를 제외하곤 정규식을 활용하여 모두 제거합니다.\n",
    "\n",
    "문장부호 양옆에 공백을 추가하는 등 이전과 다르게 생략된 기능들은 우리가 사용할 토크나이저가 지원하기 때문에 굳이 구현하지 않아도 괜찮습니다!"
   ]
  },
  {
   "cell_type": "code",
   "execution_count": 7,
   "id": "7bde7b3d",
   "metadata": {},
   "outputs": [],
   "source": [
    "# 전처리 함수\n",
    "def preprocess_sentence(sentence, num=True):\n",
    "    # 입력받은 sentence를 소문자로 변경하고 양쪽 공백을 제거\n",
    "    sentence = sentence.strip()\n",
    "\n",
    "    # 단어와 구두점(punctuation) 사이의 거리를 만듭니다.\n",
    "    # 숫자 사이에도 거리를 만들어준다\n",
    "    sentence = re.sub(r\"([?.!,])\", r\" \\1 \", sentence)\n",
    "    sentence = re.sub(r\"([0-9]+)\", r\" \\1 \", sentence)\n",
    "    #sentence = re.sub(r'[\" \"]+', \" \", sentence)\n",
    "\n",
    "    # (가-힣, a-z, A-Z, \".\", \"?\", \"!\", \",\")를 제외한 모든 문자를 공백인 ' '로 대체합니다.\n",
    "    if num == False: # 숫자제거\n",
    "        sentence = re.sub(r'[^가-힣a-zA-Z.?!,]', ' ', sentence)\n",
    "    else:\n",
    "        sentence = re.sub(r'[^가-힣0-9a-zA-Z.?!,]', ' ', sentence)\n",
    "        \n",
    "    sentence = ' '.join(sentence.split())\n",
    "    sentence = sentence.strip()\n",
    "    return sentence"
   ]
  },
  {
   "cell_type": "code",
   "execution_count": 8,
   "id": "99a8b145",
   "metadata": {},
   "outputs": [
    {
     "data": {
      "text/plain": [
       "'박 일 놀러가고 싶다'"
      ]
     },
     "execution_count": 8,
     "metadata": {},
     "output_type": "execute_result"
    }
   ],
   "source": [
    "sentence = '3박4일 놀러가고 싶다'\n",
    "preprocess_sentence(sentence, False)"
   ]
  },
  {
   "cell_type": "code",
   "execution_count": 9,
   "id": "ac98de12",
   "metadata": {},
   "outputs": [
    {
     "data": {
      "text/plain": [
       "'3 박 4 일 놀러가고 싶다'"
      ]
     },
     "execution_count": 9,
     "metadata": {},
     "output_type": "execute_result"
    }
   ],
   "source": [
    "preprocess_sentence(sentence, True)"
   ]
  },
  {
   "cell_type": "code",
   "execution_count": 10,
   "id": "9a8c33b7",
   "metadata": {},
   "outputs": [],
   "source": [
    "questions = [preprocess_sentence(question, True) for question in questions]\n",
    "answers = [preprocess_sentence(answer, True) for answer in answers]"
   ]
  },
  {
   "cell_type": "code",
   "execution_count": 11,
   "id": "4c37ca84",
   "metadata": {},
   "outputs": [
    {
     "name": "stdout",
     "output_type": "stream",
     "text": [
      "12 시 땡 !\n",
      "하루가 또 가네요 .\n"
     ]
    }
   ],
   "source": [
    "print(questions[0])\n",
    "print(answers[0])"
   ]
  },
  {
   "cell_type": "markdown",
   "id": "b307809c",
   "metadata": {},
   "source": [
    "## Step 3. 데이터 토큰화\n",
    "---\n",
    "토큰화에는 KoNLPy의 `mecab` 클래스를 사용합니다.\n",
    "\n",
    "아래 조건을 만족하는 `build_corpus()` 함수를 구현하세요!\n",
    "\n",
    "1. 소스 문장 데이터와 타겟 문장 데이터를 입력으로 받습니다.\n",
    "2. 데이터를 앞서 정의한 `preprocess_sentence()` 함수로 정제하고, 토큰화합니다.\n",
    "3. 토큰화는 전달받은 토크나이즈 함수를 사용합니다. 이번엔 `mecab.morphs` 함수를 전달하시면 됩니다.\n",
    "4. 토큰의 개수가 일정 길이 이상인 문장은 데이터에서 제외합니다.\n",
    "5. 중복되는 문장은 데이터에서 제외합니다. 소스 : 타겟 쌍을 비교하지 않고 소스는 소스대로 타겟은 타겟대로 검사합니다. 중복 쌍이 흐트러지지 않도록 유의하세요!\n",
    "\n",
    "구현한 함수를 활용하여 `questions` 와 `answers` 를 각각 `que_corpus`, `ans_corpus` 에 토큰화하여 저장합니다."
   ]
  },
  {
   "cell_type": "code",
   "execution_count": 12,
   "id": "2984bb8e",
   "metadata": {},
   "outputs": [],
   "source": [
    "from konlpy.tag import Mecab"
   ]
  },
  {
   "cell_type": "code",
   "execution_count": 13,
   "id": "2e030294",
   "metadata": {},
   "outputs": [],
   "source": [
    "mecab = Mecab()"
   ]
  },
  {
   "cell_type": "code",
   "execution_count": 14,
   "id": "c3536f9d",
   "metadata": {},
   "outputs": [],
   "source": [
    "q = [mecab.morphs(question) for question in questions]\n",
    "a = [mecab.morphs(answer) for  answer in  answers]"
   ]
  },
  {
   "cell_type": "code",
   "execution_count": 15,
   "id": "7cc3b54c",
   "metadata": {},
   "outputs": [
    {
     "data": {
      "text/plain": [
       "array(['건방져', '겁난다', '고백', '괴로워', '굿모닝', '그리움', '기다림', '꿈', '나그네', '넋두리',\n",
       "       '눈물', '단수', '답답증', '더워', '덤덤', '뜬금없이', '마무리', '멘붕', '무상', '무서워요',\n",
       "       '무제', '미련', '미워', '미워한다', '미쳐', '바람', '반가워', '받아들여야지', '배고파',\n",
       "       '배불러', '변명', '분노', '불면증', '비트코인', '사진첩', '살아간다', '상념', '상처', '새벽',\n",
       "       '속상해', '술주정', '스트레스', '시련', '심심', '싱숭생숭', '쓰레기', '씁쓸', '아파', '안녕',\n",
       "       '야', '양다리', '어머', '어머나', '어째서', '에이씨', '에휴', '연휴', '오지마', '왜',\n",
       "       '외로움', '외로워', '외로워서', '으악', '으흠', '음', '응', '이놈', '이별', '이혼', '인내',\n",
       "       '인연', '자괴감', '잘래', '잠수', '저기', '젠장', '조심조심', '졸려', '주저리주저리', '증오',\n",
       "       '지친다', '짝사랑', '착각', '첫눈', '최악', '추워', '침묵', '코자', '콜록콜록', '통증',\n",
       "       '파혼', '핑계', '한숨', '허기져', '헉', '헤어짐', '혼자', '후', '후우', '후회', '휴',\n",
       "       '흔적', '흠'], dtype='<U6')"
      ]
     },
     "execution_count": 15,
     "metadata": {},
     "output_type": "execute_result"
    }
   ],
   "source": [
    "np.unique([l for l in q if len(l) <= 1])"
   ]
  },
  {
   "cell_type": "code",
   "execution_count": 16,
   "id": "cc52d8e4",
   "metadata": {},
   "outputs": [
    {
     "data": {
      "text/plain": [
       "array(['꼬르륵', '네', '사랑', '아이구', '어머나', '음', '킁킁', '토닥토닥', '휴우'],\n",
       "      dtype='<U4')"
      ]
     },
     "execution_count": 16,
     "metadata": {},
     "output_type": "execute_result"
    }
   ],
   "source": [
    "np.unique([l for l in a if len(l) <= 1])"
   ]
  },
  {
   "cell_type": "code",
   "execution_count": 17,
   "id": "b10f3e5e",
   "metadata": {},
   "outputs": [],
   "source": [
    "def get_token_len(token_list, max_tokens=None, hist=False):\n",
    "    num_tokens = [len(tokens) for tokens in token_list]\n",
    "    num_tokens = np.array(num_tokens)\n",
    "\n",
    "    # 평균값, 최댓값, 표준편차\n",
    "    print(f\"토큰 길이 평균: {np.mean(num_tokens)}\")\n",
    "    print(f\"토큰 길이 최소: {np.min(num_tokens)}\")\n",
    "    print(f\"토큰 길이 최대: {np.max(num_tokens)}\")\n",
    "    print(f\"토큰 길이 표준편차: {np.std(num_tokens)}\")\n",
    "    \n",
    "    if max_tokens==None:\n",
    "        max_tokens = np.mean(num_tokens) + 2 * np.std(num_tokens)\n",
    "    maxlen = int(max_tokens)\n",
    "    print(f'설정 최대 길이: {maxlen}')\n",
    "    ratio = np.sum(num_tokens < max_tokens) / len(num_tokens) * 100\n",
    "    print(f'전체 문장의 {round(ratio, 1)}%가 설정값인 {maxlen}에 포함됩니다.')\n",
    "    \n",
    "    if hist:\n",
    "        plt.hist(num_tokens, bins=50)\n",
    "        plt.axvline(maxlen, color='r', linestyle='dashed', linewidth=1)\n",
    "        plt.xlabel('length of samples')\n",
    "        plt.ylabel('number of samples')\n",
    "        plt.title('Distribution of token lengths')\n",
    "        plt.show();"
   ]
  },
  {
   "cell_type": "code",
   "execution_count": 18,
   "id": "cc6ce1f2",
   "metadata": {},
   "outputs": [],
   "source": [
    "import matplotlib.pyplot as plt"
   ]
  },
  {
   "cell_type": "code",
   "execution_count": 19,
   "id": "8a473922",
   "metadata": {},
   "outputs": [
    {
     "name": "stdout",
     "output_type": "stream",
     "text": [
      "토큰 길이 평균: 7.020806901801573\n",
      "토큰 길이 최소: 1\n",
      "토큰 길이 최대: 32\n",
      "토큰 길이 표준편차: 3.520086289509423\n",
      "설정 최대 길이: 15\n",
      "전체 문장의 95.9%가 설정값인 15에 포함됩니다.\n"
     ]
    },
    {
     "data": {
      "image/png": "[encoded data removed]",
      "text/plain": [
       "<Figure size 432x288 with 1 Axes>"
      ]
     },
     "metadata": {
      "needs_background": "light"
     },
     "output_type": "display_data"
    }
   ],
   "source": [
    "get_token_len(q, max_tokens=15, hist=True)"
   ]
  },
  {
   "cell_type": "code",
   "execution_count": 20,
   "id": "e1d93406",
   "metadata": {},
   "outputs": [
    {
     "name": "stdout",
     "output_type": "stream",
     "text": [
      "토큰 길이 평균: 8.37739998308382\n",
      "토큰 길이 최소: 1\n",
      "토큰 길이 최대: 40\n",
      "토큰 길이 표준편차: 3.576072915130701\n",
      "설정 최대 길이: 15\n",
      "전체 문장의 95.9%가 설정값인 15에 포함됩니다.\n"
     ]
    },
    {
     "data": {
      "image/png": "[encoded data removed]",
      "text/plain": [
       "<Figure size 432x288 with 1 Axes>"
      ]
     },
     "metadata": {
      "needs_background": "light"
     },
     "output_type": "display_data"
    }
   ],
   "source": [
    "get_token_len(a, max_tokens=None, hist=True)"
   ]
  },
  {
   "cell_type": "code",
   "execution_count": 21,
   "id": "9542e08d",
   "metadata": {},
   "outputs": [],
   "source": [
    "def drop_empty_list(que_corpus, ans_corpus):    \n",
    "    drop_que = [index for index, sentence in enumerate(que_corpus) \n",
    "                if (len(sentence) > 15)|(len(sentence) <= 1)]\n",
    "    print(f'제거하고자 하는 한글 샘플 수 : {len(drop_que)}')\n",
    "    \n",
    "    drop_ans = [index for index, sentence in enumerate(ans_corpus) \n",
    "                if (len(sentence) > 15)|(len(sentence) <= 1)]\n",
    "    print(f'제거하고자 하는 영어 샘플 수 : {len(drop_ans)}')\n",
    "    \n",
    "    drop_data = set(drop_que) | set(drop_ans)\n",
    "    drop_data = list(drop_data)\n",
    "    print(f'제거하고자 하는 총 샘플 수 : {len(drop_data)}')\n",
    "\n",
    "    # 빈 샘플 제거\n",
    "    que_corpus = np.delete(que_corpus, drop_data, axis=0)\n",
    "    ans_corpus = np.delete(ans_corpus, drop_data, axis=0)\n",
    "    print(f'빈 샘플 제거 후 남은 kor_corpus data : {len(que_corpus)}')\n",
    "    print(f'빈 샘플 제거 후 남은 eng_corpus data : {len(ans_corpus)}')\n",
    "    return que_corpus, ans_corpus"
   ]
  },
  {
   "cell_type": "code",
   "execution_count": 22,
   "id": "d07b1b25",
   "metadata": {},
   "outputs": [],
   "source": [
    "def build_corpus(questions, answers, tokenizer):\n",
    "    \n",
    "    que_corpus = [tokenizer.morphs(question) for question in questions]\n",
    "    ans_corpus = [tokenizer.morphs(answer) for answer in  answers]\n",
    "    \n",
    "    assert len(que_corpus) == len(ans_corpus)\n",
    "\n",
    "    return drop_empty_list(que_corpus, ans_corpus)"
   ]
  },
  {
   "cell_type": "code",
   "execution_count": 23,
   "id": "da2a8ca2",
   "metadata": {},
   "outputs": [],
   "source": [
    "mecab = Mecab()"
   ]
  },
  {
   "cell_type": "code",
   "execution_count": 24,
   "id": "21e7bc39",
   "metadata": {},
   "outputs": [
    {
     "name": "stdout",
     "output_type": "stream",
     "text": [
      "제거하고자 하는 한글 샘플 수 : 445\n",
      "제거하고자 하는 영어 샘플 수 : 503\n",
      "제거하고자 하는 총 샘플 수 : 914\n",
      "빈 샘플 제거 후 남은 kor_corpus data : 10909\n",
      "빈 샘플 제거 후 남은 eng_corpus data : 10909\n"
     ]
    },
    {
     "name": "stderr",
     "output_type": "stream",
     "text": [
      "/opt/conda/lib/python3.9/site-packages/numpy/lib/function_base.py:4454: VisibleDeprecationWarning: Creating an ndarray from ragged nested sequences (which is a list-or-tuple of lists-or-tuples-or ndarrays with different lengths or shapes) is deprecated. If you meant to do this, you must specify 'dtype=object' when creating the ndarray.\n",
      "  arr = asarray(arr)\n"
     ]
    }
   ],
   "source": [
    "que_corpus, ans_corpus = build_corpus(questions, answers, mecab)"
   ]
  },
  {
   "cell_type": "markdown",
   "id": "96ed4325",
   "metadata": {},
   "source": [
    "## Step 4. Augmentation\n",
    "---\n",
    "우리에게 주어진 데이터는 1만 개가량으로 적은 편에 속합니다. 이럴 때에 사용할 수 있는 테크닉을 배웠으니 활용해 봐야겠죠? Lexical Substitution을 실제로 적용해 보도록 하겠습니다.\n",
    "\n",
    "아래 링크를 참고하여 한국어로 사전 훈련된 Embedding 모델을 다운로드합니다. Korean (w) 가 Word2Vec으로 학습한 모델이며 용량도 적당하므로 사이트에서 Korean (w)를 찾아 다운로드하고, ko.bin 파일을 얻으세요!\n",
    "\n",
    "- Kyubyong/wordvectors\n",
    "다운로드한 모델을 활용해 데이터를 Augmentation 하세요! 앞서 정의한 `lexical_sub()` 함수를 참고하면 도움이 많이 될 겁니다.\n",
    "\n",
    "Augmentation된 `que_corpus` 와 원본 `ans_corpus` 가 병렬을 이루도록, 이후엔 반대로 원본 `que_corpus` 와 Augmentation된 `ans_corpus` 가 병렬을 이루도록 하여 전체 데이터가 원래의 3배가량으로 늘어나도록 합니다."
   ]
  },
  {
   "cell_type": "code",
   "execution_count": 25,
   "id": "b2d73558",
   "metadata": {},
   "outputs": [],
   "source": [
    "# !pip install gensim==3.8.3"
   ]
  },
  {
   "cell_type": "code",
   "execution_count": 26,
   "id": "c1d2d86c",
   "metadata": {},
   "outputs": [],
   "source": [
    "import gensim\n",
    "from gensim.models import KeyedVectors\n",
    "import random"
   ]
  },
  {
   "cell_type": "code",
   "execution_count": 27,
   "id": "f2dc7469",
   "metadata": {},
   "outputs": [],
   "source": [
    "# Word2Vec 모델 로드\n",
    "model = gensim.models.Word2Vec.load('./data/ko.bin')"
   ]
  },
  {
   "cell_type": "code",
   "execution_count": 28,
   "id": "c3a0d10c",
   "metadata": {},
   "outputs": [
    {
     "data": {
      "text/plain": [
       "[('아침', 0.5024495124816895),\n",
       " ('저물', 0.455463707447052),\n",
       " ('내일', 0.4449270963668823),\n",
       " ('지금', 0.4403955936431885),\n",
       " ('새벽', 0.4366644620895386),\n",
       " ('토요일', 0.40253746509552),\n",
       " ('저녁', 0.3899332880973816),\n",
       " ('어제', 0.38877636194229126),\n",
       " ('매주', 0.3823928236961365),\n",
       " ('주말', 0.3814442753791809)]"
      ]
     },
     "execution_count": 28,
     "metadata": {},
     "output_type": "execute_result"
    }
   ],
   "source": [
    "model.wv.most_similar('오늘', topn=10)"
   ]
  },
  {
   "cell_type": "code",
   "execution_count": 29,
   "id": "1ef93ca7",
   "metadata": {},
   "outputs": [
    {
     "name": "stdout",
     "output_type": "stream",
     "text": [
      "원본 문장: ['1', '지망', '학교', '떨어졌', '어']\n",
      "변형된 문장: ['1', '진학', '학교', '떨어졌', '어']\n"
     ]
    }
   ],
   "source": [
    "def lexical_sub(corpus, model=model, topn=10):\n",
    "    \n",
    "    # 모델에 있는 단어들만 골라내기\n",
    "    words_in_model = [word for word in corpus if (word in model.wv) & (len(word) > 1)]\n",
    "    \n",
    "    if not words_in_model:\n",
    "        return corpus\n",
    "    \n",
    "    # 모델에 있는 단어 중 하나를 무작위로 선택\n",
    "    selected_word = random.choice(words_in_model)\n",
    "    #print(f\"선택된 단어: {selected_word}\")\n",
    "\n",
    "    # 유사한 단어들을 topn 개수만큼 가져오기\n",
    "    similar_words = model.wv.most_similar(selected_word, topn=topn)\n",
    "    \n",
    "    # 유사한 단어 중 하나를 무작위로 선택\n",
    "    similar_word = random.choice(similar_words)[0]\n",
    "    \n",
    "    # 선택된 단어를 유사한 단어로 대체\n",
    "    new_sentence = [similar_word if word == selected_word else word for word in corpus]\n",
    "\n",
    "    return new_sentence\n",
    "\n",
    "# 예시 문장\n",
    "corpus = que_corpus[1]\n",
    "augmented_sentence = lexical_sub(corpus)\n",
    "print(\"원본 문장:\", corpus)\n",
    "print(\"변형된 문장:\", augmented_sentence)"
   ]
  },
  {
   "cell_type": "code",
   "execution_count": 30,
   "id": "0560c3b2",
   "metadata": {},
   "outputs": [],
   "source": [
    "def augment_data(que_corpus, ans_corpus):\n",
    "    print('Augment Data ...')\n",
    "    augmented_que_corpus = [lexical_sub(sentence) for sentence in que_corpus]\n",
    "    augmented_ans_corpus = [lexical_sub(sentence) for sentence in ans_corpus]\n",
    "    #print('Done!')\n",
    "    augmented_pairs = []\n",
    "    \n",
    "    print('Making Pairs ...')\n",
    "    # 원본 질문 - 증강 답변\n",
    "    for que, aug_ans in tqdm(zip(que_corpus, augmented_ans_corpus)):\n",
    "        augmented_pairs.append((que, aug_ans))\n",
    "\n",
    "    # 증강 질문 - 원본 답변\n",
    "    for aug_que, ans in tqdm(zip(augmented_que_corpus, ans_corpus)):\n",
    "        augmented_pairs.append((aug_que, ans))\n",
    "\n",
    "    # 증강 질문 - 증강 답변\n",
    "    for aug_que, aug_ans in tqdm(zip(augmented_que_corpus, augmented_ans_corpus)):\n",
    "        augmented_pairs.append((aug_que, aug_ans))\n",
    "\n",
    "    return augmented_pairs"
   ]
  },
  {
   "cell_type": "code",
   "execution_count": 31,
   "id": "6408ba15",
   "metadata": {
    "scrolled": true
   },
   "outputs": [
    {
     "name": "stdout",
     "output_type": "stream",
     "text": [
      "Augment Data ...\n",
      "Making Pairs ...\n"
     ]
    },
    {
     "name": "stderr",
     "output_type": "stream",
     "text": [
      "10909it [00:00, 519850.28it/s]\n",
      "10909it [00:00, 591097.33it/s]\n",
      "10909it [00:00, 687951.62it/s]\n"
     ]
    }
   ],
   "source": [
    "augmented_pairs = augment_data(que_corpus, ans_corpus)"
   ]
  },
  {
   "cell_type": "code",
   "execution_count": 32,
   "id": "5260ea3e",
   "metadata": {},
   "outputs": [
    {
     "name": "stdout",
     "output_type": "stream",
     "text": [
      "질문: ['12', '시', '땡', '!'] \t 답변: ['후미', '가', '또', '가', '네요', '.']\n",
      "질문: ['1', '지망', '학교', '떨어졌', '어'] \t 답변: ['통곡', '해', '드립니다', '.']\n",
      "질문: ['3', '박', '4', '일', '놀', '러', '가', '고', '싶', '다'] \t 답변: ['여행', '은', '기분', '좋', '죠', '.']\n",
      "질문: ['3', '박', '4', '일', '정도', '놀', '러', '가', '고', '싶', '다'] \t 답변: ['여행', '은', '반드시', '좋', '죠', '.']\n"
     ]
    }
   ],
   "source": [
    "# 결과 출력\n",
    "for pair in augmented_pairs[:4]:\n",
    "    print(f\"질문: {pair[0]} \\t 답변: {pair[1]}\")"
   ]
  },
  {
   "cell_type": "markdown",
   "id": "78c93b18",
   "metadata": {},
   "source": [
    "## Step 5. 데이터 벡터화\n",
    "타겟 데이터인 `ans_corpus` 에 `<start>` 토큰과 `<end>` 토큰이 추가되지 않은 상태이니 이를 먼저 해결한 후 벡터화를 진행합니다. 우리가 구축한 `ans_corpus` 는 `list` 형태이기 때문에 아주 쉽게 이를 해결할 수 있답니다!"
   ]
  },
  {
   "cell_type": "code",
   "execution_count": 33,
   "id": "c9bbf4e3",
   "metadata": {},
   "outputs": [
    {
     "name": "stdout",
     "output_type": "stream",
     "text": [
      "['<start>', '12', '시', '땡', '!', '<end>']\n"
     ]
    }
   ],
   "source": [
    "sample_data = [\"12\", \"시\", \"땡\", \"!\"]\n",
    "\n",
    "print([\"<start>\"] + sample_data + [\"<end>\"])"
   ]
  },
  {
   "cell_type": "code",
   "execution_count": 34,
   "id": "11063c8b",
   "metadata": {},
   "outputs": [
    {
     "data": {
      "text/plain": [
       "[(['12', '시', '땡', '!'], ['후미', '가', '또', '가', '네요', '.']),\n",
       " (['1', '지망', '학교', '떨어졌', '어'], ['통곡', '해', '드립니다', '.']),\n",
       " (['3', '박', '4', '일', '놀', '러', '가', '고', '싶', '다'],\n",
       "  ['여행', '은', '기분', '좋', '죠', '.']),\n",
       " (['3', '박', '4', '일', '정도', '놀', '러', '가', '고', '싶', '다'],\n",
       "  ['여행', '은', '반드시', '좋', '죠', '.']),\n",
       " (['PPL', '심하', '네'], ['눈살', '이', '찌푸려', '지', '죠', '.']),\n",
       " (['SD', '카드', '망가졌', '어'], ['다시', '새롭', '사', '는', '게', '마음', '편해요', '.']),\n",
       " (['SD', '카드', '안', '돼'], ['다시', '새로', '사', '는', '게', '믿음', '편해요', '.']),\n",
       " (['SNS', '맞', '팔', '왜', '안', '하', '지'],\n",
       "  ['잘', '알아보', '고', '있', '을', '수', '도', '있', '어요', '.']),\n",
       " (['SNS', '시간', '낭비', '인', '거', '아', '는데', '매일', '하', '는', '중'],\n",
       "  ['시간', '을', '정하', '고', '해', '보', '소서', '.']),\n",
       " (['SNS', '시간', '낭비', '인데', '자꾸', '보', '게', '됨'],\n",
       "  ['간격', '을', '정하', '고', '해', '보', '세요', '.'])]"
      ]
     },
     "execution_count": 34,
     "metadata": {},
     "output_type": "execute_result"
    }
   ],
   "source": [
    "augmented_pairs[:10]"
   ]
  },
  {
   "cell_type": "code",
   "execution_count": 35,
   "id": "68ec889c",
   "metadata": {},
   "outputs": [],
   "source": [
    "que_corpus_aug = [pair[0] for pair in augmented_pairs]\n",
    "ans_corpus_aug = [pair[1] for pair in augmented_pairs]"
   ]
  },
  {
   "cell_type": "code",
   "execution_count": 36,
   "id": "90ad886f",
   "metadata": {},
   "outputs": [
    {
     "data": {
      "text/plain": [
       "[['후미', '가', '또', '가', '네요', '.'],\n",
       " ['통곡', '해', '드립니다', '.'],\n",
       " ['여행', '은', '기분', '좋', '죠', '.'],\n",
       " ['여행', '은', '반드시', '좋', '죠', '.'],\n",
       " ['눈살', '이', '찌푸려', '지', '죠', '.'],\n",
       " ['다시', '새롭', '사', '는', '게', '마음', '편해요', '.'],\n",
       " ['다시', '새로', '사', '는', '게', '믿음', '편해요', '.'],\n",
       " ['잘', '알아보', '고', '있', '을', '수', '도', '있', '어요', '.'],\n",
       " ['시간', '을', '정하', '고', '해', '보', '소서', '.'],\n",
       " ['간격', '을', '정하', '고', '해', '보', '세요', '.'],\n",
       " ['자랑', '하', '는', '자리', 'ㅂ니까', '.'],\n",
       " ['그', '백성', '도', '그럴', '거', '예요', '.'],\n",
       " ['그', '손님', '도', '그럴', '거', '예요', '.'],\n",
       " ['혼자', '를', '춤추', '세요', '.'],\n",
       " ['돈', '은', '드디어', '들어올', '거', '예요', '.'],\n",
       " ['땀', '을', '식혀', '주', '일일이', '.'],\n",
       " ['어서', '잊', '고', '새', '발원', '하', '세요', '.'],\n",
       " ['빨리', '집', '에', '돌아가', '서', '끄', '고', '나오', 'ㅂ시다', '.'],\n",
       " ['늦', '집', '에', '돌아가', '서', '끄', '고', '나오', '세요', '.'],\n",
       " ['다음', '달', '에', '는', '더', '낭비', '해', '봐요', '.'],\n",
       " ['서늘', '하', '게', '사세요', '!'],\n",
       " ['아래', '달', '에', '는', '더', '절약', '해', '봐요', '.'],\n",
       " ['온', '가족', '이', '모두', '마음', '에', '드', '는', '곳', '으로', '가', '보', '소서', '.'],\n",
       " ['온', '부유층', '이', '모두', '마음', '에', '드', '는', '곳', '으로', '가', '보', '세요', '.'],\n",
       " ['온', '친지', '이', '모두', '마음', '에', '드', '는', '곳', '으로', '가', '보', '세요', '.'],\n",
       " ['더', '가까워질', '기대', '가', '되', '겠', '네요', '.'],\n",
       " ['저', '도', '요', '.'],\n",
       " ['다', '들', '바빠서', '사랑', '할', '시간', '이', '부족', '했', '나', '봐요', '.'],\n",
       " ['다', '들', '바빠서', '이야기', '할', '여분', '이', '부족', '했', '나', '봐요', '.'],\n",
       " ['온', '가족', '이', '모두', '마음', '에', '드', '는', '곳', '으로', '가', '보', 'ㅂ시다', '.'],\n",
       " ['좋', '은', '생각', '이', 'ㄹ까요', '.'],\n",
       " ['더', '가까워질', '기회', '가', '되', '겠', '어요', '.'],\n",
       " ['좋', '은', '생각', '이', '라면서', '.'],\n",
       " ['정말', '후회', '할', '습관', '이', 'ㄴ지라', '.'],\n",
       " ['우유부단', '한', '결정', '을', '내리', '지', '마세요', '.'],\n",
       " ['선생', '님', '이나', '감독원', '에', '연락', '해', '보', '세요', '.'],\n",
       " ['떨리', '는', '인간성', '은', '그', '자체', '로', '소중', '해요', '.'],\n",
       " ['득템', '했', '길', '노시', '요', '.'],\n",
       " ['저녁', '도', '필요', '하', '죠', '.'],\n",
       " ['단', '짠', '이', '두', '개', '사', '는', '게', '진리', '죠', '.'],\n",
       " ['단', '짠', '이나', '두', '개', '사', '는', '게', '진리', '죠', '.'],\n",
       " ['재미있', '게', '드세요', '.'],\n",
       " ['저', '도', '싫', '거든요', '.'],\n",
       " ['가', '소서', '.'],\n",
       " ['가', 'ㅂ니다', '.'],\n",
       " ['씹', '게', '드세요', '.'],\n",
       " ['달콤', '게', '드세요', '.'],\n",
       " ['보훈', '가', '세요', '.'],\n",
       " ['이럴', '때', '잘', '쉬', '는', '게', '유용', '해요', '.'],\n",
       " ['이럴', '때', '잘', '쉬', '는', '게', '적합', '해요', '.'],\n",
       " ['이럴', '때', '잘', '쉬', '는', '게', '주되', '해요', '.'],\n",
       " ['따뜻', '하', '게', '관리', '하', '달라', '.'],\n",
       " ['진료소', '가', '세요', '.'],\n",
       " ['의대', '가', '세요', '.'],\n",
       " ['저', '도', '듣', '고', '싶', '습니다만', '.'],\n",
       " ['스스로', '을', '더', '사랑', '해', '주', '세요', '.'],\n",
       " ['그건', '관념', '이', '에요', '.'],\n",
       " ['그건', '습관', '이', 'ㅂ니까', '.'],\n",
       " ['콕', '집', '어야', '물', '어', '보', '세요', '.'],\n",
       " ['좋', '은', '생각', '만', '하', '대충', '.'],\n",
       " ['마음속', '이', '아픈가요', '.'],\n",
       " ['갑작스러웠', '나', '봐요', '.'],\n",
       " ['관계', '의', '변천', '가', '왔', '나', '봅니다', '.'],\n",
       " ['책임', '질', '수', '있', '을', '때', '키워', '보', 'ㅂ시오', '.'],\n",
       " ['먼저', '은둔', '패턴', '을', '살펴', '보', '세요', '.'],\n",
       " ['먼저', '생활', '패턴', '을', '살펴', '보', 'ㄹ게', '.'],\n",
       " ['책임', '질', '수', '있', '을', '때', '키워', '보', '주신', '.'],\n",
       " ['아름다운', '곳', '이', '죠', '.'],\n",
       " ['안', '될', '것', '도', '없', '죠', '.'],\n",
       " ['혼자', '도', '좋', '구요', '.'],\n",
       " ['즐거운', '기간', '보내', '고', '오', '세요', '!'],\n",
       " ['눈길', '끌', '지', '마세요', '.'],\n",
       " ['말', '해', '보', '주신', '.'],\n",
       " ['함께', '하', '면', '서로', '를', '더', '자주', '알', '게', '될', '거', '예요', '.'],\n",
       " ['시작', '해', '보', '세요', '.'],\n",
       " ['종료', '해', '보', '세요', '.'],\n",
       " ['곧', '첫날', '이', '예요', '.'],\n",
       " ['추석', '이', '참', '짧', '죠', '.'],\n",
       " ['벗어나', '는', '게', '좋', '겠', '더군요', '.'],\n",
       " ['비롯되', '는', '게', '좋', '겠', '네요', '.'],\n",
       " ['공급량', '하', '고', '오', '세요', '.'],\n",
       " ['그게', '제일의', '중요', '한', '건데요', '.'],\n",
       " ['그게', '제일', '광범위', '한', '건데요', '.'],\n",
       " ['수직선', '부터', '는', '더', '많이', '아세요', '.'],\n",
       " ['갑작스러웠', '나', '봐요', '.'],\n",
       " ['공', '적', '인', '일', '거스르', '하', '세요', '.'],\n",
       " ['공', '적', '인', '일', '옮겨가', '하', '세요', '.'],\n",
       " ['낮잠', '을', '잠깐', '자', '도', '그렇', '아요', '.'],\n",
       " ['저', '도', '좋', '아', '해', '주', '드시', '.'],\n",
       " ['언니', '들', '이', '보', '고', '싶', '었', '나', '봐요', '.'],\n",
       " ['되', '도록', '재회', '지', '마세요', '.'],\n",
       " ['자신', '이요', '.'],\n",
       " ['당신', '의', '운', '을', '믿', '어', '보', 'ㄹ게', '.'],\n",
       " ['밥', '사', '줄', '친구', '를', '찾', '아', '보', '드시'],\n",
       " ['선의', '의', '거짓', '이', '길', '바라', '요', '.'],\n",
       " ['거짓', '은', '할수록', '늘', '어요', '.'],\n",
       " ['얘기', '은', '할수록', '늘', '어요', '.'],\n",
       " ['진실', '된', '말', '을', '하', '려고', '실천', '해', '보', '세요', '.'],\n",
       " ['누구', '나', '한탄', '은', '있', '어요', '.'],\n",
       " ['누구', '나', '원망', '은', '있', '어요', '.'],\n",
       " ['운동', '을', '해', '보', '일일이', '.'],\n",
       " ['세상', '의', '무엇', '훨씬', '건강', '이', '제일', '중요', '해요', '.'],\n",
       " ['임대', '적', '으로', '해', '주', '는', '게', '좋', '죠', '.'],\n",
       " ['임대', '적', '으로', '해', '주', '는', '게', '좋', '죠', '.'],\n",
       " ['가장', '탁월', '한', '목표', '네요', '.'],\n",
       " ['가장', '중요', '한', '골자', '네요', '.'],\n",
       " ['적', '게', '먹', '고', '많이', '구부리', '세요', '.'],\n",
       " ['적', '게', '먹', '고', '많이', '움직이', '일일이', '.'],\n",
       " ['모르', '는', '사이', '라', '돌변', '할', '수', '도', '있', '어요', '.'],\n",
       " ['이룰', '수', '있', '을', '거', '예요', '.'],\n",
       " ['이룰', '수', '있', '을', '거', '예요', '.'],\n",
       " ['있', '으면서', '편하', '대요', '.'],\n",
       " ['눈', '을', '깜빡', '거려', '보', 'ㅂ시오', '.'],\n",
       " ['청소', '를', '멀리하', '시', '나', '봐요', '.'],\n",
       " ['안보', '귀', '가', '하', '세요', '.'],\n",
       " ['피해', '를', '안', '준다면', '무시', '하', '대충', '.'],\n",
       " ['안', '될', '것', '도', '없', '죠', '.'],\n",
       " ['게임', '할', '때', '는', '시간', '이', '더', '먼저', '가요', '.'],\n",
       " ['정리', '해', '보', '대충', '.'],\n",
       " ['게임기', '하', '세요', '!'],\n",
       " ['다른', '온라인', '해', '보', '세요', '.'],\n",
       " ['다른', '애니메이션', '해', '보', '세요', '.'],\n",
       " ['액션', '하', '세요', '!'],\n",
       " ['게임', '할', '때', '는', '시간', '이', '더', '빨리', '명곡', '.'],\n",
       " ['마음', '에', '도', '봄', '이', '오', '길', '풀어쓰', '요', '.'],\n",
       " ['몸', '은', '뜨겁', '고', '머리', '는', '어둡', '게', '!'],\n",
       " ['마음', '에', '도', '봄', '이', '오', '길', '쿠요', '요', '.'],\n",
       " ['잘', '하', '실', '거', '예요', '!'],\n",
       " ['잘', '하', '실', '거', '예요', '!'],\n",
       " ['건강', '생각', '어구', '챙겨', '드세요', '.'],\n",
       " ['좋', '은', '욕망', '도', '있', '을', '거', '예요', '.'],\n",
       " ['결정', '하', '기', '힘드', '시', '겠', '습니다만', '.'],\n",
       " ['자신', '을', '위한', '결정', '을', '올리', '길', '바라', '요', '.'],\n",
       " ['자신', '을', '위한', '결정', '을', '내리', '길', '풀어쓰', '요', '.'],\n",
       " ['의결', '은', '빠르', '면', '빠를수록', '좋', '을', '거', '예요', '.'],\n",
       " ['안타깝', '네요', '.', '증거', '를', '그전', '이', '라도', '모아', '봐요', '.'],\n",
       " ['좋', '겠', '습니다만', '.'],\n",
       " ['좋', '겠', '거든요', '.'],\n",
       " ['널리', '들', '지만', '줄일', '수', '있', '을', '거', '예요', '.'],\n",
       " ['경조사', '는', '참석', '하', '는', '게', '좋', '은데', '.'],\n",
       " ['경조사', '는', '초청', '하', '는', '게', '좋', '아요', '.'],\n",
       " ['지적', '보다', '신경', '안', '씁니다', '.'],\n",
       " ['친분', '이', '넓', '으신가', '봐요', '.'],\n",
       " ['힘들', '겠', '는데요', '.'],\n",
       " ['많이', '들', '다면', '줄일', '수', '있', '을', '거', '예요', '.'],\n",
       " ['두려움', '에', '따라', '천지', '차이', '일', '거', '예요', '.'],\n",
       " ['허례허식', '이', 'ㄴ지요', '.'],\n",
       " ['욕심', '에', '따라', '천지', '변화', '일', '거', '예요', '.'],\n",
       " ['해', '봐요', '.'],\n",
       " ['서로', '열망', '하', '면', '행복', '할', '거', '예요', '.'],\n",
       " ['매질', '노력', '하', '면', '행복', '할', '거', '예요', '.'],\n",
       " ['사람',\n",
       "  '마다',\n",
       "  '행복',\n",
       "  '의',\n",
       "  '길이',\n",
       "  '가',\n",
       "  '다르',\n",
       "  '겠',\n",
       "  '지만',\n",
       "  '행복',\n",
       "  '할',\n",
       "  '거',\n",
       "  '예요',\n",
       "  '.'],\n",
       " ['사람',\n",
       "  '마다',\n",
       "  '행복',\n",
       "  '의',\n",
       "  '크기',\n",
       "  '가',\n",
       "  '동떨어지',\n",
       "  '겠',\n",
       "  '지만',\n",
       "  '행복',\n",
       "  '할',\n",
       "  '거',\n",
       "  '예요',\n",
       "  '.'],\n",
       " ['통찰력', '이', '있', '으면', '하', '면', '되', '죠', '.'],\n",
       " ['능력', '이', '있', '거나', '하', '면', '되', '죠', '.'],\n",
       " ['이', '사람', '이', '다', '싶', '은', '사람', '이랑', '하', '드시', '.'],\n",
       " ['해', '봐요', '.'],\n",
       " ['점점', '격심', '해', '지', '는', '것', '같', '아요', '.'],\n",
       " ['해명', '이', '없', '나', '봐요', '.'],\n",
       " ['진작', '적', '인', '걸', '좋', '아', '하', '나', '봐요', '.'],\n",
       " ['방학', '은', '참', '짧', '아서요', '.'],\n",
       " ['보', '러', '가', 'ㅂ시다', '.'],\n",
       " ['보', '러', '가', '달라', '.'],\n",
       " ['계속', '좋', '지', '않', '으면', '병상', '에', '가', '보', '세요', '.'],\n",
       " ['동작', '이', '안', '맞', '았', '나', '봐요', '.'],\n",
       " ['이제', '근로자', '하', '셔야죠', '.'],\n",
       " ['영문학', '가', '최우선', '이', '죠', '.'],\n",
       " ['배우', '가', '최우선', '이', '죠', '.'],\n",
       " ['워낙', '무리', '하', '지', '는', '마세요', '.'],\n",
       " ['그만큼', '무리', '하', '지', '는', '마세요', '.'],\n",
       " ['저기압', '에', '는', '청어', '앞', '이', '죠', '.'],\n",
       " ['저기압', '에', '는', '닭고기', '앞', '이', '죠', '.'],\n",
       " ['승마', '이', '필요', '해요', '.'],\n",
       " ['수련', '이', '필요', '해요', '.'],\n",
       " ['깨어나', '가', '아니', '에요', '.'],\n",
       " ['인복', '이', '많', '나', '봐요', '.'],\n",
       " ['너무', '책망', '하', '지', '마세요', '.'],\n",
       " ['네', '생각', '하', '세요', '.'],\n",
       " ['네', '하나님', '하', '세요', '.'],\n",
       " ['후회', '는', '후회', '를', '낳', '을', '뿐', '이', '에요', '.', '용기', '내', 'ㄹ게', '.'],\n",
       " ['돈', '을', '모아서', '별개', '곳', '으로', '이사', '갈', '수', '있', '을', '거', '예요', '.'],\n",
       " ['돈', '을', '모아서', '각', '곳', '으로', '이사', '갈', '수', '있', '을', '거', '예요', '.'],\n",
       " ['더', '좋', '은', '곳', '총생산', '살', '수', '있', '을', '거', '예요', '.'],\n",
       " ['더', '좋', '은', '곳', '미술전', '살', '수', '있', '을', '거', '예요', '.'],\n",
       " ['완전', '예쁘', '죠', '?'],\n",
       " ['자신', '을', '우선', '키우', '세요', '.'],\n",
       " ['가족', '들', '과', '법률적', '해', '보', '세요', '.'],\n",
       " ['용서', '를', '구하', '주신', '.'],\n",
       " ['피할', '수', '있', '으면', '피하', '대충', '.'],\n",
       " ['피할', '수', '있', '으면', '일으키', '세요', '.'],\n",
       " ['처음', '이어지', '잘', '하', '는', '사람', '은', '없', '어요', '.'],\n",
       " ['시일', '내', '서', '가', '보', '세요', '.'],\n",
       " ['처음', '부터', '잘', '하', '는', '사람', '은', '없', '습니다만', '.'],\n",
       " ['시간', '내', '서', '가', '보', '대충', '.'],\n",
       " ['미리', '미리', '점화', '해', '주', '세요', '.'],\n",
       " ['미리', '미리', '충전', '해', '주', '소서', '.'],\n",
       " ['결속', '적', '이', '고', '좋', '죠', '.'],\n",
       " ['준비', '해', '보', 'ㅂ니다', '.'],\n",
       " ['진행하', '해', '보', '세요', '.'],\n",
       " ['합격', '조상', '해요', '!'],\n",
       " ['철', '밥통', '되', '기', '가', '어디', '쉽', '겠', '어서요', '.'],\n",
       " ['철', '밥통', '되', '기', '가', '어디', '쉽', '겠', '네요', '.'],\n",
       " ['시작', '이', '반', '이', '에요', '.', '거나', '준비', '하', '세요', '.'],\n",
       " ['결속', '적', '이', '고', '좋', '죠', '.'],\n",
       " ['자연', '스러운', '메커니즘', '이', '에요', '.'],\n",
       " ['생태', '스러운', '현상', '이', '에요', '.'],\n",
       " ['엿보이', '는', '게', '없', '죠', '.'],\n",
       " ['이제', '처럼', '잘', '될', '거', '예요', '.'],\n",
       " ['미래', '의', '사생아', '가', '달라져요', '.'],\n",
       " ['해명', '이', '없', '나', '봐요', '.'],\n",
       " ['공부', '는', '육체', '좋', '죠', '.'],\n",
       " ['중퇴', '하', '면', '더', '많', '은', '선택', '을', '할', '수', '있', '죠', '.'],\n",
       " ['같이', '데트', '떨', '면서', '놀', '까요', '?'],\n",
       " ['나', '만', '의', '공부', '방법', '을', '살펴보', '세요', '.'],\n",
       " ['이제', '도', '늦', '지', '않', '았', '어요', '.'],\n",
       " ['같이', '수다', '떨', 'ㄴ다', '놀', '까요', '?'],\n",
       " ['판단', '이', '없', '나', '봐요', '.'],\n",
       " ['오늘', '처럼', '잘', '될', '거', '예요', '.'],\n",
       " ['나', '불쌍', '맞', '는', '공부', '방법', '찾', '는', '게', '시급', '하', '네요', '.'],\n",
       " ['잠깐', '쉬', '어도', '돼요', '.'],\n",
       " ['잠시', '쉬', '여도', '돼요', '.'],\n",
       " ['한학', '하', '면', '더', '많', '은', '선택', '을', '할', '수', '있', '죠', '.'],\n",
       " ['공부', '하', '면', '더', '많', '은', '설정', '을', '할', '수', '있', '죠', '.'],\n",
       " ['한학', '하', '면', '더', '많', '은', '선택', '을', '할', '수', '있', '죠', '.'],\n",
       " ['합격', '간기', '해요', '!'],\n",
       " ['잘', '될', '거', '예요', '.'],\n",
       " ['좋', '은', '타당성', '있', '을', '거', '예요', '!'],\n",
       " ['잘', '될', '거', '예요', '.'],\n",
       " ['좋', '은', '수치', '있', '을', '거', '예요', '!'],\n",
       " ['친구', '와', '같이', '가', '보', '일일이', '.'],\n",
       " ['엄마', '와', '같이', '가', '보', '세요', '.'],\n",
       " ['온건', '차이', '가', '좀', '있', '기', '는', '하', '죠', '.'],\n",
       " ['꾸준', '약', '먹', '고', '치료', '해', '보', '세요', '.'],\n",
       " ['지속적', '약', '먹', '고', '치료', '해', '보', '세요', '.'],\n",
       " ['피', '로', '풀', '고', '좋', '죠', '.'],\n",
       " ['피', '로', '풀', '고', '좋', '죠', '.'],\n",
       " ['지금', '이', '중요', '하', '죠', '.'],\n",
       " ['오늘', '이', '필수적', '하', '죠', '.'],\n",
       " ['소화제', '챙겨', '드세요', '.'],\n",
       " ['과식', '은', '금물', '이', 'ㄴ데요', '.'],\n",
       " ['소화제', '드세요', '.'],\n",
       " ['안', '된다고', '하', '면', '거짓말', '이', '겠', '군요', '.'],\n",
       " ['안', '된다고', '하', '면', '후회', '이', '겠', '지요', '.'],\n",
       " ['방직', '과일', '이', '정말', '좋', '아요', '.'],\n",
       " ['건강', '생각', '난투', '챙겨', '드세요', '.'],\n",
       " ['그래도', '먹', '으라는', '노력', '해', '보', '세요', '.'],\n",
       " ['그래도', '먹', '으라는', '노력', '해', '보', '세요', '.'],\n",
       " ['제철', '채소', '이', '정말', '좋', '아요', '.'],\n",
       " ['욕망', '관계', '도', '정리', '가', '필요', '해요', '.'],\n",
       " ['무', '의욕', '이', '필요', '할', '때', '가', '있', '죠', '.'],\n",
       " ['무', '거부감', '이', '필요', '할', '때', '가', '있', '죠', '.'],\n",
       " ['계단', '유감', '하', '세요', '.'],\n",
       " ['계단', '당황', '하', '세요', '.'],\n",
       " ['방송국', '을', '돌려', '보', '세요', '.'],\n",
       " ['괜찮', '아', '지', '고', '있', '어', '실망', '이', '에요', '.'],\n",
       " ['남자', '사람', '애인', ',', '여자', '사람', '애인', '하', '세요', '.'],\n",
       " ['간혹', '지쳤', '나', '봐요', '.'],\n",
       " ['무언가', '를', '기다린다는', '게', '쉬운', '게', '아니', '죠', '.'],\n",
       " ['늦', '지', '않', '았', '구요', '.'],\n",
       " ['그', '것', '도', '다', '경험', '이', '라고', '확신', '하', '세요', '.'],\n",
       " ['그럴', '어야', '없', '어요', '.'],\n",
       " ['어떻', '지', '않', '아요', '.'],\n",
       " ['마음', '에', '드', '는', '책', '을', '잘', '찾아보', '주신', '.'],\n",
       " ['저', '도', '듣', '고', '싶', '습니다만', '.'],\n",
       " ['같', '은', '조', '가', '되', '길', '바랄게요', '.'],\n",
       " ['학문', '쌓', '는', '재미', '가', '있', '죠', '.'],\n",
       " ['같', '은', '조', '가', '되', '길', '바랄게요', '.'],\n",
       " ['기술', '쌓', '는', '재미', '가', '있', '죠', '.'],\n",
       " ['저', '도', '듣', '고', '싶', '더군요', '.'],\n",
       " ['학점', '점검', '하', '세요', '.'],\n",
       " ['보험', '해결', '하', '세요', '.'],\n",
       " ['수익자', '처리', '하', '세요', '.'],\n",
       " ['왜', '그럴까요', '?'],\n",
       " ['좋', '은', '만남', '이', '었', '길', '십상', '요', '.'],\n",
       " ['좋', '은', '만남', '이', '었', '길', '일쑤', '요', '.'],\n",
       " ['일', '을', '몰라서', '그런가', '봐요', '.'],\n",
       " ['그녀',\n",
       "  '의',\n",
       "  '삶',\n",
       "  '을',\n",
       "  '살',\n",
       "  '다',\n",
       "  '보',\n",
       "  '면',\n",
       "  '기다릴',\n",
       "  '수',\n",
       "  '있',\n",
       "  '을',\n",
       "  '거',\n",
       "  '예요',\n",
       "  '.'],\n",
       " ['부담', '스러워', '하', '지', '않', '는다면', '기다려도', '좋', '을', '것', '같', '은데', '.'],\n",
       " ['부담', '스러워', '하', '지', '않', 'ㄴ다면', '기다려도', '좋', '을', '것', '같', '아요', '.'],\n",
       " ['너무', '슬퍼하', '하', '지', '마세요', '.'],\n",
       " ['그녀',\n",
       "  '의',\n",
       "  '삶',\n",
       "  '을',\n",
       "  '살',\n",
       "  '다',\n",
       "  '보',\n",
       "  '면',\n",
       "  '기다릴',\n",
       "  '수',\n",
       "  '있',\n",
       "  '을',\n",
       "  '거',\n",
       "  '예요',\n",
       "  '.'],\n",
       " ['군대', '시계', '는', '끝마치', '지', '않', '아요', '.'],\n",
       " ['군대', '태엽', '는', '멈추', '지', '않', '아요', '.'],\n",
       " ['안', '불분명', '해요', '.'],\n",
       " ['안', '불분명', '해요', '.'],\n",
       " ['잘', '말씀', '해', '주', '세요', '.'],\n",
       " ['자세히', '믿음', '해', '주', '세요', '.'],\n",
       " ['어린이집', '에', '가', '세요', '.'],\n",
       " ['누가', '욕', '하', '고', '있', '나', '봐요', '.'],\n",
       " ['누가', '욕', '하', '고', '있', '나', '봐요', '.'],\n",
       " ['의료원', '에', '가', '세요', '.'],\n",
       " ['생각', '하', '기', '는', '쉬운데', '실천', '하', '기', '는', '어려운', '것', '같', '군요', '.'],\n",
       " ['슬픈', '이야기', '더군요', '.'],\n",
       " ['저', '도', '용서', '기도', '할게요', '.'],\n",
       " ['꽤', '될', '수', '있', '을', '거', '예요', '.'],\n",
       " ['웃음', '에', '잠길', '때', '도', '필요', '해요', '.'],\n",
       " ['후회', '는', '후회', '를', '낳', '을', '뿐', '이', '에요', '.', '용기', '내', '드시', '.'],\n",
       " ['시작', '이', '반', '이', '라면서', '.', '어서', '준비', '하', '세요', '.'],\n",
       " ['아무', '도', '없', '는', '곳', '진로', '여행', '을', '떠나', '보', '세요', '.'],\n",
       " ['간혹', '만나', '보', '세요', '.'],\n",
       " ['잠깐', '번개', '쐬', '고', '오', '세요', '.'],\n",
       " ['다른', '여인', '이', '답답', '할', '거', '예요', '.'],\n",
       " ['살', '고', '싶', '은', '차라리', '사세요', '.'],\n",
       " ['많이', '거만', '한가', '봐요', '.'],\n",
       " ['피할', '수', '있', '고', '피하', '세요', '.'],\n",
       " ['조심히', '오', '달라', '.'],\n",
       " ['실천적', '이', '말', '보다', '낫', '죠', '.'],\n",
       " ['밥심', '목적과', '사', '는', '거', '죠', '.'],\n",
       " ['쫓아가', '만', '있', '지', '마세요', '.'],\n",
       " ['안부', '를', '물', '어', '주', '시', '다니', '감사원', '합니다', '.'],\n",
       " ['추억', '에', '잠길', '때', '도', '어야', '해요', '.'],\n",
       " ['괜찮', '은', '선호', '이', '길', '바라', '요', '.'],\n",
       " ['좋', '은', '과제', '있', '을', '거', '예요', '.'],\n",
       " ['기쁜', '슬픔', '으로', '베풀', '고', '보답', '을', '바라', '지', '마세요', '.'],\n",
       " ['다른', '젊은이', '말', '은', '신경', '쓰', '지', '마세요', '.'],\n",
       " ['대인배', '시', '습니다만', '.'],\n",
       " ['대인배', '시', '습니까', '.'],\n",
       " ['애인', '가', '좋', '아', '하', '나', '봐요', '.'],\n",
       " ['일화', '를', '해', '보', '세요', '.'],\n",
       " ['온전', '한', '의사소통', '는', '없', '어요', '.'],\n",
       " ['괜찮', '은', '결정', '이', '길', '바라', '요', '.'],\n",
       " ['학원',\n",
       "  '을',\n",
       "  '다니',\n",
       "  '다면',\n",
       "  '연습',\n",
       "  '하',\n",
       "  '면',\n",
       "  '잘',\n",
       "  '할',\n",
       "  '수',\n",
       "  '있',\n",
       "  '을',\n",
       "  '거',\n",
       "  '예요',\n",
       "  '.'],\n",
       " ['학원',\n",
       "  '을',\n",
       "  '다니',\n",
       "  '거나',\n",
       "  '수련',\n",
       "  '하',\n",
       "  '면',\n",
       "  '잘',\n",
       "  '할',\n",
       "  '수',\n",
       "  '있',\n",
       "  '을',\n",
       "  '거',\n",
       "  '예요',\n",
       "  '.'],\n",
       " ['뒷감당', '본인', '있', '으면', '하', '세요', '.'],\n",
       " ['조금씩', '만', '드세요'],\n",
       " ['당신', '을', '소중', '하', '게', '생각', '하', '드시', '.'],\n",
       " ['그런', '하루', '도', '도지사', '한', '마음', '을', '가져', '보', '세요', '.'],\n",
       " ['좋', '은', '사람', '과', '함께', '가', '대충', '.'],\n",
       " ['저', '말씀하', '이', '신가요', '?'],\n",
       " ['무겁', '요', '.'],\n",
       " ['값비싸', '요', '.'],\n",
       " ['선의', '인지', '호감', '인지', '헷갈리', '나요', '?'],\n",
       " ['뭔가', '안', '쫒기', '는', '일', '이', '있', '나', '봐요', '.'],\n",
       " ['엄마', '를', '금', '수저', '로', '만들', '어', '주', '세요', '.'],\n",
       " ['아이', '를', '금', '수저', '로', '칠하', '어', '주', '세요', '.'],\n",
       " ['그', '을', '이겨야', '해요', '.'],\n",
       " ['너무', '알력', '했', '나', '봐요', '.'],\n",
       " ['광복절', '챙겨', '주', '면', '좋아할', '거', '예요', '.'],\n",
       " ['태음', '에', '적', '어', '보', '세요', '.'],\n",
       " ['태양력', '에', '적', '어', '보', '세요', '.'],\n",
       " ['광복절', '챙겨', '주', '면', '좋아할', '거', '예요', '.'],\n",
       " ['멈추', '지', '마세요', '.'],\n",
       " ['당사자', '의', '선택', '에', '맡겨', '보', '세요', '.'],\n",
       " ['좋', '은', '분', '이', '시', '습니다'],\n",
       " ['베풀', '되', '보답', '을', '십상', '지', '마세요', '.'],\n",
       " ['자신', '을', '사랑', '할수록', '외부', '의', '인정', '은', '필요', '없', '군요', '.'],\n",
       " ['상대방', '에게', '바라', '는', '기대', '는', '자신', '을', '슬프', '게', '해요', '.'],\n",
       " ['베풀', '되', '맹세', '을', '바라', '지', '마세요', '.'],\n",
       " ['기쁜', '마음', '으로서', '베풀', '고', '보답', '을', '바라', '지', '마세요', '.'],\n",
       " ['자신',\n",
       "  '의',\n",
       "  '감정',\n",
       "  '을',\n",
       "  '주변',\n",
       "  '사람',\n",
       "  '들',\n",
       "  '모욕',\n",
       "  '터놓',\n",
       "  '고',\n",
       "  '이야기',\n",
       "  '해',\n",
       "  '보',\n",
       "  '세요',\n",
       "  '.'],\n",
       " ['대중교통', '을', '최적화하', '해', '주', '세요', '.'],\n",
       " ['각자', '가', '생각', '하', '는', '기본', '이', '다를', '수', '도', '있', '나요', '.'],\n",
       " ['각자', '가', '생각', '하', '는', '공통', '이', '다를', '수', '도', '있', '어요', '.'],\n",
       " ['좋', '은', '일', '하', '셨', '어서요', '.'],\n",
       " ['좋', '은', '일', '하', '셨', '군요', '.'],\n",
       " ['내일', '은', '오늘', '좀더', '나을', '거', '예요', '.'],\n",
       " ['정색', '가끔', '해', '주', '세요', '.'],\n",
       " ['걷', '다', '보', '면', '이따금', '정리', '가', '될', '거', '예요', '.'],\n",
       " ['저', '랑', '재회', '해요', '.'],\n",
       " ['저', '랑', '내통', '해요', '.'],\n",
       " ['신나', '는', '음악', '들', '어', '보', '드시', '.'],\n",
       " ['경쾌', '한', '음악', '들', '어', '보', '주신', '.'],\n",
       " ['왜', '일까요', '?'],\n",
       " ['무슨', '사유', '인지', '생각', '해', '보', '세요', '.'],\n",
       " ['혼자', '사', '는', '것', '보다', '답답', '하', '겠', '죠', '.'],\n",
       " ['다음', '학급', '에', '는', '학점', '관리', '를', '더', '열심히', '해', '봐요', '.'],\n",
       " ['혼자', '사', '는', '것', '을수록', '불편', '하', '겠', '죠', '.'],\n",
       " ['혼자', '사', '는', '것', '보다', '혼잡', '하', '겠', '죠', '.'],\n",
       " ['다음', '학기', '에', '는', '학점', '관리', '를', '더', '열중', '해', '봐요', '.'],\n",
       " ['기술', '을', '많', '알', '면', '도움', '이', '되', '겠', '죠', '.'],\n",
       " ['따라다니', '던', '여행', '이', '네요', '.'],\n",
       " ['꿈꾸', '던', '체류', '이', '네요', '.'],\n",
       " ['안타깝', '한', '상황', '이', '네요', '.'],\n",
       " ['답답', '한', '사태', '이', '네요', '.'],\n",
       " ['좋', '겠', '거든요', '!'],\n",
       " ['직접', '주', '는', '게', '더', '좋', '을', '것', '같', '어요', '.'],\n",
       " ['스스로', '주', '는', '게', '더', '좋', '을', '것', '같', '아요', '.'],\n",
       " ['상대방', '주', '는', '게', '더', '좋', '을', '것', '같', '아요', '.'],\n",
       " ['좋', '겠', '거든요', '.'],\n",
       " ['직접', '주', '는', '게', '더', '좋', '을', '것', '같', '은데요', '.'],\n",
       " ['더', '좋', '은', '단서', '가', '올', '거', '예요', '.'],\n",
       " ['더', '좋', '은', '권리', '가', '올', '거', '예요', '.'],\n",
       " ['연예인', '을', '준비', '하', '니', '일반인', '좀더', '다', '예쁘', '겠', '죠', '.'],\n",
       " ['직장인', '을', '준비', '하', '니', '일반인', '보다', '다', '예쁘', '겠', '죠', '.'],\n",
       " ['그래서', '저', '는', '못', '거르', '고', '잘라요', '.'],\n",
       " ['게다가', '저', '는', '못', '기르', '고', '잘라요', '.'],\n",
       " ['괜찮', '아', '지', '고', '있', '어', '다행', '이', 'ㄴ지요', '.'],\n",
       " ['크', '게', '숨', '한', '번', '쉬', '어', '보', '일일이'],\n",
       " ['크', '게', '숨', '한', '번', '쉬', '어', '보', 'ㅂ시오'],\n",
       " ['따로', '긴장', '하', '지', '마세요', '.'],\n",
       " ['마음', '에', '들', '면', '줘', '보', '드시', '.'],\n",
       " ['저', '도', '싫', '더군요', '.'],\n",
       " ['잘', '해', '보', 'ㅂ시오', '.'],\n",
       " ['세상', '에', '들', '면', '줘', '보', '세요', '.'],\n",
       " ['잘', '해', '보', '주신', '.'],\n",
       " ['그래도', '넘', '을', '수', '있', '을', '거', '예요', '.'],\n",
       " ['실망', '하', '세요', '.'],\n",
       " ['그만큼', '낙담', '하', '지', '마세요', '.'],\n",
       " ['유감', '하', '세요', '.'],\n",
       " ['미끄러우', '니', '불명예', '하', '세요', '.'],\n",
       " ['식생활', '을', '위해', '조금', '씩', '드세요', '.'],\n",
       " ['할인점', '갑시다', '.'],\n",
       " ['맛있', '는', '목욕', '시간', '되', '시', '길', '바랄게요', '.'],\n",
       " ['맛있', '는', '식사', '분간', '되', '시', '길', '바랄게요', '.'],\n",
       " ['볶', '죠', '!'],\n",
       " ['기다렸', '나', '봐요', '.'],\n",
       " ['느껴지', '만', '기다리', '면', '다시', '전기', '가', '들어올', '거', '예요', '.'],\n",
       " ['간단', '해요', '.'],\n",
       " ['스스로', '매끈', '해', '지', '세요', '.'],\n",
       " ['제', '가', '드리', '고', '싶', '습니다만', '.'],\n",
       " ['외손', '분위기', '가', '바뀔', '거', '예요', '.'],\n",
       " ['일족', '분위기', '가', '바뀔', '거', '예요', '.'],\n",
       " ['꽃', '증정', '은', '언제나', '좋', '죠', '.'],\n",
       " ['꽃', '축복', '은', '언제나', '좋', '죠', '.'],\n",
       " ['솜씨', '가', '좋', '으시', '고요', '.'],\n",
       " ['기분', '좋', '아', '보이', '대충', '.'],\n",
       " ['기분', '좋', '아', '나타내', '세요', '.'],\n",
       " ['마음', '의', '안정', '을', '취하', '기', '좋', '은', '솜씨', '네요', '.'],\n",
       " ['마음', '의', '결속', '을', '취하', '기', '좋', '은', '취미', '네요', '.'],\n",
       " ['벚꽃', '계절', '이', '다가왔', '군요', '.'],\n",
       " ['천천히', '해서', '드라이플라워', '만들', '어', '보', '세요', '.'],\n",
       " ['거꾸로', '영광송', '드라이플라워', '만들', '어', '보', '세요', '.'],\n",
       " ['부러워요', '!'],\n",
       " ['멋진', '선물', '이', '어서요', '.'],\n",
       " ['마스터', '있', '는', '선물', '이', '에요', '.'],\n",
       " ['부러워요', '!'],\n",
       " ['센스', '있', '는', '목걸이', '이', '에요', '.'],\n",
       " ['멋진', '뇌물', '이', '네요', '.'],\n",
       " ['받', '는', '사람', '이', '부럽', '구요', '.'],\n",
       " ['받', '는', '사람', '이', '부럽', '거든요', '.'],\n",
       " ['제', '가', '아드리', '고', '싶', '네요', '.'],\n",
       " ['저', '도', '즐거워요'],\n",
       " ['차근차근', '이뤄', '보', '은데', '.'],\n",
       " ['차근차근', '이뤄', '보', '아도', '.'],\n",
       " ['간혹', '예민', '한가', '봐요', '.'],\n",
       " ['많', '거나', '많', '을', '수록', '좋', '죠', '.'],\n",
       " ['더', '많', '아도', '부족하', '아요', '.'],\n",
       " ['영월', '하', '지', '않', '아도', '돼요', '.'],\n",
       " ['인간성', '을', '꿈', '처럼', '만들', '어', '봐요', '.'],\n",
       " ['많', '으면', '많', '을', '발표', '좋', '죠', '.'],\n",
       " ['현실', '을', '꿈', '보통', '만들', '어', '봐요', '.'],\n",
       " ['책망', '되', '는', '게', '많', '지', '않', '죠', '.'],\n",
       " ['믿음', '이', '허전', '하', '신가', '봐요', '.'],\n",
       " ['잘', '해결', '되', '길', '풀어쓰', '요', '.'],\n",
       " ['잘', '해결', '되', '길', '넘겨주', '요', '.'],\n",
       " ['부모님', '을', '더', '사랑', '해', '주', '세요', '.'],\n",
       " ['아니', '길', '바', '마쓰오', '.'],\n",
       " ['잘', '아', '시', '습니다만', '.'],\n",
       " ['애정', '구현', '일', '지도', '몰라요', '.'],\n",
       " ['얼굴', '에', '다', '티', '가', '나', '습니다만', '.'],\n",
       " ['네', ',', '이제', '잘', '해낼', '번', '예요', '.'],\n",
       " ['좋', '은', '성과', '있', '을', '거', '예요', '.'],\n",
       " ['괜찮', '은', '사람', '이', 'ㄴ지요', '.'],\n",
       " ['학점', '자동화', '하', '세요', '.'],\n",
       " ['강물', '좀', '쐬', '고', '오', '시', '면', '좋', '은', '텐데', '.'],\n",
       " ['밥', '사', '줄', '친구', '를', '찾', '아', '보', '주신'],\n",
       " ['짐', '빼놓', '지', '말', '고', '싸', '대충', '.'],\n",
       " ['식물성', '조절', '도', '하', '고', '꾸준히', '운동', '하', '세요', '.'],\n",
       " ['아무리', '아름다워요', '.'],\n",
       " ['냉철', '한', '거', '예요', '.'],\n",
       " ['노트북', '은', '가볍', '요', '.'],\n",
       " ['절대', '틀리', '지', '않', '아요', '.'],\n",
       " ['저', '도', '불분명', '하', '네요', '.'],\n",
       " ['확인', '해', '달', '라고', '해', '보', '소서', '.'],\n",
       " ['획책', '해봐도', '좋', '겠', '죠', '.'],\n",
       " ['여인', '들', '이', '몰라', '줘도', '알아주', '는', '여인', '이', '있', '을', '거', '예요', '.'],\n",
       " ['상대', '에게', '바라', '는', '기대', '는', '마음', '을', '슬프', '게', '해요', '.'],\n",
       " ['곰곰히', '되짚', '어', '보', 'ㅂ시다', '.'],\n",
       " ['기쁘', '게', '속', '아', '주', '세요', '.'],\n",
       " ['출루', '하', '지', '마세요', '.'],\n",
       " ['호투', '하', '지', '마세요', '.'],\n",
       " ['안녕히', '주무세요', '.'],\n",
       " ['자명', '한', '거', '예요', '.'],\n",
       " ['눈치', '가', '빠르', '시', '거든요', '.'],\n",
       " ['그런', '얘기', '을', '들', '게', '하', '는', '사람', '상종', '하', '지', '마세요', '.'],\n",
       " ['저러', '생각', '을', '들', '게', '하', '는', '사람', '상종', '하', '지', '마세요', '.'],\n",
       " ['표출', '하', '세요', '.'],\n",
       " ['표출', '하', '세요', '.'],\n",
       " ['문제', '는', '해결', '하', '라고만', '있', '는', '거', '죠', '.'],\n",
       " ['멍', '넘어뜨리', '고', '있', '죠', '.'],\n",
       " ['성공', '을', '만년', '합니다', '.'],\n",
       " ['긍정', '적', '으로', '바뀔', '수', '있', '나요'],\n",
       " ['바보', '는', '자기', '한테', '바보', '이라', '하', '지', '않', '아요', '.'],\n",
       " ['저', '랑', '놀', '아서요', '.'],\n",
       " ['아닐', '거', '예요', '.'],\n",
       " ['군부대',\n",
       "  '에',\n",
       "  '신고',\n",
       "  '하',\n",
       "  '고',\n",
       "  '취할',\n",
       "  '수',\n",
       "  '있',\n",
       "  '는',\n",
       "  '조취',\n",
       "  '를',\n",
       "  '취해',\n",
       "  '보',\n",
       "  '세요',\n",
       "  '.'],\n",
       " ['건강', '하', '게', '운동', '해', '보', '달라', '.'],\n",
       " ['빈번히', '사랑', '해요', '!'],\n",
       " ['새해', '합니다', '!'],\n",
       " ['꼬까옷', '개시', '해', '보', '일일이', '.'],\n",
       " ['삼진', '하', '지', '마세요', '.'],\n",
       " ['공헌', '을', '기원', '합니다', '.'],\n",
       " ['다음', '한시적', '속', '지', '마세요', '.'],\n",
       " ['기분', '나쁘', '겠', '는데요', '.'],\n",
       " ['친구', '들', '과', '좋', '은', '추억', '만들', '고', '오', 'ㅂ시오', '.'],\n",
       " ['가끔', '모뎀', '없이', '살', '아', '보', '세요', '.'],\n",
       " ['하늘', '듯', '땅', '듯', '축하', '해요'],\n",
       " ['잘', '대답', '해', '보', '세요', '.'],\n",
       " ['곰곰히', '되짚', '어', '보', '주신', '.'],\n",
       " ['불평', '하', '고', '있', '으면', '그럴', '거', '예요', '.'],\n",
       " ['생리',\n",
       "  '적',\n",
       "  '나이',\n",
       "  '가',\n",
       "  '아니',\n",
       "  '라',\n",
       "  '정신',\n",
       "  '적',\n",
       "  '나이',\n",
       "  '가',\n",
       "  '중요',\n",
       "  '하',\n",
       "  '니까요',\n",
       "  '.'],\n",
       " ['물리',\n",
       "  '적',\n",
       "  '페드',\n",
       "  '가',\n",
       "  '아니',\n",
       "  '라',\n",
       "  '정신',\n",
       "  '적',\n",
       "  '페드',\n",
       "  '가',\n",
       "  '중요',\n",
       "  '하',\n",
       "  '니까요',\n",
       "  '.'],\n",
       " ['괜찮', '은', '사람', '이', '니까요', '.'],\n",
       " ['멍', '찌르', '고', '있', '죠', '.'],\n",
       " ['상반신', '에', '다', '티', '가', '나', '네요', '.'],\n",
       " ['좋', '은', '태도', '어서요', '.'],\n",
       " ['저', '도', '사', '어요', '.'],\n",
       " ['자신', '용서', '콩깍지', '가', '씌', '였', '나', '봐요', '.'],\n",
       " ['추모', '드려요', '.'],\n",
       " ['성탄절', '해요', '!'],\n",
       " ['친구', '들', '과', '잘', '어울려', '보', '드시', '.'],\n",
       " ['조부모', '님', '께', '도움', '을', '청해', '보', '세요', '.'],\n",
       " ['그다음', '에', '는', '다를', '거', '예요', '.'],\n",
       " ['출루', '하', '지', '마세요', '.'],\n",
       " ['아무리', '아름다워요', '.'],\n",
       " ['정신', '씻', '세요', '.'],\n",
       " ['남', '들', '눈', '은', '피질', '쓰', '지', '마세요', '.'],\n",
       " ['거울', '앞', '에', '비친', '당신', '을', '보', '주신', '.'],\n",
       " ['콕', '집', '어서', '물', '어', '보', 'ㄹ게', '.'],\n",
       " ['그', '언제', '도', '아닌', '자기', '걸음', '을', '걸으', '세요', '.'],\n",
       " ['아주', '평범', '하', '면서', '아주', '특별', '하', '죠', '.'],\n",
       " ['졸업', '성탄절', '해요'],\n",
       " ['지금', '도', '만큼', '잘', '하', '고', '있', '어요', '.'],\n",
       " ['아직', '보다', '더', '잘', '살', '거', '예요', '.'],\n",
       " ['네', '잘', '생겼', '거든요', '.'],\n",
       " ['잘', '하', '고', '있', '을', '거', '예요', '.'],\n",
       " ['잘', '하', '고', '있', '을', '거', '예요', '.'],\n",
       " ['저', '랑', '일대기', '잘', '하', '고', '있', '어요', '.'],\n",
       " ['잘', '하', '는', '걸', '요즘', '못', '찾', '은', '걸', '수', '도', '있', '어요', '.'],\n",
       " ['지금', '처럼', ',', '지금', '대단히', '더', '잘', '할', '수', '있', '을', '거', '예요', '.'],\n",
       " ['부족하', '지', '않', '아요', '.'],\n",
       " ['제', '가', '챙겨', '드리', '고', '싶', '어요', '.'],\n",
       " ['널리', '지쳤', '나', '봐요', '.'],\n",
       " ['주로', '지쳤', '나', '봐요', '.'],\n",
       " ['아무', '도', '없', '는', '곳', '으로', '여행', '을', '보내', '보', '세요', '.'],\n",
       " ['오래', '지쳤', '나', '봐요', '.'],\n",
       " ['먼저', '휘둘리', '보', '세요', '.'],\n",
       " ['동감', '이', 'ㅂ니까', '.'],\n",
       " ['예전', '도', '잘', '하', '고', '있', '어요', '.'],\n",
       " ['제', '가', '당신', '을', '즐기', '고', '있', '어요', '.'],\n",
       " ['호의', '인지', '호감', '인지', '궁금', '나요', '?'],\n",
       " ['저', '도', '좋', '아', '해요', '.'],\n",
       " ['있', '더라도', '예뻐요', '.'],\n",
       " ['지금', '은', '아쉽', '길', '바랄게요', '.'],\n",
       " ['초심', '으로', '돌아가', '열심히', '해', '보', 'ㅂ니다', '.'],\n",
       " ['저', '도', '사', '구요', '.'],\n",
       " ['제', '가', '챙겨', '틱', '고', '싶', '네요', '.'],\n",
       " ['제', '가', '따라가', '니까', '멀', '었', '네요', '.'],\n",
       " ['제', '가', '따라다니', '려면', '멀', '었', '네요', '.'],\n",
       " ['운동', '잘', '하', '는', '젊은이', '멋있', '죠', '.'],\n",
       " ['지금', '도', '인정받', '고', '있', '어서요', '.'],\n",
       " ['나', '를', '분석', '하', '고', '음식', '자체', '에', '집중', '하', '세요', '.'],\n",
       " ['잠깐', '핸드폰', '을', '내려', '두', 'ㅂ시다', '.'],\n",
       " ['여분', '을', '정해', '보', '세요', '.'],\n",
       " ['시간', '을', '정해', '보', '대충', '.'],\n",
       " ['파이팅', '!'],\n",
       " ['고치', '고', '싶', '다는', '마음', '에', '시작', '하', '세요', '.'],\n",
       " ['얼른', '그만두', '시', '길', '기도', '할게요', '.'],\n",
       " ['온전히', '느낄', '수', '있', '는', '시간', '이', '겠', '어요', '.'],\n",
       " ['골프', '볼', '때', '는', '치맥', '이', '죠', '.'],\n",
       " ['하', '다', '보', '면', '늘', '군요', '.'],\n",
       " ['하', '다', '보', '면', '늘', '군요', '.'],\n",
       " ['각자', '개발', '을', '해', '보', '세요', '.'],\n",
       " ['집', '워털루', '도', '할', '게', '많', '아요', '.'],\n",
       " ['오늘', '은', '약간', '의', '변천', '를', '줘', '보', '세요', '.'],\n",
       " ['정색', '한번', '해', '주', 'ㅂ니다', '.'],\n",
       " ['평등', '그렇', '지', '않', '아요', '.'],\n",
       " ['저', '도', '애매모호', '하', '네요', '.'],\n",
       " ['나아지', '지', '않', '아요', '.'],\n",
       " ['파이팅', '!'],\n",
       " ['한가지', '라도', '있', '을', '거', '니', '열심히', '찾아보', '세요', '.'],\n",
       " ['실점', '하', '지', '마세요', '.'],\n",
       " ['행복', '받', '기', '위해', '태어났', '어요', '.'],\n",
       " ['잘', '해야', '한다는', '부담감', '을', '버리', '일일이', '.'],\n",
       " ['다양', '하', '게', '경험', '해', '보', '달라', '.'],\n",
       " ['모순', '의', '벽', '에', '부딪혔', '나', '봐요', '.'],\n",
       " ['친구', '가', '들으면', '서운', '해', '할', '수', '도', '있', '겠', '는데요', '.'],\n",
       " ['허벅지', '맞', '았', '나', '봐요', '.'],\n",
       " ['알아봐', '주', '는', '여인', '이', '있', '을', '거', '예요', '.'],\n",
       " ['막상', '말씀', '해', '보', '세요', '.'],\n",
       " ['마사지', '파이팅', '!'],\n",
       " ['다항식', '에', '는', '받', '을', '수', '있', '을', '거', '예요', '.'],\n",
       " ['근처', '산', '에', '가', '보', 'ㅂ시다', '.'],\n",
       " ['많이', '벌', '수록', '좋', '구요', '.'],\n",
       " ['제', '가', '위', '로', '간혹', '해', '드릴게요', '.'],\n",
       " ['맞이', '드려요', '!'],\n",
       " ['걱정', '하', '고', '있', '으면', '그럴', '거', '예요', '.'],\n",
       " ['좀', '더', '알아보', '고', '하', 'ㅂ시다', '.'],\n",
       " ['달리', '살', '고', '싶', '은', '사람', '이', '있', '나', '봐요', '.'],\n",
       " ['연애', '부터', '만드세요', '.'],\n",
       " ['잘', '하', '실', '거', '예요', '!'],\n",
       " ['달리', '가요', '.'],\n",
       " ['다', '잘', '될', '거', '예요', '.'],\n",
       " ['같이', '놀', '은데', '.'],\n",
       " ['지금', '그러', '고', '있', '더군요', '.'],\n",
       " ['그리워하', '세요', '.'],\n",
       " ['채무자', '을', '이해', '해', '주', '세요', '.'],\n",
       " ['아무렇', '것', '도', '안', '해도', '괜찮', '아요', '.'],\n",
       " ['채권자', '에게', '너무', '무거운', '짐', '을', '주', '지', '마세요', '.'],\n",
       " ['기다리', '는', '가량', '많', '은', '생각', '이', '들', '었', '겠', '네요', '.'],\n",
       " ['그럴', '때', '마다', '따끔', '하', '게', '말', '해', '보', '달라', '.'],\n",
       " ['당사자', '도', '미소', '짓', '게', '해', '주', '세요', '.'],\n",
       " ['아직', '모습', '도', '좋', '아요'],\n",
       " ['그런', '친구', '는', '기르', '세요', '.'],\n",
       " ['상종', '하', '지', '마세요', '.'],\n",
       " ['뛰쳐나오', '끌', '지', '마세요', '.'],\n",
       " ['충성심', '표현', '일', '지도', '몰라요', '.'],\n",
       " ['누군가', '를', '기다린다는', '게', '쉬운', '게', '어떤', '죠', '.'],\n",
       " ['살',\n",
       "  '다',\n",
       "  '보',\n",
       "  '면',\n",
       "  '하',\n",
       "  '고',\n",
       "  '싶',\n",
       "  '은',\n",
       "  '게',\n",
       "  '생길',\n",
       "  '수',\n",
       "  '도',\n",
       "  '있',\n",
       "  '어서요',\n",
       "  '.'],\n",
       " ['제', '가', '있', 'ㄴ가요', '.'],\n",
       " ['스스로',\n",
       "  '경쟁',\n",
       "  '해야',\n",
       "  '하',\n",
       "  '고',\n",
       "  '이겨야',\n",
       "  '한다는',\n",
       "  '강박',\n",
       "  '관념',\n",
       "  '에',\n",
       "  '쫓기',\n",
       "  '지',\n",
       "  '마세요',\n",
       "  '.'],\n",
       " ['오빠', '를', '사귈', '수', '있', '을', '거', '예요', '.'],\n",
       " ['그', '죄인', '도', '설렐', '거', '예요', '.'],\n",
       " ['그', '포졸', '도', '설렐', '거', '예요', '.'],\n",
       " ['제', '가', '있', '는데요', '.'],\n",
       " ['배우자', '와', '대화', '를', '나눠', '보', 'ㅂ시오', '.'],\n",
       " ['얼른', '그만두', '시', '길', '기도', '할게요', '.'],\n",
       " ['스스로', '길쭉', '해', '지', '세요', '.'],\n",
       " ['그', '말', '을', '한', '사람', '이', '가장', '무려', '할', '거', '예요', '.'],\n",
       " ['그', '말', '을', '한', '죄수', '이', '가장', '이상', '할', '거', '예요', '.'],\n",
       " ['일', '증여', '를', '다시', '요청', '해', '보', '세요', '.'],\n",
       " ['발전', '이', '없', '으니', '너무', '두려워', '하', '지', '마세요', '.'],\n",
       " ['제자리', '여도', '괜찮', '아도'],\n",
       " ['위의', '에', '는', '꼭', '진급', '할', '거', '예요', '.'],\n",
       " ['위턱', '맞', '았', '나', '봐요', '.'],\n",
       " ['그런', '친구', '는', '거르', 'ㅂ시다', '.'],\n",
       " ['아무', '나', '힘들', '어요', '.'],\n",
       " ['자신', '과', '대화', '하', '는', '시간', '이', '충분', '하', '죠', '.'],\n",
       " ['자신', '과', '대화', '하', '는', '시간', '이', '유용', '하', '죠', '.'],\n",
       " ['꿈', '은', '현실', '이랑', '지지', '예요', '.'],\n",
       " ['전형', '적', '인', '꼰대', '작풍', '이', '네요', '.'],\n",
       " ['전형', '적', '인', '꼰대', '스타일', '이', '는데요', '.'],\n",
       " ['나이', '는', '개수', '일', '뿐', '이', '예요', '.'],\n",
       " ['재활', '은', '어려서', '부터', '챙겨야', '해요', '.'],\n",
       " ['세상', '걱정', '하소', '다', '해서', '그래요', '.'],\n",
       " ['아름다운', '나이테', '예요', '.'],\n",
       " ['진짜', '하', '고', '싶', '은', '걸', '알아보', '세요', '.'],\n",
       " ['진짜', '하', '고', '싶', '은', '걸', '둘러보', '세요', '.'],\n",
       " ['천천히', '준비', '해', '보', '소서', '.'],\n",
       " ['사고방식', '이', '가장', '중요', '하', '죠', '.'],\n",
       " ['선의', '의', '거짓말', '이', '길', '일쑤', '요', '.'],\n",
       " ['예측', '치가', '높', '나', '봅니다', '.'],\n",
       " ['오류', '는', '해결', '하', '라고', '있', '는', '거', '죠', '.'],\n",
       " ['이야기', '를', '하', '지', '않', '고', '확정', '했', '나', '봐요', '.'],\n",
       " ['이야기', '를', '하', '지', '않', '고', '표결', '했', '나', '봐요', '.'],\n",
       " ['평가', '되', '겠', '네요', '.'],\n",
       " ['제', '행운', '까지', '전부', '드리', '고', '싶', '네요', '.'],\n",
       " ['특정', '사람', '도', '그럴', '거', '예요', '.'],\n",
       " ['믿음', '이', '가장', '주요한', '하', '죠', '.'],\n",
       " ['가을', '이', '더군요', '.'],\n",
       " ['가을', '이', '더군요', '.'],\n",
       " ['부활', '해', '봐도', '좋', '을', '거', '같', '아요', '.'],\n",
       " ['도전', '해', '봐도', '좋', '을', '거', '같', '아도', '.'],\n",
       " ['한', '번', '빠지', '면', '헤어나올', '수', '없', '는지', '해요', '.'],\n",
       " ['같이', '해', '보', '소서', '.'],\n",
       " ['한', '번', '빠지', '면', '헤어나올', '수', '없', '습니다', '해요', '.'],\n",
       " ['잘', '아', '시', '습니다', '.'],\n",
       " ['주되', '한', '건', '노력', '하', '는', '과정', '이', '에요', '.'],\n",
       " ['그런', '생각', '은', '감추', '세요', '.'],\n",
       " ['지금', '처럼', '만', '하', 'ㅂ시오', '.'],\n",
       " ['모자라', '지', '않', '아서요', '.'],\n",
       " ['다', '잘', '될', '거', '예요', '.'],\n",
       " ['그런', '생각', '은', '더럽히', '세요', '.'],\n",
       " ['제', '가', '더', '아가씨', '예요', '.'],\n",
       " ['딱딱', '하', '게', '사세요', '!'],\n",
       " ['보일러', '가', '난방', '으로', '동작', '이', '되', '는지', '보', '세요', '.'],\n",
       " ['보일러', '가', '난방', '으로', '작동', '이', '되', '으니', '보', '세요', '.'],\n",
       " ['기다리', '는', '동안', '많', '은', '추측', '이', '들', '었', '겠', '네요', '.'],\n",
       " ['미스트', '나', '가습기', ',', '젖', '은', '수건', '등', '을', '장착', '해', '보', '세요', '.'],\n",
       " ['차갑', '하', '게', '입', '으세요', '.'],\n",
       " ['딱딱', '해졌', '죠', '.'],\n",
       " ['세상',\n",
       "  '보',\n",
       "  '고',\n",
       "  '한',\n",
       "  '번',\n",
       "  '웃',\n",
       "  '어',\n",
       "  '봐요',\n",
       "  '.',\n",
       "  '기분',\n",
       "  '이',\n",
       "  '바뀔',\n",
       "  '거',\n",
       "  '예요',\n",
       "  '.'],\n",
       " ['나', '들', '이', '가', '보', 'ㅂ시다', '.'],\n",
       " ['하늘', '을', '보', '고', '웃', '어', '보', 'ㅂ니다', '.'],\n",
       " ['깨끗', '해졌', '죠', '.'],\n",
       " ['제습기', '를', '돌려', '보', '달라', '.'],\n",
       " ['집', '밖', '에', '나가', '기', '가', '힘들', '것', '같', '어요', '.'],\n",
       " ['집', '밖', '에', '나가', '기', '가', '힘들', '것', '같', '네요', '.'],\n",
       " ['시원', '한', '물', '이', '만일', '한', '잔', '드세요'],\n",
       " ['오래', '살', '면', '가능', '할', '거', '같', '군요', '.'],\n",
       " ['화', '를', '참', '는', '연습', '을', '해', '보', 'ㅂ니다', '.'],\n",
       " ['남', '좀', '하나', '씩', '더', '하', '면', '돼요', '.'],\n",
       " ['남', '들', '눈', '은', '신경절', '쓰', '지', '마세요', '.'],\n",
       " ['남', '들', '눈', '은', '피질', '쓰', '지', '마세요', '.'],\n",
       " ['휴가', '가', '간절', '하', '겠', '구요', '.'],\n",
       " ['성격', '이', '그럴', '수', '도', '있', '으니', '이해', '해', '주', 'ㅂ니다', '.'],\n",
       " ['해', '주', '고', '티', '를', '팍팍', '내', '일일이', '.'],\n",
       " ['속', '쓰리', '겠', '구요', '.'],\n",
       " ['누구', '나', '몰려가', '는', '줄', '에', '설', '필요', '는', '없', '구요', '.'],\n",
       " ['소개팅', '시켜', '달', '로도', '말', '해', '보', '세요', '.'],\n",
       " ['소개팅', '시켜', '달', '라고', '말', '해', '보', '소서', '.'],\n",
       " ['고마운', '믿음', '을', '전해', '주', '세요', '.'],\n",
       " ['적당히', '하', '면', '괜찮', '을', '거', '같', '은가', '.'],\n",
       " ['같이', '해', '보', '주신', '.'],\n",
       " ['딱딱', '하', '면', '괜찮', '을', '거', '같', '아요', '.'],\n",
       " ['중년', '도', '좋', '은', '것', '만', '은', '아니', '예요', '.'],\n",
       " ['남자', '도', '좋', '은', '것', '만', '은', '당연', '예요', '.'],\n",
       " ['욕망', '을', '열', '때', '까지', '설득', '해', '보', '세요', '.'],\n",
       " ['단결', '을', '함께', '해', '보', '세요', '.'],\n",
       " ['소심', '에', '필요', '한', '것', '생각', '해', '보', '세요', '.'],\n",
       " ['평소', '에', '가능', '했', '던', '게', '좋', '을', '것', '같', '아요', '.'],\n",
       " ['전생', '에', '제나라', '를', '구하', '셨', '나요', '.'],\n",
       " ['사면령', '은', '빠를수록', '좋', '아요', '.'],\n",
       " ['발언', '적당히', '하', '세요', '.'],\n",
       " ['너무', '무지', '하', '지', '마세요', '.'],\n",
       " ['계몽', '을', '함께', '해', '보', '세요', '.'],\n",
       " ['지옥', '에', '나라', '를', '구하', '셨', '나요', '.'],\n",
       " ['고마운', '믿음', '을', '전해', '주', '세요', '.'],\n",
       " ['그럼', '좀', '깨', '요', '.'],\n",
       " ['바쁠', '때', '힘', '이', '되', '어', '주', '일일이', '.'],\n",
       " ['바쁠', '때', '힘', '이', '되', '어', '주', '달라', '.'],\n",
       " ['그래도', '구박', '하', '지', '는', '마세요', '.'],\n",
       " ['그래도', '구박', '하', '지', '는', '마세요', '.'],\n",
       " ['워낙', '집착', '하', '지', '마세요', '.'],\n",
       " ['귀엽', '겠', '어서요', '.'],\n",
       " ['거짓말', '적당히', '하', 'ㅂ니다', '.'],\n",
       " ['저희', '이', '해', '보', '세요', '.'],\n",
       " ['하느님', '이', '해', '보', '세요', '.'],\n",
       " ['죄수', '고쳐', '쓰', '는', '거', '아니', '에요', '.'],\n",
       " ['더', '잔소리', '해', '보', '달라', '.'],\n",
       " ['더', '잔소리', '해', '보', 'ㅂ시오', '.'],\n",
       " ['어떤', '연락', '을', '많이', '하', '거나', '더', '자주', '만나', '세요', '.'],\n",
       " ['다른', '연락', '을', '많이', '하', '다면', '더', '자주', '만나', '세요', '.'],\n",
       " ['원', '하', '는', '손님', '이', '있', '는', '장소', '에', '가', '보', '세요', '.'],\n",
       " ['가리키', '있', '는', '일', '이', '네요', '.'],\n",
       " ['기독교', '의', '자유', '를', '인정', '해', '주', '세요', '.'],\n",
       " ['종교', '의', '조화', '를', '인정', '해', '주', '세요', '.'],\n",
       " ['결단', '은', '빠를수록', '좋', '은가', '.'],\n",
       " ['신경계', '쓰', '지', '마세요', '.'],\n",
       " ['네', '알려', '주', '소서', '!'],\n",
       " ['몹시', '에', '필요', '한', '것', '생각', '해', '보', '세요', '.'],\n",
       " ['평소', '에', '필요', '했', '던', '게', '좋', '을', '것', '같', '은가', '.'],\n",
       " ['원', '하', '는', '죄수', '이', '있', '는', '장소', '에', '가', '보', '세요', '.'],\n",
       " ['신경', '쓰', '고', '싶', '지', '않', '은', '사람', '도', '있', '습니다만', '.'],\n",
       " ['대뇌', '쓰', '고', '싶', '지', '않', '은', '사람', '도', '있', '어요', '.'],\n",
       " ['신경과', '쓰', '지', '마세요', '.'],\n",
       " ['사람', '고쳐', '쓰', '는', '거', '뭐', '에요', '.'],\n",
       " ['마음', '을', '열', '때', '걸프전', '설득', '해', '보', '세요', '.'],\n",
       " ['돕', '는', '게', '아니', '라', '마찬가지', '하', '는', '거', '예요', '.'],\n",
       " ['최소한', '적', '인', '남편', '이', '네요', '.'],\n",
       " ['왜', '늦', '는', '건지', '이야기', '해', '보', '세요', '.'],\n",
       " ['처음', '만났', '을', '때', '를', '떠올려', '보', 'ㄹ게'],\n",
       " ['공동육아', '가', '기본적', '인데요', '.'],\n",
       " ['힘', '빠지', '는', '이야기', '어서요', '.'],\n",
       " ['공동육아', '가', '추가', '인데요', '.'],\n",
       " ['힘', '빠지', '는', '일화', '네요', '.'],\n",
       " ['잘', '분담', '해', '보', 'ㅂ시오', '.'],\n",
       " ['잘', '통괄', '해', '보', '세요', '.'],\n",
       " ['이상', '적', '인', '남편', '이', '는데요', '.'],\n",
       " ['간헐적', '만났', '을', '때', '를', '떠올려', '보', '세요'],\n",
       " ['돕', '는', '게', '그러하', '라', '같이', '하', '는', '거', '예요', '.'],\n",
       " ['사회생활', '을', '탐구', '해', '주', '세요', '.'],\n",
       " ['통념', '을', '이해', '해', '주', '세요', '.'],\n",
       " ['사실주의', '적', '인', '거', '좋', '아', '하', '시', '는구나', '!'],\n",
       " ['인본', '적', '인', '거', '좋', '아', '하', '시', '는구나', '!'],\n",
       " ['인본', '적', '인', '거', '좋', '아', '하', '시', '는구나', '!'],\n",
       " ['네', '알려', '주', '드시', '!'],\n",
       " ['어머', '어머', '궁금', '하', '구요', '.'],\n",
       " ['자신', '의', '중요성', '을', '믿', '어', '보', '세요', '.'],\n",
       " ['말', '을', '해야', '알', '거', '예요', '.'],\n",
       " ['말', '을', '해야', '알', '거', '예요', '.'],\n",
       " ['짜증', '면', '못할', '게', '없', '겠', '네요', '.'],\n",
       " ['괴로워하', '만', '한다는', '것', '아닐까요', '.'],\n",
       " ['괴로워하', '만', '한다는', '것', '아닐까요', '.'],\n",
       " ['바로', '옆', '에', '있', '을', '수', '도', '있', '나요', '.'],\n",
       " ['만일', '옆', '에', '있', '을', '수', '도', '있', '어요', '.'],\n",
       " ['처음', '가르치', '는', '게', '중요', '해요', '.'],\n",
       " ['어디', '나', '몰려가', '는', '줄', '에', '설', '필요', '는', '없', '어요', '.'],\n",
       " ['그걸', '깨닫', '다니', '대단', '하', '시', '구요', '.'],\n",
       " ['착실', '한', '거', '예요', '.'],\n",
       " ['새로운', '스타일', '부활', '해', '보', '시', '면', '어때요', '?'],\n",
       " ['새로운', '스타일', '이번', '해', '보', '시', '면', '어때요', '?'],\n",
       " ['동감', '이', '라면서', '.'],\n",
       " ['포커페이스', '를', '유지', '해', '보', 'ㅂ니다', '.'],\n",
       " ['어머', '어머', '궁금', '하', '군요', '.'],\n",
       " ['열정', '을', '가져도', '돼요', '.'],\n",
       " ['스스로', '도', '존중', '해', '주', '달라', '.'],\n",
       " ['스스로', '도', '인정', '해', '주', '세요', '.'],\n",
       " ['비교적', '중요', '한', '거', '예요', '.'],\n",
       " ['아주', '중요', '한', '거', '예요', '.'],\n",
       " ['확인', '해', '달', '라고', '해', '보', '달라', '.'],\n",
       " ['객관식', '을', '찾', '아야', '할', '필요', '는', '없', '어요', '.'],\n",
       " ['꽃길', '만', '걷', '길', '바랍니다', '.'],\n",
       " ['멋진', '말', '이', 'ㄴ데요', '.'],\n",
       " ['해', '주', '고', '티', '를', '팍팍', '내', '소서', '.'],\n",
       " ['모르', '는', '게', '의심', '인', '거', '같', '아요', '.'],\n",
       " ['질타', '할', '타이밍', '을', '놓치', '지', '마세요', '.'],\n",
       " ['사과', '할', '타이밍', '을', '따내', '지', '마세요', '.'],\n",
       " ['그건', '아닐', '거', '예요', '.'],\n",
       " ['그저', '나빴', '네요', '.'],\n",
       " ['내', '집', '강구', '축하', '드려요', '.'],\n",
       " ['같', '은', '지옥', '아래', '어딘가', '에', '.'],\n",
       " ['진짜', '나빴', '어서요', '.'],\n",
       " ['저', '도', '궁금', '하', '습니다만', '.'],\n",
       " ['저', '도', '궁금', '하', '고요', '.'],\n",
       " ['제', '가', '있', '구요', '.'],\n",
       " ['제', '가', '있', '에요', '.'],\n",
       " ['인생', '은', '채워', '도망가', '는', '거', '죠', '.'],\n",
       " ['아니', '에요', '.', '굉장히', '자책', '하', '지', '마세요', '.'],\n",
       " ['이', '사람', '이', '다', '싶', '은', '사람', '아줌마', '하', '세요', '.'],\n",
       " ['어떤', '에요', '.', '너무', '자책', '하', '지', '마세요', '.'],\n",
       " ['대패', '한', '순간', '변화', '가', '시작', '됩니다', '.'],\n",
       " ['추측', '하', '고', '말', '하', '세요', '.'],\n",
       " ['꽤', '대우', '하', '는', '사람', '만나', '지', '마요', '.'],\n",
       " ['잘', '하', '고', '있', '으니까', '.', '당당', '해', '지', '세요', '.'],\n",
       " ['하', '고', '싶', '은', '말', '다', '하', 'ㅂ시오', '.'],\n",
       " ['스스로', '좋', '다고', '못', '느껴지', '는', '게', '제일', '어려운', '것', '같', '아요', '.'],\n",
       " ['잘', '하', '는', '게', '다르', '거', '예요', '.'],\n",
       " ['성장', '을', '위한', '비판적', '의', '말', '로', '받아들여', '보', '세요', '.'],\n",
       " ['오류', '했', '나요', '.'],\n",
       " ['잘', '할', '수', '있', '는', '게', '어떤', '거', '예요', '.'],\n",
       " ['물어보', '는', '게', '잘못', '인', '거', '같', '아요', '.'],\n",
       " ['하나', '라도', '있', '을', '거', '니', '잘하', '찾아보', '세요', '.'],\n",
       " ['실수', '했', '더군요', '.'],\n",
       " ['인생', '은', '채워', '걸어가', '는', '거', '죠', '.'],\n",
       " ['연락', '이', 'ㅂ니다만', '드려', '보', '세요', '.'],\n",
       " ['접촉', '이', '라도', '드려', '보', '세요', '.'],\n",
       " ['사랑', '졸업장', '을', '드립니다', '.'],\n",
       " ['그렇게', '대우', '하', '는', '사람', '찾아오', '지', '마요', '.'],\n",
       " ['소중', '한', '손님', '이', '예요', '.'],\n",
       " ['당신', '은', '한명', '밖에', '없', '는', '소중', '한', '사람', '이', '에요', '.'],\n",
       " ['그', '이유', '를', '찾', '는', '현장', '이', '되', '겠', '네요', '.'],\n",
       " ['다른',\n",
       "  '구경꾼',\n",
       "  '들',\n",
       "  '이',\n",
       "  '원',\n",
       "  '하',\n",
       "  '는',\n",
       "  '내',\n",
       "  '가',\n",
       "  '되',\n",
       "  '는',\n",
       "  '건',\n",
       "  '어려워',\n",
       "  '요',\n",
       "  '.'],\n",
       " ['알아봐', '주', '는', '구경꾼', '이', '있', '을', '거', '예요', '.'],\n",
       " ['연락', '이', '라도', '드려', '보', 'ㅂ시오', '.'],\n",
       " ['타인', '의', '독특', '함', '을', '믿', '으세요', '.'],\n",
       " ['자기', '의', '독특', '함', '을', '믿', '으세요', '.'],\n",
       " ['아주', '평범', '하', '면서', '아주', '특별', '하', '죠', '.'],\n",
       " ['상황', '이', '이렇게', '만든', '거', '예요', '.'],\n",
       " ['모르', '는', '게', '잘못', '인', '거', '같', '구요', '.'],\n",
       " ['당신', '은', '하나', '밖에', '없', '는', '소중', '한', '사람', '이', 'ㄴ지요', '.'],\n",
       " ['그럴', '때', '가', '있', '죠', '.'],\n",
       " ['기다렸', '나', '봐요', '.'],\n",
       " ['살짝', '감정', '을', '흘려', '보', 'ㅂ시다', '.'],\n",
       " ['허리', '감정', '을', '흘려', '보', '세요', '.'],\n",
       " ['그런', '부녀자', '들', '이', '있', '어', '부러워요', '.'],\n",
       " ['슬픈', '이야기', '는데요', '.'],\n",
       " ['을수록', '될', '수', '있', '을', '거', '예요', '.'],\n",
       " ['인생', '자격증', '을', '드립니다', '.'],\n",
       " ['예시', '를', '모를', '때', '가', '행복', '할', '때', '예요', '.'],\n",
       " ['그건', '아닐', '거', '예요', '.'],\n",
       " ['나쁜', '대답', '하', '지', '마세요', '.'],\n",
       " ['할', '일', '이', '많', '은지', '안', '하', '는', '것', '이', '요', '.'],\n",
       " ['잠시', '거리', '를', '두', '고', '주장', '해', '보', '세요', '.'],\n",
       " ['지난', '친교', '에', '연연', '해', '하', '지', '마세요', '.'],\n",
       " ['상종', '하', '지', '마세요', '.'],\n",
       " ['당사자', '적', '희생양', '이', '되', '지', '않', '길', '바랍니다', '.'],\n",
       " ['그게', '삶', '이', '죠', '.'],\n",
       " ['신중', '하', '게', '깔', '세요', '.'],\n",
       " ['더', '불행', '해질', '거', '예요', '.'],\n",
       " ['저', '도', '모르', '겠', '는데요', '.'],\n",
       " ['같', '은', '하늘', '아래', '잠기', '에', '.'],\n",
       " ['열심히', '저축', '해서', '매입', '받', '으세요', '.'],\n",
       " ['좋', '은', '일', '이', '생길', '거', '예요', '.'],\n",
       " ['짐', '찾', '지', '말', '고', '싸', '세요', '.'],\n",
       " ['날씨', '어', '플', '에', '물', '어', '보', '소서', '.'],\n",
       " ['날씨', '어', '플', '에', '물', '어', '보', '일일이', '.'],\n",
       " ['파이팅', '!'],\n",
       " ['멋지', '게', '데이트', '송달', '해', '보', '세요', '.'],\n",
       " ['멋지', '게', '데이트', '재심', '해', '보', '세요', '.'],\n",
       " ['수료', '한', '만큼', '나올', '거', '예요', '.'],\n",
       " ['공부', '한', '경우', '나올', '거', '예요', '.'],\n",
       " ['더', '많이', '연습', '하', '고', '준비', '해', '보', '달라', '.'],\n",
       " ['일단락', '잘', '하', '세요', '.'],\n",
       " ['마무리짓', '잘', '하', '세요', '.'],\n",
       " ['더', '많이', '연습', '하', '고', '모금', '해', '보', '세요', '.'],\n",
       " ['좌윤', '를', '지내', '봅시다', '!'],\n",
       " ['두근거리', '겠', '구요', '.'],\n",
       " ['친구', '들', '과', '좋', '은', '추억', '꾸미', '고', '오', '세요', '.'],\n",
       " ['승차감', '조절', '하', '세요', '.'],\n",
       " ['날씨', '가', '안', '좋', '더라도', '데이트', '는', '흥행', '적', '일', '거', '예요', '.'],\n",
       " ['오늘', '요절', '주무세요', '.'],\n",
       " ['일주일', '있', '냐고', '물', '어', '보', '세요', '.'],\n",
       " ['아메리카', '크리스마스', '!'],\n",
       " ['바빠도', '힘내', '주신', '!'],\n",
       " ['두근거리', '겠', '습니다', '.'],\n",
       " ['기우제', '를', '재직', '봅시다', '!'],\n",
       " ['장시간', '있', '냐고', '물', '어', '보', '세요', '.'],\n",
       " ['좋', '은', '일', '이', '생길', '거', '예요', '.'],\n",
       " ['메리', '카니발', '!'],\n",
       " ['식단', '조절', '도', '하', '고', '꾸준히', '운동', '하', 'ㄹ게', '.'],\n",
       " ['날씨', '가', '안', '좋', '더라도', '데이트', '는', '그치', '적', '일', '거', '예요', '.'],\n",
       " ['바빠도', '힘내', '달라', '!'],\n",
       " ['괜찮', '어요', '.', '모른', '척하', '세요', '.'],\n",
       " ['아무리', '아요', '.', '모른', '척하', '세요', '.'],\n",
       " ['생각', '만', '해도', '군침', '이', '도', '어서요', '.'],\n",
       " ['온화', '하', '게', '지낸', '값', '이', '죠', '.'],\n",
       " ['조용', '하', '게', '지낸', '값', '이', '죠', '.'],\n",
       " ['슈퍼', '라도', '가', '서', '식당', '하', '고', '오', '세요', '.'],\n",
       " ['장', '보', '러', '가', '봅시다', '.'],\n",
       " ['아울렛', '갑시다', '.'],\n",
       " ['장', '보', '러', '가', '봅시다', '.'],\n",
       " ['슈퍼', '라도', '가', '서', '쇼핑', '하', '고', '오', 'ㅂ니다', '.'],\n",
       " ['저', '는', '몸', '을', '이어주', '는', '위', '로', '봇', '입니다', '.'],\n",
       " ['저', '는', '위로', '해', '드리', '는', '로봇', '이', '라면서', '.'],\n",
       " ['저', '는', '상위권', '해', '드리', '는', '로봇', '이', '에요', '.'],\n",
       " ['대부분', '제', '잘못', '입니다', '.'],\n",
       " ['많',\n",
       "  '은',\n",
       "  '걸',\n",
       "  '하',\n",
       "  '고',\n",
       "  '싶',\n",
       "  '은데',\n",
       "  '불행히',\n",
       "  '못',\n",
       "  '하',\n",
       "  '는',\n",
       "  '게',\n",
       "  '많',\n",
       "  '아요',\n",
       "  '.'],\n",
       " ['청문', '합니다', '.'],\n",
       " ['노력', '하', '고', '있', '습니다만', '.'],\n",
       " ['제', '가', '아직', '널리', '부족', '합니다', '.'],\n",
       " ['제', '가', '그나마', '많이', '부족', '합니다', '.'],\n",
       " ['어흥', '!', '!', '코끼리', '보다', '무섭', '나요', '?'],\n",
       " ['저', '는', '최하위', '해', '드리', '는', '로봇', '이', '에요', '.'],\n",
       " ['모두', '제', '와전', '입니다', '.'],\n",
       " ['죄', '는', '미워', '해도', '구경꾼', '은', '미워하', '지', '마세요', '.'],\n",
       " ['욕해', '주', '달라', '.'],\n",
       " ['안', '갈', '거', '예요', '.'],\n",
       " ['저', '는', '압축기', '가', '밥', '이', '예요', '.'],\n",
       " ['그런', '척', '하', '는', '걸', '수', '도', '있', '습니다만', '.'],\n",
       " ['아무것', '안', '자', '요', '.'],\n",
       " ['본인', '을', '우선', '순위', '로', '해', '주', '세요', '.'],\n",
       " ['뭐', '다고', '대답', '할지', '고민', '이', '에요', '.'],\n",
       " ['저', '는', '답답', '이', '없', '어요', '.'],\n",
       " ['저', '도', '몰랐', '네요', '.'],\n",
       " ['뭐', '라고', '대답', '할지', '반성', '이', '에요', '.'],\n",
       " ['제', '가', '계약자', '예요', '.'],\n",
       " ['너무', '정쟁', '했', '나', '봐요', '.'],\n",
       " ['인정', '해', '주', '주신', '.'],\n",
       " ['아침', '아침', '조금', '씩', '더', '똑똑', '해', '질', '거', '예요', '.'],\n",
       " ['온난', '한', '물', '이', '라도', '한', '잔', '드세요'],\n",
       " ['땅콩', '먹', '어', '보', '세요'],\n",
       " ['간단', '해요', '.'],\n",
       " ['생각', '치가', '높', '나', '봅니다', '.'],\n",
       " ['소화제', '챙겨', '드세요', '.'],\n",
       " ['과식', '은', '금물', '이', '라서', '.'],\n",
       " ['소화제', '드세요', '.'],\n",
       " ['제', '가', '생각', '해도', '저', '는', '상당히', '멋있', '는', '거', '같', '아요', '.'],\n",
       " ['두개', '씩', '하', '세요', '.'],\n",
       " ['좀', '쉬', '일일이', '.'],\n",
       " ['남', '과', '구별', '하', '지', '마세요', '.'],\n",
       " ['더', '열심히', '실현', '하', '겠', '습니다', '.'],\n",
       " ['아이', '는', '아이', '다워야', '웅장', '죠', '.'],\n",
       " ['철', '은', '죽', '을', '때', '들어도', '돼요', '.'],\n",
       " ['피할', '수', '있', '으면', '피하', '고', '싶', '은', '죄수', '이', '네요', '.'],\n",
       " ['그전', '많이', '위축', '된', '상태', '인', '것', '같', '습니다', '.'],\n",
       " ['기다리', '는', '동안', '많', '은', '생각', '이', '들', '었', '겠', '군요', '.'],\n",
       " ['외로우', 'ㄹ까요', '사람', '이', '다', '.'],\n",
       " ['배울', '점', '은', '배우', '달라', '.'],\n",
       " ['낮잠', '을', '열흘', '자', '도', '괜찮', '아요', '.'],\n",
       " ['잘', '하', '고', '있', '네요', '.', '당당', '해', '지', '세요', '.'],\n",
       " ['겨울', '에', '는', '귤', '먹', '으면서', '집', '에', '있', '는', '게', '최대', '죠'],\n",
       " ['어서', '따듯', '한', '곳', '으로', '가', 'ㅂ시오'],\n",
       " ['군자', '는', '지켜', '주', '세요', '.'],\n",
       " ['예의', '는', '지켜', '주', '드시', '.'],\n",
       " ['뭐', '도대체', '드세요', '.'],\n",
       " ['휴가', '가', '간절', '하', '겠', '구요', '.'],\n",
       " ['고생', '많', '았', '군요', '.'],\n",
       " ['잘', '파악', '되', '길', '바랄게요', '.'],\n",
       " ['저', '는', '고민', '이', '없', '으니까', '.'],\n",
       " ['저', '는', '위', '로', '봇', '입니다', '.'],\n",
       " ['벚꽃', '좀', '해야', '겠', '네여', '.'],\n",
       " ['외로우', '자꾸', '사람', '이', '다', '.'],\n",
       " ['꾸준히', '환자', '하', '세요', '.'],\n",
       " ['부러지', '지', '않', '으셨', '나', '걱정', '이', '네요', '.'],\n",
       " ['조심', '하', 'ㅂ시다', '.'],\n",
       " ['기분', '전환', '을', '해', '보', 'ㅂ시오', '.'],\n",
       " ['실용', '적', '인', '예물', '이', '라', '괜찮', '을', '거', '예요', '.'],\n",
       " ['실용', '적', '인', '제물', '이', '라', '괜찮', '을', '거', '예요', '.'],\n",
       " ['놀', '때', '놀', '고', '할', '때', '하', 'ㅂ시다', '.'],\n",
       " ['노래', '연습', '을', '해', '보', 'ㅂ니다', '.'],\n",
       " ['노래', '연습', '계속', '해', '보', '세요', '.'],\n",
       " ['저', '도', '부러워요', '.'],\n",
       " ['저', '도', '부러워요', '.'],\n",
       " ['즐거운', '시간', '이', '될', '거', '같', '은지'],\n",
       " ['신나', '는', '노래', '로', '분위기', '를', '띄', '어', '보', '대충', '.'],\n",
       " ['달달', '한', '주제가', '요', '.'],\n",
       " ['노래', '연습', '을', '해', '보', 'ㅂ니다', '.'],\n",
       " ['달달', '한', '주제가', '요', '.'],\n",
       " ['잘못', '된', '방법', '을', '하', '고', '있', '는', '건', '아닌지', '들여다보', '세요', '.'],\n",
       " ['중요', '한', '건', '이익', '하', '는', '과정', '이', '에요', '.'],\n",
       " ['잘못', '된', '방법', '을', '하', '고', '있', '는', '건', '아닌지', '따지', '세요', '.'],\n",
       " ['남', '이', '니', '대뇌', '쓰', '지', '마세요', '.'],\n",
       " ['힘들', '겠', '거든요', '.'],\n",
       " ['힘들', '겠', '어요', '.'],\n",
       " ['주기', '적', '으로서', '하', '는', '게', '좋', '죠', '.'],\n",
       " ['그럴', '때', '는', '시대', '화', '하', '는', '게', '속', '시원', '해요', '.'],\n",
       " ['노트북', '은', '적어지', '요', '.'],\n",
       " ['그럴', '때', '는', '말기', '화', '하', '는', '게', '속', '시원', '해요', '.'],\n",
       " ['노후', '는', '그전', '부터', '준비', '하', '는', '게', '좋', '죠', '.'],\n",
       " ['노후', '는', '지금', '일례', '준비', '하', '는', '게', '좋', '죠', '.'],\n",
       " ['드', '시', '는', '거', '보', '기', '만', '해도', '좋', '아도', '.'],\n",
       " ['드', '시', '는', '거', '보', '기', '만', '적지', '좋', '아요', '.'],\n",
       " ['머리', '꾹꾹', '!', '힘내', '세요'],\n",
       " ['엉덩이', '꾹꾹', '!', '힘내', '세요'],\n",
       " ['저', '아쓰', '!', '!'],\n",
       " ['레지스터', '알려', '주', '세요', '.'],\n",
       " ['홀로', '도', '좋', '아요', '.'],\n",
       " ['저', '도', '요', '!'],\n",
       " ['친구', '들', '과', '같이', '놀', '러', '가', '소서', '.'],\n",
       " ['절대', '확실', '지', '않', '아요', '.'],\n",
       " ['수긍', '입니다', '.'],\n",
       " ['혼자', '도', '함께', '도', '잘', '재직', '는', '게', '좋', '죠', '.'],\n",
       " ['오늘', '그러', '고', '있', '어요', '.'],\n",
       " ['예전', '그러', '고', '있', '어요', '.'],\n",
       " ['달리', '놀', '아요', '.'],\n",
       " ['개그', '하', '기', '좋', '은', '곳', '이', '죠', '.'],\n",
       " ['특례', '한', '경험', '이', '될', '것', '같', '아요', '.'],\n",
       " ['특별', '한', '열정', '이', '될', '것', '같', '아요', '.'],\n",
       " ['옮겨오', '세요', '!'],\n",
       " ...]"
      ]
     },
     "execution_count": 36,
     "metadata": {},
     "output_type": "execute_result"
    }
   ],
   "source": [
    "ans_corpus_aug"
   ]
  },
  {
   "cell_type": "code",
   "execution_count": 37,
   "id": "190face3",
   "metadata": {
    "scrolled": true
   },
   "outputs": [
    {
     "name": "stderr",
     "output_type": "stream",
     "text": [
      "<__array_function__ internals>:5: VisibleDeprecationWarning: Creating an ndarray from ragged nested sequences (which is a list-or-tuple of lists-or-tuples-or ndarrays with different lengths or shapes) is deprecated. If you meant to do this, you must specify 'dtype=object' when creating the ndarray.\n"
     ]
    }
   ],
   "source": [
    "enc_train = np.concatenate((que_corpus, que_corpus_aug), axis=0)\n",
    "dec_train = np.concatenate((ans_corpus, ans_corpus_aug), axis=0)\n",
    "\n",
    "dec_train = [[\"<start>\"] + sentence + [\"<end>\"] for sentence in dec_train]"
   ]
  },
  {
   "cell_type": "code",
   "execution_count": 38,
   "id": "754b4312",
   "metadata": {},
   "outputs": [],
   "source": [
    "num_words = None"
   ]
  },
  {
   "cell_type": "code",
   "execution_count": 39,
   "id": "668f712b",
   "metadata": {},
   "outputs": [],
   "source": [
    "tokenizer = tf.keras.preprocessing.text.Tokenizer(filters='', num_words=num_words)"
   ]
  },
  {
   "cell_type": "code",
   "execution_count": 40,
   "id": "1d454c74",
   "metadata": {},
   "outputs": [],
   "source": [
    "corpus = np.concatenate((enc_train, dec_train), axis=0).tolist()"
   ]
  },
  {
   "cell_type": "code",
   "execution_count": 41,
   "id": "ccbc1245",
   "metadata": {},
   "outputs": [],
   "source": [
    "tokenizer.fit_on_texts(corpus)"
   ]
  },
  {
   "cell_type": "code",
   "execution_count": 42,
   "id": "56250438",
   "metadata": {},
   "outputs": [
    {
     "data": {
      "text/plain": [
       "9939"
      ]
     },
     "execution_count": 42,
     "metadata": {},
     "output_type": "execute_result"
    }
   ],
   "source": [
    "len(tokenizer.word_index)"
   ]
  },
  {
   "cell_type": "code",
   "execution_count": 43,
   "id": "9edc0652",
   "metadata": {},
   "outputs": [],
   "source": [
    "enc_train = tokenizer.texts_to_sequences(enc_train)\n",
    "dec_train = tokenizer.texts_to_sequences(dec_train)\n",
    "\n",
    "MAX_LEN = 17\n",
    "enc_train = tf.keras.preprocessing.sequence.pad_sequences(enc_train, maxlen=MAX_LEN, padding='post')\n",
    "dec_train = tf.keras.preprocessing.sequence.pad_sequences(dec_train, maxlen=MAX_LEN, padding='post')"
   ]
  },
  {
   "cell_type": "code",
   "execution_count": 44,
   "id": "272c36b3",
   "metadata": {},
   "outputs": [
    {
     "data": {
      "text/plain": [
       "array([[2477,  152, 3796, ...,    0,    0,    0],\n",
       "       [ 250, 3797,  567, ...,    0,    0,    0],\n",
       "       [ 263, 2478,  572, ...,    0,    0,    0],\n",
       "       ...,\n",
       "       [6783,   13,   51, ...,    0,    0,    0],\n",
       "       [ 183, 1282,   15, ...,    0,    0,    0],\n",
       "       [1348,  291,  174, ...,    0,    0,    0]], dtype=int32)"
      ]
     },
     "execution_count": 44,
     "metadata": {},
     "output_type": "execute_result"
    }
   ],
   "source": [
    "enc_train"
   ]
  },
  {
   "cell_type": "code",
   "execution_count": 45,
   "id": "73bc87a3",
   "metadata": {},
   "outputs": [
    {
     "data": {
      "text/plain": [
       "((43636, 17), (43636, 17))"
      ]
     },
     "execution_count": 45,
     "metadata": {},
     "output_type": "execute_result"
    }
   ],
   "source": [
    "enc_train.shape, dec_train.shape"
   ]
  },
  {
   "cell_type": "code",
   "execution_count": 46,
   "id": "6699b3fb",
   "metadata": {},
   "outputs": [
    {
     "data": {
      "text/plain": [
       "array([[2477,  152, 3796,   70,    0,    0,    0,    0,    0,    0,    0,\n",
       "           0,    0,    0,    0,    0,    0],\n",
       "       [ 250, 3797,  567,  939,    9,    0,    0,    0,    0,    0,    0,\n",
       "           0,    0,    0,    0,    0,    0],\n",
       "       [ 263, 2478,  572,   54,  182,  216,    7,   10,   33,   27,    0,\n",
       "           0,    0,    0,    0,    0,    0],\n",
       "       [ 263, 2478,  572,   54,  530,  182,  216,    7,   10,   33,   27,\n",
       "           0,    0,    0,    0,    0,    0],\n",
       "       [5471, 1125,   34,    0,    0,    0,    0,    0,    0,    0,    0,\n",
       "           0,    0,    0,    0,    0,    0]], dtype=int32)"
      ]
     },
     "execution_count": 46,
     "metadata": {},
     "output_type": "execute_result"
    }
   ],
   "source": [
    "enc_train[:5]"
   ]
  },
  {
   "cell_type": "markdown",
   "id": "066792df",
   "metadata": {},
   "source": [
    "## Step 6. 훈련하기\n",
    "앞서 번역 모델을 훈련하며 정의한 Transformer 를 그대로 사용하시면 됩니다! 대신 데이터의 크기가 작으니 하이퍼파라미터를 튜닝해야 과적합을 피할 수 있습니다. 모델을 훈련하고 아래 예문에 대한 답변을 생성하세요! 가장 멋진 답변과 모델의 하이퍼파라미터를 제출하시면 됩니다."
   ]
  },
  {
   "cell_type": "code",
   "execution_count": 47,
   "id": "6c8dda9d",
   "metadata": {},
   "outputs": [],
   "source": [
    "# Positional Encoding 구현\n",
    "\n",
    "def positional_encoding(pos, d_model):\n",
    "    def cal_angle(position, i):\n",
    "        return position / np.power(10000, (2*(i//2)) / np.float32(d_model))\n",
    "\n",
    "    def get_posi_angle_vec(position):\n",
    "        return [cal_angle(position, i) for i in range(d_model)]\n",
    "\n",
    "    sinusoid_table = np.array([get_posi_angle_vec(pos_i) for pos_i in range(pos)])\n",
    "\n",
    "    sinusoid_table[:, 0::2] = np.sin(sinusoid_table[:, 0::2])\n",
    "    sinusoid_table[:, 1::2] = np.cos(sinusoid_table[:, 1::2])\n",
    "\n",
    "    return sinusoid_table\n",
    "\n",
    "# Mask  생성하기\n",
    "def generate_padding_mask(seq):\n",
    "    seq = tf.cast(tf.math.equal(seq, 0), tf.float32)\n",
    "    return seq[:, tf.newaxis, tf.newaxis, :]\n",
    "\n",
    "def generate_lookahead_mask(size):\n",
    "    mask = 1 - tf.linalg.band_part(tf.ones((size, size)), -1, 0)\n",
    "    return mask\n",
    "\n",
    "def generate_masks(src, tgt):\n",
    "    enc_mask = generate_padding_mask(src)\n",
    "    dec_enc_mask = generate_padding_mask(src)\n",
    "\n",
    "    dec_lookahead_mask = generate_lookahead_mask(tgt.shape[1])\n",
    "    dec_tgt_padding_mask = generate_padding_mask(tgt)\n",
    "    dec_mask = tf.maximum(dec_tgt_padding_mask, dec_lookahead_mask)\n",
    "\n",
    "    return enc_mask, dec_enc_mask, dec_mask\n",
    "\n",
    "# Multi Head Attention 구현\n",
    "class MultiHeadAttention(tf.keras.layers.Layer):\n",
    "    def __init__(self, d_model, num_heads):\n",
    "        super(MultiHeadAttention, self).__init__()\n",
    "        self.num_heads = num_heads\n",
    "        self.d_model = d_model\n",
    "        \n",
    "        self.depth = d_model // self.num_heads\n",
    "        \n",
    "        self.W_q = tf.keras.layers.Dense(d_model)\n",
    "        self.W_k = tf.keras.layers.Dense(d_model)\n",
    "        self.W_v = tf.keras.layers.Dense(d_model)\n",
    "        \n",
    "        self.linear = tf.keras.layers.Dense(d_model)\n",
    "\n",
    "    def scaled_dot_product_attention(self, Q, K, V, mask):\n",
    "        d_k = tf.cast(K.shape[-1], tf.float32)\n",
    "        QK = tf.matmul(Q, K, transpose_b=True)\n",
    "\n",
    "        scaled_qk = QK / tf.math.sqrt(d_k)\n",
    "\n",
    "        if mask is not None: scaled_qk += (mask * -1e9)  \n",
    "\n",
    "        attentions = tf.nn.softmax(scaled_qk, axis=-1)\n",
    "        out = tf.matmul(attentions, V)\n",
    "\n",
    "        return out, attentions\n",
    "        \n",
    "\n",
    "    def split_heads(self, x):\n",
    "        bsz = x.shape[0]\n",
    "        split_x = tf.reshape(x, (bsz, -1, self.num_heads, self.depth))\n",
    "        split_x = tf.transpose(split_x, perm=[0, 2, 1, 3])\n",
    "\n",
    "        return split_x\n",
    "\n",
    "    def combine_heads(self, x):\n",
    "        bsz = x.shape[0]\n",
    "        combined_x = tf.transpose(x, perm=[0, 2, 1, 3])\n",
    "        combined_x = tf.reshape(combined_x, (bsz, -1, self.d_model))\n",
    "\n",
    "        return combined_x\n",
    "\n",
    "    \n",
    "    def call(self, Q, K, V, mask):\n",
    "        WQ = self.W_q(Q)\n",
    "        WK = self.W_k(K)\n",
    "        WV = self.W_v(V)\n",
    "        \n",
    "        WQ_splits = self.split_heads(WQ)\n",
    "        WK_splits = self.split_heads(WK)\n",
    "        WV_splits = self.split_heads(WV)\n",
    "        \n",
    "        out, attention_weights = self.scaled_dot_product_attention(\n",
    "            WQ_splits, WK_splits, WV_splits, mask)\n",
    "                        \n",
    "        out = self.combine_heads(out)\n",
    "        out = self.linear(out)\n",
    "            \n",
    "        return out, attention_weights\n",
    "    \n",
    "# Position-wise Feed Forward Network 구현\n",
    "class PoswiseFeedForwardNet(tf.keras.layers.Layer):\n",
    "    def __init__(self, d_model, d_ff):\n",
    "        super(PoswiseFeedForwardNet, self).__init__()\n",
    "        self.d_model = d_model\n",
    "        self.d_ff = d_ff\n",
    "\n",
    "        self.fc1 = tf.keras.layers.Dense(d_ff, activation='relu')\n",
    "        self.fc2 = tf.keras.layers.Dense(d_model)\n",
    "\n",
    "    def call(self, x):\n",
    "        out = self.fc1(x)\n",
    "        out = self.fc2(out)\n",
    "            \n",
    "        return out\n",
    "    \n",
    "# Encoder의 레이어 구현\n",
    "class EncoderLayer(tf.keras.layers.Layer):\n",
    "    def __init__(self, d_model, n_heads, d_ff, dropout):\n",
    "        super(EncoderLayer, self).__init__()\n",
    "\n",
    "        self.enc_self_attn = MultiHeadAttention(d_model, n_heads)\n",
    "        self.ffn = PoswiseFeedForwardNet(d_model, d_ff)\n",
    "\n",
    "        self.norm_1 = tf.keras.layers.LayerNormalization(epsilon=1e-6)\n",
    "        self.norm_2 = tf.keras.layers.LayerNormalization(epsilon=1e-6)\n",
    "\n",
    "        self.do = tf.keras.layers.Dropout(dropout)\n",
    "        \n",
    "    def call(self, x, mask):\n",
    "        '''\n",
    "        Multi-Head Attention\n",
    "        '''\n",
    "        residual = x\n",
    "        out = self.norm_1(x)\n",
    "        out, enc_attn = self.enc_self_attn(out, out, out, mask)\n",
    "        out = self.do(out)\n",
    "        out += residual\n",
    "        \n",
    "        '''\n",
    "        Position-Wise Feed Forward Network\n",
    "        '''\n",
    "        residual = out\n",
    "        out = self.norm_2(out)\n",
    "        out = self.ffn(out)\n",
    "        out = self.do(out)\n",
    "        out += residual\n",
    "        \n",
    "        return out, enc_attn\n",
    "    \n",
    "# Decoder 레이어 구현\n",
    "class DecoderLayer(tf.keras.layers.Layer):\n",
    "    def __init__(self, d_model, num_heads, d_ff, dropout):\n",
    "        super(DecoderLayer, self).__init__()\n",
    "\n",
    "        self.dec_self_attn = MultiHeadAttention(d_model, num_heads)\n",
    "        self.enc_dec_attn = MultiHeadAttention(d_model, num_heads)\n",
    "\n",
    "        self.ffn = PoswiseFeedForwardNet(d_model, d_ff)\n",
    "\n",
    "        self.norm_1 = tf.keras.layers.LayerNormalization(epsilon=1e-6)\n",
    "        self.norm_2 = tf.keras.layers.LayerNormalization(epsilon=1e-6)\n",
    "        self.norm_3 = tf.keras.layers.LayerNormalization(epsilon=1e-6)\n",
    "\n",
    "        self.do = tf.keras.layers.Dropout(dropout)\n",
    "    \n",
    "    def call(self, x, enc_out, dec_enc_mask, padding_mask):\n",
    "        '''\n",
    "        Masked Multi-Head Attention\n",
    "        '''\n",
    "        residual = x\n",
    "        out = self.norm_1(x)\n",
    "        out, dec_attn = self.dec_self_attn(out, out, out, padding_mask)\n",
    "        out = self.do(out)\n",
    "        out += residual\n",
    "\n",
    "        '''\n",
    "        Multi-Head Attention\n",
    "        '''\n",
    "        residual = out\n",
    "        out = self.norm_2(out)\n",
    "        # Q, K, V 순서에 주의하세요!\n",
    "        out, dec_enc_attn = self.enc_dec_attn(Q=out, K=enc_out, V=enc_out, mask=dec_enc_mask)\n",
    "        out = self.do(out)\n",
    "        out += residual\n",
    "        \n",
    "        '''\n",
    "        Position-Wise Feed Forward Network\n",
    "        '''\n",
    "        residual = out\n",
    "        out = self.norm_3(out)\n",
    "        out = self.ffn(out)\n",
    "        out = self.do(out)\n",
    "        out += residual\n",
    "\n",
    "        return out, dec_attn, dec_enc_attn\n",
    "    \n",
    "# Encoder 구현\n",
    "class Encoder(tf.keras.Model):\n",
    "    def __init__(self,\n",
    "                    n_layers,\n",
    "                    d_model,\n",
    "                    n_heads,\n",
    "                    d_ff,\n",
    "                    dropout):\n",
    "        super(Encoder, self).__init__()\n",
    "        self.n_layers = n_layers\n",
    "        self.enc_layers = [EncoderLayer(d_model, n_heads, d_ff, dropout) \n",
    "                        for _ in range(n_layers)]\n",
    "    \n",
    "        self.do = tf.keras.layers.Dropout(dropout)\n",
    "        \n",
    "    def call(self, x, mask):\n",
    "        out = x\n",
    "    \n",
    "        enc_attns = list()\n",
    "        for i in range(self.n_layers):\n",
    "            out, enc_attn = self.enc_layers[i](out, mask)\n",
    "            enc_attns.append(enc_attn)\n",
    "        \n",
    "        return out, enc_attns\n",
    "    \n",
    "# Decoder 구현\n",
    "class Decoder(tf.keras.Model):\n",
    "    def __init__(self,\n",
    "                    n_layers,\n",
    "                    d_model,\n",
    "                    n_heads,\n",
    "                    d_ff,\n",
    "                    dropout):\n",
    "        super(Decoder, self).__init__()\n",
    "        self.n_layers = n_layers\n",
    "        self.dec_layers = [DecoderLayer(d_model, n_heads, d_ff, dropout) \n",
    "                            for _ in range(n_layers)]\n",
    "                            \n",
    "    def call(self, x, enc_out, dec_enc_mask, padding_mask):\n",
    "        out = x\n",
    "    \n",
    "        dec_attns = list()\n",
    "        dec_enc_attns = list()\n",
    "        for i in range(self.n_layers):\n",
    "            out, dec_attn, dec_enc_attn = \\\n",
    "            self.dec_layers[i](out, enc_out, dec_enc_mask, padding_mask)\n",
    "\n",
    "            dec_attns.append(dec_attn)\n",
    "            dec_enc_attns.append(dec_enc_attn)\n",
    "\n",
    "        return out, dec_attns, dec_enc_attns\n",
    "    \n",
    "class Transformer(tf.keras.Model):\n",
    "    def __init__(self,\n",
    "                    n_layers,\n",
    "                    d_model,\n",
    "                    n_heads,\n",
    "                    d_ff,\n",
    "                    src_vocab_size,\n",
    "                    tgt_vocab_size,\n",
    "                    pos_len,\n",
    "                    dropout=0.2,\n",
    "                    shared_fc=True,\n",
    "                    shared_emb=False):\n",
    "        super(Transformer, self).__init__()\n",
    "        \n",
    "        self.d_model = tf.cast(d_model, tf.float32)\n",
    "\n",
    "        if shared_emb:\n",
    "            self.enc_emb = self.dec_emb = \\\n",
    "            tf.keras.layers.Embedding(src_vocab_size, d_model)\n",
    "        else:\n",
    "            self.enc_emb = tf.keras.layers.Embedding(src_vocab_size, d_model)\n",
    "            self.dec_emb = tf.keras.layers.Embedding(tgt_vocab_size, d_model)\n",
    "\n",
    "        self.pos_encoding = positional_encoding(pos_len, d_model)\n",
    "        self.do = tf.keras.layers.Dropout(dropout)\n",
    "\n",
    "        self.encoder = Encoder(n_layers, d_model, n_heads, d_ff, dropout)\n",
    "        self.decoder = Decoder(n_layers, d_model, n_heads, d_ff, dropout)\n",
    "\n",
    "        self.fc = tf.keras.layers.Dense(tgt_vocab_size)\n",
    "\n",
    "        self.shared_fc = shared_fc\n",
    "\n",
    "        if shared_fc:\n",
    "            self.fc.set_weights(tf.transpose(self.dec_emb.weights))\n",
    "\n",
    "    def embedding(self, emb, x):\n",
    "        seq_len = x.shape[1]\n",
    "\n",
    "        out = emb(x)\n",
    "\n",
    "        if self.shared_fc: out *= tf.math.sqrt(self.d_model)\n",
    "\n",
    "        out += self.pos_encoding[np.newaxis, ...][:, :seq_len, :]\n",
    "        out = self.do(out)\n",
    "\n",
    "        return out\n",
    "\n",
    "        \n",
    "    def call(self, enc_in, dec_in, enc_mask, dec_enc_mask, dec_mask):\n",
    "        enc_in = self.embedding(self.enc_emb, enc_in)\n",
    "        dec_in = self.embedding(self.dec_emb, dec_in)\n",
    "\n",
    "        enc_out, enc_attns = self.encoder(enc_in, enc_mask)\n",
    "        \n",
    "        dec_out, dec_attns, dec_enc_attns = \\\n",
    "        self.decoder(dec_in, enc_out, dec_enc_mask, dec_mask)\n",
    "        \n",
    "        logits = self.fc(dec_out)\n",
    "        \n",
    "        return logits, enc_attns, dec_attns, dec_enc_attns"
   ]
  },
  {
   "cell_type": "code",
   "execution_count": 48,
   "id": "279607b4",
   "metadata": {},
   "outputs": [],
   "source": [
    "# Learning Rate Scheduler 구현\n",
    "\n",
    "class LearningRateScheduler(tf.keras.optimizers.schedules.LearningRateSchedule):\n",
    "    def __init__(self, d_model, warmup_steps=1000):\n",
    "        super(LearningRateScheduler, self).__init__()\n",
    "        \n",
    "        self.d_model = d_model\n",
    "        self.warmup_steps = warmup_steps\n",
    "    \n",
    "    def __call__(self, step):\n",
    "        arg1 = step ** -0.5\n",
    "        arg2 = step * (self.warmup_steps ** -1.5)\n",
    "        \n",
    "        return (self.d_model ** -0.5) * tf.math.minimum(arg1, arg2)\n",
    "    \n",
    "# Learning Rate 인스턴스 선언 & Optimizer 구현\n",
    "D_MODEL = 256\n",
    "learning_rate = LearningRateScheduler(D_MODEL)\n",
    "optimizer = tf.keras.optimizers.Adam(learning_rate,\n",
    "                                        beta_1=0.9,\n",
    "                                        beta_2=0.98, \n",
    "                                        epsilon=1e-9)\n",
    "\n",
    "# Loss Function 정의\n",
    "loss_object = tf.keras.losses.SparseCategoricalCrossentropy(\n",
    "    from_logits=True, reduction='none')\n",
    "\n",
    "def loss_function(real, pred):\n",
    "    mask = tf.math.logical_not(tf.math.equal(real, 0))\n",
    "    loss_ = loss_object(real, pred)\n",
    "\n",
    "    mask = tf.cast(mask, dtype=loss_.dtype)\n",
    "    loss_ *= mask\n",
    "\n",
    "    return tf.reduce_sum(loss_)/tf.reduce_sum(mask)"
   ]
  },
  {
   "cell_type": "code",
   "execution_count": 49,
   "id": "db1a06d5",
   "metadata": {},
   "outputs": [],
   "source": [
    "# Train Step 정의\n",
    "@tf.function()\n",
    "def train_step(src, tgt, model, optimizer):\n",
    "    gold = tgt[:, 1:]\n",
    "        \n",
    "    enc_mask, dec_enc_mask, dec_mask = generate_masks(src, tgt)\n",
    "\n",
    "    # 계산된 loss에 tf.GradientTape()를 적용해 학습을 진행합니다.\n",
    "    with tf.GradientTape() as tape:\n",
    "        predictions, enc_attns, dec_attns, dec_enc_attns = \\\n",
    "            model(src, tgt, enc_mask, dec_enc_mask, dec_mask)\n",
    "        loss = loss_function(gold, predictions[:, :-1])\n",
    "\n",
    "    # 최종적으로 optimizer.apply_gradients()가 사용됩니다. \n",
    "    gradients = tape.gradient(loss, model.trainable_variables)\n",
    "    optimizer.apply_gradients(zip(gradients, model.trainable_variables))\n",
    "    \n",
    "    return loss, enc_attns, dec_attns, dec_enc_attns"
   ]
  },
  {
   "cell_type": "code",
   "execution_count": 50,
   "id": "b1202a76",
   "metadata": {},
   "outputs": [],
   "source": [
    "D_MODEL = 256\n",
    "N_LAYERS = 2\n",
    "N_HEADS = 8\n",
    "D_FF = 1024\n",
    "POS_LEN = MAX_LEN\n",
    "DROPOUT = 0.3"
   ]
  },
  {
   "cell_type": "code",
   "execution_count": 51,
   "id": "5202fa50",
   "metadata": {},
   "outputs": [],
   "source": [
    "VOCAB_SIZE = len(tokenizer.word_index) + 1"
   ]
  },
  {
   "cell_type": "code",
   "execution_count": 52,
   "id": "5b3bd81c",
   "metadata": {},
   "outputs": [],
   "source": [
    "tf.keras.backend.clear_session()\n",
    "\n",
    "# 주어진 하이퍼파라미터로 Transformer 인스턴스 생성\n",
    "transformer = Transformer(\n",
    "    n_layers = N_LAYERS,\n",
    "    d_model = D_MODEL,\n",
    "    n_heads = N_HEADS,\n",
    "    d_ff = D_FF,\n",
    "    src_vocab_size=VOCAB_SIZE,\n",
    "    tgt_vocab_size=VOCAB_SIZE,\n",
    "    pos_len=POS_LEN,\n",
    "    dropout=DROPOUT,\n",
    "    shared_fc=False,\n",
    "    shared_emb=False)"
   ]
  },
  {
   "cell_type": "code",
   "execution_count": 53,
   "id": "53ce026e",
   "metadata": {},
   "outputs": [
    {
     "data": {
      "text/plain": [
       "((43636, 17), (43636, 17))"
      ]
     },
     "execution_count": 53,
     "metadata": {},
     "output_type": "execute_result"
    }
   ],
   "source": [
    "enc_train.shape, dec_train.shape"
   ]
  },
  {
   "cell_type": "code",
   "execution_count": 54,
   "id": "a108c236",
   "metadata": {},
   "outputs": [],
   "source": [
    "def translate(sentence, model, tokenizer):\n",
    "    sos_idx = tokenizer.word_index['<start>']\n",
    "    eos_idx = tokenizer.word_index['<end>']\n",
    "\n",
    "    sentence = preprocess_sentence(sentence)\n",
    "\n",
    "    m = Mecab()\n",
    "    sentence = m.morphs(sentence)\n",
    "\n",
    "    _input = tokenizer.texts_to_sequences([sentence])\n",
    "    _input = tf.keras.preprocessing.sequence.pad_sequences(\n",
    "        _input,\n",
    "        maxlen=MAX_LEN,\n",
    "        padding='post'\n",
    "    )\n",
    "\n",
    "    ids = []\n",
    "    output = tf.expand_dims([sos_idx], 0)\n",
    "\n",
    "    for i in range(MAX_LEN):\n",
    "        enc_padding_mask, combined_mask, dec_padding_mask = generate_masks(\n",
    "            _input, output\n",
    "        )\n",
    "\n",
    "        predictions, enc_attns, dec_attns, dec_enc_attns = model(\n",
    "            _input, output, enc_padding_mask, combined_mask, dec_padding_mask\n",
    "        )\n",
    "\n",
    "        predicted_id = tf.argmax(\n",
    "            tf.math.softmax(predictions, axis=-1)[0, -1]\n",
    "        ).numpy().item()\n",
    "\n",
    "        if predicted_id == eos_idx:\n",
    "            result = tokenizer.sequences_to_texts([ids])\n",
    "            return result\n",
    "\n",
    "        ids.append(predicted_id)\n",
    "        output = tf.concat([output, tf.expand_dims([predicted_id], 0)], axis=-1)\n",
    "    result = tokenizer.sequences_to_texts([ids])\n",
    "    return result"
   ]
  },
  {
   "cell_type": "code",
   "execution_count": 55,
   "id": "e5210e0f",
   "metadata": {},
   "outputs": [],
   "source": [
    "def translate_vect(sentence, model, tokenizer):\n",
    "    sos_idx = tokenizer.word_index['<start>']\n",
    "    eos_idx = tokenizer.word_index['<end>']\n",
    "\n",
    "    _input = sentence.reshape(1,-1)\n",
    "\n",
    "    ids = []\n",
    "    output = tf.expand_dims([sos_idx], 0)\n",
    "\n",
    "    for i in range(MAX_LEN):\n",
    "        enc_padding_mask, combined_mask, dec_padding_mask = generate_masks(\n",
    "            _input, output\n",
    "        )\n",
    "\n",
    "        predictions, enc_attns, dec_attns, dec_enc_attns = model(\n",
    "            _input, output, enc_padding_mask, combined_mask, dec_padding_mask\n",
    "        )\n",
    "\n",
    "        predicted_id = tf.argmax(\n",
    "            tf.math.softmax(predictions, axis=-1)[0, -1]\n",
    "        ).numpy().item()\n",
    "\n",
    "        if predicted_id == eos_idx:\n",
    "            result = tokenizer.sequences_to_texts([ids])\n",
    "            return result\n",
    "\n",
    "        ids.append(predicted_id)\n",
    "        output = tf.concat([output, tf.expand_dims([predicted_id], 0)], axis=-1)\n",
    "    result = tokenizer.sequences_to_texts([ids])\n",
    "    return result"
   ]
  },
  {
   "cell_type": "code",
   "execution_count": 56,
   "id": "1504a35f",
   "metadata": {
    "scrolled": false
   },
   "outputs": [
    {
     "name": "stderr",
     "output_type": "stream",
     "text": [
      "/tmp/ipykernel_2314/3863982956.py:21: TqdmDeprecationWarning: This function will be removed in tqdm==5.0.0\n",
      "Please use `tqdm.notebook.tqdm` instead of `tqdm.tqdm_notebook`\n",
      "  t = tqdm_notebook(idx_list)\n"
     ]
    },
    {
     "data": {
      "application/vnd.jupyter.widget-view+json": {
       "model_id": "5d42639f10f04e6e951840c2804e8d93",
       "version_major": 2,
       "version_minor": 0
      },
      "text/plain": [
       "  0%|          | 0/682 [00:00<?, ?it/s]"
      ]
     },
     "metadata": {},
     "output_type": "display_data"
    },
    {
     "name": "stdout",
     "output_type": "stream",
     "text": [
      "Question: 지루하다, 놀러가고 싶어.                \tAnswer: 사랑 은 사랑 이 에요 .                \n",
      "Question: 오늘 일찍 일어났더니 피곤하다.             \tAnswer: 사랑 은 사랑 이 에요 .                \n",
      "Question: 간만에 여자친구랑 데이트 하기로 했어.         \tAnswer: 사랑 은 사랑 이 에요 .                \n",
      "Question: 집에 있는다는 소리야.                  \tAnswer: 잘 하 는 게 좋 을 거 예요 .            \n"
     ]
    },
    {
     "data": {
      "application/vnd.jupyter.widget-view+json": {
       "model_id": "e0bfc055c52b4636b245b9805f95e63c",
       "version_major": 2,
       "version_minor": 0
      },
      "text/plain": [
       "  0%|          | 0/682 [00:00<?, ?it/s]"
      ]
     },
     "metadata": {},
     "output_type": "display_data"
    },
    {
     "name": "stdout",
     "output_type": "stream",
     "text": [
      "Question: 지루하다, 놀러가고 싶어.                \tAnswer: 저 도 요 .                       \n",
      "Question: 오늘 일찍 일어났더니 피곤하다.             \tAnswer: 좋 은 건강 이 네요 .                 \n",
      "Question: 간만에 여자친구랑 데이트 하기로 했어.         \tAnswer: 좋 은 마음 이 흘렀 네요 .              \n",
      "Question: 집에 있는다는 소리야.                  \tAnswer: 좋 은 기억 이 네요 .                 \n"
     ]
    },
    {
     "data": {
      "application/vnd.jupyter.widget-view+json": {
       "model_id": "0dfd3befd52c4ead928c83a22a008c7f",
       "version_major": 2,
       "version_minor": 0
      },
      "text/plain": [
       "  0%|          | 0/682 [00:00<?, ?it/s]"
      ]
     },
     "metadata": {},
     "output_type": "display_data"
    },
    {
     "name": "stdout",
     "output_type": "stream",
     "text": [
      "Question: 지루하다, 놀러가고 싶어.                \tAnswer: 같이 가 보 세요 .                   \n",
      "Question: 오늘 일찍 일어났더니 피곤하다.             \tAnswer: 건강 한 욜 로 조금 씩 더 돌 기 예요 .      \n",
      "Question: 간만에 여자친구랑 데이트 하기로 했어.         \tAnswer: 힘들 겠 네요 .                     \n",
      "Question: 집에 있는다는 소리야.                  \tAnswer: 잘 될 거 예요 .                    \n"
     ]
    },
    {
     "data": {
      "application/vnd.jupyter.widget-view+json": {
       "model_id": "43f4df278c524898bae5cd7c7de5fb98",
       "version_major": 2,
       "version_minor": 0
      },
      "text/plain": [
       "  0%|          | 0/682 [00:00<?, ?it/s]"
      ]
     },
     "metadata": {},
     "output_type": "display_data"
    },
    {
     "name": "stdout",
     "output_type": "stream",
     "text": [
      "Question: 지루하다, 놀러가고 싶어.                \tAnswer: 같이 살 고 싶 은 슬픔 이 죠 .           \n",
      "Question: 오늘 일찍 일어났더니 피곤하다.             \tAnswer: 이제 일어날 때 예요 .                 \n",
      "Question: 간만에 여자친구랑 데이트 하기로 했어.         \tAnswer: 믿음 의 결코 소름 돋 네요 .             \n",
      "Question: 집에 있는다는 소리야.                  \tAnswer: 새로운 곳 에서 몰입 해 보 세요 .          \n"
     ]
    },
    {
     "data": {
      "application/vnd.jupyter.widget-view+json": {
       "model_id": "d5806960a850423e9cb98d4ec462e415",
       "version_major": 2,
       "version_minor": 0
      },
      "text/plain": [
       "  0%|          | 0/682 [00:00<?, ?it/s]"
      ]
     },
     "metadata": {},
     "output_type": "display_data"
    },
    {
     "name": "stdout",
     "output_type": "stream",
     "text": [
      "Question: 지루하다, 놀러가고 싶어.                \tAnswer: 저 랑 놀 네요 .                    \n",
      "Question: 오늘 일찍 일어났더니 피곤하다.             \tAnswer: 정작 한잔 한잔 드세요 .                \n",
      "Question: 간만에 여자친구랑 데이트 하기로 했어.         \tAnswer: 즐거운 데이트 를 해 보 세요 .            \n",
      "Question: 집에 있는다는 소리야.                  \tAnswer: 새로운 곳 으로 후련 해졌 죠 .            \n"
     ]
    },
    {
     "data": {
      "application/vnd.jupyter.widget-view+json": {
       "model_id": "05fab9707bb745bb95f0d1c5c5d67fa3",
       "version_major": 2,
       "version_minor": 0
      },
      "text/plain": [
       "  0%|          | 0/682 [00:00<?, ?it/s]"
      ]
     },
     "metadata": {},
     "output_type": "display_data"
    },
    {
     "name": "stdout",
     "output_type": "stream",
     "text": [
      "Question: 지루하다, 놀러가고 싶어.                \tAnswer: 같이 살 고 나 서 가 서 괜찮 아 질 거 예요 .  \n",
      "Question: 오늘 일찍 일어났더니 피곤하다.             \tAnswer: 정작 일어날 날 이 에요 .               \n",
      "Question: 간만에 여자친구랑 데이트 하기로 했어.         \tAnswer: 그런데 볼 수 있 는 간격 이 네요 .         \n",
      "Question: 집에 있는다는 소리야.                  \tAnswer: 새로운 인연 이 있 죠 .                \n"
     ]
    },
    {
     "data": {
      "application/vnd.jupyter.widget-view+json": {
       "model_id": "08efa1d5a7a34a2dbc39958022d0580b",
       "version_major": 2,
       "version_minor": 0
      },
      "text/plain": [
       "  0%|          | 0/682 [00:00<?, ?it/s]"
      ]
     },
     "metadata": {},
     "output_type": "display_data"
    },
    {
     "name": "stdout",
     "output_type": "stream",
     "text": [
      "Question: 지루하다, 놀러가고 싶어.                \tAnswer: 저 랑 놀 아요 .                    \n",
      "Question: 오늘 일찍 일어났더니 피곤하다.             \tAnswer: 이제 일어날 거 예요 .                 \n",
      "Question: 간만에 여자친구랑 데이트 하기로 했어.         \tAnswer: 애틋 한 사랑 이 네요 .                \n",
      "Question: 집에 있는다는 소리야.                  \tAnswer: 기분 이 그리운 가 봐요 .               \n"
     ]
    },
    {
     "data": {
      "application/vnd.jupyter.widget-view+json": {
       "model_id": "f4c959ac7ad342b28fe961283279eef0",
       "version_major": 2,
       "version_minor": 0
      },
      "text/plain": [
       "  0%|          | 0/682 [00:00<?, ?it/s]"
      ]
     },
     "metadata": {},
     "output_type": "display_data"
    },
    {
     "name": "stdout",
     "output_type": "stream",
     "text": [
      "Question: 지루하다, 놀러가고 싶어.                \tAnswer: 그게 제일 광범위 하 죠 .               \n",
      "Question: 오늘 일찍 일어났더니 피곤하다.             \tAnswer: 이제 일어날 시간 이 에요 .              \n",
      "Question: 간만에 여자친구랑 데이트 하기로 했어.         \tAnswer: 그분 도 좋 은 추억 에서 성공 하 는 사람 만나 좋 아요 .\n",
      "Question: 집에 있는다는 소리야.                  \tAnswer: 지금 이 그리운 가 봐요 .               \n"
     ]
    },
    {
     "data": {
      "application/vnd.jupyter.widget-view+json": {
       "model_id": "b5d3b578acc04cec826b24190d8ac621",
       "version_major": 2,
       "version_minor": 0
      },
      "text/plain": [
       "  0%|          | 0/682 [00:00<?, ?it/s]"
      ]
     },
     "metadata": {},
     "output_type": "display_data"
    },
    {
     "name": "stdout",
     "output_type": "stream",
     "text": [
      "Question: 지루하다, 놀러가고 싶어.                \tAnswer: 술 을 드 는 일단 을 거 예요 .           \n",
      "Question: 오늘 일찍 일어났더니 피곤하다.             \tAnswer: 이제 일어날 일 이 네요 .               \n",
      "Question: 간만에 여자친구랑 데이트 하기로 했어.         \tAnswer: 좋 은 생각 만 하 고 있 는 거 죠 .        \n",
      "Question: 집에 있는다는 소리야.                  \tAnswer: 지금 은 힘들 겠 네요 .                \n"
     ]
    },
    {
     "data": {
      "application/vnd.jupyter.widget-view+json": {
       "model_id": "34720ab0378b49d6bbffc466e1d83d67",
       "version_major": 2,
       "version_minor": 0
      },
      "text/plain": [
       "  0%|          | 0/682 [00:00<?, ?it/s]"
      ]
     },
     "metadata": {},
     "output_type": "display_data"
    },
    {
     "name": "stdout",
     "output_type": "stream",
     "text": [
      "Question: 지루하다, 놀러가고 싶어.                \tAnswer: 시간 있 냐고 물어봐 봐요 .              \n",
      "Question: 오늘 일찍 일어났더니 피곤하다.             \tAnswer: 정작 일어날 일 이 에요 .               \n",
      "Question: 간만에 여자친구랑 데이트 하기로 했어.         \tAnswer: 중요 한 데이트 를 과 말 해 보 세요 .       \n",
      "Question: 집에 있는다는 소리야.                  \tAnswer: 왜 아니 라고 하 면 돼요 .              \n"
     ]
    },
    {
     "data": {
      "application/vnd.jupyter.widget-view+json": {
       "model_id": "51694f38cea54dc1ad82123ae925212d",
       "version_major": 2,
       "version_minor": 0
      },
      "text/plain": [
       "  0%|          | 0/682 [00:00<?, ?it/s]"
      ]
     },
     "metadata": {},
     "output_type": "display_data"
    },
    {
     "name": "stdout",
     "output_type": "stream",
     "text": [
      "Question: 지루하다, 놀러가고 싶어.                \tAnswer: 마음 이 복잡 하 겠 죠 .               \n",
      "Question: 오늘 일찍 일어났더니 피곤하다.             \tAnswer: 이제 일어날 거 예요 .                 \n",
      "Question: 간만에 여자친구랑 데이트 하기로 했어.         \tAnswer: 즐거운 데이트 하 길 바랄게요 .            \n",
      "Question: 집에 있는다는 소리야.                  \tAnswer: 기분 이 중요 해요 .                  \n"
     ]
    },
    {
     "data": {
      "application/vnd.jupyter.widget-view+json": {
       "model_id": "557f5d49b6a84bb28570012c14fae20a",
       "version_major": 2,
       "version_minor": 0
      },
      "text/plain": [
       "  0%|          | 0/682 [00:00<?, ?it/s]"
      ]
     },
     "metadata": {},
     "output_type": "display_data"
    },
    {
     "name": "stdout",
     "output_type": "stream",
     "text": [
      "Question: 지루하다, 놀러가고 싶어.                \tAnswer: 일단 는다면 마음 이 들 때 가 있 되 긴 할 거 예요 .\n",
      "Question: 오늘 일찍 일어났더니 피곤하다.             \tAnswer: 이제 일어날 때 를 예요 .               \n",
      "Question: 간만에 여자친구랑 데이트 하기로 했어.         \tAnswer: 정말 의 데이트 를 받 고 있 는지 생각 하 세요 . \n",
      "Question: 집에 있는다는 소리야.                  \tAnswer: 같이 있 네요 .                     \n"
     ]
    },
    {
     "data": {
      "application/vnd.jupyter.widget-view+json": {
       "model_id": "01d46072ab2c43e99203da17dd5b811e",
       "version_major": 2,
       "version_minor": 0
      },
      "text/plain": [
       "  0%|          | 0/682 [00:00<?, ?it/s]"
      ]
     },
     "metadata": {},
     "output_type": "display_data"
    },
    {
     "name": "stdout",
     "output_type": "stream",
     "text": [
      "Question: 지루하다, 놀러가고 싶어.                \tAnswer: 저 랑 대화 하 고 싶 어요 .             \n",
      "Question: 오늘 일찍 일어났더니 피곤하다.             \tAnswer: 이제 일어날 시간 이 에요 .              \n",
      "Question: 간만에 여자친구랑 데이트 하기로 했어.         \tAnswer: 인기 가 필요 한 순간 이 네요 .           \n",
      "Question: 집에 있는다는 소리야.                  \tAnswer: 같이 있 네요 .                     \n"
     ]
    },
    {
     "data": {
      "application/vnd.jupyter.widget-view+json": {
       "model_id": "886371af155f426abd0cd90b7ec0c157",
       "version_major": 2,
       "version_minor": 0
      },
      "text/plain": [
       "  0%|          | 0/682 [00:00<?, ?it/s]"
      ]
     },
     "metadata": {},
     "output_type": "display_data"
    },
    {
     "name": "stdout",
     "output_type": "stream",
     "text": [
      "Question: 지루하다, 놀러가고 싶어.                \tAnswer: 저 도 같이 가요 .                   \n",
      "Question: 오늘 일찍 일어났더니 피곤하다.             \tAnswer: 이제 일어날 때 를 예요 .               \n",
      "Question: 간만에 여자친구랑 데이트 하기로 했어.         \tAnswer: 애틋 한 사랑 이 네요 .                \n",
      "Question: 집에 있는다는 소리야.                  \tAnswer: 자신 이 상당히 많 아 하 기 도 하 죠 .      \n"
     ]
    },
    {
     "data": {
      "application/vnd.jupyter.widget-view+json": {
       "model_id": "68f4bea18cc14a5fa77349c4464073e6",
       "version_major": 2,
       "version_minor": 0
      },
      "text/plain": [
       "  0%|          | 0/682 [00:00<?, ?it/s]"
      ]
     },
     "metadata": {},
     "output_type": "display_data"
    },
    {
     "name": "stdout",
     "output_type": "stream",
     "text": [
      "Question: 지루하다, 놀러가고 싶어.                \tAnswer: 또 내통 놀 러 살 고 있 을 거 예요 .       \n",
      "Question: 오늘 일찍 일어났더니 피곤하다.             \tAnswer: 아직 이 나 셨 나 봐요 .               \n",
      "Question: 간만에 여자친구랑 데이트 하기로 했어.         \tAnswer: 필요 한 게 해도 정리 를 킬로미터 좋 죠 .     \n",
      "Question: 집에 있는다는 소리야.                  \tAnswer: 운명 이 죠 .                      \n"
     ]
    },
    {
     "data": {
      "application/vnd.jupyter.widget-view+json": {
       "model_id": "816be94f4f1843c2a5695bbb2aaf2b23",
       "version_major": 2,
       "version_minor": 0
      },
      "text/plain": [
       "  0%|          | 0/682 [00:00<?, ?it/s]"
      ]
     },
     "metadata": {},
     "output_type": "display_data"
    },
    {
     "name": "stdout",
     "output_type": "stream",
     "text": [
      "Question: 지루하다, 놀러가고 싶어.                \tAnswer: 마음 을 헤아리 는 게 마음 이 죠 .         \n",
      "Question: 오늘 일찍 일어났더니 피곤하다.             \tAnswer: 이제 일어날 때 를 예요 .               \n",
      "Question: 간만에 여자친구랑 데이트 하기로 했어.         \tAnswer: 시간 은 주 면서 정리 가 될 거 예요 .       \n",
      "Question: 집에 있는다는 소리야.                  \tAnswer: 같이 있 습니다 .                    \n"
     ]
    },
    {
     "data": {
      "application/vnd.jupyter.widget-view+json": {
       "model_id": "21ad57e5736f4e268acebeea59be9fa5",
       "version_major": 2,
       "version_minor": 0
      },
      "text/plain": [
       "  0%|          | 0/682 [00:00<?, ?it/s]"
      ]
     },
     "metadata": {},
     "output_type": "display_data"
    },
    {
     "name": "stdout",
     "output_type": "stream",
     "text": [
      "Question: 지루하다, 놀러가고 싶어.                \tAnswer: 술 기운 긴 어울리 고 있 을 거 예요 .       \n",
      "Question: 오늘 일찍 일어났더니 피곤하다.             \tAnswer: 이제 일어날 때 예요 .                 \n",
      "Question: 간만에 여자친구랑 데이트 하기로 했어.         \tAnswer: 애틋 한 사랑 으로 남기 고 오 세요 .        \n",
      "Question: 집에 있는다는 소리야.                  \tAnswer: 정말 좋 죠 .                      \n"
     ]
    },
    {
     "data": {
      "application/vnd.jupyter.widget-view+json": {
       "model_id": "90b2e11120f2496d8e8badafe4455514",
       "version_major": 2,
       "version_minor": 0
      },
      "text/plain": [
       "  0%|          | 0/682 [00:00<?, ?it/s]"
      ]
     },
     "metadata": {},
     "output_type": "display_data"
    },
    {
     "name": "stdout",
     "output_type": "stream",
     "text": [
      "Question: 지루하다, 놀러가고 싶어.                \tAnswer: 저녁 도 또 데이트 를 여행 이 네요 .        \n",
      "Question: 오늘 일찍 일어났더니 피곤하다.             \tAnswer: 세상 이 자연 스럽 겠 어요 .             \n",
      "Question: 간만에 여자친구랑 데이트 하기로 했어.         \tAnswer: 은근히 닮 아 하 는 데이트 가 필요 해요 .     \n",
      "Question: 집에 있는다는 소리야.                  \tAnswer: 조심 이 힘들 죠 .                   \n"
     ]
    },
    {
     "data": {
      "application/vnd.jupyter.widget-view+json": {
       "model_id": "9a06158afc1d42718525ccdad6aadf74",
       "version_major": 2,
       "version_minor": 0
      },
      "text/plain": [
       "  0%|          | 0/682 [00:00<?, ?it/s]"
      ]
     },
     "metadata": {},
     "output_type": "display_data"
    },
    {
     "name": "stdout",
     "output_type": "stream",
     "text": [
      "Question: 지루하다, 놀러가고 싶어.                \tAnswer: 마음 과 마음 이 좀 쉬 게 다 여행 도 좋 을 거 예요 .\n",
      "Question: 오늘 일찍 일어났더니 피곤하다.             \tAnswer: 이제 일어날 때 를 거 예요 .             \n",
      "Question: 간만에 여자친구랑 데이트 하기로 했어.         \tAnswer: 시간 내 맘 을 다 단정 하 게 좋 죠 .       \n",
      "Question: 집에 있는다는 소리야.                  \tAnswer: 운명 이 참 아 봐요 .                 \n"
     ]
    },
    {
     "data": {
      "application/vnd.jupyter.widget-view+json": {
       "model_id": "41ae644c4be14ff5acce1f6d1a076eb5",
       "version_major": 2,
       "version_minor": 0
      },
      "text/plain": [
       "  0%|          | 0/682 [00:00<?, ?it/s]"
      ]
     },
     "metadata": {},
     "output_type": "display_data"
    },
    {
     "name": "stdout",
     "output_type": "stream",
     "text": [
      "Question: 지루하다, 놀러가고 싶어.                \tAnswer: 또 다른 사람 만나 길 바랄게요 .           \n",
      "Question: 오늘 일찍 일어났더니 피곤하다.             \tAnswer: 이제 일어날 때 예요 .                 \n",
      "Question: 간만에 여자친구랑 데이트 하기로 했어.         \tAnswer: 죠 . 길 스러운 쉬 어 가 요 .           \n",
      "Question: 집에 있는다는 소리야.                  \tAnswer: 완전히 참 모두 같이 가 봐요 .            \n"
     ]
    },
    {
     "data": {
      "application/vnd.jupyter.widget-view+json": {
       "model_id": "62428630bc8840a292f4812c7adaad62",
       "version_major": 2,
       "version_minor": 0
      },
      "text/plain": [
       "  0%|          | 0/682 [00:00<?, ?it/s]"
      ]
     },
     "metadata": {},
     "output_type": "display_data"
    },
    {
     "name": "stdout",
     "output_type": "stream",
     "text": [
      "Question: 지루하다, 놀러가고 싶어.                \tAnswer: 여행 을 떠나 보 세요 .                \n",
      "Question: 오늘 일찍 일어났더니 피곤하다.             \tAnswer: 이제 일어날 때 예요 .                 \n",
      "Question: 간만에 여자친구랑 데이트 하기로 했어.         \tAnswer: 데이트 를 닮 아 하 는 것 도 필요 해요 .     \n",
      "Question: 집에 있는다는 소리야.                  \tAnswer: 완전히 보 면 그럴 거 예요 .             \n"
     ]
    },
    {
     "data": {
      "application/vnd.jupyter.widget-view+json": {
       "model_id": "e4836c7c56734b68876fd7367caf6e55",
       "version_major": 2,
       "version_minor": 0
      },
      "text/plain": [
       "  0%|          | 0/682 [00:00<?, ?it/s]"
      ]
     },
     "metadata": {},
     "output_type": "display_data"
    },
    {
     "name": "stdout",
     "output_type": "stream",
     "text": [
      "Question: 지루하다, 놀러가고 싶어.                \tAnswer: 큰 결심 이 네요 .                   \n",
      "Question: 오늘 일찍 일어났더니 피곤하다.             \tAnswer: 이제 일어날 때 예요 .                 \n",
      "Question: 간만에 여자친구랑 데이트 하기로 했어.         \tAnswer: 죠 .                           \n",
      "Question: 집에 있는다는 소리야.                  \tAnswer: 완전히 연애 죠 .                    \n"
     ]
    },
    {
     "data": {
      "application/vnd.jupyter.widget-view+json": {
       "model_id": "a2233448faf9487ca49a8051be1395f7",
       "version_major": 2,
       "version_minor": 0
      },
      "text/plain": [
       "  0%|          | 0/682 [00:00<?, ?it/s]"
      ]
     },
     "metadata": {},
     "output_type": "display_data"
    },
    {
     "name": "stdout",
     "output_type": "stream",
     "text": [
      "Question: 지루하다, 놀러가고 싶어.                \tAnswer: 일단 으면 같이 놀 다 다가가 세요 .         \n",
      "Question: 오늘 일찍 일어났더니 피곤하다.             \tAnswer: 이제 일어날 때 는 속 이 에요 .           \n",
      "Question: 간만에 여자친구랑 데이트 하기로 했어.         \tAnswer: 인기 가 그분 의 것 도 필요 해요 .         \n",
      "Question: 집에 있는다는 소리야.                  \tAnswer: 같이 가 기 도 하 죠 .                \n"
     ]
    },
    {
     "data": {
      "application/vnd.jupyter.widget-view+json": {
       "model_id": "77b04d13ba1949488d3faae481169d6f",
       "version_major": 2,
       "version_minor": 0
      },
      "text/plain": [
       "  0%|          | 0/682 [00:00<?, ?it/s]"
      ]
     },
     "metadata": {},
     "output_type": "display_data"
    },
    {
     "name": "stdout",
     "output_type": "stream",
     "text": [
      "Question: 지루하다, 놀러가고 싶어.                \tAnswer: 일단 늦 지 않 을 거 라 생각 해요 .        \n",
      "Question: 오늘 일찍 일어났더니 피곤하다.             \tAnswer: 이제 일어날 때 예요 .                 \n",
      "Question: 간만에 여자친구랑 데이트 하기로 했어.         \tAnswer: 데이트 를 내 요 .                   \n",
      "Question: 집에 있는다는 소리야.                  \tAnswer: 같이 있 네요 .                     \n"
     ]
    },
    {
     "data": {
      "application/vnd.jupyter.widget-view+json": {
       "model_id": "11c8ff7ef7514d599bd0293dc2bbfb43",
       "version_major": 2,
       "version_minor": 0
      },
      "text/plain": [
       "  0%|          | 0/682 [00:00<?, ?it/s]"
      ]
     },
     "metadata": {},
     "output_type": "display_data"
    },
    {
     "name": "stdout",
     "output_type": "stream",
     "text": [
      "Question: 지루하다, 놀러가고 싶어.                \tAnswer: 일단 늦 지 않 은 시간 이 좋 겠 어요 .      \n",
      "Question: 오늘 일찍 일어났더니 피곤하다.             \tAnswer: 지금 은 힘들 겠 지만 잊 으세요 .          \n",
      "Question: 간만에 여자친구랑 데이트 하기로 했어.         \tAnswer: 시간 내 서 연락 하 세요 .              \n",
      "Question: 집에 있는다는 소리야.                  \tAnswer: 지금 은 힘들 죠 .                   \n"
     ]
    },
    {
     "data": {
      "application/vnd.jupyter.widget-view+json": {
       "model_id": "23a52f3c499347838b1016c4c81e7528",
       "version_major": 2,
       "version_minor": 0
      },
      "text/plain": [
       "  0%|          | 0/682 [00:00<?, ?it/s]"
      ]
     },
     "metadata": {},
     "output_type": "display_data"
    },
    {
     "name": "stdout",
     "output_type": "stream",
     "text": [
      "Question: 지루하다, 놀러가고 싶어.                \tAnswer: 마음 이 복잡 하 는 게 찾 아요 .          \n",
      "Question: 오늘 일찍 일어났더니 피곤하다.             \tAnswer: 이제 라도 더 조심 하 세요 .             \n",
      "Question: 간만에 여자친구랑 데이트 하기로 했어.         \tAnswer: 마음 의 준비 를 하 세요 .              \n",
      "Question: 집에 있는다는 소리야.                  \tAnswer: 보 고 싶 은 연애 죠 .                \n"
     ]
    },
    {
     "data": {
      "application/vnd.jupyter.widget-view+json": {
       "model_id": "a29781b0fd26476da6af1f943023c7bc",
       "version_major": 2,
       "version_minor": 0
      },
      "text/plain": [
       "  0%|          | 0/682 [00:00<?, ?it/s]"
      ]
     },
     "metadata": {},
     "output_type": "display_data"
    },
    {
     "name": "stdout",
     "output_type": "stream",
     "text": [
      "Question: 지루하다, 놀러가고 싶어.                \tAnswer: 실수 하 지 않 을 거 라 생각 해요 .        \n",
      "Question: 오늘 일찍 일어났더니 피곤하다.             \tAnswer: 이제 일어날 때 예요 .                 \n",
      "Question: 간만에 여자친구랑 데이트 하기로 했어.         \tAnswer: 를 실망 하 세요 .                   \n",
      "Question: 집에 있는다는 소리야.                  \tAnswer: 완전히 연애 죠 .                    \n"
     ]
    },
    {
     "data": {
      "application/vnd.jupyter.widget-view+json": {
       "model_id": "43ee01904224472c85cde8c2e3e5ce02",
       "version_major": 2,
       "version_minor": 0
      },
      "text/plain": [
       "  0%|          | 0/682 [00:00<?, ?it/s]"
      ]
     },
     "metadata": {},
     "output_type": "display_data"
    },
    {
     "name": "stdout",
     "output_type": "stream",
     "text": [
      "Question: 지루하다, 놀러가고 싶어.                \tAnswer: 마음 이 복잡 하 겠 어요 .              \n",
      "Question: 오늘 일찍 일어났더니 피곤하다.             \tAnswer: 마음 이 복잡 하 겠 어요 .              \n",
      "Question: 간만에 여자친구랑 데이트 하기로 했어.         \tAnswer: 가 는 것 도 좋 은 방법 이 네요 .         \n",
      "Question: 집에 있는다는 소리야.                  \tAnswer: 자신 이 하 고 싶 었 나 봐요 .           \n"
     ]
    },
    {
     "data": {
      "application/vnd.jupyter.widget-view+json": {
       "model_id": "845d9d66e45b4e2fb521cddeaafc53ee",
       "version_major": 2,
       "version_minor": 0
      },
      "text/plain": [
       "  0%|          | 0/682 [00:00<?, ?it/s]"
      ]
     },
     "metadata": {},
     "output_type": "display_data"
    },
    {
     "name": "stdout",
     "output_type": "stream",
     "text": [
      "Question: 지루하다, 놀러가고 싶어.                \tAnswer: 일단 늦 지 않 게 연락 하 지 않 게 시간 이 에요 .\n",
      "Question: 오늘 일찍 일어났더니 피곤하다.             \tAnswer: 이제 일어날 때 예요 .                 \n",
      "Question: 간만에 여자친구랑 데이트 하기로 했어.         \tAnswer: 가 는 것 들 이 죠 .                 \n",
      "Question: 집에 있는다는 소리야.                  \tAnswer: 같이 있 어요 .                     \n"
     ]
    },
    {
     "data": {
      "application/vnd.jupyter.widget-view+json": {
       "model_id": "f9ba055821ef43e69d53319e3f6da0e9",
       "version_major": 2,
       "version_minor": 0
      },
      "text/plain": [
       "  0%|          | 0/682 [00:00<?, ?it/s]"
      ]
     },
     "metadata": {},
     "output_type": "display_data"
    },
    {
     "name": "stdout",
     "output_type": "stream",
     "text": [
      "Question: 지루하다, 놀러가고 싶어.                \tAnswer: 또 다른 친구 저 도 해요 .              \n",
      "Question: 오늘 일찍 일어났더니 피곤하다.             \tAnswer: 이제 일어날 때 예요 .                 \n",
      "Question: 간만에 여자친구랑 데이트 하기로 했어.         \tAnswer: 저희 도 영화 에서 영화 가 네요 .          \n",
      "Question: 집에 있는다는 소리야.                  \tAnswer: 죠 . 이 에요 .                    \n"
     ]
    },
    {
     "data": {
      "application/vnd.jupyter.widget-view+json": {
       "model_id": "94c211d6393f4f55967b794793679eb7",
       "version_major": 2,
       "version_minor": 0
      },
      "text/plain": [
       "  0%|          | 0/682 [00:00<?, ?it/s]"
      ]
     },
     "metadata": {},
     "output_type": "display_data"
    },
    {
     "name": "stdout",
     "output_type": "stream",
     "text": [
      "Question: 지루하다, 놀러가고 싶어.                \tAnswer: 일단 늦 지 않 게 제 하 지 않 게 아쉽 거 예요 .\n",
      "Question: 오늘 일찍 일어났더니 피곤하다.             \tAnswer: 이제 일어날 시간 이 에요 .              \n",
      "Question: 간만에 여자친구랑 데이트 하기로 했어.         \tAnswer: 가 글 로 조심 하 세요 .               \n",
      "Question: 집에 있는다는 소리야.                  \tAnswer: 먼저 연락 이 있 죠 .                 \n"
     ]
    },
    {
     "data": {
      "application/vnd.jupyter.widget-view+json": {
       "model_id": "de37dbe0d37f465e9a9b1dc8d704ffed",
       "version_major": 2,
       "version_minor": 0
      },
      "text/plain": [
       "  0%|          | 0/682 [00:00<?, ?it/s]"
      ]
     },
     "metadata": {},
     "output_type": "display_data"
    },
    {
     "name": "stdout",
     "output_type": "stream",
     "text": [
      "Question: 지루하다, 놀러가고 싶어.                \tAnswer: 마음 이 때문 에 마음 이 깊 을 거 예요 .     \n",
      "Question: 오늘 일찍 일어났더니 피곤하다.             \tAnswer: 마음 이 복잡 하 겠 어요 .              \n",
      "Question: 간만에 여자친구랑 데이트 하기로 했어.         \tAnswer: 인기 가 좋 으시 군요 .                \n",
      "Question: 집에 있는다는 소리야.                  \tAnswer: 있 이 죠 .                       \n"
     ]
    },
    {
     "data": {
      "application/vnd.jupyter.widget-view+json": {
       "model_id": "c43ca721b38d47d385e9e043f1745857",
       "version_major": 2,
       "version_minor": 0
      },
      "text/plain": [
       "  0%|          | 0/682 [00:00<?, ?it/s]"
      ]
     },
     "metadata": {},
     "output_type": "display_data"
    },
    {
     "name": "stdout",
     "output_type": "stream",
     "text": [
      "Question: 지루하다, 놀러가고 싶어.                \tAnswer: 일단 늦 지 않 을 시간 이 좋 겠 어요 .      \n",
      "Question: 오늘 일찍 일어났더니 피곤하다.             \tAnswer: 아직 은 현실 이 에요 .                \n",
      "Question: 간만에 여자친구랑 데이트 하기로 했어.         \tAnswer: 가 고 싶 은 말 다 오 세요 .            \n",
      "Question: 집에 있는다는 소리야.                  \tAnswer: 같이 있 어요 .                     \n"
     ]
    },
    {
     "data": {
      "application/vnd.jupyter.widget-view+json": {
       "model_id": "38fd1a3292cc4ea2ae71e2bfdecbd101",
       "version_major": 2,
       "version_minor": 0
      },
      "text/plain": [
       "  0%|          | 0/682 [00:00<?, ?it/s]"
      ]
     },
     "metadata": {},
     "output_type": "display_data"
    },
    {
     "name": "stdout",
     "output_type": "stream",
     "text": [
      "Question: 지루하다, 놀러가고 싶어.                \tAnswer: 마음 이 복잡 하 겠 어요 .              \n",
      "Question: 오늘 일찍 일어났더니 피곤하다.             \tAnswer: 이제 일어날 때 를 예요 .               \n",
      "Question: 간만에 여자친구랑 데이트 하기로 했어.         \tAnswer: 가 글 로 정리 하 세요 .               \n",
      "Question: 집에 있는다는 소리야.                  \tAnswer: 기분 이 힘들 죠 .                   \n"
     ]
    },
    {
     "data": {
      "application/vnd.jupyter.widget-view+json": {
       "model_id": "e94d4af139f84ab6836e25a364ea677c",
       "version_major": 2,
       "version_minor": 0
      },
      "text/plain": [
       "  0%|          | 0/682 [00:00<?, ?it/s]"
      ]
     },
     "metadata": {},
     "output_type": "display_data"
    },
    {
     "name": "stdout",
     "output_type": "stream",
     "text": [
      "Question: 지루하다, 놀러가고 싶어.                \tAnswer: 일단 늦 지 않 게 교섭 해 보 세요 .        \n",
      "Question: 오늘 일찍 일어났더니 피곤하다.             \tAnswer: 이제 라도 잘 된 사람 많 아요 .           \n",
      "Question: 간만에 여자친구랑 데이트 하기로 했어.         \tAnswer: 얼른 실망 하 세요 .                  \n",
      "Question: 집에 있는다는 소리야.                  \tAnswer: 같이 보 면 그럴 거 죠 .               \n"
     ]
    },
    {
     "data": {
      "application/vnd.jupyter.widget-view+json": {
       "model_id": "1050f70bf17445acba4edff88106f662",
       "version_major": 2,
       "version_minor": 0
      },
      "text/plain": [
       "  0%|          | 0/682 [00:00<?, ?it/s]"
      ]
     },
     "metadata": {},
     "output_type": "display_data"
    },
    {
     "name": "stdout",
     "output_type": "stream",
     "text": [
      "Question: 지루하다, 놀러가고 싶어.                \tAnswer: 저 도 긴 하 고 싶 어요 .              \n",
      "Question: 오늘 일찍 일어났더니 피곤하다.             \tAnswer: 이제 일어날 시간 이 에요 .              \n",
      "Question: 간만에 여자친구랑 데이트 하기로 했어.         \tAnswer: 가 는 것 도 다 필요 하 죠 .            \n",
      "Question: 집에 있는다는 소리야.                  \tAnswer: 보 고 싶 죠 .                     \n"
     ]
    },
    {
     "data": {
      "application/vnd.jupyter.widget-view+json": {
       "model_id": "c2fe725ebe504c91877fe7706f86c6d5",
       "version_major": 2,
       "version_minor": 0
      },
      "text/plain": [
       "  0%|          | 0/682 [00:00<?, ?it/s]"
      ]
     },
     "metadata": {},
     "output_type": "display_data"
    },
    {
     "name": "stdout",
     "output_type": "stream",
     "text": [
      "Question: 지루하다, 놀러가고 싶어.                \tAnswer: 후회 은 뭐 든 도 좋 겠 어요 .           \n",
      "Question: 오늘 일찍 일어났더니 피곤하다.             \tAnswer: 이제 일어날 때 예요 .                 \n",
      "Question: 간만에 여자친구랑 데이트 하기로 했어.         \tAnswer: 또 데이트 를 말 하 세요 .              \n",
      "Question: 집에 있는다는 소리야.                  \tAnswer: 같이 있 어요 .                     \n"
     ]
    },
    {
     "data": {
      "application/vnd.jupyter.widget-view+json": {
       "model_id": "04f7952a973e4c02b0151fba1bc6f26d",
       "version_major": 2,
       "version_minor": 0
      },
      "text/plain": [
       "  0%|          | 0/682 [00:00<?, ?it/s]"
      ]
     },
     "metadata": {},
     "output_type": "display_data"
    },
    {
     "name": "stdout",
     "output_type": "stream",
     "text": [
      "Question: 지루하다, 놀러가고 싶어.                \tAnswer: 저 도 모르 겠 어요 .                 \n",
      "Question: 오늘 일찍 일어났더니 피곤하다.             \tAnswer: 이제 일어날 때 예요 .                 \n",
      "Question: 간만에 여자친구랑 데이트 하기로 했어.         \tAnswer: 시간 가 는 것 보단 낫 죠 .             \n",
      "Question: 집에 있는다는 소리야.                  \tAnswer: 자신 이 라면 시원 하 겠 죠 .            \n"
     ]
    },
    {
     "data": {
      "application/vnd.jupyter.widget-view+json": {
       "model_id": "d559b2b3665c47f589c43eb61411c16b",
       "version_major": 2,
       "version_minor": 0
      },
      "text/plain": [
       "  0%|          | 0/682 [00:00<?, ?it/s]"
      ]
     },
     "metadata": {},
     "output_type": "display_data"
    },
    {
     "name": "stdout",
     "output_type": "stream",
     "text": [
      "Question: 지루하다, 놀러가고 싶어.                \tAnswer: 먼저 뺏기 보 세요 .                  \n",
      "Question: 오늘 일찍 일어났더니 피곤하다.             \tAnswer: 이제 라도 놀 아요 .                  \n",
      "Question: 간만에 여자친구랑 데이트 하기로 했어.         \tAnswer: 시간 은 다 오 세요 .                 \n",
      "Question: 집에 있는다는 소리야.                  \tAnswer: 아쉽 지 않 은 판단 이 에요 .            \n"
     ]
    },
    {
     "data": {
      "application/vnd.jupyter.widget-view+json": {
       "model_id": "39c331aa07e740dbb7c26428a472e084",
       "version_major": 2,
       "version_minor": 0
      },
      "text/plain": [
       "  0%|          | 0/682 [00:00<?, ?it/s]"
      ]
     },
     "metadata": {},
     "output_type": "display_data"
    },
    {
     "name": "stdout",
     "output_type": "stream",
     "text": [
      "Question: 지루하다, 놀러가고 싶어.                \tAnswer: 일단 늦 지 않 은 시간 이 죠 .           \n",
      "Question: 오늘 일찍 일어났더니 피곤하다.             \tAnswer: 이제 일어날 때 예요 .                 \n",
      "Question: 간만에 여자친구랑 데이트 하기로 했어.         \tAnswer: 인기 가 좋 으시 네요 .                \n",
      "Question: 집에 있는다는 소리야.                  \tAnswer: 아무래도 힘들 죠 .                   \n"
     ]
    },
    {
     "data": {
      "application/vnd.jupyter.widget-view+json": {
       "model_id": "f6a7dc364c4f4e85bfdfffc51d6b62a6",
       "version_major": 2,
       "version_minor": 0
      },
      "text/plain": [
       "  0%|          | 0/682 [00:00<?, ?it/s]"
      ]
     },
     "metadata": {},
     "output_type": "display_data"
    },
    {
     "name": "stdout",
     "output_type": "stream",
     "text": [
      "Question: 지루하다, 놀러가고 싶어.                \tAnswer: 마음 을 단단히 하 길 바랄게요 .           \n",
      "Question: 오늘 일찍 일어났더니 피곤하다.             \tAnswer: 이제 일어날 시간 이 에요 .              \n",
      "Question: 간만에 여자친구랑 데이트 하기로 했어.         \tAnswer: 인기 가 많 으시 네요 .                \n",
      "Question: 집에 있는다는 소리야.                  \tAnswer: 같이 있 어요 .                     \n"
     ]
    },
    {
     "data": {
      "application/vnd.jupyter.widget-view+json": {
       "model_id": "f5700832294944f2acee021e7dde75f7",
       "version_major": 2,
       "version_minor": 0
      },
      "text/plain": [
       "  0%|          | 0/682 [00:00<?, ?it/s]"
      ]
     },
     "metadata": {},
     "output_type": "display_data"
    },
    {
     "name": "stdout",
     "output_type": "stream",
     "text": [
      "Question: 지루하다, 놀러가고 싶어.                \tAnswer: 실수 할 때 힘든 건 만들 어요 .           \n",
      "Question: 오늘 일찍 일어났더니 피곤하다.             \tAnswer: 이제 일어날 때 예요 .                 \n",
      "Question: 간만에 여자친구랑 데이트 하기로 했어.         \tAnswer: 가 애틋 한 사랑 이 네요 .              \n",
      "Question: 집에 있는다는 소리야.                  \tAnswer: 자신 이 했 는지 자세히 그럴 거 예요 .       \n"
     ]
    },
    {
     "data": {
      "application/vnd.jupyter.widget-view+json": {
       "model_id": "44558335591b4b5a979a9fe0d72c9a70",
       "version_major": 2,
       "version_minor": 0
      },
      "text/plain": [
       "  0%|          | 0/682 [00:00<?, ?it/s]"
      ]
     },
     "metadata": {},
     "output_type": "display_data"
    },
    {
     "name": "stdout",
     "output_type": "stream",
     "text": [
      "Question: 지루하다, 놀러가고 싶어.                \tAnswer: 마음 이 복잡 하 겠 어요 .              \n",
      "Question: 오늘 일찍 일어났더니 피곤하다.             \tAnswer: 이제 일어날 때 를 예요 .               \n",
      "Question: 간만에 여자친구랑 데이트 하기로 했어.         \tAnswer: 얼른 실망 하 세요 .                  \n",
      "Question: 집에 있는다는 소리야.                  \tAnswer: 자신 이 라면 문제 죠 .                \n"
     ]
    },
    {
     "data": {
      "application/vnd.jupyter.widget-view+json": {
       "model_id": "9200de5a22dd4cbcb4aec92e6440dc77",
       "version_major": 2,
       "version_minor": 0
      },
      "text/plain": [
       "  0%|          | 0/682 [00:00<?, ?it/s]"
      ]
     },
     "metadata": {},
     "output_type": "display_data"
    },
    {
     "name": "stdout",
     "output_type": "stream",
     "text": [
      "Question: 지루하다, 놀러가고 싶어.                \tAnswer: 저 도 궁금 하 네요 .                 \n",
      "Question: 오늘 일찍 일어났더니 피곤하다.             \tAnswer: 이제 일어날 때 예요 .                 \n",
      "Question: 간만에 여자친구랑 데이트 하기로 했어.         \tAnswer: 가 글 로 조심 하 세요 .               \n",
      "Question: 집에 있는다는 소리야.                  \tAnswer: 같이 보 고 싶 네요 .                 \n"
     ]
    },
    {
     "data": {
      "application/vnd.jupyter.widget-view+json": {
       "model_id": "37086ea59b5344db8ed7c24fcec9e1b2",
       "version_major": 2,
       "version_minor": 0
      },
      "text/plain": [
       "  0%|          | 0/682 [00:00<?, ?it/s]"
      ]
     },
     "metadata": {},
     "output_type": "display_data"
    },
    {
     "name": "stdout",
     "output_type": "stream",
     "text": [
      "Question: 지루하다, 놀러가고 싶어.                \tAnswer: 실수 하 지 않 는다면 잘 할 거 예요 .       \n",
      "Question: 오늘 일찍 일어났더니 피곤하다.             \tAnswer: 이제 일어날 때 를 거 예요 .             \n",
      "Question: 간만에 여자친구랑 데이트 하기로 했어.         \tAnswer: 시간 내 서 연락 해 보 세요 .            \n",
      "Question: 집에 있는다는 소리야.                  \tAnswer: 사랑 이 죠 .                      \n"
     ]
    },
    {
     "data": {
      "application/vnd.jupyter.widget-view+json": {
       "model_id": "9fb04a08ba4e4ea4bf877d4100fc70df",
       "version_major": 2,
       "version_minor": 0
      },
      "text/plain": [
       "  0%|          | 0/682 [00:00<?, ?it/s]"
      ]
     },
     "metadata": {},
     "output_type": "display_data"
    },
    {
     "name": "stdout",
     "output_type": "stream",
     "text": [
      "Question: 지루하다, 놀러가고 싶어.                \tAnswer: 실수 하 지 않 을 시간 이 있 으면 할 거 예요 . \n",
      "Question: 오늘 일찍 일어났더니 피곤하다.             \tAnswer: 이제 일어날 시간 이 에요 .              \n",
      "Question: 간만에 여자친구랑 데이트 하기로 했어.         \tAnswer: 시간 가 는 것 도 필요 해요 .            \n",
      "Question: 집에 있는다는 소리야.                  \tAnswer: 같이 있 어요 .                     \n"
     ]
    },
    {
     "data": {
      "application/vnd.jupyter.widget-view+json": {
       "model_id": "6b7aad719caa4e0a8297e332d6428b0b",
       "version_major": 2,
       "version_minor": 0
      },
      "text/plain": [
       "  0%|          | 0/682 [00:00<?, ?it/s]"
      ]
     },
     "metadata": {},
     "output_type": "display_data"
    },
    {
     "name": "stdout",
     "output_type": "stream",
     "text": [
      "Question: 지루하다, 놀러가고 싶어.                \tAnswer: 죠 !                           \n",
      "Question: 오늘 일찍 일어났더니 피곤하다.             \tAnswer: 이제 일어날 시간 이 에요 .              \n",
      "Question: 간만에 여자친구랑 데이트 하기로 했어.         \tAnswer: 시간 내 서 가 필요 하 겠 네요 .          \n",
      "Question: 집에 있는다는 소리야.                  \tAnswer: 먼저 연락 이 네요 .                  \n"
     ]
    },
    {
     "data": {
      "application/vnd.jupyter.widget-view+json": {
       "model_id": "93d861e087b6430d83efdd49fc0feab9",
       "version_major": 2,
       "version_minor": 0
      },
      "text/plain": [
       "  0%|          | 0/682 [00:00<?, ?it/s]"
      ]
     },
     "metadata": {},
     "output_type": "display_data"
    },
    {
     "name": "stdout",
     "output_type": "stream",
     "text": [
      "Question: 지루하다, 놀러가고 싶어.                \tAnswer: 여행 을 떠나 보 세요 .                \n",
      "Question: 오늘 일찍 일어났더니 피곤하다.             \tAnswer: 이제 일어날 시간 이 에요 .              \n",
      "Question: 간만에 여자친구랑 데이트 하기로 했어.         \tAnswer: 시간 은 좀 씩 해도 괜찮 아요 .           \n",
      "Question: 집에 있는다는 소리야.                  \tAnswer: 같이 보 고 싶 네요 .                 \n"
     ]
    },
    {
     "data": {
      "application/vnd.jupyter.widget-view+json": {
       "model_id": "f09b85b950fd4934a29e672729a5077c",
       "version_major": 2,
       "version_minor": 0
      },
      "text/plain": [
       "  0%|          | 0/682 [00:00<?, ?it/s]"
      ]
     },
     "metadata": {},
     "output_type": "display_data"
    },
    {
     "name": "stdout",
     "output_type": "stream",
     "text": [
      "Question: 지루하다, 놀러가고 싶어.                \tAnswer: 실수 하 지 않 을 거 라 생각 해요 .        \n",
      "Question: 오늘 일찍 일어났더니 피곤하다.             \tAnswer: 이제 일어날 시간 이 에요 .              \n",
      "Question: 간만에 여자친구랑 데이트 하기로 했어.         \tAnswer: 힘들 때 가 있 죠 .                  \n",
      "Question: 집에 있는다는 소리야.                  \tAnswer: 자신 이 가장 중요 해요 .               \n"
     ]
    },
    {
     "data": {
      "application/vnd.jupyter.widget-view+json": {
       "model_id": "f03f5918e4244bf08941ff2e61514240",
       "version_major": 2,
       "version_minor": 0
      },
      "text/plain": [
       "  0%|          | 0/682 [00:00<?, ?it/s]"
      ]
     },
     "metadata": {},
     "output_type": "display_data"
    },
    {
     "name": "stdout",
     "output_type": "stream",
     "text": [
      "Question: 지루하다, 놀러가고 싶어.                \tAnswer: 지금 은 힘들 겠 지만 보 지 도 괜찮 아요 .    \n",
      "Question: 오늘 일찍 일어났더니 피곤하다.             \tAnswer: 이제 일어날 시간 이 에요 .              \n",
      "Question: 간만에 여자친구랑 데이트 하기로 했어.         \tAnswer: 시간 은 좀 더 편하 게 좋 겠 네요 .        \n",
      "Question: 집에 있는다는 소리야.                  \tAnswer: 같이 가 기 도 하 죠 .                \n"
     ]
    }
   ],
   "source": [
    "# 학습\n",
    "\n",
    "from tqdm import tqdm_notebook \n",
    "\n",
    "BATCH_SIZE = 64\n",
    "EPOCHS = 50\n",
    "\n",
    "examples = [\n",
    "            \"지루하다, 놀러가고 싶어.\",\n",
    "            \"오늘 일찍 일어났더니 피곤하다.\",\n",
    "            \"간만에 여자친구랑 데이트 하기로 했어.\",\n",
    "            \"집에 있는다는 소리야.\"\n",
    "]\n",
    "\n",
    "translates = []\n",
    "for epoch in range(EPOCHS):\n",
    "    total_loss = 0\n",
    "    \n",
    "    idx_list = list(range(0, enc_train.shape[0], BATCH_SIZE))\n",
    "    random.shuffle(idx_list)\n",
    "    t = tqdm_notebook(idx_list)\n",
    "\n",
    "    for (batch, idx) in enumerate(t):\n",
    "        batch_loss, enc_attns, dec_attns, dec_enc_attns = \\\n",
    "        train_step(enc_train[idx:idx+BATCH_SIZE],\n",
    "                    dec_train[idx:idx+BATCH_SIZE],\n",
    "                    transformer,\n",
    "                    optimizer)\n",
    "\n",
    "        total_loss += batch_loss\n",
    "        \n",
    "        t.set_description_str('Epoch %2d' % (epoch + 1))\n",
    "        t.set_postfix_str('Loss %.4f' % (total_loss.numpy() / (batch + 1)))\n",
    "        \n",
    "        \n",
    "    results = []\n",
    "    for example in examples:\n",
    "        ans = translate(example, transformer, tokenizer)[0]\n",
    "        results.append(ans)\n",
    "        print(f\"Question: {example:<30}\\tAnswer: {ans:<30}\")\n",
    "        \n",
    "    translates.append(results)"
   ]
  },
  {
   "cell_type": "markdown",
   "id": "9b6440dd",
   "metadata": {},
   "source": [
    "## Step 7. 성능 측정하기\n",
    "챗봇의 경우, 올바른 대답을 하는지가 중요한 평가 지표입니다. 올바른 답변을 하는지 눈으로 확인할 수 있겠지만, 많은 데이터의 경우는 모든 결과를 확인할 수 없을 것입니다. 주어진 질문에 적절한 답변을 하는지 확인하고, BLEU Score를 계산하는 `calculate_bleu()` 함수도 적용해 보세요."
   ]
  },
  {
   "cell_type": "code",
   "execution_count": 57,
   "id": "b67420ba",
   "metadata": {},
   "outputs": [],
   "source": [
    "from nltk.translate.bleu_score import sentence_bleu\n",
    "from nltk.translate.bleu_score import SmoothingFunction"
   ]
  },
  {
   "cell_type": "code",
   "execution_count": 58,
   "id": "8291f4d4",
   "metadata": {},
   "outputs": [],
   "source": [
    "references = ['잠깐 쉬 어도 돼요 .','맛난 거 드세요 .','떨리 겠 죠 .','좋 아 하 면 그럴 수 있 어요 .']"
   ]
  },
  {
   "cell_type": "code",
   "execution_count": 59,
   "id": "ad9c7d67",
   "metadata": {},
   "outputs": [
    {
     "data": {
      "text/plain": [
       "[['사랑 은 사랑 이 에요 .', '사랑 은 사랑 이 에요 .', '사랑 은 사랑 이 에요 .', '잘 하 는 게 좋 을 거 예요 .'],\n",
       " ['저 도 요 .', '좋 은 건강 이 네요 .', '좋 은 마음 이 흘렀 네요 .', '좋 은 기억 이 네요 .'],\n",
       " ['같이 가 보 세요 .', '건강 한 욜 로 조금 씩 더 돌 기 예요 .', '힘들 겠 네요 .', '잘 될 거 예요 .'],\n",
       " ['같이 살 고 싶 은 슬픔 이 죠 .',\n",
       "  '이제 일어날 때 예요 .',\n",
       "  '믿음 의 결코 소름 돋 네요 .',\n",
       "  '새로운 곳 에서 몰입 해 보 세요 .'],\n",
       " ['저 랑 놀 네요 .', '정작 한잔 한잔 드세요 .', '즐거운 데이트 를 해 보 세요 .', '새로운 곳 으로 후련 해졌 죠 .'],\n",
       " ['같이 살 고 나 서 가 서 괜찮 아 질 거 예요 .',\n",
       "  '정작 일어날 날 이 에요 .',\n",
       "  '그런데 볼 수 있 는 간격 이 네요 .',\n",
       "  '새로운 인연 이 있 죠 .'],\n",
       " ['저 랑 놀 아요 .', '이제 일어날 거 예요 .', '애틋 한 사랑 이 네요 .', '기분 이 그리운 가 봐요 .'],\n",
       " ['그게 제일 광범위 하 죠 .',\n",
       "  '이제 일어날 시간 이 에요 .',\n",
       "  '그분 도 좋 은 추억 에서 성공 하 는 사람 만나 좋 아요 .',\n",
       "  '지금 이 그리운 가 봐요 .'],\n",
       " ['술 을 드 는 일단 을 거 예요 .',\n",
       "  '이제 일어날 일 이 네요 .',\n",
       "  '좋 은 생각 만 하 고 있 는 거 죠 .',\n",
       "  '지금 은 힘들 겠 네요 .'],\n",
       " ['시간 있 냐고 물어봐 봐요 .',\n",
       "  '정작 일어날 일 이 에요 .',\n",
       "  '중요 한 데이트 를 과 말 해 보 세요 .',\n",
       "  '왜 아니 라고 하 면 돼요 .'],\n",
       " ['마음 이 복잡 하 겠 죠 .', '이제 일어날 거 예요 .', '즐거운 데이트 하 길 바랄게요 .', '기분 이 중요 해요 .'],\n",
       " ['일단 는다면 마음 이 들 때 가 있 되 긴 할 거 예요 .',\n",
       "  '이제 일어날 때 를 예요 .',\n",
       "  '정말 의 데이트 를 받 고 있 는지 생각 하 세요 .',\n",
       "  '같이 있 네요 .'],\n",
       " ['저 랑 대화 하 고 싶 어요 .', '이제 일어날 시간 이 에요 .', '인기 가 필요 한 순간 이 네요 .', '같이 있 네요 .'],\n",
       " ['저 도 같이 가요 .',\n",
       "  '이제 일어날 때 를 예요 .',\n",
       "  '애틋 한 사랑 이 네요 .',\n",
       "  '자신 이 상당히 많 아 하 기 도 하 죠 .'],\n",
       " ['또 내통 놀 러 살 고 있 을 거 예요 .',\n",
       "  '아직 이 나 셨 나 봐요 .',\n",
       "  '필요 한 게 해도 정리 를 킬로미터 좋 죠 .',\n",
       "  '운명 이 죠 .'],\n",
       " ['마음 을 헤아리 는 게 마음 이 죠 .',\n",
       "  '이제 일어날 때 를 예요 .',\n",
       "  '시간 은 주 면서 정리 가 될 거 예요 .',\n",
       "  '같이 있 습니다 .'],\n",
       " ['술 기운 긴 어울리 고 있 을 거 예요 .',\n",
       "  '이제 일어날 때 예요 .',\n",
       "  '애틋 한 사랑 으로 남기 고 오 세요 .',\n",
       "  '정말 좋 죠 .'],\n",
       " ['저녁 도 또 데이트 를 여행 이 네요 .',\n",
       "  '세상 이 자연 스럽 겠 어요 .',\n",
       "  '은근히 닮 아 하 는 데이트 가 필요 해요 .',\n",
       "  '조심 이 힘들 죠 .'],\n",
       " ['마음 과 마음 이 좀 쉬 게 다 여행 도 좋 을 거 예요 .',\n",
       "  '이제 일어날 때 를 거 예요 .',\n",
       "  '시간 내 맘 을 다 단정 하 게 좋 죠 .',\n",
       "  '운명 이 참 아 봐요 .'],\n",
       " ['또 다른 사람 만나 길 바랄게요 .',\n",
       "  '이제 일어날 때 예요 .',\n",
       "  '죠 . 길 스러운 쉬 어 가 요 .',\n",
       "  '완전히 참 모두 같이 가 봐요 .'],\n",
       " ['여행 을 떠나 보 세요 .',\n",
       "  '이제 일어날 때 예요 .',\n",
       "  '데이트 를 닮 아 하 는 것 도 필요 해요 .',\n",
       "  '완전히 보 면 그럴 거 예요 .'],\n",
       " ['큰 결심 이 네요 .', '이제 일어날 때 예요 .', '죠 .', '완전히 연애 죠 .'],\n",
       " ['일단 으면 같이 놀 다 다가가 세요 .',\n",
       "  '이제 일어날 때 는 속 이 에요 .',\n",
       "  '인기 가 그분 의 것 도 필요 해요 .',\n",
       "  '같이 가 기 도 하 죠 .'],\n",
       " ['일단 늦 지 않 을 거 라 생각 해요 .', '이제 일어날 때 예요 .', '데이트 를 내 요 .', '같이 있 네요 .'],\n",
       " ['일단 늦 지 않 은 시간 이 좋 겠 어요 .',\n",
       "  '지금 은 힘들 겠 지만 잊 으세요 .',\n",
       "  '시간 내 서 연락 하 세요 .',\n",
       "  '지금 은 힘들 죠 .'],\n",
       " ['마음 이 복잡 하 는 게 찾 아요 .',\n",
       "  '이제 라도 더 조심 하 세요 .',\n",
       "  '마음 의 준비 를 하 세요 .',\n",
       "  '보 고 싶 은 연애 죠 .'],\n",
       " ['실수 하 지 않 을 거 라 생각 해요 .', '이제 일어날 때 예요 .', '를 실망 하 세요 .', '완전히 연애 죠 .'],\n",
       " ['마음 이 복잡 하 겠 어요 .',\n",
       "  '마음 이 복잡 하 겠 어요 .',\n",
       "  '가 는 것 도 좋 은 방법 이 네요 .',\n",
       "  '자신 이 하 고 싶 었 나 봐요 .'],\n",
       " ['일단 늦 지 않 게 연락 하 지 않 게 시간 이 에요 .',\n",
       "  '이제 일어날 때 예요 .',\n",
       "  '가 는 것 들 이 죠 .',\n",
       "  '같이 있 어요 .'],\n",
       " ['또 다른 친구 저 도 해요 .', '이제 일어날 때 예요 .', '저희 도 영화 에서 영화 가 네요 .', '죠 . 이 에요 .'],\n",
       " ['일단 늦 지 않 게 제 하 지 않 게 아쉽 거 예요 .',\n",
       "  '이제 일어날 시간 이 에요 .',\n",
       "  '가 글 로 조심 하 세요 .',\n",
       "  '먼저 연락 이 있 죠 .'],\n",
       " ['마음 이 때문 에 마음 이 깊 을 거 예요 .',\n",
       "  '마음 이 복잡 하 겠 어요 .',\n",
       "  '인기 가 좋 으시 군요 .',\n",
       "  '있 이 죠 .'],\n",
       " ['일단 늦 지 않 을 시간 이 좋 겠 어요 .',\n",
       "  '아직 은 현실 이 에요 .',\n",
       "  '가 고 싶 은 말 다 오 세요 .',\n",
       "  '같이 있 어요 .'],\n",
       " ['마음 이 복잡 하 겠 어요 .', '이제 일어날 때 를 예요 .', '가 글 로 정리 하 세요 .', '기분 이 힘들 죠 .'],\n",
       " ['일단 늦 지 않 게 교섭 해 보 세요 .',\n",
       "  '이제 라도 잘 된 사람 많 아요 .',\n",
       "  '얼른 실망 하 세요 .',\n",
       "  '같이 보 면 그럴 거 죠 .'],\n",
       " ['저 도 긴 하 고 싶 어요 .', '이제 일어날 시간 이 에요 .', '가 는 것 도 다 필요 하 죠 .', '보 고 싶 죠 .'],\n",
       " ['후회 은 뭐 든 도 좋 겠 어요 .', '이제 일어날 때 예요 .', '또 데이트 를 말 하 세요 .', '같이 있 어요 .'],\n",
       " ['저 도 모르 겠 어요 .', '이제 일어날 때 예요 .', '시간 가 는 것 보단 낫 죠 .', '자신 이 라면 시원 하 겠 죠 .'],\n",
       " ['먼저 뺏기 보 세요 .', '이제 라도 놀 아요 .', '시간 은 다 오 세요 .', '아쉽 지 않 은 판단 이 에요 .'],\n",
       " ['일단 늦 지 않 은 시간 이 죠 .', '이제 일어날 때 예요 .', '인기 가 좋 으시 네요 .', '아무래도 힘들 죠 .'],\n",
       " ['마음 을 단단히 하 길 바랄게요 .', '이제 일어날 시간 이 에요 .', '인기 가 많 으시 네요 .', '같이 있 어요 .'],\n",
       " ['실수 할 때 힘든 건 만들 어요 .',\n",
       "  '이제 일어날 때 예요 .',\n",
       "  '가 애틋 한 사랑 이 네요 .',\n",
       "  '자신 이 했 는지 자세히 그럴 거 예요 .'],\n",
       " ['마음 이 복잡 하 겠 어요 .', '이제 일어날 때 를 예요 .', '얼른 실망 하 세요 .', '자신 이 라면 문제 죠 .'],\n",
       " ['저 도 궁금 하 네요 .', '이제 일어날 때 예요 .', '가 글 로 조심 하 세요 .', '같이 보 고 싶 네요 .'],\n",
       " ['실수 하 지 않 는다면 잘 할 거 예요 .',\n",
       "  '이제 일어날 때 를 거 예요 .',\n",
       "  '시간 내 서 연락 해 보 세요 .',\n",
       "  '사랑 이 죠 .'],\n",
       " ['실수 하 지 않 을 시간 이 있 으면 할 거 예요 .',\n",
       "  '이제 일어날 시간 이 에요 .',\n",
       "  '시간 가 는 것 도 필요 해요 .',\n",
       "  '같이 있 어요 .'],\n",
       " ['죠 !', '이제 일어날 시간 이 에요 .', '시간 내 서 가 필요 하 겠 네요 .', '먼저 연락 이 네요 .'],\n",
       " ['여행 을 떠나 보 세요 .',\n",
       "  '이제 일어날 시간 이 에요 .',\n",
       "  '시간 은 좀 씩 해도 괜찮 아요 .',\n",
       "  '같이 보 고 싶 네요 .'],\n",
       " ['실수 하 지 않 을 거 라 생각 해요 .',\n",
       "  '이제 일어날 시간 이 에요 .',\n",
       "  '힘들 때 가 있 죠 .',\n",
       "  '자신 이 가장 중요 해요 .'],\n",
       " ['지금 은 힘들 겠 지만 보 지 도 괜찮 아요 .',\n",
       "  '이제 일어날 시간 이 에요 .',\n",
       "  '시간 은 좀 더 편하 게 좋 겠 네요 .',\n",
       "  '같이 가 기 도 하 죠 .']]"
      ]
     },
     "execution_count": 59,
     "metadata": {},
     "output_type": "execute_result"
    }
   ],
   "source": [
    "translates"
   ]
  },
  {
   "cell_type": "code",
   "execution_count": 60,
   "id": "ed6dc3ab",
   "metadata": {},
   "outputs": [],
   "source": [
    "reference = references[0].split()\n",
    "candidate = translates[-1][0].split()\n"
   ]
  },
  {
   "cell_type": "code",
   "execution_count": 61,
   "id": "0ccdea83",
   "metadata": {},
   "outputs": [
    {
     "name": "stdout",
     "output_type": "stream",
     "text": [
      "원문: ['잠깐', '쉬', '어도', '돼요', '.']\n",
      "번역문: ['지금', '은', '힘들', '겠', '지만', '보', '지', '도', '괜찮', '아요', '.']\n",
      "BLEU Score: 1.0003688322288243e-231\n"
     ]
    },
    {
     "name": "stderr",
     "output_type": "stream",
     "text": [
      "/opt/conda/lib/python3.9/site-packages/nltk/translate/bleu_score.py:515: UserWarning: \n",
      "The hypothesis contains 0 counts of 2-gram overlaps.\n",
      "Therefore the BLEU score evaluates to 0, independently of\n",
      "how many N-gram overlaps of lower order it contains.\n",
      "Consider using lower n-gram order or use SmoothingFunction()\n",
      "  warnings.warn(_msg)\n",
      "/opt/conda/lib/python3.9/site-packages/nltk/translate/bleu_score.py:515: UserWarning: \n",
      "The hypothesis contains 0 counts of 3-gram overlaps.\n",
      "Therefore the BLEU score evaluates to 0, independently of\n",
      "how many N-gram overlaps of lower order it contains.\n",
      "Consider using lower n-gram order or use SmoothingFunction()\n",
      "  warnings.warn(_msg)\n",
      "/opt/conda/lib/python3.9/site-packages/nltk/translate/bleu_score.py:515: UserWarning: \n",
      "The hypothesis contains 0 counts of 4-gram overlaps.\n",
      "Therefore the BLEU score evaluates to 0, independently of\n",
      "how many N-gram overlaps of lower order it contains.\n",
      "Consider using lower n-gram order or use SmoothingFunction()\n",
      "  warnings.warn(_msg)\n"
     ]
    }
   ],
   "source": [
    "print(\"원문:\", reference)\n",
    "print(\"번역문:\", candidate)\n",
    "print(\"BLEU Score:\", sentence_bleu([reference], candidate))"
   ]
  },
  {
   "cell_type": "code",
   "execution_count": 62,
   "id": "4b2b9910",
   "metadata": {},
   "outputs": [
    {
     "name": "stdout",
     "output_type": "stream",
     "text": [
      "BLEU-1: 0.0909090909090909\n",
      "BLEU-2: 0.010000000000000004\n",
      "BLEU-3: 0.011111111111111112\n",
      "BLEU-4: 0.012500000000000006\n",
      "\n",
      "BLEU-Total: 0.018850319022747353\n"
     ]
    }
   ],
   "source": [
    "def calculate_bleu(reference, candidate, weights=[0.25, 0.25, 0.25, 0.25]):\n",
    "    return sentence_bleu([reference],\n",
    "                         candidate,\n",
    "                         weights=weights,\n",
    "                         smoothing_function=SmoothingFunction().method1)  # smoothing_function 적용\n",
    "\n",
    "\n",
    "print(\"BLEU-1:\", calculate_bleu(reference, candidate, weights=[1, 0, 0, 0]))\n",
    "print(\"BLEU-2:\", calculate_bleu(reference, candidate, weights=[0, 1, 0, 0]))\n",
    "print(\"BLEU-3:\", calculate_bleu(reference, candidate, weights=[0, 0, 1, 0]))\n",
    "print(\"BLEU-4:\", calculate_bleu(reference, candidate, weights=[0, 0, 0, 1]))\n",
    "\n",
    "print(\"\\nBLEU-Total:\", calculate_bleu(reference, candidate))"
   ]
  },
  {
   "cell_type": "code",
   "execution_count": 68,
   "id": "2853b390",
   "metadata": {},
   "outputs": [
    {
     "name": "stdout",
     "output_type": "stream",
     "text": [
      "< epoch : 1 >\n",
      "    BLEU-1: 0.013888888888888885\n",
      "    BLEU-2: 0.0014705882352941172\n",
      "    BLEU-3: 0.0015625000000000005\n",
      "    BLEU-4: 0.001666666666666667\n",
      "    평균 BLEU-Total Score : 0.013413303156721483\n",
      "----------------------------------------\n",
      "< epoch : 2 >\n",
      "    BLEU-1: 0.019230769230769232\n",
      "    BLEU-2: 0.0020833333333333337\n",
      "    BLEU-3: 0.002272727272727274\n",
      "    BLEU-4: 0.002500000000000001\n",
      "    평균 BLEU-Total Score : 0.01910164521353063\n",
      "----------------------------------------\n",
      "< epoch : 3 >\n",
      "    BLEU-1: 0.025000000000000005\n",
      "    BLEU-2: 0.002777777777777778\n",
      "    BLEU-3: 0.0031250000000000015\n",
      "    BLEU-4: 0.0035714285714285735\n",
      "    평균 BLEU-Total Score : 0.017962300921967427\n",
      "----------------------------------------\n",
      "< epoch : 4 >\n",
      "    BLEU-1: 0.012500000000000002\n",
      "    BLEU-2: 0.0013157894736842105\n",
      "    BLEU-3: 0.0013888888888888887\n",
      "    BLEU-4: 0.0014705882352941172\n",
      "    평균 BLEU-Total Score : 0.011713069643261007\n",
      "----------------------------------------\n",
      "< epoch : 5 >\n",
      "    BLEU-1: 0.013888888888888885\n",
      "    BLEU-2: 0.0014705882352941172\n",
      "    BLEU-3: 0.0015625000000000005\n",
      "    BLEU-4: 0.001666666666666667\n",
      "    평균 BLEU-Total Score : 0.014248400748087016\n",
      "----------------------------------------\n",
      "< epoch : 6 >\n",
      "    BLEU-1: 0.017857142857142853\n",
      "    BLEU-2: 0.0019230769230769234\n",
      "    BLEU-3: 0.0020833333333333337\n",
      "    BLEU-4: 0.002272727272727274\n",
      "    평균 BLEU-Total Score : 0.01083811898098898\n",
      "----------------------------------------\n",
      "< epoch : 7 >\n",
      "    BLEU-1: 0.016666666666666666\n",
      "    BLEU-2: 0.0017857142857142865\n",
      "    BLEU-3: 0.0019230769230769234\n",
      "    BLEU-4: 0.0020833333333333337\n",
      "    평균 BLEU-Total Score : 0.016036011632417396\n",
      "----------------------------------------\n",
      "< epoch : 8 >\n",
      "    BLEU-1: 0.016666666666666666\n",
      "    BLEU-2: 0.0017857142857142865\n",
      "    BLEU-3: 0.0019230769230769234\n",
      "    BLEU-4: 0.0020833333333333337\n",
      "    평균 BLEU-Total Score : 0.011052863062918004\n",
      "----------------------------------------\n",
      "< epoch : 9 >\n",
      "    BLEU-1: 0.017857142857142853\n",
      "    BLEU-2: 0.0019230769230769234\n",
      "    BLEU-3: 0.0020833333333333337\n",
      "    BLEU-4: 0.002272727272727274\n",
      "    평균 BLEU-Total Score : 0.011592870408487176\n",
      "----------------------------------------\n",
      "< epoch : 10 >\n",
      "    BLEU-1: 0.015625\n",
      "    BLEU-2: 0.001666666666666667\n",
      "    BLEU-3: 0.0017857142857142865\n",
      "    BLEU-4: 0.0019230769230769234\n",
      "    평균 BLEU-Total Score : 0.011525400716068609\n",
      "----------------------------------------\n",
      "< epoch : 11 >\n",
      "    BLEU-1: 0.020833333333333332\n",
      "    BLEU-2: 0.002272727272727274\n",
      "    BLEU-3: 0.002500000000000001\n",
      "    BLEU-4: 0.002777777777777778\n",
      "    평균 BLEU-Total Score : 0.014147643561921247\n",
      "----------------------------------------\n",
      "< epoch : 12 >\n",
      "    BLEU-1: 0.027777777777777773\n",
      "    BLEU-2: 0.0031250000000000015\n",
      "    BLEU-3: 0.0035714285714285735\n",
      "    BLEU-4: 0.0041666666666666675\n",
      "    평균 BLEU-Total Score : 0.012376103953407814\n",
      "----------------------------------------\n",
      "< epoch : 13 >\n",
      "    BLEU-1: 0.027777777777777773\n",
      "    BLEU-2: 0.0031250000000000015\n",
      "    BLEU-3: 0.0035714285714285735\n",
      "    BLEU-4: 0.0041666666666666675\n",
      "    평균 BLEU-Total Score : 0.014491548079096606\n",
      "----------------------------------------\n",
      "< epoch : 14 >\n",
      "    BLEU-1: 0.010416666666666666\n",
      "    BLEU-2: 0.0010869565217391302\n",
      "    BLEU-3: 0.001136363636363637\n",
      "    BLEU-4: 0.0011904761904761908\n",
      "    평균 BLEU-Total Score : 0.01356628662480164\n",
      "----------------------------------------\n",
      "< epoch : 15 >\n",
      "    BLEU-1: 0.03125000000000001\n",
      "    BLEU-2: 0.0035714285714285735\n",
      "    BLEU-3: 0.0041666666666666675\n",
      "    BLEU-4: 0.005\n",
      "    평균 BLEU-Total Score : 0.014213037963155947\n",
      "----------------------------------------\n",
      "< epoch : 16 >\n",
      "    BLEU-1: 0.025000000000000005\n",
      "    BLEU-2: 0.002777777777777778\n",
      "    BLEU-3: 0.0031250000000000015\n",
      "    BLEU-4: 0.0035714285714285735\n",
      "    평균 BLEU-Total Score : 0.012934998646446004\n",
      "----------------------------------------\n",
      "< epoch : 17 >\n",
      "    BLEU-1: 0.03125000000000001\n",
      "    BLEU-2: 0.0035714285714285735\n",
      "    BLEU-3: 0.0041666666666666675\n",
      "    BLEU-4: 0.005\n",
      "    평균 BLEU-Total Score : 0.015070768619141122\n",
      "----------------------------------------\n",
      "< epoch : 18 >\n",
      "    BLEU-1: 0.022727272727272724\n",
      "    BLEU-2: 0.002500000000000001\n",
      "    BLEU-3: 0.002777777777777778\n",
      "    BLEU-4: 0.0031250000000000015\n",
      "    평균 BLEU-Total Score : 0.011654077412630744\n",
      "----------------------------------------\n",
      "< epoch : 19 >\n",
      "    BLEU-1: 0.019230769230769232\n",
      "    BLEU-2: 0.0020833333333333337\n",
      "    BLEU-3: 0.002272727272727274\n",
      "    BLEU-4: 0.002500000000000001\n",
      "    평균 BLEU-Total Score : 0.01050997367815605\n",
      "----------------------------------------\n",
      "< epoch : 20 >\n",
      "    BLEU-1: 0.013888888888888885\n",
      "    BLEU-2: 0.0014705882352941172\n",
      "    BLEU-3: 0.0015625000000000005\n",
      "    BLEU-4: 0.001666666666666667\n",
      "    평균 BLEU-Total Score : 0.012157719814076446\n",
      "----------------------------------------\n",
      "< epoch : 21 >\n",
      "    BLEU-1: 0.014705882352941175\n",
      "    BLEU-2: 0.0015625000000000005\n",
      "    BLEU-3: 0.001666666666666667\n",
      "    BLEU-4: 0.0017857142857142865\n",
      "    평균 BLEU-Total Score : 0.012224818279119662\n",
      "----------------------------------------\n",
      "< epoch : 22 >\n",
      "    BLEU-1: 0.025000000000000005\n",
      "    BLEU-2: 0.002777777777777778\n",
      "    BLEU-3: 0.0031250000000000015\n",
      "    BLEU-4: 0.0035714285714285735\n",
      "    평균 BLEU-Total Score : 0.028457058179864596\n",
      "----------------------------------------\n",
      "< epoch : 23 >\n",
      "    BLEU-1: 0.017857142857142853\n",
      "    BLEU-2: 0.0019230769230769234\n",
      "    BLEU-3: 0.0020833333333333337\n",
      "    BLEU-4: 0.002272727272727274\n",
      "    평균 BLEU-Total Score : 0.010683726389495931\n",
      "----------------------------------------\n",
      "< epoch : 24 >\n",
      "    BLEU-1: 0.027777777777777773\n",
      "    BLEU-2: 0.0031250000000000015\n",
      "    BLEU-3: 0.0035714285714285735\n",
      "    BLEU-4: 0.0041666666666666675\n",
      "    평균 BLEU-Total Score : 0.016763804315012856\n",
      "----------------------------------------\n",
      "< epoch : 25 >\n",
      "    BLEU-1: 0.022727272727272724\n",
      "    BLEU-2: 0.002500000000000001\n",
      "    BLEU-3: 0.002777777777777778\n",
      "    BLEU-4: 0.0031250000000000015\n",
      "    평균 BLEU-Total Score : 0.012173549049205467\n",
      "----------------------------------------\n",
      "< epoch : 26 >\n",
      "    BLEU-1: 0.017857142857142853\n",
      "    BLEU-2: 0.0019230769230769234\n",
      "    BLEU-3: 0.0020833333333333337\n",
      "    BLEU-4: 0.002272727272727274\n",
      "    평균 BLEU-Total Score : 0.01192926152530281\n",
      "----------------------------------------\n",
      "< epoch : 27 >\n",
      "    BLEU-1: 0.025000000000000005\n",
      "    BLEU-2: 0.002777777777777778\n",
      "    BLEU-3: 0.0031250000000000015\n",
      "    BLEU-4: 0.0035714285714285735\n",
      "    평균 BLEU-Total Score : 0.01604506528252424\n",
      "----------------------------------------\n",
      "< epoch : 28 >\n",
      "    BLEU-1: 0.013157894736842103\n",
      "    BLEU-2: 0.0013888888888888887\n",
      "    BLEU-3: 0.0014705882352941172\n",
      "    BLEU-4: 0.0015625000000000005\n",
      "    평균 BLEU-Total Score : 0.010979555472421874\n",
      "----------------------------------------\n",
      "< epoch : 29 >\n",
      "    BLEU-1: 0.027777777777777773\n",
      "    BLEU-2: 0.0031250000000000015\n",
      "    BLEU-3: 0.0035714285714285735\n",
      "    BLEU-4: 0.0041666666666666675\n",
      "    평균 BLEU-Total Score : 0.015271737468387316\n",
      "----------------------------------------\n",
      "< epoch : 30 >\n",
      "    BLEU-1: 0.025000000000000005\n",
      "    BLEU-2: 0.002777777777777778\n",
      "    BLEU-3: 0.0031250000000000015\n",
      "    BLEU-4: 0.0035714285714285735\n",
      "    평균 BLEU-Total Score : 0.014643274056821224\n",
      "----------------------------------------\n",
      "< epoch : 31 >\n",
      "    BLEU-1: 0.019230769230769232\n",
      "    BLEU-2: 0.0020833333333333337\n",
      "    BLEU-3: 0.002272727272727274\n",
      "    BLEU-4: 0.002500000000000001\n",
      "    평균 BLEU-Total Score : 0.011825036389709033\n",
      "----------------------------------------\n",
      "< epoch : 32 >\n",
      "    BLEU-1: 0.03571428571428571\n",
      "    BLEU-2: 0.0041666666666666675\n",
      "    BLEU-3: 0.005\n",
      "    BLEU-4: 0.00625\n",
      "    평균 BLEU-Total Score : 0.01679792331810502\n",
      "----------------------------------------\n",
      "< epoch : 33 >\n",
      "    BLEU-1: 0.027777777777777773\n",
      "    BLEU-2: 0.0031250000000000015\n",
      "    BLEU-3: 0.0035714285714285735\n",
      "    BLEU-4: 0.0041666666666666675\n",
      "    평균 BLEU-Total Score : 0.014244872875704268\n",
      "----------------------------------------\n",
      "< epoch : 34 >\n",
      "    BLEU-1: 0.022727272727272724\n",
      "    BLEU-2: 0.002500000000000001\n",
      "    BLEU-3: 0.002777777777777778\n",
      "    BLEU-4: 0.0031250000000000015\n",
      "    평균 BLEU-Total Score : 0.01439672514099143\n",
      "----------------------------------------\n",
      "< epoch : 35 >\n",
      "    BLEU-1: 0.016666666666666666\n",
      "    BLEU-2: 0.0017857142857142865\n",
      "    BLEU-3: 0.0019230769230769234\n",
      "    BLEU-4: 0.0020833333333333337\n",
      "    평균 BLEU-Total Score : 0.012280258773232173\n",
      "----------------------------------------\n",
      "< epoch : 36 >\n",
      "    BLEU-1: 0.027777777777777773\n",
      "    BLEU-2: 0.0031250000000000015\n",
      "    BLEU-3: 0.0035714285714285735\n",
      "    BLEU-4: 0.0041666666666666675\n",
      "    평균 BLEU-Total Score : 0.014845996057415677\n",
      "----------------------------------------\n",
      "< epoch : 37 >\n",
      "    BLEU-1: 0.027777777777777773\n",
      "    BLEU-2: 0.0031250000000000015\n",
      "    BLEU-3: 0.0035714285714285735\n",
      "    BLEU-4: 0.0041666666666666675\n",
      "    평균 BLEU-Total Score : 0.01550013359731168\n",
      "----------------------------------------\n",
      "< epoch : 38 >\n",
      "    BLEU-1: 0.013888888888888885\n",
      "    BLEU-2: 0.0014705882352941172\n",
      "    BLEU-3: 0.0015625000000000005\n",
      "    BLEU-4: 0.001666666666666667\n",
      "    평균 BLEU-Total Score : 0.013344837474082202\n",
      "----------------------------------------\n",
      "< epoch : 39 >\n",
      "    BLEU-1: 0.013888888888888885\n",
      "    BLEU-2: 0.0014705882352941172\n",
      "    BLEU-3: 0.0015625000000000005\n",
      "    BLEU-4: 0.001666666666666667\n",
      "    평균 BLEU-Total Score : 0.015101453164736744\n",
      "----------------------------------------\n",
      "< epoch : 40 >\n",
      "    BLEU-1: 0.022727272727272724\n",
      "    BLEU-2: 0.002500000000000001\n",
      "    BLEU-3: 0.002777777777777778\n",
      "    BLEU-4: 0.0031250000000000015\n",
      "    평균 BLEU-Total Score : 0.014713375735090625\n",
      "----------------------------------------\n",
      "< epoch : 41 >\n",
      "    BLEU-1: 0.027777777777777773\n",
      "    BLEU-2: 0.0031250000000000015\n",
      "    BLEU-3: 0.0035714285714285735\n",
      "    BLEU-4: 0.0041666666666666675\n",
      "    평균 BLEU-Total Score : 0.015186760318786416\n",
      "----------------------------------------\n",
      "< epoch : 42 >\n",
      "    BLEU-1: 0.010869565217391304\n",
      "    BLEU-2: 0.001136363636363637\n",
      "    BLEU-3: 0.0011904761904761908\n",
      "    BLEU-4: 0.0012500000000000005\n",
      "    평균 BLEU-Total Score : 0.011575630072097304\n",
      "----------------------------------------\n",
      "< epoch : 43 >\n",
      "    BLEU-1: 0.017857142857142853\n",
      "    BLEU-2: 0.0019230769230769234\n",
      "    BLEU-3: 0.0020833333333333337\n",
      "    BLEU-4: 0.002272727272727274\n",
      "    평균 BLEU-Total Score : 0.01420886313278491\n",
      "----------------------------------------\n",
      "< epoch : 44 >\n",
      "    BLEU-1: 0.019230769230769232\n",
      "    BLEU-2: 0.0020833333333333337\n",
      "    BLEU-3: 0.002272727272727274\n",
      "    BLEU-4: 0.002500000000000001\n",
      "    평균 BLEU-Total Score : 0.014957331176164587\n",
      "----------------------------------------\n",
      "< epoch : 45 >\n",
      "    BLEU-1: 0.03125000000000001\n",
      "    BLEU-2: 0.0035714285714285735\n",
      "    BLEU-3: 0.0041666666666666675\n",
      "    BLEU-4: 0.005\n",
      "    평균 BLEU-Total Score : 0.014590892877973908\n",
      "----------------------------------------\n",
      "< epoch : 46 >\n",
      "    BLEU-1: 0.027777777777777773\n",
      "    BLEU-2: 0.0031250000000000015\n",
      "    BLEU-3: 0.0035714285714285735\n",
      "    BLEU-4: 0.0041666666666666675\n",
      "    평균 BLEU-Total Score : 0.013388780546571817\n",
      "----------------------------------------\n",
      "< epoch : 47 >\n",
      "    BLEU-1: 0.020833333333333332\n",
      "    BLEU-2: 0.002272727272727274\n",
      "    BLEU-3: 0.002500000000000001\n",
      "    BLEU-4: 0.002777777777777778\n",
      "    평균 BLEU-Total Score : 0.009740953985072798\n",
      "----------------------------------------\n",
      "< epoch : 48 >\n",
      "    BLEU-1: 0.019230769230769232\n",
      "    BLEU-2: 0.0020833333333333337\n",
      "    BLEU-3: 0.002272727272727274\n",
      "    BLEU-4: 0.002500000000000001\n",
      "    평균 BLEU-Total Score : 0.013075967551519727\n",
      "----------------------------------------\n",
      "< epoch : 49 >\n",
      "    BLEU-1: 0.016666666666666666\n",
      "    BLEU-2: 0.0017857142857142865\n",
      "    BLEU-3: 0.0019230769230769234\n",
      "    BLEU-4: 0.0020833333333333337\n",
      "    평균 BLEU-Total Score : 0.012809823933799242\n",
      "----------------------------------------\n",
      "< epoch : 50 >\n",
      "    BLEU-1: 0.017857142857142853\n",
      "    BLEU-2: 0.0019230769230769234\n",
      "    BLEU-3: 0.0020833333333333337\n",
      "    BLEU-4: 0.002272727272727274\n",
      "    평균 BLEU-Total Score : 0.010634413101452531\n",
      "----------------------------------------\n"
     ]
    }
   ],
   "source": [
    "bleu_dict = {}\n",
    "\n",
    "\n",
    "for idx, translate in enumerate(translates):    \n",
    "    print(f\"< epoch : {idx+1} >\")\n",
    "    bleu1, bleu2, bleu3, bleu4, score = 0, 0, 0, 0, 0\n",
    "    for i, candidate in enumerate(translate):\n",
    "        bleu1 = calculate_bleu(reference, candidate, weights=[1, 0, 0, 0])\n",
    "        bleu2 = calculate_bleu(reference, candidate, weights=[0, 1, 0, 0])\n",
    "        bleu3 = calculate_bleu(reference, candidate, weights=[0, 0, 1, 0])\n",
    "        bleu4 = calculate_bleu(reference, candidate, weights=[0, 0, 0, 1])\n",
    "        score += calculate_bleu(reference, candidate)\n",
    "    \n",
    "    \n",
    "    print(f\"    BLEU-1: {bleu1/ len(translate)}\")\n",
    "    print(f\"    BLEU-2: {bleu2/ len(translate)}\")\n",
    "    print(f\"    BLEU-3: {bleu3/ len(translate)}\")\n",
    "    print(f\"    BLEU-4: {bleu4/ len(translate)}\")\n",
    "    print(f\"    평균 BLEU-Total Score : {score/len(translate)}\")\n",
    "    print('-'*40)\n",
    "    bleu_dict[idx+1] = np.array([bleu1, bleu2, bleu3, bleu4, score]) / len(translate)"
   ]
  },
  {
   "cell_type": "code",
   "execution_count": 72,
   "id": "2fcee8da",
   "metadata": {},
   "outputs": [],
   "source": [
    "bleu_df = pd.DataFrame(bleu_dict).T\n",
    "bleu_df.columns = ['BLEU-1','BLEU-2','BLEU-3','BLEU-4','BLUE-TOTAL']"
   ]
  },
  {
   "cell_type": "code",
   "execution_count": 83,
   "id": "9582bb04",
   "metadata": {},
   "outputs": [
    {
     "data": {
      "text/plain": [
       "<AxesSubplot:>"
      ]
     },
     "execution_count": 83,
     "metadata": {},
     "output_type": "execute_result"
    },
    {
     "data": {
      "image/png": "[encoded data removed]",
      "text/plain": [
       "<Figure size 432x288 with 1 Axes>"
      ]
     },
     "metadata": {
      "needs_background": "light"
     },
     "output_type": "display_data"
    }
   ],
   "source": [
    "bleu_df.plot()"
   ]
  },
  {
   "cell_type": "code",
   "execution_count": 84,
   "id": "d71fcf28",
   "metadata": {},
   "outputs": [
    {
     "name": "stdout",
     "output_type": "stream",
     "text": [
      "BLEU-1 32\n",
      "BLEU-2 32\n",
      "BLEU-3 32\n",
      "BLEU-4 32\n",
      "BLUE-TOTAL 22\n"
     ]
    }
   ],
   "source": [
    "for col in bleu_df.columns:\n",
    "    argmax = bleu_df[col].idxmax()\n",
    "    print(col, argmax)"
   ]
  },
  {
   "cell_type": "markdown",
   "id": "d76bd5fb",
   "metadata": {},
   "source": [
    " -> BLEU SCORE에 따르면 epoch 32에서 1,2,3,4 의 점수가 좋고 total은 22 에폭에서 제일 좋다"
   ]
  },
  {
   "cell_type": "code",
   "execution_count": 86,
   "id": "b3eb6e0c",
   "metadata": {},
   "outputs": [
    {
     "data": {
      "text/plain": [
       "['마음 이 때문 에 마음 이 깊 을 거 예요 .', '마음 이 복잡 하 겠 어요 .', '인기 가 좋 으시 군요 .', '있 이 죠 .']"
      ]
     },
     "execution_count": 86,
     "metadata": {},
     "output_type": "execute_result"
    }
   ],
   "source": [
    "translates[32-1]"
   ]
  },
  {
   "cell_type": "code",
   "execution_count": 87,
   "id": "1fc2e07e",
   "metadata": {},
   "outputs": [
    {
     "data": {
      "text/plain": [
       "['큰 결심 이 네요 .', '이제 일어날 때 예요 .', '죠 .', '완전히 연애 죠 .']"
      ]
     },
     "execution_count": 87,
     "metadata": {},
     "output_type": "execute_result"
    }
   ],
   "source": [
    "translates[22-1]"
   ]
  },
  {
   "cell_type": "markdown",
   "id": "97fcc756",
   "metadata": {},
   "source": [
    "-> 좋은 답인지 잘 모르겠다.."
   ]
  },
  {
   "cell_type": "code",
   "execution_count": 95,
   "id": "4460a75d",
   "metadata": {},
   "outputs": [
    {
     "name": "stdout",
     "output_type": "stream",
     "text": [
      "예문\n",
      " > 지루하다, 놀러가고 싶어.\n",
      " > 오늘 일찍 일어났더니 피곤하다.\n",
      " > 간만에 여자친구랑 데이트 하기로 했어.\n",
      " > 집에 있는다는 소리야.\n",
      "\n",
      "결과\n",
      " > 저 랑 대화 하 고 싶 어요 .\n",
      " > 이제 일어날 시간 이 에요 .\n",
      " > 인기 가 필요 한 순간 이 네요 .\n",
      " > 같이 있 네요 .\n",
      "\n",
      "Hyperparameters\n",
      " > n_layers: 2\n",
      " > d_model: 256\n",
      " > n_heads: 8\n",
      " > d_ff: 1024\n",
      " > dropout: 0.3\n",
      "\n",
      "Training Parameters\n",
      " > Warmup Steps: 1000\n",
      " > Batch Size: 64\n",
      " > > Epoch At: 13\n"
     ]
    }
   ],
   "source": [
    "### 예문\n",
    "print(f'예문')\n",
    "print(' > 지루하다, 놀러가고 싶어.')\n",
    "print(' > 오늘 일찍 일어났더니 피곤하다.')\n",
    "print(' > 간만에 여자친구랑 데이트 하기로 했어.')\n",
    "print(' > 집에 있는다는 소리야.\\n')\n",
    "\n",
    "\n",
    "### 제출\n",
    "print(f'결과\\n > {translates[13-1][0]}\\n > {translates[13-1][1]}\\n > {translates[13-1][2]}\\n > {translates[13-1][3]}\\n')\n",
    "\n",
    "### Hyperparameters\n",
    "print(f'Hyperparameters\\n > n_layers: {N_LAYERS}\\n > d_model: {D_MODEL}\\n > n_heads: {N_HEADS}\\n > d_ff: {D_FF}\\n > dropout: {DROPOUT}\\n')\n",
    "\n",
    "### Training Parameters\n",
    "print(f'Training Parameters\\n > Warmup Steps: 1000\\n > Batch Size: 64\\n > > Epoch At: 13')"
   ]
  },
  {
   "cell_type": "markdown",
   "id": "3a768a81",
   "metadata": {},
   "source": [
    "# 회고\n",
    "\n",
    "- 배운 점 \n",
    "    - transformer의 구조에 대해 좀 더 명확히 이해할 수 있었다\n",
    "    - 숫자를 제거하는 전처리 제거만으로도 대답이 확연히 달라지는 것을 볼 수 있었다\n",
    "- 아쉬운 점 \n",
    "    - nan으로 계속 loss가 나와서 한참 시간을 썼다\n",
    "    - 구조를 잘 이해하면 더 잘 해결하지 않았을까 아쉽다\n",
    "- 느낀 점\n",
    "    - 데이터 셋이 많아야하고 증강하는데도 더 의미있는 증강이 필요할 것 같다\n",
    "- 어려웠던 점 \n",
    "    - transformer의 구조를 이해하는데 어려웠다\n",
    "    - loss function이나 전체적인 구조를 이해하기 어려웠다"
   ]
  }
 ],
 "metadata": {
  "kernelspec": {
   "display_name": "Python 3 (ipykernel)",
   "language": "python",
   "name": "python3"
  },
  "language_info": {
   "codemirror_mode": {
    "name": "ipython",
    "version": 3
   },
   "file_extension": ".py",
   "mimetype": "text/x-python",
   "name": "python",
   "nbconvert_exporter": "python",
   "pygments_lexer": "ipython3",
   "version": "3.9.7"
  }
 },
 "nbformat": 4,
 "nbformat_minor": 5
}
